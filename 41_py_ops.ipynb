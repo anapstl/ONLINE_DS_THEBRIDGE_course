{
 "cells": [
  {
   "cell_type": "markdown",
   "id": "3240c8dc-c710-4dea-b03a-37bf89233caf",
   "metadata": {},
   "source": [
    "# Operaciones con Booleanos  "
   ]
  },
  {
   "cell_type": "markdown",
   "id": "86f90207-d834-41f7-b480-32fa78890635",
   "metadata": {},
   "source": [
    "URL: https://colab.research.google.com/drive/1w3o3zXAz0gXMCpixtnOzSz6aK8dzAYhm#scrollTo=tGE6IX3mLKiH"
   ]
  },
  {
   "cell_type": "markdown",
   "id": "0065ffa1-2214-4863-8925-63a8ef127e73",
   "metadata": {},
   "source": [
    "- concatenar condiciones\n",
    "- Álgebra de Boole\n",
    "    * ops más comunes son AND, OR  (NOT)\n",
    "    *  ![image.png](./img/ops_bool.png)"
   ]
  },
  {
   "cell_type": "markdown",
   "id": "d456f139-95d6-4a0e-848a-65f38b70d703",
   "metadata": {},
   "source": [
    "* AND: se tienen que cumplir ambas cond para que sea `True`\n",
    "* OR: basta que se cumpls una cond para que sea `True`\n",
    "*  NOR: Lo contrario de  lo que haya"
   ]
  },
  {
   "cell_type": "markdown",
   "id": "fff2fa2b-2c6d-42d9-ac14-240ff3747ab4",
   "metadata": {},
   "source": [
    "* la RAM me vale que tenga 16, 32 o 64 BG\n",
    "* CPU y HDD: i3 con 500 GB\n",
    "* precio: no mas de 800 €"
   ]
  },
  {
   "cell_type": "code",
   "execution_count": 2,
   "id": "3b033788-9cbf-4b4c-a14d-8e285ad709ce",
   "metadata": {},
   "outputs": [],
   "source": [
    "# 1er pc\n",
    "ram1 = 32\n",
    "cpu1 = \"i5\"\n",
    "hdd1 = 500\n",
    "precio1 = 850\n",
    "\n",
    "# 2do pc\n",
    "ram2 = 8\n",
    "cpu2 = \"i5\"\n",
    "hdd2 = 500\n",
    "precio2 = 600\n",
    "\n",
    "# 3er pc\n",
    "ram3 = 32\n",
    "cpu3 = \"i3\"\n",
    "hdd3 = 500\n",
    "precio3 = 700"
   ]
  },
  {
   "cell_type": "code",
   "execution_count": 14,
   "id": "97a2bea2-5780-4806-8f3f-b20afe4dd02c",
   "metadata": {},
   "outputs": [
    {
     "name": "stdout",
     "output_type": "stream",
     "text": [
      "False True False False\n"
     ]
    }
   ],
   "source": [
    "cond_ram1 = (ram1 == 16 or ram1 == 32 or ram1 == 64)\n",
    "cond_cpu1 = (cpu1 == \"i3\") and (hdd1 == 500)\n",
    "cond_precio1 = (precio1 < 800)\n",
    "cond_total_1 = cond_ram1 & cond_cpu1 & cond_precio1\n",
    "print(cond_total_1, cond_ram1, cond_cpu1, cond_precio1)"
   ]
  },
  {
   "cell_type": "code",
   "execution_count": 15,
   "id": "cb661b1c-f9d6-4d06-9c7d-f62f09f3b483",
   "metadata": {},
   "outputs": [
    {
     "name": "stdout",
     "output_type": "stream",
     "text": [
      "False False False True\n"
     ]
    }
   ],
   "source": [
    "cond_ram2 = (ram2 == 16 or ram2 == 32 or ram2 == 64)\n",
    "cond_cpu2 = (cpu2 == \"i3\") and (hdd2 == 500)\n",
    "cond_precio2 = (precio2 < 800)\n",
    "cond_total_2 = cond_ram2 & cond_cpu2 & cond_precio2\n",
    "print(cond_total_2, cond_ram2, cond_cpu2, cond_precio2)"
   ]
  },
  {
   "cell_type": "code",
   "execution_count": 19,
   "id": "27e7f803-a8e3-4416-b186-6c2d0754d232",
   "metadata": {},
   "outputs": [
    {
     "name": "stdout",
     "output_type": "stream",
     "text": [
      "True\n"
     ]
    }
   ],
   "source": [
    "cond_total_3 = (ram3 == 16 or ram3 == 32 or ram3 == 64) \\\n",
    "            & ((cpu3 == \"i3\") and (hdd3 == 500)) \\\n",
    "            & (precio3 < 800)\n",
    "print(cond_total_3)"
   ]
  },
  {
   "cell_type": "markdown",
   "id": "1a0ef59e-6cdf-4aed-b36d-ed3fb910be57",
   "metadata": {},
   "source": [
    "Truco del almendruco:\n",
    "* cuando las líneas son muy largas se pueden interrumpir con el caracter `\\`"
   ]
  },
  {
   "cell_type": "markdown",
   "id": "7994b947-bd59-44fe-80ef-9023e01ad735",
   "metadata": {},
   "source": [
    "más sobre el álgebra de Boole: https://www.google.com/url?q=https%3A%2F%2Fryanstutorials.net%2Fboolean-algebra-tutorial%2F"
   ]
  }
 ],
 "metadata": {
  "kernelspec": {
   "display_name": "Python 3 (ipykernel)",
   "language": "python",
   "name": "python3"
  },
  "language_info": {
   "codemirror_mode": {
    "name": "ipython",
    "version": 3
   },
   "file_extension": ".py",
   "mimetype": "text/x-python",
   "name": "python",
   "nbconvert_exporter": "python",
   "pygments_lexer": "ipython3",
   "version": "3.13.2"
  }
 },
 "nbformat": 4,
 "nbformat_minor": 5
}
