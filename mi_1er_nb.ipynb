{
 "cells": [
  {
   "cell_type": "code",
   "execution_count": 1,
   "id": "4f427fa4-4f22-401d-800d-896ceeedd801",
   "metadata": {
    "jupyter": {
     "source_hidden": true
    }
   },
   "outputs": [
    {
     "name": "stdout",
     "output_type": "stream",
     "text": [
      "hello world\n"
     ]
    }
   ],
   "source": [
    "print('hello world')"
   ]
  },
  {
   "cell_type": "markdown",
   "id": "31637c32-60d9-4df2-8324-0a45f7928d21",
   "metadata": {},
   "source": [
    "# hola mundo"
   ]
  },
  {
   "cell_type": "code",
   "execution_count": null,
   "id": "f1f3e2a5-20f3-4d58-b34a-8de5862dbac3",
   "metadata": {},
   "outputs": [],
   "source": []
  }
 ],
 "metadata": {
  "kernelspec": {
   "display_name": "Python 3 (ipykernel)",
   "language": "python",
   "name": "python3"
  },
  "language_info": {
   "codemirror_mode": {
    "name": "ipython",
    "version": 3
   },
   "file_extension": ".py",
   "mimetype": "text/x-python",
   "name": "python",
   "nbconvert_exporter": "python",
   "pygments_lexer": "ipython3",
   "version": "3.13.2"
  }
 },
 "nbformat": 4,
 "nbformat_minor": 5
}
