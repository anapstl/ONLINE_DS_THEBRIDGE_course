{
 "cells": [
  {
   "cell_type": "markdown",
   "id": "2987eff4-1c0d-43a6-8d37-60d2ff9a3cec",
   "metadata": {},
   "source": [
    "# Markdown (I)\n",
    "\n",
    "## ¿Qué es?\n",
    "\n",
    "Lenguaje marcado que permite dar formato a textos sin formato usando símbolos. Sirve para crear documentos, tomar notas, y escribir contenido para sitios web. \n",
    "\n",
    "**texto plano y está integrado en muchisimas herramientas**\n"
   ]
  },
  {
   "cell_type": "markdown",
   "id": "bcc8d21d-8e94-426e-b832-e4b49e583c8e",
   "metadata": {},
   "source": [
    "## Encabezado\n",
    "\n",
    "Hola"
   ]
  },
  {
   "cell_type": "markdown",
   "id": "3a091498-057c-4271-bee7-508dc03222ec",
   "metadata": {},
   "source": [
    "# Mis primeros pasos con Mkdown..."
   ]
  },
  {
   "cell_type": "markdown",
   "id": "92796959-682c-44b0-b560-5e815e45bc22",
   "metadata": {},
   "source": [
    "... son muuuy buenos"
   ]
  },
  {
   "cell_type": "code",
   "execution_count": null,
   "id": "ce26c1e8-1783-4341-a273-59a32d9c776b",
   "metadata": {},
   "outputs": [],
   "source": [
    "# Esto es código de Python.\n",
    "# ...\n"
   ]
  },
  {
   "cell_type": "markdown",
   "id": "56fa6fa5-d834-4130-b818-1a0ca56a9c57",
   "metadata": {},
   "source": [
    "**TIP:** cuando ..."
   ]
  },
  {
   "cell_type": "markdown",
   "id": "fa866cfe-52c7-49d1-9d49-950214b2209d",
   "metadata": {},
   "source": [
    "# Markdown"
   ]
  },
  {
   "cell_type": "markdown",
   "id": "6ba133b4-a189-4042-b912-1bd2c922a35f",
   "metadata": {},
   "source": [
    "## 2. Cabeceras"
   ]
  },
  {
   "cell_type": "markdown",
   "id": "459635dc-7a27-411d-8ac5-321cfb3ce93a",
   "metadata": {},
   "source": [
    "# Cabecera 1\n",
    "## Cabecera 2\n",
    "### Cabecera 3\n",
    "#### Cabecera 4\n",
    "##### Cabecera 5\n",
    "###### Cabecera 6\n",
    "####### Cabecera 7"
   ]
  },
  {
   "cell_type": "markdown",
   "id": "2f6f3e6d-c787-4988-a930-42fa8d68e9b1",
   "metadata": {},
   "source": [
    "## 3. HTML"
   ]
  },
  {
   "cell_type": "markdown",
   "id": "1afbe20a-70cf-4dfa-a4dd-2068ba6fc6ed",
   "metadata": {},
   "source": [
    "<h1>Header 1</h1>\n",
    "<h2>Header 2</h2> \n",
    "<h3>Header 3</h3> "
   ]
  },
  {
   "cell_type": "markdown",
   "id": "83d0046b-4e54-4812-bc0b-11e9d3a53c99",
   "metadata": {},
   "source": [
    "## 4. Negrita y cursiva"
   ]
  },
  {
   "cell_type": "markdown",
   "id": "7ce8de8a-6fef-4df1-bee0-1d9daffea681",
   "metadata": {},
   "source": [
    "**negrita**\n",
    "\n",
    "*cursiva*\n",
    "\n",
    "***negrita + cursiva***\n",
    "\n",
    "\n",
    "*** nada ***"
   ]
  },
  {
   "cell_type": "markdown",
   "id": "e75a41c8-dbfa-469c-a0d6-d92ae2fff1de",
   "metadata": {},
   "source": [
    "## 5. Citar"
   ]
  },
  {
   "cell_type": "markdown",
   "id": "3cc106ae-ee52-4abe-b530-c70f646bf914",
   "metadata": {},
   "source": [
    ">TIP: como citar\n",
    ">>2ndo nivel de cita"
   ]
  },
  {
   "cell_type": "markdown",
   "id": "9c026ac0-5ffe-4dd8-bb9b-5a7d2431a533",
   "metadata": {},
   "source": [
    "https://colab.research.google.com/drive/1ws0kZQeTch5xdtq0UptH-JPYu0d4qg8m"
   ]
  },
  {
   "cell_type": "code",
   "execution_count": null,
   "id": "7e138548-3beb-40bc-a33b-552561ef7f96",
   "metadata": {},
   "outputs": [],
   "source": []
  }
 ],
 "metadata": {
  "kernelspec": {
   "display_name": "Python 3 (ipykernel)",
   "language": "python",
   "name": "python3"
  },
  "language_info": {
   "codemirror_mode": {
    "name": "ipython",
    "version": 3
   },
   "file_extension": ".py",
   "mimetype": "text/x-python",
   "name": "python",
   "nbconvert_exporter": "python",
   "pygments_lexer": "ipython3",
   "version": "3.13.2"
  }
 },
 "nbformat": 4,
 "nbformat_minor": 5
}
