{
 "cells": [
  {
   "cell_type": "markdown",
   "id": "5a0f66c8-195f-44a1-86f1-28f3984db4db",
   "metadata": {},
   "source": [
    "# Funciones _Built in_"
   ]
  },
  {
   "cell_type": "markdown",
   "id": "676ea1c8-fcbf-4b66-80c6-73af0b465178",
   "metadata": {},
   "source": [
    "URL: https://colab.research.google.com/drive/13S4qs0-OgfEzJxM7ftt1KOuJY3pzmhex"
   ]
  },
  {
   "cell_type": "markdown",
   "id": "43c29bd8-5fe5-4e7f-943c-5a4dd976364b",
   "metadata": {},
   "source": [
    "1. funciones _built in_  \n",
    "2. métodos"
   ]
  },
  {
   "cell_type": "markdown",
   "id": "1178c80a-bdcf-4ebc-97c2-1bb4a82c8057",
   "metadata": {},
   "source": [
    "1.\n",
    "* conversiones de tipo: `bool()`, `str()`, `int()`, `float()`\n",
    "* `min()`, `max()`\n",
    "* `print()`\n",
    "* `type()`\n",
    "* `range()`\n",
    "* `zip()`\n",
    "* `len()`\n",
    "\n",
    "_nombre_fct(args)_"
   ]
  },
  {
   "cell_type": "code",
   "execution_count": 4,
   "id": "5e12fdec-602f-417f-9085-2a977938dd7d",
   "metadata": {},
   "outputs": [
    {
     "name": "stdout",
     "output_type": "stream",
     "text": [
      "33\n",
      "9;1.hola\n"
     ]
    }
   ],
   "source": [
    "# len\n",
    "print(len(\"esto es una cadena de longitud...\"))  # shift + tab info sobre la fct\n",
    "\n",
    "print(max(1,2,3,4,5,6,7,8,9), min(1,2,3,4), sep=\";\", end=\".\"); print(\"hola\")\n"
   ]
  },
  {
   "cell_type": "code",
   "execution_count": 10,
   "id": "249d226b-5911-453b-9951-b2b5862f8d11",
   "metadata": {},
   "outputs": [
    {
     "name": "stdout",
     "output_type": "stream",
     "text": [
      "la longitud de esta cadena es**test**29**test**y no se un float esto deberia ir en otra linea pero como hemos cambiado el end lo va poner en la misma linea\n"
     ]
    }
   ],
   "source": [
    "str = \"la longitud de esta cadena es\"\n",
    "print(str, len(str), \"y no se un float \", sep = \"**test**\", end = \"\"); print('esto deberia ir en otra linea pero como hemos cambiado el end lo va poner en la misma linea')"
   ]
  },
  {
   "cell_type": "markdown",
   "id": "5aff5cb8-763a-45ce-9305-91fc8b65e56c",
   "metadata": {},
   "source": [
    "2. Métodos\n",
    "\n",
    "   _.objeto.método()_ por ej. str.replace()\n",
    "\n",
    "## String\n",
    "https://www.google.com/url?q=https%3A%2F%2Fdocs.python.org%2F2.5%2Flib%2Fstring-methods.html"
   ]
  },
  {
   "cell_type": "code",
   "execution_count": 12,
   "id": "a5e52e93-9788-4575-b452-b79c1b089704",
   "metadata": {},
   "outputs": [
    {
     "data": {
      "text/plain": [
       "True"
      ]
     },
     "execution_count": 12,
     "metadata": {},
     "output_type": "execute_result"
    }
   ],
   "source": [
    "str_ej = \"string en minusculas\"\n",
    "\n",
    "str_up = str_ej.upper()\n",
    "str_up.lower() == str_ej"
   ]
  },
  {
   "cell_type": "code",
   "execution_count": 14,
   "id": "98336002-5f28-4b49-b045-636121cc70a1",
   "metadata": {},
   "outputs": [
    {
     "data": {
      "text/plain": [
       "'String en minusculas'"
      ]
     },
     "execution_count": 14,
     "metadata": {},
     "output_type": "execute_result"
    }
   ],
   "source": [
    "str_ej.capitalize()"
   ]
  },
  {
   "cell_type": "code",
   "execution_count": 16,
   "id": "0e3d7520-7f69-4f61-9892-446f12e8588b",
   "metadata": {},
   "outputs": [
    {
     "name": "stdout",
     "output_type": "stream",
     "text": [
      "ctring en minucculac\n",
      "string en mayusculas\n"
     ]
    }
   ],
   "source": [
    "# replace\n",
    "\n",
    "print(str_ej.replace(\"s\", \"c\")); print(str_ej.replace(\"minusculas\", \"mayusculas\"))"
   ]
  },
  {
   "cell_type": "code",
   "execution_count": 17,
   "id": "078c860b-462c-4f84-82b5-6e676bfc9dd1",
   "metadata": {},
   "outputs": [
    {
     "name": "stdout",
     "output_type": "stream",
     "text": [
      "tring en minucula\n"
     ]
    }
   ],
   "source": [
    "print(str_ej.replace(\"s\", \"\")) # eliminar caracteres"
   ]
  },
  {
   "cell_type": "code",
   "execution_count": 26,
   "id": "ef138afd-20be-468c-bd52-ad5fbf590467",
   "metadata": {},
   "outputs": [
    {
     "data": {
      "text/plain": [
       "['string', 'en', 'minusculas']"
      ]
     },
     "execution_count": 26,
     "metadata": {},
     "output_type": "execute_result"
    }
   ],
   "source": [
    "str_ej.split() # método para convertir un string en una lista"
   ]
  },
  {
   "cell_type": "code",
   "execution_count": 27,
   "id": "79101d5a-2970-4363-8745-7a8032854570",
   "metadata": {},
   "outputs": [
    {
     "name": "stdout",
     "output_type": "stream",
     "text": [
      "10\n"
     ]
    }
   ],
   "source": [
    "# método para conocer la pos dentro de un string\n",
    "print(str_ej.index(\"m\"))"
   ]
  },
  {
   "cell_type": "markdown",
   "id": "2739608e-b0ef-4813-8764-231135fb2bc4",
   "metadata": {},
   "source": [
    "## Errores comunes en métodos"
   ]
  },
  {
   "cell_type": "code",
   "execution_count": 29,
   "id": "be7540e3-bc44-4dfb-96c8-11aa188ef521",
   "metadata": {},
   "outputs": [
    {
     "ename": "TypeError",
     "evalue": "replace() takes at least 2 positional arguments (0 given)",
     "output_type": "error",
     "traceback": [
      "\u001b[31m---------------------------------------------------------------------------\u001b[39m",
      "\u001b[31mTypeError\u001b[39m                                 Traceback (most recent call last)",
      "\u001b[36mCell\u001b[39m\u001b[36m \u001b[39m\u001b[32mIn[29]\u001b[39m\u001b[32m, line 3\u001b[39m\n\u001b[32m      1\u001b[39m \u001b[38;5;66;03m# no poner args que se necesiten\u001b[39;00m\n\u001b[32m----> \u001b[39m\u001b[32m3\u001b[39m \u001b[43mstr_ej\u001b[49m\u001b[43m.\u001b[49m\u001b[43mreplace\u001b[49m\u001b[43m(\u001b[49m\u001b[43m)\u001b[49m\n",
      "\u001b[31mTypeError\u001b[39m: replace() takes at least 2 positional arguments (0 given)"
     ]
    }
   ],
   "source": [
    "# no poner args que se necesiten\n",
    "\n",
    "str_ej.replace()"
   ]
  }
 ],
 "metadata": {
  "kernelspec": {
   "display_name": "Python 3 (ipykernel)",
   "language": "python",
   "name": "python3"
  },
  "language_info": {
   "codemirror_mode": {
    "name": "ipython",
    "version": 3
   },
   "file_extension": ".py",
   "mimetype": "text/x-python",
   "name": "python",
   "nbconvert_exporter": "python",
   "pygments_lexer": "ipython3",
   "version": "3.13.2"
  }
 },
 "nbformat": 4,
 "nbformat_minor": 5
}
