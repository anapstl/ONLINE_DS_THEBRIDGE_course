{
 "cells": [
  {
   "cell_type": "markdown",
   "id": "f6e68603-24e0-405c-802a-7293bf1a82fb",
   "metadata": {},
   "source": [
    "# Tipos de datos"
   ]
  },
  {
   "cell_type": "markdown",
   "id": "d1f5071d-4190-4125-bee6-e4cc47c121ac",
   "metadata": {},
   "source": [
    "https://colab.research.google.com/drive/1AdiV33T8Mhn_0qPWy6kSQKbPqa9qpci5"
   ]
  },
  {
   "cell_type": "markdown",
   "id": "5fc1d7a7-fdf3-4810-aa9f-1aad157740af",
   "metadata": {},
   "source": [
    "## built-in types\n",
    "\n",
    "* numeric: int, float, complex\n",
    "* str\n",
    "* bool: True/ False\n",
    "\n",
    "*type(nombre_variable)*"
   ]
  },
  {
   "cell_type": "markdown",
   "id": "29c3caa7-7b02-4e19-89cb-226b78c43b58",
   "metadata": {},
   "source": [
    "## Numeric"
   ]
  },
  {
   "cell_type": "code",
   "execution_count": 3,
   "id": "4fbc9a8c-60e7-419f-a838-9fd708e0fe19",
   "metadata": {},
   "outputs": [
    {
     "name": "stdout",
     "output_type": "stream",
     "text": [
      "<class 'int'>\n"
     ]
    }
   ],
   "source": [
    "nr = 22\n",
    "print(type(nr))"
   ]
  },
  {
   "cell_type": "code",
   "execution_count": 4,
   "id": "7b95e74e-4223-4ebb-9c4c-87d611277065",
   "metadata": {},
   "outputs": [
    {
     "name": "stdout",
     "output_type": "stream",
     "text": [
      "<class 'float'>\n"
     ]
    }
   ],
   "source": [
    "nr_real = 22.0\n",
    "print(type(nr_real))"
   ]
  },
  {
   "cell_type": "code",
   "execution_count": 6,
   "id": "0d7c0391-787d-419c-abea-c6f4242c9314",
   "metadata": {},
   "outputs": [
    {
     "data": {
      "text/plain": [
       "float"
      ]
     },
     "execution_count": 6,
     "metadata": {},
     "output_type": "execute_result"
    }
   ],
   "source": [
    "nr_real_deci = 22.4513\n",
    "type(nr_real_deci)"
   ]
  },
  {
   "cell_type": "markdown",
   "id": "1adbbea8-67c2-46f6-9904-a1aef6eb93dd",
   "metadata": {},
   "source": [
    "## Ops: sumar, restar, multiplicar, dividir, elevar, cociente, resta"
   ]
  },
  {
   "cell_type": "code",
   "execution_count": 9,
   "id": "4f0e7a25-0338-47cd-86bb-be004028bdf9",
   "metadata": {},
   "outputs": [
    {
     "name": "stdout",
     "output_type": "stream",
     "text": [
      "sumas y restas\n",
      "3\n",
      "3.0\n"
     ]
    }
   ],
   "source": [
    "print(\"sumas y restas\")\n",
    "print(1 + 2)\n",
    "print(1.0 + 2) # float"
   ]
  },
  {
   "cell_type": "code",
   "execution_count": 12,
   "id": "3b96d820-53e4-46d9-b4f6-fc42af8de509",
   "metadata": {},
   "outputs": [
    {
     "name": "stdout",
     "output_type": "stream",
     "text": [
      "-1.0\n",
      "multiplicar y div\n",
      "4\n",
      "4.0\n",
      "1.0\n"
     ]
    }
   ],
   "source": [
    "print(1.0 - 2)\n",
    "print(\"multiplicar y div\")\n",
    "print(2 * 2)\n",
    "print(2.0 * 2)\n",
    "print(2/2) # el res de una division siempre es FLOAT"
   ]
  },
  {
   "cell_type": "code",
   "execution_count": 18,
   "id": "c4b87d2b-e2c5-4d91-980c-a9d45307d0f0",
   "metadata": {},
   "outputs": [
    {
     "name": "stdout",
     "output_type": "stream",
     "text": [
      "3.3333333333333335\n",
      "3\n",
      "resta 1\n",
      "cociente 3\n"
     ]
    }
   ],
   "source": [
    "print(10 / 3)\n",
    "print(int(10/3))\n",
    "print(\"resta\", 10 % 3)\n",
    "print(\"cociente\", 10 // 3)"
   ]
  },
  {
   "cell_type": "code",
   "execution_count": 22,
   "id": "e9591cc9-d535-4ead-9a60-1417c35527c9",
   "metadata": {},
   "outputs": [
    {
     "name": "stdout",
     "output_type": "stream",
     "text": [
      "¿es 24 par?\n",
      "el resto es 0\n",
      "es par\n"
     ]
    }
   ],
   "source": [
    "n = 24\n",
    "print(\"¿es\", n, \"par?\")\n",
    "resto = n % 2\n",
    "print(\"el resto es\", resto)\n",
    "print(\"es par\") if resto == 0 else print(\"es impar\")"
   ]
  },
  {
   "cell_type": "markdown",
   "id": "a8029ec0-4555-4e56-b545-40481f42e58e",
   "metadata": {},
   "source": [
    "## Str"
   ]
  },
  {
   "cell_type": "code",
   "execution_count": 23,
   "id": "a15f1b7f-03e1-4664-82bb-2605d641be46",
   "metadata": {},
   "outputs": [
    {
     "name": "stdout",
     "output_type": "stream",
     "text": [
      "var de tipo str\n",
      "var de tipo str\n"
     ]
    }
   ],
   "source": [
    "# comillas docles\n",
    "str1 = \"var de tipo str\"\n",
    "print(str1)\n",
    "\n",
    "# comillas simples\n",
    "str2 = \"var de tipo str\"\n",
    "print(str2)"
   ]
  },
  {
   "cell_type": "code",
   "execution_count": 26,
   "id": "bcb0f519-07e1-4dec-8072-3d9b7fa0e3ec",
   "metadata": {},
   "outputs": [
    {
     "name": "stdout",
     "output_type": "stream",
     "text": [
      "str con 'simples'\n",
      "str con \"docbles\"\n",
      "str con \"simples o dobles\"\n"
     ]
    }
   ],
   "source": [
    "print(\"str con 'simples'\")\n",
    "print('str con \"docbles\"')\n",
    "print(\"str con \\\"simples o dobles\\\"\") # escape char \\"
   ]
  },
  {
   "cell_type": "code",
   "execution_count": 30,
   "id": "06211957-a22e-4024-92fa-3dc911b57304",
   "metadata": {},
   "outputs": [
    {
     "name": "stdout",
     "output_type": "stream",
     "text": [
      "Primera linea\n",
      "Seguna linea\n",
      "\tTercera linea tabulada\n"
     ]
    }
   ],
   "source": [
    "# escape chars \\n and \\t\n",
    "print(\"Primera linea\\nSeguna linea\\n\\tTercera linea tabulada\")"
   ]
  },
  {
   "cell_type": "code",
   "execution_count": 31,
   "id": "cb2aec95-f091-492c-b193-e4dcc281211e",
   "metadata": {},
   "outputs": [
    {
     "name": "stdout",
     "output_type": "stream",
     "text": [
      "Primera linea\n",
      "Seguna linea\n",
      "\tTercera linea tabulada\n"
     ]
    }
   ],
   "source": [
    "# unir dos variables con +\n",
    "mi_str = \"Primera linea\\nSeguna linea\\n\\tTercera linea tabulada\"\n",
    "print(mi_str)"
   ]
  },
  {
   "cell_type": "code",
   "execution_count": 36,
   "id": "2bf12281-09b2-4282-9e03-83a1838aae4a",
   "metadata": {},
   "outputs": [
    {
     "name": "stdout",
     "output_type": "stream",
     "text": [
      "Antonio Scott\n"
     ]
    }
   ],
   "source": [
    "name = \"Antonio\"\n",
    "forename = \"Scott\"\n",
    "print(name + \" \" + forename)"
   ]
  },
  {
   "cell_type": "code",
   "execution_count": 37,
   "id": "b5590e2d-42ae-40dc-a54a-464f68a0e095",
   "metadata": {},
   "outputs": [
    {
     "ename": "TypeError",
     "evalue": "can only concatenate str (not \"int\") to str",
     "output_type": "error",
     "traceback": [
      "\u001b[31m---------------------------------------------------------------------------\u001b[39m",
      "\u001b[31mTypeError\u001b[39m                                 Traceback (most recent call last)",
      "\u001b[36mCell\u001b[39m\u001b[36m \u001b[39m\u001b[32mIn[37]\u001b[39m\u001b[32m, line 3\u001b[39m\n\u001b[32m      1\u001b[39m preuba = \u001b[33m\"\u001b[39m\u001b[33msvjaefah\u001b[39m\u001b[33m\"\u001b[39m\n\u001b[32m      2\u001b[39m un_entero = \u001b[32m2\u001b[39m\n\u001b[32m----> \u001b[39m\u001b[32m3\u001b[39m \u001b[43mpreuba\u001b[49m\u001b[43m \u001b[49m\u001b[43m+\u001b[49m\u001b[43m \u001b[49m\u001b[43mun_entero\u001b[49m\n",
      "\u001b[31mTypeError\u001b[39m: can only concatenate str (not \"int\") to str"
     ]
    }
   ],
   "source": [
    "preuba = \"svjaefah\"\n",
    "un_entero = 2\n",
    "preuba + un_entero"
   ]
  },
  {
   "cell_type": "code",
   "execution_count": null,
   "id": "b10df1c1-bc5d-46aa-b5c6-cdbd72a1d712",
   "metadata": {},
   "outputs": [],
   "source": []
  },
  {
   "cell_type": "markdown",
   "id": "c2bdd0f0-ec03-4427-af67-f2bd8b770850",
   "metadata": {},
   "source": [
    "## Bool"
   ]
  },
  {
   "cell_type": "code",
   "execution_count": 39,
   "id": "03d5d804-ffbb-428d-b1cb-2b3b6e4b109c",
   "metadata": {},
   "outputs": [
    {
     "data": {
      "text/plain": [
       "True"
      ]
     },
     "execution_count": 39,
     "metadata": {},
     "output_type": "execute_result"
    }
   ],
   "source": [
    "True or False"
   ]
  },
  {
   "cell_type": "code",
   "execution_count": 40,
   "id": "026bb911-4248-4aff-8857-948e897343e3",
   "metadata": {},
   "outputs": [
    {
     "name": "stdout",
     "output_type": "stream",
     "text": [
      "<class 'bool'>\n"
     ]
    }
   ],
   "source": [
    "strBool = False\n",
    "print(type(strBool))"
   ]
  },
  {
   "cell_type": "code",
   "execution_count": 41,
   "id": "e1326f2c-c67f-4efb-b427-754230cb38db",
   "metadata": {},
   "outputs": [
    {
     "data": {
      "text/plain": [
       "False"
      ]
     },
     "execution_count": 41,
     "metadata": {},
     "output_type": "execute_result"
    }
   ],
   "source": [
    "dinerito = 5\n",
    "dinerito > 15"
   ]
  },
  {
   "cell_type": "code",
   "execution_count": 42,
   "id": "149fb4cf-365e-4aa0-bdd3-80c299c91fc8",
   "metadata": {},
   "outputs": [
    {
     "name": "stdout",
     "output_type": "stream",
     "text": [
      "True \n",
      " <class 'bool'>\n"
     ]
    }
   ],
   "source": [
    "dinerito = 15\n",
    "cond_1 = dinerito >= 15\n",
    "print(cond_1, \"\\n\", type(cond_1))"
   ]
  },
  {
   "cell_type": "markdown",
   "id": "d842bdcf-459c-4e95-a165-ba97de240d13",
   "metadata": {},
   "source": [
    "# Resumen\n",
    "\n",
    "* int\n",
    "* float\n",
    "* str\n",
    "* bool"
   ]
  },
  {
   "cell_type": "code",
   "execution_count": 43,
   "id": "2ce8625b-9e53-4359-8fdf-8372d1ff65c4",
   "metadata": {},
   "outputs": [
    {
     "name": "stdout",
     "output_type": "stream",
     "text": [
      "<class 'float'>\n"
     ]
    }
   ],
   "source": [
    "print(type(1.0))"
   ]
  },
  {
   "cell_type": "code",
   "execution_count": 44,
   "id": "8c5b2d3e-359f-414c-8a8f-405a594d5f3c",
   "metadata": {},
   "outputs": [
    {
     "name": "stdout",
     "output_type": "stream",
     "text": [
      "<class 'int'>\n"
     ]
    }
   ],
   "source": [
    "print(type(-74))"
   ]
  },
  {
   "cell_type": "code",
   "execution_count": 45,
   "id": "a2b2b32c-1139-4693-a380-a742d397eef4",
   "metadata": {},
   "outputs": [
    {
     "name": "stdout",
     "output_type": "stream",
     "text": [
      "<class 'str'>\n"
     ]
    }
   ],
   "source": [
    "print(type(\"3.45\"))"
   ]
  },
  {
   "cell_type": "code",
   "execution_count": 46,
   "id": "78699258-9289-4bfa-a910-79947825d560",
   "metadata": {},
   "outputs": [
    {
     "name": "stdout",
     "output_type": "stream",
     "text": [
      "<class 'bool'>\n"
     ]
    }
   ],
   "source": [
    "print(type(True))"
   ]
  },
  {
   "cell_type": "code",
   "execution_count": 47,
   "id": "216b4863-8588-4931-a55b-0f09fe9bf14b",
   "metadata": {},
   "outputs": [
    {
     "name": "stdout",
     "output_type": "stream",
     "text": [
      "<class 'bool'>\n"
     ]
    }
   ],
   "source": [
    "print(type(cond_1))"
   ]
  }
 ],
 "metadata": {
  "kernelspec": {
   "display_name": "Python 3 (ipykernel)",
   "language": "python",
   "name": "python3"
  },
  "language_info": {
   "codemirror_mode": {
    "name": "ipython",
    "version": 3
   },
   "file_extension": ".py",
   "mimetype": "text/x-python",
   "name": "python",
   "nbconvert_exporter": "python",
   "pygments_lexer": "ipython3",
   "version": "3.13.2"
  }
 },
 "nbformat": 4,
 "nbformat_minor": 5
}
