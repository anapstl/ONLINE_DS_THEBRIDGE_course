{
 "cells": [
  {
   "cell_type": "markdown",
   "id": "dcaebe96-d6d6-4536-81f6-3ca06f1073f1",
   "metadata": {},
   "source": [
    "# Listas\n",
    "\n",
    "URL: https://colab.research.google.com/drive/1kgTDVcjhxmFnzkPcNq_XQzOCxT0AhpF0\n",
    "\n",
    "Estantería de conjunto de variables/obj.\n",
    "* Mutables - modificables\n",
    "* Ordenadas"
   ]
  },
  {
   "cell_type": "code",
   "execution_count": 2,
   "id": "25f00ef7-2c83-4f47-b900-1d2b1e7f576c",
   "metadata": {},
   "outputs": [
    {
     "name": "stdout",
     "output_type": "stream",
     "text": [
      "[1, 3, 5, 6] <class 'list'>\n"
     ]
    }
   ],
   "source": [
    "# lista de números\n",
    "l_nr_int = [1, 3, 5, 6]\n",
    "\n",
    "print(l_nr_int, type(l_nr_int))"
   ]
  },
  {
   "cell_type": "code",
   "execution_count": 3,
   "id": "fba9cddb-e241-4e5c-ab72-f37f1f5f0972",
   "metadata": {},
   "outputs": [
    {
     "name": "stdout",
     "output_type": "stream",
     "text": [
      "['manzanas', 'peras', 'uvas'] <class 'list'>\n"
     ]
    }
   ],
   "source": [
    "# lista de strings\n",
    "l_frutas = [\"manzanas\", \"peras\", \"uvas\"]\n",
    "\n",
    "print(l_frutas, type(l_frutas))"
   ]
  },
  {
   "cell_type": "code",
   "execution_count": 5,
   "id": "9a75361f-bca6-4acf-966a-12dd8a0fd8c9",
   "metadata": {},
   "outputs": [
    {
     "name": "stdout",
     "output_type": "stream",
     "text": [
      "[True, False, False, True, False, True, False] <class 'list'>\n"
     ]
    }
   ],
   "source": [
    "# lista de bools\n",
    "l_bools = [True, False, not True, not False, False, True or False, False and False]\n",
    "\n",
    "print(l_bools, type(l_bools))"
   ]
  },
  {
   "cell_type": "code",
   "execution_count": 13,
   "id": "ed029c00-b318-41dc-8641-111c98a53233",
   "metadata": {},
   "outputs": [
    {
     "name": "stdout",
     "output_type": "stream",
     "text": [
      "['este es', 12, -34.45, True, False, 'lista'] <class 'list'> 6\n"
     ]
    }
   ],
   "source": [
    "# lista de tipos mezclados\n",
    "l_mix = [\"este es\", 12, -34.45, True, False, \"lista\"]\n",
    "\n",
    "print(l_mix, type(l_mix), len(l_mix))"
   ]
  },
  {
   "cell_type": "code",
   "execution_count": 14,
   "id": "6f225779-fd9d-4a75-8ea0-f5ecb0231488",
   "metadata": {},
   "outputs": [
    {
     "name": "stdout",
     "output_type": "stream",
     "text": [
      "['Gola', '12', 12.23, [23, True, False]] <class 'list'> 3\n"
     ]
    }
   ],
   "source": [
    "# lista de listas \n",
    "\n",
    "l_lists = [\"Gola\", \"12\", 12.23, [23, True, False]]\n",
    "print(l_lists, type(l_lists), len(l_lists[3]))"
   ]
  },
  {
   "cell_type": "code",
   "execution_count": 17,
   "id": "81e73481-6056-4f94-947a-37604d56ab17",
   "metadata": {},
   "outputs": [
    {
     "name": "stdout",
     "output_type": "stream",
     "text": [
      "['este es', 12, -34.45, True, False, 'lista', 'Gola', '12', 12.23, [23, True, False]] <class 'list'> 10\n"
     ]
    }
   ],
   "source": [
    "# concatenar listas - Ojo no es comutativa\n",
    "l_concat = l_mix +  l_lists\n",
    "print(l_concat, type(l_concat), len(l_concat))"
   ]
  },
  {
   "cell_type": "code",
   "execution_count": 16,
   "id": "3e6b59e0-2015-45ec-ad3d-5e6a70307aee",
   "metadata": {},
   "outputs": [
    {
     "name": "stdout",
     "output_type": "stream",
     "text": [
      "['Gola', '12', 12.23, [23, True, False], 'este es', 12, -34.45, True, False, 'lista'] <class 'list'> 10\n"
     ]
    }
   ],
   "source": [
    "l_concat2 = l_lists + l_mix\n",
    "print(l_concat2, type(l_concat2), len(l_concat2))"
   ]
  },
  {
   "cell_type": "code",
   "execution_count": 23,
   "id": "7419a8f8-33fe-4dfa-a526-8656a746ffcc",
   "metadata": {},
   "outputs": [
    {
     "name": "stdout",
     "output_type": "stream",
     "text": [
      "Esto\n",
      "nuevo elemento\n",
      "patata\n",
      "3\n"
     ]
    },
    {
     "ename": "IndexError",
     "evalue": "list index out of range",
     "output_type": "error",
     "traceback": [
      "\u001b[31m---------------------------------------------------------------------------\u001b[39m",
      "\u001b[31mIndexError\u001b[39m                                Traceback (most recent call last)",
      "\u001b[36mCell\u001b[39m\u001b[36m \u001b[39m\u001b[32mIn[23]\u001b[39m\u001b[32m, line 7\u001b[39m\n\u001b[32m      5\u001b[39m \u001b[38;5;28mprint\u001b[39m(lista_ejemplo[-\u001b[32m2\u001b[39m])\n\u001b[32m      6\u001b[39m \u001b[38;5;28mprint\u001b[39m(lista_ejemplo[\u001b[32m2\u001b[39m])\n\u001b[32m----> \u001b[39m\u001b[32m7\u001b[39m \u001b[38;5;28mprint\u001b[39m(\u001b[43mlista_ejemplo\u001b[49m\u001b[43m[\u001b[49m\u001b[32;43m9\u001b[39;49m\u001b[43m]\u001b[49m)\n",
      "\u001b[31mIndexError\u001b[39m: list index out of range"
     ]
    }
   ],
   "source": [
    "# acceder a los elems de las listas a traves de los []\n",
    "lista_ejemplo = [\"Esto\", 2, 3, \"patata\", \"nuevo elemento\"]\n",
    "print(lista_ejemplo[0])\n",
    "print(lista_ejemplo[-1])\n",
    "print(lista_ejemplo[-2])\n",
    "print(lista_ejemplo[2])\n",
    "print(lista_ejemplo[9])"
   ]
  },
  {
   "cell_type": "markdown",
   "id": "2dd86f64-a797-42db-af61-aab21556528f",
   "metadata": {},
   "source": [
    "## Métodos en Listas\n",
    "\n",
    "URL: https://www.google.com/url?q=https%3A%2F%2Fwww.w3schools.com%2Fpython%2Fpython_ref_list.asp"
   ]
  },
  {
   "cell_type": "code",
   "execution_count": 32,
   "id": "190f19f0-bdc5-4fce-aefc-26bf7cca8fb9",
   "metadata": {},
   "outputs": [
    {
     "name": "stdout",
     "output_type": "stream",
     "text": [
      "['Fisica', 'Quimica', 'Matematicas', 'Literatura', 'Filosofia']\n"
     ]
    }
   ],
   "source": [
    "asignaturas = [\"Fisica\", \"Quimica\", \"Matematicas\", \"Literatura\"]\n",
    "\n",
    "# Añadir un elemento a la lista\n",
    "\n",
    "asignaturas.append(\"Filosofia\")\n",
    "\n",
    "print(asignaturas)"
   ]
  },
  {
   "cell_type": "code",
   "execution_count": 33,
   "id": "c0fb46d6-2cf8-4ac0-93eb-b87766ec74f9",
   "metadata": {},
   "outputs": [
    {
     "name": "stdout",
     "output_type": "stream",
     "text": [
      "['Fisica', 'Gimnasia', 'Quimica', 'Matematicas', 'Literatura', 'Filosofia']\n"
     ]
    }
   ],
   "source": [
    "# Añadir en una posición determinada\n",
    "\n",
    "asignaturas.insert(1, \"Gimnasia\")\n",
    "print(asignaturas)"
   ]
  },
  {
   "cell_type": "code",
   "execution_count": 34,
   "id": "79956eed-2b26-4a80-8fc7-920cea8c63c4",
   "metadata": {},
   "outputs": [
    {
     "name": "stdout",
     "output_type": "stream",
     "text": [
      "[] \n",
      " ['Fisica', 'Gimnasia', 'Quimica', 'Matematicas', 'Literatura', 'Filosofia']\n"
     ]
    }
   ],
   "source": [
    "# Quitar elementos - Clear - limpia la lista\n",
    "asignaturas2 = asignaturas.copy()\n",
    "asignaturas.clear()\n",
    "\n",
    "print(asignaturas,\"\\n\", asignaturas2)"
   ]
  },
  {
   "cell_type": "code",
   "execution_count": 36,
   "id": "fba69bc8-e986-421e-9007-8786ec324e6d",
   "metadata": {},
   "outputs": [
    {
     "data": {
      "text/plain": [
       "'Gimnasia'"
      ]
     },
     "execution_count": 36,
     "metadata": {},
     "output_type": "execute_result"
    }
   ],
   "source": [
    " # Quitar un elemento a partir de su indice\n",
    "asignaturas2.pop(1)"
   ]
  },
  {
   "cell_type": "code",
   "execution_count": 37,
   "id": "d4bad729-dc53-4094-8adb-52a5afd46cf6",
   "metadata": {},
   "outputs": [
    {
     "data": {
      "text/plain": [
       "['Fisica', 'Quimica', 'Matematicas', 'Literatura', 'Filosofia']"
      ]
     },
     "execution_count": 37,
     "metadata": {},
     "output_type": "execute_result"
    }
   ],
   "source": [
    "asignaturas2"
   ]
  },
  {
   "cell_type": "code",
   "execution_count": 38,
   "id": "12edce80-1730-454e-903a-8ae1dc261a2e",
   "metadata": {},
   "outputs": [],
   "source": [
    "# Quitar por su valor \n",
    "asignaturas2.remove(\"Quimica\")"
   ]
  },
  {
   "cell_type": "code",
   "execution_count": 39,
   "id": "9c159301-01f7-487c-aa83-0ed20983e654",
   "metadata": {},
   "outputs": [
    {
     "data": {
      "text/plain": [
       "['Fisica', 'Matematicas', 'Literatura', 'Filosofia']"
      ]
     },
     "execution_count": 39,
     "metadata": {},
     "output_type": "execute_result"
    }
   ],
   "source": [
    "asignaturas2"
   ]
  },
  {
   "cell_type": "code",
   "execution_count": 41,
   "id": "f18d4fb2-d3f8-4bfa-969f-07503b164640",
   "metadata": {},
   "outputs": [
    {
     "data": {
      "text/plain": [
       "['Filosofia', 'Fisica', 'Literatura', 'Matematicas']"
      ]
     },
     "execution_count": 41,
     "metadata": {},
     "output_type": "execute_result"
    }
   ],
   "source": [
    "# Ordenar las lista\n",
    "asignaturas2.sort()\n",
    "asignaturas2"
   ]
  },
  {
   "cell_type": "code",
   "execution_count": null,
   "id": "8b7426e5-8b31-4861-ba78-306ec348dc86",
   "metadata": {},
   "outputs": [],
   "source": []
  }
 ],
 "metadata": {
  "kernelspec": {
   "display_name": "Python 3 (ipykernel)",
   "language": "python",
   "name": "python3"
  },
  "language_info": {
   "codemirror_mode": {
    "name": "ipython",
    "version": 3
   },
   "file_extension": ".py",
   "mimetype": "text/x-python",
   "name": "python",
   "nbconvert_exporter": "python",
   "pygments_lexer": "ipython3",
   "version": "3.13.2"
  }
 },
 "nbformat": 4,
 "nbformat_minor": 5
}
