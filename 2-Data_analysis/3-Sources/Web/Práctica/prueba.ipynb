{
 "cells": [
  {
   "cell_type": "code",
   "execution_count": null,
   "id": "dfecbf85",
   "metadata": {},
   "outputs": [],
   "source": [
    "import requests\n",
    "import hashlib\n",
    "import time\n",
    "import csv\n",
    "\n",
    "private_key = \"\"  # hm\n",
    "private_key = \"\"  # eduardo\n",
    "# private_key = ''    #gm\n",
    "public_key = \"\"\n",
    "# public_key = ''\n",
    "public_key = \"\"         #eduardo\n"
   ]
  },
  {
   "cell_type": "code",
   "execution_count": 29,
   "id": "c3506f3f",
   "metadata": {},
   "outputs": [
    {
     "data": {
      "text/plain": [
       "'5e95be9d8e6186339c658574380e9159'"
      ]
     },
     "execution_count": 29,
     "metadata": {},
     "output_type": "execute_result"
    }
   ],
   "source": [
    "# Generar timestamp y hash\n",
    "ts = str(1)\n",
    "hash_input = ts + private_key + public_key\n",
    "hash_result = hashlib.md5(hash_input.encode()).hexdigest()\n",
    "hash_result   # 5e95be9d8e6186339c658574380e9159\n"
   ]
  },
  {
   "cell_type": "code",
   "execution_count": null,
   "id": "a5f09843",
   "metadata": {},
   "outputs": [
    {
     "name": "stdout",
     "output_type": "stream",
     "text": [
      "418 {\"code\":\"ImATeapotError\",\"message\":\"I am a teapot: Error: Server not available\"}\n",
      "418 {\"code\":\"ImATeapotError\",\"message\":\"I am a teapot: Error: Server not available\"}\n",
      "418 {\"code\":\"ImATeapotError\",\"message\":\"I am a teapot: Error: Server not available\"}\n",
      "418 {\"code\":\"ImATeapotError\",\"message\":\"I am a teapot: Error: Server not available\"}\n"
     ]
    }
   ],
   "source": [
    "import random\n",
    "headers = {\n",
    "    \"User-Agent\": \"Mozilla/5.0\"\n",
    "}\n",
    "\n",
    "\n",
    "# Endpoint y parámetros\n",
    "url = \"https://gateway.marvel.com/v1/public/characters\"\n",
    "params = {\n",
    "    \"ts\": ts,\n",
    "    \"apikey\": public_key,\n",
    "    \"hash\": hash_result,\n",
    "    \"nameStartsWith\": 'A',  # Cambia la letra si quieres otra inicial\n",
    "    \"limit\": 10\n",
    "}\n",
    "\n",
    "# Llamada a la API\n",
    "sin_respuesta = True\n",
    "while sin_respuesta:\n",
    "    \n",
    "    response = requests.get(url, params=params, headers=headers)\n",
    "    print(response.status_code, response.text)\n",
    "    if response.status_code != 418: sin_respuesta = False\n",
    "    else:\n",
    "        time.sleep( random.uniform(3, 60))\n",
    "\n",
    "print(response.url)"
   ]
  },
  {
   "cell_type": "code",
   "execution_count": null,
   "id": "61291129",
   "metadata": {},
   "outputs": [],
   "source": []
  }
 ],
 "metadata": {
  "kernelspec": {
   "display_name": "Python 3",
   "language": "python",
   "name": "python3"
  },
  "language_info": {
   "codemirror_mode": {
    "name": "ipython",
    "version": 3
   },
   "file_extension": ".py",
   "mimetype": "text/x-python",
   "name": "python",
   "nbconvert_exporter": "python",
   "pygments_lexer": "ipython3",
   "version": "3.11.4"
  }
 },
 "nbformat": 4,
 "nbformat_minor": 5
}
