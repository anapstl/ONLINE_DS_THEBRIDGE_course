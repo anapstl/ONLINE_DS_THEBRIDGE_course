{
 "cells": [
  {
   "attachments": {},
   "cell_type": "markdown",
   "metadata": {},
   "source": [
    "## Ejercicio descargas"
   ]
  },
  {
   "attachments": {},
   "cell_type": "markdown",
   "metadata": {},
   "source": [
    "Python es un lenguaje de propósito general, por lo que podemos desarrollar otros programas,\n",
    "aparte de ciencia de datos, que nos permitan montar dashboards, crear APIs o automatizar\n",
    "procesos. En este caso vas a automatizar un proceso, en el que tendrás que desarrollar un\n",
    "script que ordene todos los archivos de una carpeta, dependiendo de la extensión de los\n",
    "mismos.\n",
    "\n",
    "\n",
    "El objetivo es ordenar la típica carpeta de cajón desastre donde se nos acumulan archivos de\n",
    "todos los formatos como: imágenes, words, presentaciones, excels, ejecutables, zips, etc... Y\n",
    "que no vamos a ir viendo archivo a archivo, ordenándolos.... La solución suele ser eliminarlo\n",
    "todo. Vamos a intentar no tener que llegar a eso, ordenando los ficheros automáticamente en\n",
    "carpetas y revisar las que nos interesen. La típica carpeta donde aplicaríamos este programa es\n",
    "la de “Descargas”, donde se suelen acumular muchos archivos temporales.\n",
    "\n",
    "\n",
    "Por tanto, **el programa tiene que guardar los archivos de la carpeta “Descargas” (o cualquier\n",
    "otra donde acumules mucho archivo temporal) en los siguientes directorios dentro de la\n",
    "propia carpeta “Descargas”**:\n",
    "- Imagenes\n",
    "- Documentos\n",
    "- Software\n",
    "- Otros\n",
    "\n",
    "Cada vez que ejecutes el script, automáticamente se ordenarán todos los archivos en sus\n",
    "correspondientes carpetas.\n"
   ]
  },
  {
   "cell_type": "code",
   "execution_count": 43,
   "metadata": {},
   "outputs": [],
   "source": [
    "doc_types = ('.doc', '.docx', '.txt', '.pdf', '.xls', '.ppt', '.xlsx', '.pptx')\n",
    "img_types = ('.jpg', '.jpeg', '.png', '.svg', '.gif')\n",
    "software_types = ('.exe', '.py','.ipynb')"
   ]
  },
  {
   "attachments": {},
   "cell_type": "markdown",
   "metadata": {},
   "source": [
    "### 1. Crea un un programa con el flujo principal y encapsúlalo en funciones."
   ]
  },
  {
   "cell_type": "code",
   "execution_count": null,
   "metadata": {},
   "outputs": [],
   "source": [
    "import os\n",
    "import shutil\n",
    "\n",
    "p_folder = r'C:\\Users\\Ana\\Documents\\Descargas'\n",
    "dirs_2_create = ['Imagenes', 'Documentos', 'Software', 'Otros']\n",
    "doc_types = ('.doc', '.docx', '.txt', '.pdf', '.xls', '.ppt', '.xlsx', '.pptx')\n",
    "img_types = ('.jpg', '.jpeg', '.png', '.svg', '.gif')\n",
    "software_types = ('.exe', '.py','.ipynb')\n",
    "\n",
    "def check_if_file_already_in_folder(f, folder):\n",
    "    return f in os.listdir(folder)\n",
    "\n",
    "if not(os.path.exists(p_folder)):\n",
    "    print(\"No existe la carpeta que estas buscando\")\n",
    "\n",
    "existing_dirs = [d for d in os.listdir(p_folder) if os.path.isdir(os.path.join(p_folder, d))]\n",
    "\n",
    "for dir in dirs_2_create:\n",
    "    if not(dir in existing_dirs):\n",
    "        os.mkdir(os.path.join(p_folder, dir))\n",
    "        print(os.path.join(p_folder, dir))\n",
    "\n",
    "existing_files = [d for d in os.listdir(p_folder) if os.path.isfile(os.path.join(p_folder, d))]\n",
    "for ef in existing_files:\n",
    "    extension = '.'+ ef.split('.')[-1].lower()\n",
    "    src = os.path.join(p_folder, ef)\n",
    "    if extension in doc_types:\n",
    "        if not(check_if_file_already_in_folder(ef, os.path.join(p_folder, \"Documentos\"))):\n",
    "            dst = os.path.join(p_folder, \"Documentos\", ef)\n",
    "    elif extension in img_types:\n",
    "        if not(check_if_file_already_in_folder(ef, os.path.join(p_folder, \"Imagenes\"))):\n",
    "            dst = os.path.join(p_folder, \"Imagenes\", ef)\n",
    "    elif extension in software_types:\n",
    "        if not(check_if_file_already_in_folder(ef, os.path.join(p_folder, \"Software\"))):\n",
    "            dst = os.path.join(p_folder, \"Software\", ef)\n",
    "    else:\n",
    "        if not(check_if_file_already_in_folder(ef, os.path.join(p_folder, \"Otros\"))):\n",
    "            dst = os.path.join(p_folder, \"Otros\", ef)\n",
    "\n",
    "    os.chmod(src, 0o666)\n",
    "    shutil.move(src,dst)"
   ]
  },
  {
   "attachments": {},
   "cell_type": "markdown",
   "metadata": {},
   "source": [
    "### 2. Crea una clase Fichero en clase.py y un main.py con el programa principal partiendo de esa clase."
   ]
  },
  {
   "cell_type": "code",
   "execution_count": null,
   "metadata": {},
   "outputs": [],
   "source": []
  }
 ],
 "metadata": {
  "kernelspec": {
   "display_name": "Python 3",
   "language": "python",
   "name": "python3"
  },
  "language_info": {
   "codemirror_mode": {
    "name": "ipython",
    "version": 3
   },
   "file_extension": ".py",
   "mimetype": "text/x-python",
   "name": "python",
   "nbconvert_exporter": "python",
   "pygments_lexer": "ipython3",
   "version": "3.11.4"
  },
  "orig_nbformat": 4
 },
 "nbformat": 4,
 "nbformat_minor": 2
}
