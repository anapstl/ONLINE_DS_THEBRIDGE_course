{
 "cells": [
  {
   "attachments": {},
   "cell_type": "markdown",
   "metadata": {
    "colab_type": "text",
    "id": "JpS8k_tshonl"
   },
   "source": [
    "## Web scrapping de IMDB"
   ]
  },
  {
   "attachments": {},
   "cell_type": "markdown",
   "metadata": {},
   "source": [
    "Descarga la información correspondiente y guarda en un csv el top de las 250 películas mediante webscrapping. Encapsúlalo en un script.\n",
    "\n",
    "Obtén:\n",
    "* Título\n",
    "* Año\n",
    "* Duración\n",
    "* Posición\n",
    "* Rating"
   ]
  },
  {
   "cell_type": "code",
   "execution_count": null,
   "metadata": {},
   "outputs": [],
   "source": [
    "# Si la petición te devuelve un 403, puedes probar con:\n",
    "# pip install fake-useragent\n",
    "# from fake_useragent import UserAgent\n",
    "# ua = UserAgent()\n",
    "# headers = {'User-Agent': ua.random}\n",
    "# response = requests.get(url, headers=headers)"
   ]
  },
  {
   "cell_type": "code",
   "execution_count": null,
   "metadata": {},
   "outputs": [],
   "source": [
    "import requests\n",
    "from bs4 import BeautifulSoup\n",
    "import json\n",
    "import pandas as pd\n",
    "\n",
    "url = \"https://www.imdb.com/chart/top/\"\n",
    "headers = {\"User-Agent\": \"Mozilla/5.0\"}\n",
    "\n",
    "res = requests.get(url, headers=headers)\n",
    "soup = BeautifulSoup(res.text, \"html.parser\")\n",
    "\n",
    "script_tag = soup.find(\"script\", id=\"__NEXT_DATA__\")\n",
    "data = json.loads(script_tag.string)\n",
    "data\n"
   ]
  },
  {
   "cell_type": "code",
   "execution_count": null,
   "metadata": {},
   "outputs": [],
   "source": [
    "\n",
    "titles = data[\"props\"][\"pageProps\"][\"pageData\"][\"chartTitles\"][\"edges\"]\n",
    "\n",
    "peliculas = {\n",
    "    \"titulo\": [],\n",
    "    \"anio\": [],\n",
    "    \"duracion\": [],\n",
    "    \"posicion\": [],\n",
    "    \"rating\": []\n",
    "}\n",
    "\n",
    "for movie in titles:\n",
    "    node = movie[\"node\"]\n",
    "\n",
    "    titulo = node.get(\"originalTitleText\", {}).get(\"text\") or node.get(\"titleText\", {}).get(\"text\")\n",
    "    anio = node.get(\"releaseYear\", {}).get(\"year\", \"N/A\")\n",
    "    duracion_seg = node.get(\"runtime\", {}).get(\"seconds\", 0)\n",
    "    duracion_min = round(duracion_seg / 60) if duracion_seg else \"N/A\"\n",
    "    posicion = movie.get(\"currentRank\", \"N/A\")\n",
    "    rating = node.get(\"ratingsSummary\", {}).get(\"aggregateRating\", \"N/A\")\n",
    "\n",
    "    peliculas[\"titulo\"].append(titulo)\n",
    "    peliculas[\"anio\"].append(anio)\n",
    "    peliculas[\"duracion\"].append(duracion_min)\n",
    "    peliculas[\"posicion\"].append(posicion)\n",
    "    peliculas[\"rating\"].append(rating)\n",
    "\n",
    "df = pd.DataFrame(peliculas)\n",
    "df.to_csv(\"peliculas_imdb.csv\")\n",
    "\n",
    "\n",
    "df.head()"
   ]
  },
  {
   "cell_type": "code",
   "execution_count": null,
   "metadata": {},
   "outputs": [],
   "source": []
  }
 ],
 "metadata": {
  "colab": {
   "name": "1-DataAccess.ipynb",
   "provenance": []
  },
  "kernelspec": {
   "display_name": "Python 3",
   "language": "python",
   "name": "python3"
  },
  "language_info": {
   "codemirror_mode": {
    "name": "ipython",
    "version": 3
   },
   "file_extension": ".py",
   "mimetype": "text/x-python",
   "name": "python",
   "nbconvert_exporter": "python",
   "pygments_lexer": "ipython3",
   "version": "3.11.4"
  }
 },
 "nbformat": 4,
 "nbformat_minor": 4
}
