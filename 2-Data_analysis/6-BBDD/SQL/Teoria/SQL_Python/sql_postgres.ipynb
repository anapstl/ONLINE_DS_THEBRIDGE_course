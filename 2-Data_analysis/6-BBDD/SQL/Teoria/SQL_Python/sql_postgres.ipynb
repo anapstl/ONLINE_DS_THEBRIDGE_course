{
 "cells": [
  {
   "cell_type": "markdown",
   "id": "c0193a1a",
   "metadata": {},
   "source": [
    "# Conexión a una base de datos PostGresSql"
   ]
  },
  {
   "cell_type": "code",
   "execution_count": 1,
   "id": "c8a8286e",
   "metadata": {},
   "outputs": [
    {
     "name": "stdout",
     "output_type": "stream",
     "text": [
      "Collecting psycopg2-binary\n",
      "  Downloading psycopg2_binary-2.9.10-cp311-cp311-win_amd64.whl (1.2 MB)\n",
      "                                              0.0/1.2 MB ? eta -:--:--\n",
      "     ---                                      0.1/1.2 MB 3.0 MB/s eta 0:00:01\n",
      "     -----------------------------            0.9/1.2 MB 13.7 MB/s eta 0:00:01\n",
      "     ---------------------------------------- 1.2/1.2 MB 12.3 MB/s eta 0:00:00\n",
      "Installing collected packages: psycopg2-binary\n",
      "Successfully installed psycopg2-binary-2.9.10\n",
      "Note: you may need to restart the kernel to use updated packages.\n"
     ]
    },
    {
     "name": "stderr",
     "output_type": "stream",
     "text": [
      "\n",
      "[notice] A new release of pip is available: 23.1.2 -> 25.1.1\n",
      "[notice] To update, run: python.exe -m pip install --upgrade pip\n"
     ]
    }
   ],
   "source": [
    "pip install psycopg2-binary"
   ]
  },
  {
   "cell_type": "code",
   "execution_count": 12,
   "id": "6eb4d575",
   "metadata": {},
   "outputs": [],
   "source": [
    "import psycopg2\n",
    "import pandas as pd"
   ]
  },
  {
   "cell_type": "code",
   "execution_count": 5,
   "id": "4ffa82fa",
   "metadata": {},
   "outputs": [],
   "source": [
    "hosting = \"dpg-d10ncoe3jp1c73962r4g-a.frankfurt-postgres.render.com\"\n",
    "puerto = \"5432\"\n",
    "nombre_db = \"prueba_vitoria_a5bi\"\n",
    "usuario = \"xdelrey\"\n",
    "pswd = \"wbR1sHk2eVpipgyYxhvSAPbvruZkwrW1\""
   ]
  },
  {
   "cell_type": "code",
   "execution_count": null,
   "id": "0a3b15be",
   "metadata": {},
   "outputs": [],
   "source": []
  },
  {
   "cell_type": "code",
   "execution_count": 6,
   "id": "18c52e03",
   "metadata": {},
   "outputs": [],
   "source": [
    "conn = psycopg2.connect(\n",
    "        host = hosting,\n",
    "        port = puerto,\n",
    "        dbname = nombre_db,\n",
    "        user = usuario,\n",
    "        password = pswd\n",
    ")"
   ]
  },
  {
   "cell_type": "code",
   "execution_count": 7,
   "id": "ca813348",
   "metadata": {},
   "outputs": [],
   "source": [
    "cursor = conn.cursor()"
   ]
  },
  {
   "cell_type": "code",
   "execution_count": 13,
   "id": "e9154619",
   "metadata": {},
   "outputs": [],
   "source": [
    "def sql_query(query):   # SELECT * FROM TRACKS\n",
    "\n",
    "    # Ejecuta la query\n",
    "    cursor.execute(query)\n",
    "\n",
    "    # Almacena los datos de la query \n",
    "    ans = cursor.fetchall()\n",
    "\n",
    "    # Obtenemos los nombres de las columnas de la tabla\n",
    "    names = [description[0] for description in cursor.description]\n",
    "\n",
    "    return pd.DataFrame(ans,columns=names)"
   ]
  },
  {
   "cell_type": "code",
   "execution_count": 18,
   "id": "4f939ff7",
   "metadata": {},
   "outputs": [],
   "source": [
    "consulta = \"SELECT id_libro, titulo, nombre, nacionalidad FROM libro INNER JOIN autor ON libro.id_autor = autor.id_autor WHERE nombre = 'Gabriel García Márquez'\""
   ]
  },
  {
   "cell_type": "code",
   "execution_count": 9,
   "id": "96ec2fc0",
   "metadata": {},
   "outputs": [],
   "source": [
    "cursor.execute(consulta)"
   ]
  },
  {
   "cell_type": "code",
   "execution_count": 15,
   "id": "538c0d8c",
   "metadata": {},
   "outputs": [],
   "source": [
    "libros = cursor.fetchall()"
   ]
  },
  {
   "cell_type": "code",
   "execution_count": 16,
   "id": "b1282739",
   "metadata": {},
   "outputs": [
    {
     "name": "stdout",
     "output_type": "stream",
     "text": [
      "[(1, 'Cien Años de Soledad', 1, 1, 'Gabriel García Márquez', 'Colombiana'), (2, 'El Amor en los Tiempos del Cólera', 1, 1, 'Gabriel García Márquez', 'Colombiana')]\n"
     ]
    }
   ],
   "source": [
    "print(libros)"
   ]
  },
  {
   "cell_type": "code",
   "execution_count": 19,
   "id": "a804652f",
   "metadata": {},
   "outputs": [
    {
     "data": {
      "text/html": [
       "<div>\n",
       "<style scoped>\n",
       "    .dataframe tbody tr th:only-of-type {\n",
       "        vertical-align: middle;\n",
       "    }\n",
       "\n",
       "    .dataframe tbody tr th {\n",
       "        vertical-align: top;\n",
       "    }\n",
       "\n",
       "    .dataframe thead th {\n",
       "        text-align: right;\n",
       "    }\n",
       "</style>\n",
       "<table border=\"1\" class=\"dataframe\">\n",
       "  <thead>\n",
       "    <tr style=\"text-align: right;\">\n",
       "      <th></th>\n",
       "      <th>id_libro</th>\n",
       "      <th>titulo</th>\n",
       "      <th>nombre</th>\n",
       "      <th>nacionalidad</th>\n",
       "    </tr>\n",
       "  </thead>\n",
       "  <tbody>\n",
       "    <tr>\n",
       "      <th>0</th>\n",
       "      <td>1</td>\n",
       "      <td>Cien Años de Soledad</td>\n",
       "      <td>Gabriel García Márquez</td>\n",
       "      <td>Colombiana</td>\n",
       "    </tr>\n",
       "    <tr>\n",
       "      <th>1</th>\n",
       "      <td>2</td>\n",
       "      <td>El Amor en los Tiempos del Cólera</td>\n",
       "      <td>Gabriel García Márquez</td>\n",
       "      <td>Colombiana</td>\n",
       "    </tr>\n",
       "  </tbody>\n",
       "</table>\n",
       "</div>"
      ],
      "text/plain": [
       "   id_libro                             titulo                  nombre  \\\n",
       "0         1               Cien Años de Soledad  Gabriel García Márquez   \n",
       "1         2  El Amor en los Tiempos del Cólera  Gabriel García Márquez   \n",
       "\n",
       "  nacionalidad  \n",
       "0   Colombiana  \n",
       "1   Colombiana  "
      ]
     },
     "execution_count": 19,
     "metadata": {},
     "output_type": "execute_result"
    }
   ],
   "source": [
    "df_libros_gabriel = sql_query(consulta)\n",
    "df_libros_gabriel"
   ]
  }
 ],
 "metadata": {
  "kernelspec": {
   "display_name": "Python 3",
   "language": "python",
   "name": "python3"
  },
  "language_info": {
   "codemirror_mode": {
    "name": "ipython",
    "version": 3
   },
   "file_extension": ".py",
   "mimetype": "text/x-python",
   "name": "python",
   "nbconvert_exporter": "python",
   "pygments_lexer": "ipython3",
   "version": "3.11.4"
  }
 },
 "nbformat": 4,
 "nbformat_minor": 5
}
