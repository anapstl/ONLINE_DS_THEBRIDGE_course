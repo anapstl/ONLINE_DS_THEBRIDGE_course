{
 "cells": [
  {
   "cell_type": "markdown",
   "metadata": {
    "id": "BNCAebJANPxq"
   },
   "source": [
    "![TheBridge_logo_RGB_color.jpg](attachment:TheBridge_logo_RGB_color.jpg)"
   ]
  },
  {
   "cell_type": "markdown",
   "metadata": {
    "id": "A9eDZvZaNPxs"
   },
   "source": [
    "![imagen](./img/ejercicios.png)"
   ]
  },
  {
   "cell_type": "markdown",
   "metadata": {
    "id": "59zPhBxXNPxs"
   },
   "source": [
    "## PRACTICA OBLIGATORIA: PYTHON"
   ]
  },
  {
   "cell_type": "markdown",
   "metadata": {
    "id": "mv2kb1GMNPxs"
   },
   "source": [
    "* La práctica obligatoria de esta unidad consiste en dos ejercicios de programación libre a completar.   \n",
    "* Recuerda que debes subirla a tu repositorio personal antes de la sesión en vivo para que puntúe adecuadamente.  \n",
    "* Recuerda también que no es necesario que esté perfecta, sólo es necesario que se vea el esfuerzo.\n",
    "* Esta práctica se resolverá en la sesión en vivo correspondiente y la solución se publicará en el repo del curso."
   ]
  },
  {
   "cell_type": "markdown",
   "metadata": {
    "id": "Kl9JzST2NPxt"
   },
   "source": [
    "![ejercicio.png](./img/ejercicio.png)\n",
    "## PARTE I\n",
    "\n",
    "En este ejercicio debes simular un chatbot al que le haremos pedidos de pizzas.\n",
    "\n",
    "1. El chatbot tiene que saludar con un: \"Buenas tardes, bienvenido al servicio de pedido online, el precio de nuestra pizzas es de 8,95 para la familiar o de 9,90 para la mediana ¿Cuántas pizzas  familiares desea?\"\n",
    "2. El ususario tiene que introducir un número de pizzas en una variable llamada 'pizz_familiar'\n",
    "3. El chatbot debe responder: \"Estupendo, ¿cuántas pizzas medianas desea?\" y guardar el número de pizzas medianas en otra variable 'pizz_mediana'\n",
    "4. Además debe responder del chatbot: \"Estupendo, se están preparando 'pizz' pizzas familiares y 'pizz_mediana' pizzas medianas. Digame su dirección\"\n",
    "6. El ususario tiene que introducir una direccion en formato String en otra variable llamada 'direcc'\n",
    "7. El programa debe calcular el monto total\n",
    "8. Respuesta final del chatbot: \"Le mandaremos las '(número total de pizzas)' pizzas a la dirección 'direcc'. Serán <precio total a pagar en euros>. Muchas gracias por su pedido.\"\n",
    "         \n"
   ]
  },
  {
   "cell_type": "code",
   "execution_count": 3,
   "metadata": {
    "id": "qkKibyt-NPxt"
   },
   "outputs": [
    {
     "name": "stdin",
     "output_type": "stream",
     "text": [
      "Buenas tardes, bienvenido al servicio de pedido online, el precio de nuestra pizzas es de 8,95 para la familiar o de 9,90 para la mediana ¿Cuántas pizzas familiares desea? 2\n",
      "Estupendo, ¿cuántas pizzas medianas desea? 2\n",
      "Estupendo, se están preparando '2' pizzas familiares y '2' pizzas medianas. Digame su dirección c/ mayor 1\n"
     ]
    },
    {
     "name": "stdout",
     "output_type": "stream",
     "text": [
      "Le mandaremos las '4' pizzas a la dirección 'c/ mayor 1'. Serán <37.7 euros>. Muchas gracias por su pedido.\n"
     ]
    }
   ],
   "source": [
    "pizz_familiar = int(input(\"Buenas tardes, bienvenido al servicio de pedido online, el precio de nuestra pizzas es de 8,95 para la familiar o de 9,90 para la mediana ¿Cuántas pizzas familiares desea?\"))\n",
    "pizz_mediana = int(input(\"Estupendo, ¿cuántas pizzas medianas desea?\"))\n",
    "direcc = input(f\"Estupendo, se están preparando '{pizz_familiar}' pizzas familiares y '{pizz_mediana}' pizzas medianas. Digame su dirección\")\n",
    "pizz_total = pizz_familiar + pizz_mediana\n",
    "monto_total = (pizz_familiar * 8.95) + (pizz_mediana * 9.90)\n",
    "print(f\"Le mandaremos las '{pizz_total}' pizzas a la dirección '{direcc}'. Serán <{monto_total} euros>. Muchas gracias por su pedido.\")"
   ]
  },
  {
   "cell_type": "markdown",
   "metadata": {
    "id": "f0oqoGDGNPxt"
   },
   "source": [
    "![ejercicio.png](./img/ejercicio.png)\n",
    "## Parte II\n",
    "\n",
    "Crea un programa que realice las siguientes acciones:\n",
    "\n",
    "1. Solicite al usuario que introduzca 3 números enteros separados por comas (por ejemplo: 1,2,3).\n",
    "2. Convierta esa entrada en una lista de números enteros.\n",
    "3. Utilizando funciones built-in, determine el número máximo, el número mínimo y la suma total de los números introducidos.\n",
    "4. Determine la verdad o falsedad de la siguiente afirmación: \"El número máximo menos el número mínimo es igual a la suma total dividida por 5\".\n",
    "5. Muestre los resultados utilizando print."
   ]
  },
  {
   "cell_type": "code",
   "execution_count": 16,
   "metadata": {
    "id": "rAlpWiQ9NPxt"
   },
   "outputs": [
    {
     "name": "stdout",
     "output_type": "stream",
     "text": [
      "La lista de enteros obtenida es:  [1, 2, 3]\n",
      "El número máximo de la lista de enteros es:  3\n",
      "El número mínimo de la lista de enteros es:  1\n",
      "La suma de los elementos de la lista de enteros es:  6\n",
      "La afirmación: 'El número máximo menos el número mínimo es igual a la suma total dividida por 5' es falsa\n"
     ]
    }
   ],
   "source": [
    "#input_str = input(\"Por favor introduce 3 nr. enteros separados por comma (después del última pincha tecla intro:\")\n",
    "input_str = '1,2,3'\n",
    "lst_str = input_str.split(\",\")\n",
    "lst_int = []\n",
    "for n in lst_str:\n",
    "    lst_int.append(int(n))\n",
    "print(\"La lista de enteros obtenida es: \",lst_int)\n",
    "\n",
    "n_max = max(lst_int)\n",
    "print(\"El número máximo de la lista de enteros es: \", n_max)\n",
    "n_min = min(lst_int)\n",
    "print(\"El número mínimo de la lista de enteros es: \", n_min)\n",
    "n_sum = sum(lst_int)\n",
    "print(\"La suma de los elementos de la lista de enteros es: \", n_sum)\n",
    "\n",
    "afirmac = (n_max - n_min) == (n_sum / 5)\n",
    "if afirmac:\n",
    "    print(\"La afirmación: 'El número máximo menos el número mínimo es igual a la suma total dividida por 5' es veradera\")\n",
    "else:\n",
    "    print(\"La afirmación: 'El número máximo menos el número mínimo es igual a la suma total dividida por 5' es falsa\")"
   ]
  }
 ],
 "metadata": {
  "colab": {
   "provenance": []
  },
  "kernelspec": {
   "display_name": "Python 3 (ipykernel)",
   "language": "python",
   "name": "python3"
  },
  "language_info": {
   "codemirror_mode": {
    "name": "ipython",
    "version": 3
   },
   "file_extension": ".py",
   "mimetype": "text/x-python",
   "name": "python",
   "nbconvert_exporter": "python",
   "pygments_lexer": "ipython3",
   "version": "3.13.2"
  }
 },
 "nbformat": 4,
 "nbformat_minor": 4
}
