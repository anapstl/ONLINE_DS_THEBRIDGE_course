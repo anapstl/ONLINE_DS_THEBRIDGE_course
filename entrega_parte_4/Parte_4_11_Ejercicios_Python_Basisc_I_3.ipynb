{
 "cells": [
  {
   "cell_type": "markdown",
   "metadata": {
    "id": "Veg9OohKIhBK"
   },
   "source": [
    "![TheBridge_logo_RGB_color.jpg](attachment:TheBridge_logo_RGB_color.jpg)"
   ]
  },
  {
   "cell_type": "markdown",
   "metadata": {
    "id": "D6BGyM7BIhBM"
   },
   "source": [
    "![imagen](./img/ejercicios.png)"
   ]
  },
  {
   "cell_type": "markdown",
   "metadata": {
    "id": "fGgulj1GIhBM"
   },
   "source": [
    "## EJERCICIOS PYTHON BASICO 3:\n",
    "## Operaciones matemáticas, comparación y booleanas"
   ]
  },
  {
   "cell_type": "markdown",
   "metadata": {
    "id": "GTmgiTjDIhBM"
   },
   "source": [
    "Completa los siguiente ejercicios, la solución completa a los mismos se publicarán en el repo del curso a lo largo del sprint. En algunos ejercicios se muestra la solución final, para que puedas comprobar que lo has hecho bien, pero lo importante es el código que generes. ¡Vaaamos, a ello...!"
   ]
  },
  {
   "cell_type": "markdown",
   "metadata": {
    "id": "5i5RQKPuIhBM"
   },
   "source": [
    "![ejercicio.png](./img/ejercicio.png)\n",
    "\n",
    "\n",
    "## Ejercicio 1\n",
    "Tenemos las siguientes variables:\n",
    "\n",
    "```Python\n",
    "A = 4\n",
    "B = \"Text\"\n",
    "C = 4.1\n",
    "```\n",
    "\n",
    "Comprueba:\n",
    "1. Si A y B son equivalentes\n",
    "2. Si A y C NO son equivalentes\n",
    "3. Si A es mayor que C\n",
    "4. Si C es menor o igual que A\n",
    "5. Si B NO es equivalente a C"
   ]
  },
  {
   "cell_type": "code",
   "execution_count": 4,
   "metadata": {},
   "outputs": [
    {
     "name": "stdout",
     "output_type": "stream",
     "text": [
      "False\n",
      "True\n",
      "False\n",
      "False\n",
      "True\n"
     ]
    }
   ],
   "source": [
    "A = 4\n",
    "B = \"Text\"\n",
    "C = 4.1\n",
    "\n",
    "# 1. Si A y B son equivalentes\n",
    "print(A == B)\n",
    "# 2. Si A y C NO son equivalentes\n",
    "print(A != C)\n",
    "# 3. Si A es mayor que C\n",
    "print(A > C)\n",
    "# 4. Si C es menor o igual que A\n",
    "print(C <= A)\n",
    "# 5. Si B NO es equivalente a C\n",
    "print(B != C)"
   ]
  },
  {
   "cell_type": "code",
   "execution_count": null,
   "metadata": {
    "id": "ziOno7M-IhBN",
    "outputId": "eb605bb9-9431-45fa-d87f-3587f6a35df8"
   },
   "outputs": [
    {
     "name": "stdout",
     "output_type": "stream",
     "text": [
      "False\n",
      "True\n",
      "False\n",
      "False\n",
      "True\n"
     ]
    }
   ],
   "source": []
  },
  {
   "cell_type": "markdown",
   "metadata": {
    "id": "mwdjQlq-IhBN"
   },
   "source": [
    "![ejercicio.png](./img/ejercicio.png)\n",
    "\n",
    "## Ejercicio 2\n",
    "Crea un programa donde se recojan dos inputs del usuario, y el output del programa sea si esos inputs son iguales o no"
   ]
  },
  {
   "cell_type": "code",
   "execution_count": 5,
   "metadata": {
    "id": "mCsGglt-IhBN"
   },
   "outputs": [
    {
     "name": "stdin",
     "output_type": "stream",
     "text": [
      "Introduce el valor de la 1a variable: 34\n",
      "Introduce el valor de la 2da variable: 43\n"
     ]
    },
    {
     "name": "stdout",
     "output_type": "stream",
     "text": [
      "las varioables NO son iguales\n"
     ]
    }
   ],
   "source": [
    "var1 = input(\"Introduce el valor de la 1a variable:\")\n",
    "var2 = input(\"Introduce el valor de la 2da variable:\")\n",
    "\n",
    "if var1 == var2:\n",
    "    print(\"las variables son iguales\")\n",
    "else:\n",
    "    print(\"las varioables NO son iguales\")"
   ]
  },
  {
   "cell_type": "markdown",
   "metadata": {
    "id": "cRkkCpfuIhBN"
   },
   "source": [
    "![ejercicio.png](./img/ejercicio.png)\n",
    "\n",
    "## Ejercicio 3\n",
    "Mismo programa que en 2, pero en esta ocasión tienen que ser tres inputs y dos salidas. Una de las salidas que nos indique si todos son iguales, y la otra si al menos dos inputs sí que lo son"
   ]
  },
  {
   "cell_type": "code",
   "execution_count": 8,
   "metadata": {
    "id": "e6jg7khlIhBN",
    "outputId": "9d71618d-a756-4f8d-e832-a6f420f34d71"
   },
   "outputs": [
    {
     "name": "stdin",
     "output_type": "stream",
     "text": [
      "Introduce el valor de la 1a variable: 2\n",
      "Introduce el valor de la 2da variable: 3\n",
      "Introduce el valor de la 3a variable: 3\n"
     ]
    },
    {
     "name": "stdout",
     "output_type": "stream",
     "text": [
      "al menos 2 variables son iguales de los 3\n"
     ]
    }
   ],
   "source": [
    "var1 = input(\"Introduce el valor de la 1a variable:\")\n",
    "var2 = input(\"Introduce el valor de la 2da variable:\")\n",
    "var3 = input(\"Introduce el valor de la 3a variable:\")\n",
    "\n",
    "if (var1 == var2) and (var2 == var3):\n",
    "    print(\"las 3 variables son iguales\")\n",
    "elif (var1 == var2) or (var2 == var3):\n",
    "    print(\"al menos 2 variables son iguales de los 3\")"
   ]
  },
  {
   "cell_type": "markdown",
   "metadata": {
    "id": "r9XhT7ZlIhBN"
   },
   "source": [
    "![ejercicio.png](./img/ejercicio.png)\n",
    "\n",
    "## Ejercicio 4\n",
    "Razona sin ejecutar código el output que obtendremos de las siguientes sentencias\n",
    "1. True and True and False\n",
    "2. not ((True or False) and (True or False))\n",
    "3. (False or False or False or True) and False\n",
    "4. not False and True and not True"
   ]
  },
  {
   "cell_type": "markdown",
   "metadata": {
    "id": "DF07JxVxIhBO"
   },
   "source": [
    "1. False\n",
    "2. False\n",
    "3. False\n",
    "4. False"
   ]
  }
 ],
 "metadata": {
  "colab": {
   "provenance": []
  },
  "kernelspec": {
   "display_name": "Python 3 (ipykernel)",
   "language": "python",
   "name": "python3"
  },
  "language_info": {
   "codemirror_mode": {
    "name": "ipython",
    "version": 3
   },
   "file_extension": ".py",
   "mimetype": "text/x-python",
   "name": "python",
   "nbconvert_exporter": "python",
   "pygments_lexer": "ipython3",
   "version": "3.13.2"
  }
 },
 "nbformat": 4,
 "nbformat_minor": 4
}
