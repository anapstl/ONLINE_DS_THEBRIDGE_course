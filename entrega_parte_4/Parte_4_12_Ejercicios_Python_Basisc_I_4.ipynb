{
 "cells": [
  {
   "cell_type": "markdown",
   "metadata": {
    "id": "LT5Ddnr9Ih1k"
   },
   "source": [
    "![TheBridge_logo_RGB_color.jpg](attachment:TheBridge_logo_RGB_color.jpg)"
   ]
  },
  {
   "cell_type": "markdown",
   "metadata": {
    "id": "YKD37RzPIh1m"
   },
   "source": [
    "![imagen](./img/ejercicios.png)"
   ]
  },
  {
   "cell_type": "markdown",
   "metadata": {
    "id": "4UzUYt95Ih1m"
   },
   "source": [
    "## EJERCICIOS PYTHON BASICO 4:\n",
    "## Funciones, métodos, listas"
   ]
  },
  {
   "cell_type": "markdown",
   "metadata": {
    "id": "dSnncVE5Ih1m"
   },
   "source": [
    "Completa los siguiente ejercicios, la solución completa a los mismos se publicarán en el repo del curso a lo largo del sprint. En algunos ejercicios se muestra la solución final, para que puedas comprobar que lo has hecho bien, pero lo importante es el código que generes. ¡Vaaamos, a ello...!"
   ]
  },
  {
   "cell_type": "markdown",
   "metadata": {
    "id": "OJQA_gXPIh1m"
   },
   "source": [
    "![ejercicio.png](./img/ejercicio.png)\n",
    "\n",
    "## Ejercicio 1\n",
    "Para este ejercicio vamos a poner en práctica [las funciones built in](https://docs.python.org/3/library/functions.html).\n",
    "\n",
    "1. Calcula el máximo de la lista: [4, 6, 8, -1]\n",
    "2. Suma todos los elementos de la lista anterior\n",
    "3. Redondea este float a 3 dígitos decimales: 63.451256965\n",
    "4. Valor absoluto de: -74"
   ]
  },
  {
   "cell_type": "code",
   "execution_count": 3,
   "metadata": {
    "id": "V_nDNSv6Ih1n"
   },
   "outputs": [
    {
     "name": "stdout",
     "output_type": "stream",
     "text": [
      "Máximo de la lista: 8\n",
      "Suma de los elementos de la lista  17\n",
      "float redondeado a 3 digitos decimales: 63.451\n",
      "El valos abs de -74 es: 74\n"
     ]
    }
   ],
   "source": [
    "lst = [4, 6, 8, -1]\n",
    "print(\"Máximo de la lista:\", max(lst))\n",
    "print(\"Suma de los elementos de la lista \", sum(lst))\n",
    "print(\"float redondeado a 3 digitos decimales:\", round(63.451256965, 3))\n",
    "print(\"El valos abs de -74 es:\", abs(-74))\n"
   ]
  },
  {
   "cell_type": "markdown",
   "metadata": {
    "id": "7iULO_paIh1n"
   },
   "source": [
    "![ejercicio.png](./img/ejercicio.png)\n",
    "\n",
    "## Ejercicio 2\n",
    "Para el siguiente string se pide imprimir por pantalla los siguientes casos\n",
    "\n",
    "    \"En un lugar de la Mancha, de cuyo nombre no quiero acordarme.\"\n",
    "\n",
    "1. Pásalo todo a mayúsculas\n",
    "2. Pásalo todo a minúsculas\n",
    "3. Solo la primera letra de cada palabra en mayúscula, el resto en minúscula\n",
    "4. Crea una lista dividiéndolo por sus espacios\n",
    "5. Sustituye las comas `,` por puntos y comas `;`\n",
    "6. Elimina las `a` minúsculas"
   ]
  },
  {
   "cell_type": "code",
   "execution_count": null,
   "metadata": {
    "id": "ZpIkHWoZIh1n",
    "outputId": "ae5791ac-9c30-497e-ee20-c9d5d41b14d7",
    "scrolled": true
   },
   "outputs": [
    {
     "name": "stdout",
     "output_type": "stream",
     "text": [
      "EN UN LUGAR DE LA MANCHA, DE CUYO NOMBRE NO QUIERO ACORDARME.\n",
      "en un lugar de la mancha, de cuyo nombre no quiero acordarme.\n",
      "En Un Lugar De La Mancha, De Cuyo Nombre No Quiero Acordarme.\n",
      "['En', 'un', 'lugar', 'de', 'la', 'Mancha,', 'de', 'cuyo', 'nombre', 'no', 'quiero', 'acordarme.']\n",
      "En un lugar de la Mancha; de cuyo nombre no quiero acordarme.\n",
      "En un lugr de l Mnch, de cuyo nombre no quiero cordrme.\n"
     ]
    }
   ],
   "source": []
  },
  {
   "cell_type": "code",
   "execution_count": 6,
   "metadata": {},
   "outputs": [
    {
     "name": "stdout",
     "output_type": "stream",
     "text": [
      "EN UN LUGAR DE LA MANCHA, DE CUYO NOMBRE NO QUIERO ACORDARME.\n",
      "en un lugar de la mancha, de cuyo nombre no quiero acordarme.\n",
      "En Un Lugar De La Mancha, De Cuyo Nombre No Quiero Acordarme.\n",
      "['En', 'un', 'lugar', 'de', 'la', 'Mancha,', 'de', 'cuyo', 'nombre', 'no', 'quiero', 'acordarme.']\n",
      "En un lugar de la Mancha; de cuyo nombre no quiero acordarme.\n",
      "En un lugr de l Mnch, de cuyo nombre no quiero cordrme.\n"
     ]
    }
   ],
   "source": [
    "text = \"En un lugar de la Mancha, de cuyo nombre no quiero acordarme.\"\n",
    "\n",
    "# 1. Pásalo todo a mayúsculas\n",
    "print(text.upper())\n",
    "# 2. Pásalo todo a minúsculas\n",
    "print(text.lower())\n",
    "# 3. Solo la primera letra de cada palabra en mayúscula, el resto en minúscula\n",
    "print(text.title())\n",
    "# 4. Crea una lista dividiéndolo por sus espacios\n",
    "print(text.split(\" \"))\n",
    "# 5. Sustituye las comas `,` por puntos y comas `;`\n",
    "print(text.replace(\",\", \";\"))\n",
    "# 6. Elimina las `a` minúsculas\n",
    "print(text.replace(\"a\", \"\"))"
   ]
  },
  {
   "cell_type": "markdown",
   "metadata": {
    "id": "oa4G9u7oIh1o"
   },
   "source": [
    "![ejercicio.png](./img/ejercicio.png)\n",
    "\n",
    "## Ejercicio 3\n",
    "1. Crea una lista con 3 elementos numéricos\n",
    "2. Añade un cuarto elemento\n",
    "3. Calcula la suma de todos\n",
    "4. Elimina el segundo elemento de la lista\n",
    "5. Añade otro elemento en la posicion 3 de la lista\n",
    "6. Crea otra lista con 4 elementos y concaténala a la que ya tenías.\n",
    "7. Ordena la lista de menor a mayor.\n",
    "8. BONUS: Ordena la lista de mayor a menor.  \n",
    "(*PISTA: Para hacer 8, tendrás que buscar en la información del método...*)  \n",
    "  \n",
    "  \n",
    "NOTA: Pinta por pantalla el resultado de cada paso."
   ]
  },
  {
   "cell_type": "code",
   "execution_count": null,
   "metadata": {
    "id": "AAX5y1o9Ih1o",
    "outputId": "5b61e7b2-9b4a-4413-f128-076d5f33752e"
   },
   "outputs": [
    {
     "name": "stdout",
     "output_type": "stream",
     "text": [
      "10\n",
      "[2, 3, 4]\n",
      "[2, 3, 5, 4]\n",
      "[2, 3, 5, 4, 6, 7, 8, 9]\n"
     ]
    }
   ],
   "source": []
  },
  {
   "cell_type": "code",
   "execution_count": 22,
   "metadata": {},
   "outputs": [
    {
     "name": "stdout",
     "output_type": "stream",
     "text": [
      "#1 [2, 4, 8]\n",
      "#2 [2, 4, 8, 10]\n",
      "#3 suma de los elemns de las lista es: 24\n",
      "#4 [2, 8, 10]\n",
      "#5 [2, 8, 22, 10]\n",
      "#6 [2, 8, 22, 10, 1, 3, 6, 9]\n",
      "#7 [1, 2, 3, 6, 8, 9, 10, 22]\n",
      "#8 [22, 10, 9, 8, 6, 3, 2, 1]\n"
     ]
    }
   ],
   "source": [
    "#1. Crea una lista con 3 elementos numéricos\n",
    "lst_nr = [2, 4, 8]\n",
    "print(\"#1\", lst_nr)\n",
    "\n",
    "#2. Añade un cuarto elemento\n",
    "lst_nr.append(10)\n",
    "print(\"#2\", lst_nr)\n",
    "\n",
    "#3. Calcula la suma de todos\n",
    "print(\"#3\", \"suma de los elemns de las lista es:\", sum(lst_nr))\n",
    "\n",
    "#4. Elimina el segundo elemento de la lista\n",
    "lst_nr.pop(1)\n",
    "print(\"#4\", lst_nr)\n",
    "\n",
    "# 5. Añade otro elemento en la posicion 3 de la lista\n",
    "lst_nr.insert(2, 22)\n",
    "print(\"#5\", lst_nr)\n",
    "\n",
    "#6. Crea otra lista con 4 elementos y concaténala a la que ya tenías.\n",
    "lst_4 = [1, 3, 6, 9]\n",
    "lst_result = lst_nr + lst_4\n",
    "print(\"#6\",lst_result)\n",
    "\n",
    "#7. Ordena la lista de menor a mayor.\n",
    "lst_result.sort()\n",
    "print(\"#7\", lst_result)\n",
    "\n",
    "#8. BONUS: Ordena la lista de mayor a menor.\n",
    "#(*PISTA: Para hacer 8, tendrás que buscar en la información del método...*)  \n",
    "lst_result.sort(reverse=True)\n",
    "print(\"#8\", lst_result)\n",
    "  \n",
    "  \n",
    "#NOTA: Pinta por pantalla el resultado de cada paso."
   ]
  }
 ],
 "metadata": {
  "colab": {
   "provenance": []
  },
  "kernelspec": {
   "display_name": "Python 3 (ipykernel)",
   "language": "python",
   "name": "python3"
  },
  "language_info": {
   "codemirror_mode": {
    "name": "ipython",
    "version": 3
   },
   "file_extension": ".py",
   "mimetype": "text/x-python",
   "name": "python",
   "nbconvert_exporter": "python",
   "pygments_lexer": "ipython3",
   "version": "3.13.2"
  }
 },
 "nbformat": 4,
 "nbformat_minor": 4
}
