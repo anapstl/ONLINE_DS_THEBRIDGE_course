{
 "cells": [
  {
   "cell_type": "markdown",
   "id": "b7a85898-9715-4977-aecf-a33268312ae7",
   "metadata": {},
   "source": [
    "# Operaciones aritméticas"
   ]
  },
  {
   "cell_type": "markdown",
   "id": "8b6a577b-5bf5-43ee-be9c-07817491b36c",
   "metadata": {},
   "source": [
    "https://colab.research.google.com/drive/12ym6guWv4T5lWw5_LRpbpLdW2IRcwoNP"
   ]
  },
  {
   "cell_type": "markdown",
   "id": "c78019bd-2345-4bf8-b21a-bcc2ead2855c",
   "metadata": {},
   "source": [
    "* Sumar +\n",
    "* Restar -\n",
    "* Multiplicar *\n",
    "* Dividir /\n",
    "* Elevar **\n",
    "* Cociente //\n",
    "* Resto división %"
   ]
  },
  {
   "cell_type": "code",
   "execution_count": 4,
   "id": "249d65e4-ff8e-44e7-a453-df13570b2d8c",
   "metadata": {},
   "outputs": [
    {
     "name": "stdout",
     "output_type": "stream",
     "text": [
      "suma: 13.5 \n",
      "Tipo: <class 'float'>\n",
      "multiplicando: 35.0 \n",
      "Tipo: <class 'float'>\n",
      "elevar: 3162.2776601683795 \n",
      "Tipo: <class 'float'>\n",
      "dividir: 2.857142857142857 \n",
      "Tipo: <class 'float'>\n",
      "cociente: 2.0 \n",
      "Tipo: <class 'float'>\n",
      "resto: 3.0 \n",
      "Tipo: <class 'float'>\n"
     ]
    }
   ],
   "source": [
    "var_int = 10\n",
    "var_float = 3.5\n",
    "\n",
    "print(\"suma:\", var_int + var_float, \"\\nTipo:\",type(var_int + var_float))\n",
    "print(\"multiplicando:\", var_int * var_float, \"\\nTipo:\",type(var_int * var_float))\n",
    "\n",
    "# shift + opt + arrow - copy paste line\n",
    "# opt + arrow: move line\n",
    "\n",
    "print(\"elevar:\", var_int ** var_float, \"\\nTipo:\",type(var_int ** var_float))\n",
    "print(\"dividir:\", var_int / var_float, \"\\nTipo:\",type(var_int / var_float))\n",
    "print(\"cociente:\", var_int // var_float, \"\\nTipo:\",type(var_int // var_float))\n",
    "print(\"resto:\", var_int % var_float, \"\\nTipo:\",type(var_int % var_float))"
   ]
  },
  {
   "cell_type": "markdown",
   "id": "39e1d4e0-d7b4-41a9-84c5-b0685d5557b4",
   "metadata": {},
   "source": [
    "## Propriedad comutativa, asociativa, distributiva, paréntesis"
   ]
  },
  {
   "cell_type": "code",
   "execution_count": 6,
   "id": "6e1eb7df-32c0-49d7-8242-0cfbbf5b482c",
   "metadata": {},
   "outputs": [
    {
     "name": "stdout",
     "output_type": "stream",
     "text": [
      "comutativa:\n",
      " 6 \n",
      " 6\n",
      "\n",
      "asociativa:\n",
      " 30 \n",
      " 30\n",
      "\n",
      "distributiva:\n",
      " 16 \n",
      " 16\n",
      "\n",
      "parénesis: 50 \n",
      " 1.7272727272727273\n"
     ]
    }
   ],
   "source": [
    "print(\"comutativa:\\n\", 2 * 3, \"\\n\", 3 * 2)\n",
    "\n",
    "print(\"\\nasociativa:\\n\", (2 * 3) * 5, \"\\n\", 3 * (2 * 5))\n",
    "\n",
    "print(\"\\ndistributiva:\\n\", 2 * (3 + 5), \"\\n\", 2* 3 + 2 * 5)\n",
    "\n",
    "print(\"\\nparénesis:\", 2 * (2 + 3) * 5, \"\\n\", (2 * 2 + 3 * 5) / (4 + 7))"
   ]
  },
  {
   "cell_type": "markdown",
   "id": "6b638693-d4ce-453b-b7bd-322fd313c484",
   "metadata": {},
   "source": [
    "## Ops complejas\n",
    "* raíz cuadrada\n",
    "* seno/coseno\n",
    "* valor abs\n",
    "\n",
    "https://www.google.com/url?q=https%3A%2F%2Fdocs.python.org%2F3%2Flibrary%2Fmath.html"
   ]
  },
  {
   "cell_type": "code",
   "execution_count": 11,
   "id": "4fc40736-84a9-401b-8c75-d9edbaf2aba3",
   "metadata": {},
   "outputs": [
    {
     "name": "stdout",
     "output_type": "stream",
     "text": [
      "5.0\n",
      "1.0\n",
      "123.45\n"
     ]
    }
   ],
   "source": [
    "import math\n",
    "\n",
    "print(math.sqrt(25))\n",
    "print(math.cos(0))\n",
    "print(math.fabs(-123.45)) # eb py abs"
   ]
  },
  {
   "cell_type": "markdown",
   "id": "0fe28b8d-f9b9-40e2-acae-b4cfbc12e108",
   "metadata": {},
   "source": [
    "## Errores clásicos\n",
    "\n",
    "* div por cero\n",
    "+ salir del dominio de algunas fct matematicas "
   ]
  },
  {
   "cell_type": "code",
   "execution_count": 12,
   "id": "3448fb8c-24e9-4afe-b293-a1da097f659e",
   "metadata": {
    "collapsed": true,
    "jupyter": {
     "outputs_hidden": true
    }
   },
   "outputs": [
    {
     "ename": "ZeroDivisionError",
     "evalue": "division by zero",
     "output_type": "error",
     "traceback": [
      "\u001b[31m---------------------------------------------------------------------------\u001b[39m",
      "\u001b[31mZeroDivisionError\u001b[39m                         Traceback (most recent call last)",
      "\u001b[36mCell\u001b[39m\u001b[36m \u001b[39m\u001b[32mIn[12]\u001b[39m\u001b[32m, line 1\u001b[39m\n\u001b[32m----> \u001b[39m\u001b[32m1\u001b[39m \u001b[32;43m4\u001b[39;49m\u001b[43m/\u001b[49m\u001b[32;43m0\u001b[39;49m\n",
      "\u001b[31mZeroDivisionError\u001b[39m: division by zero"
     ]
    }
   ],
   "source": [
    "4/0"
   ]
  },
  {
   "cell_type": "code",
   "execution_count": 15,
   "id": "b7f0eb28-51c2-416e-b98a-0fee2468b8cf",
   "metadata": {},
   "outputs": [
    {
     "ename": "ValueError",
     "evalue": "math domain error",
     "output_type": "error",
     "traceback": [
      "\u001b[31m---------------------------------------------------------------------------\u001b[39m",
      "\u001b[31mValueError\u001b[39m                                Traceback (most recent call last)",
      "\u001b[36mCell\u001b[39m\u001b[36m \u001b[39m\u001b[32mIn[15]\u001b[39m\u001b[32m, line 1\u001b[39m\n\u001b[32m----> \u001b[39m\u001b[32m1\u001b[39m \u001b[43mmath\u001b[49m\u001b[43m.\u001b[49m\u001b[43msqrt\u001b[49m\u001b[43m(\u001b[49m\u001b[43m-\u001b[49m\u001b[32;43m12\u001b[39;49m\u001b[43m)\u001b[49m\n",
      "\u001b[31mValueError\u001b[39m: math domain error"
     ]
    }
   ],
   "source": [
    "math.sqrt(-12)"
   ]
  },
  {
   "cell_type": "markdown",
   "id": "a6a910cd-a162-4ca2-bf73-ad32ca2d6cae",
   "metadata": {},
   "source": [
    "## Ops comparativas\n",
    "\n",
    "* ==\n",
    "* !=\n",
    "* \\>\n",
    "* <\n",
    "* \\>=\n",
    "* <="
   ]
  },
  {
   "cell_type": "code",
   "execution_count": 17,
   "id": "311067da-bb95-4b65-80d7-960f432afba6",
   "metadata": {},
   "outputs": [
    {
     "name": "stdout",
     "output_type": "stream",
     "text": [
      "1\n",
      "False\n",
      "1\n"
     ]
    }
   ],
   "source": [
    "# asignación\n",
    "asign = 1\n",
    "print(asign)\n",
    "\n",
    "# comparación\n",
    "print(asign == 5)\n",
    "\n",
    "print(asign)"
   ]
  },
  {
   "cell_type": "code",
   "execution_count": 22,
   "id": "a2089f9e-19fe-4830-84f1-5f9df3931134",
   "metadata": {},
   "outputs": [
    {
     "name": "stdout",
     "output_type": "stream",
     "text": [
      "False\n",
      "True\n",
      "True\n",
      "True\n",
      "False\n"
     ]
    }
   ],
   "source": [
    "print(\"AAA\" == \"BBB\")\n",
    "print(\"AAA\" == \"AAA\")\n",
    "print(93 > 12)\n",
    "print(1 == 1.0)\n",
    "print(93 <= 12)"
   ]
  },
  {
   "cell_type": "markdown",
   "id": "aba668c0-39ef-4855-80fe-cc10e826d8c1",
   "metadata": {},
   "source": [
    "## Errores en comparativas"
   ]
  },
  {
   "cell_type": "code",
   "execution_count": 24,
   "id": "77e5b322-5fe9-47fd-9652-3e5e0a270789",
   "metadata": {},
   "outputs": [
    {
     "name": "stdout",
     "output_type": "stream",
     "text": [
      "False\n",
      "False\n"
     ]
    }
   ],
   "source": [
    "print(1 == \"1\")\n",
    "print(\"hola\" == True)"
   ]
  },
  {
   "cell_type": "markdown",
   "id": "3155a190-e4d5-4666-86c4-2ff4098dd048",
   "metadata": {},
   "source": [
    "Obtenemos *TypeError* cuando la comprartiva es <, >"
   ]
  },
  {
   "cell_type": "code",
   "execution_count": 26,
   "id": "2edfb114-84b7-447c-8859-2195735202f9",
   "metadata": {},
   "outputs": [
    {
     "ename": "TypeError",
     "evalue": "'>=' not supported between instances of 'str' and 'int'",
     "output_type": "error",
     "traceback": [
      "\u001b[31m---------------------------------------------------------------------------\u001b[39m",
      "\u001b[31mTypeError\u001b[39m                                 Traceback (most recent call last)",
      "\u001b[36mCell\u001b[39m\u001b[36m \u001b[39m\u001b[32mIn[26]\u001b[39m\u001b[32m, line 1\u001b[39m\n\u001b[32m----> \u001b[39m\u001b[32m1\u001b[39m \u001b[33;43m\"\u001b[39;49m\u001b[33;43m17\u001b[39;49m\u001b[33;43m\"\u001b[39;49m\u001b[43m \u001b[49m\u001b[43m>\u001b[49m\u001b[43m=\u001b[49m\u001b[43m \u001b[49m\u001b[32;43m23\u001b[39;49m\n",
      "\u001b[31mTypeError\u001b[39m: '>=' not supported between instances of 'str' and 'int'"
     ]
    }
   ],
   "source": [
    "\"17\" >= 23"
   ]
  }
 ],
 "metadata": {
  "kernelspec": {
   "display_name": "Python 3 (ipykernel)",
   "language": "python",
   "name": "python3"
  },
  "language_info": {
   "codemirror_mode": {
    "name": "ipython",
    "version": 3
   },
   "file_extension": ".py",
   "mimetype": "text/x-python",
   "name": "python",
   "nbconvert_exporter": "python",
   "pygments_lexer": "ipython3",
   "version": "3.13.2"
  }
 },
 "nbformat": 4,
 "nbformat_minor": 5
}
