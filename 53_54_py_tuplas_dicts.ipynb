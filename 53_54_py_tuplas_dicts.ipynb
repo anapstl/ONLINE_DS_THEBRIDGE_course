{
 "cells": [
  {
   "cell_type": "markdown",
   "id": "65c78661",
   "metadata": {},
   "source": [
    "# Tuplas\n",
    "\n",
    "URL:\n",
    "* https://colab.research.google.com/drive/1xoWEBQp1QN4cte6lq3rbLicOOaE-Ydno\n",
    "* https://colab.research.google.com/drive/1A2ECo7gGt45Qshtue-BS7fkPojBQWeEq"
   ]
  },
  {
   "cell_type": "markdown",
   "id": "6931027a",
   "metadata": {},
   "source": [
    "Diferencias:\n",
    "\n",
    "* `Inmutables`\n",
    "* `Ordenadas`\n",
    "\n",
    "- Para pequeñas colleciones de datos\n",
    "- ()\n",
    "- tipos mixtos"
   ]
  },
  {
   "cell_type": "code",
   "execution_count": 24,
   "id": "d092fe6f",
   "metadata": {},
   "outputs": [
    {
     "name": "stdout",
     "output_type": "stream",
     "text": [
      "(1, 'fiona')\n",
      "<class 'tuple'>\n",
      "1\n",
      "fiona\n"
     ]
    }
   ],
   "source": [
    "my_tuple = (1, \"fiona\"); \\\n",
    "print(my_tuple)\n",
    "print(type(my_tuple))\n",
    "print(my_tuple[0])\n",
    "print(my_tuple[1])"
   ]
  },
  {
   "cell_type": "code",
   "execution_count": 25,
   "id": "061d2219",
   "metadata": {},
   "outputs": [
    {
     "name": "stdout",
     "output_type": "stream",
     "text": [
      "24\n",
      "<class 'int'>\n"
     ]
    }
   ],
   "source": [
    "mala_tupla = (24)\n",
    "print(mala_tupla)\n",
    "print(type(mala_tupla))"
   ]
  },
  {
   "cell_type": "code",
   "execution_count": 26,
   "id": "29443a4e",
   "metadata": {},
   "outputs": [
    {
     "name": "stdout",
     "output_type": "stream",
     "text": [
      "(24,)\n",
      "<class 'tuple'>\n"
     ]
    }
   ],
   "source": [
    "buena_tupla = (24,)\n",
    "print(buena_tupla)\n",
    "print(type(buena_tupla))"
   ]
  },
  {
   "cell_type": "markdown",
   "id": "f217261b",
   "metadata": {},
   "source": [
    "## Operaciones\n",
    "\n",
    "* `anidar`"
   ]
  },
  {
   "cell_type": "code",
   "execution_count": 27,
   "id": "bb1e5fd9",
   "metadata": {},
   "outputs": [
    {
     "name": "stdout",
     "output_type": "stream",
     "text": [
      "(1, 2, 3, ('a', 'b', 'c'))\n",
      "<class 'tuple'>\n",
      "('a', 'b', 'c')\n",
      "contiene n elemes 4\n"
     ]
    }
   ],
   "source": [
    "tupla_anidada = (1,2, 3, (\"a\",\"b\",\"c\"))\n",
    "print(tupla_anidada)\n",
    "print(type(tupla_anidada))\n",
    "print(tupla_anidada[3])\n",
    "print(\"contiene n elemes\", len(tupla_anidada))"
   ]
  },
  {
   "cell_type": "markdown",
   "id": "6492d3c9",
   "metadata": {},
   "source": [
    "* `indexar`"
   ]
  },
  {
   "cell_type": "code",
   "execution_count": 28,
   "id": "6a780e76",
   "metadata": {},
   "outputs": [
    {
     "name": "stdout",
     "output_type": "stream",
     "text": [
      "3\n",
      "c\n"
     ]
    }
   ],
   "source": [
    "print(tupla_anidada[2])\n",
    "print(tupla_anidada[-1][-1])"
   ]
  },
  {
   "cell_type": "markdown",
   "id": "9398c127",
   "metadata": {},
   "source": [
    "* `iterables`"
   ]
  },
  {
   "cell_type": "code",
   "execution_count": null,
   "id": "28f227dd",
   "metadata": {},
   "outputs": [
    {
     "name": "stdout",
     "output_type": "stream",
     "text": [
      "1\n",
      "2\n",
      "3\n",
      "('a', 'b', 'c')\n"
     ]
    }
   ],
   "source": [
    "# tupla_anidada = (1,2, 3, (\"a\",\"b\",\"c\"))\n",
    "\n",
    "for i in tupla_anidada:\n",
    "    print(i)"
   ]
  },
  {
   "cell_type": "markdown",
   "id": "e6b81a76",
   "metadata": {},
   "source": [
    "* `slicing`"
   ]
  },
  {
   "cell_type": "code",
   "execution_count": 31,
   "id": "7c11521a",
   "metadata": {},
   "outputs": [
    {
     "name": "stdout",
     "output_type": "stream",
     "text": [
      "(3, ('a', 'b', 'c'))\n"
     ]
    }
   ],
   "source": [
    "tupla_part = tupla_anidada[2:]\n",
    "print(tupla_part)"
   ]
  },
  {
   "cell_type": "markdown",
   "id": "5c5cec94",
   "metadata": {},
   "source": [
    "## Errores tuplas\n",
    "\n",
    "* `NO` son inmutables"
   ]
  },
  {
   "cell_type": "code",
   "execution_count": 32,
   "id": "e3ed8446",
   "metadata": {},
   "outputs": [
    {
     "ename": "TypeError",
     "evalue": "'tuple' object does not support item assignment",
     "output_type": "error",
     "traceback": [
      "\u001b[31m---------------------------------------------------------------------------\u001b[39m",
      "\u001b[31mTypeError\u001b[39m                                 Traceback (most recent call last)",
      "\u001b[36mCell\u001b[39m\u001b[36m \u001b[39m\u001b[32mIn[32]\u001b[39m\u001b[32m, line 2\u001b[39m\n\u001b[32m      1\u001b[39m tupla_err = (\u001b[32m1\u001b[39m, \u001b[32m2\u001b[39m, \u001b[32m3\u001b[39m, \u001b[32m4\u001b[39m, \u001b[32m5\u001b[39m)\n\u001b[32m----> \u001b[39m\u001b[32m2\u001b[39m \u001b[43mtupla_err\u001b[49m\u001b[43m[\u001b[49m\u001b[32;43m3\u001b[39;49m\u001b[43m]\u001b[49m = \u001b[32m10\u001b[39m \u001b[38;5;66;03m# TypeError: 'tuple' object does not support item assignment\u001b[39;00m\n",
      "\u001b[31mTypeError\u001b[39m: 'tuple' object does not support item assignment"
     ]
    }
   ],
   "source": [
    "tupla_err = (1, 2, 3, 4, 5)\n",
    "tupla_err[3] = 10 # TypeError: 'tuple' object does not support item assignment"
   ]
  },
  {
   "cell_type": "code",
   "execution_count": 37,
   "id": "eee27d06",
   "metadata": {},
   "outputs": [
    {
     "name": "stdout",
     "output_type": "stream",
     "text": [
      "(1, 2, 3, 4, 5, 6)\n",
      "(1, 2, 3, 4, 5, 6)\n",
      "(1, 2, 3, 4, 5, 6)\n"
     ]
    }
   ],
   "source": [
    "tupla_1 = (1, 2, 3)\n",
    "tupla_2 = (4, 5, 6)\n",
    "\n",
    "print(tupla_1 + tupla_2) # esto SI xk es UNA NUEVA TUPLA\n",
    "\n",
    "tupla_3 = tupla_1 + tupla_2\n",
    "tupla_1 = tupla_1 + tupla_2 # no estamos modificando la tupla, sino reasignamos una nueva tupla \n",
    "\n",
    "print(tupla_3)\n",
    "print(tupla_1) # aunque parezca que hemos modificado la tupla, no es así. "
   ]
  },
  {
   "cell_type": "markdown",
   "id": "fc7ee18e",
   "metadata": {},
   "source": [
    "## Listas y tuplas\n",
    "\n",
    "podemos combinar listas y tuplas que no tendremos ningun pb respetando las prop de cada tipo"
   ]
  },
  {
   "cell_type": "code",
   "execution_count": 39,
   "id": "1df358c8",
   "metadata": {},
   "outputs": [
    {
     "name": "stdout",
     "output_type": "stream",
     "text": [
      "['Fresas', ('Naranjas', 'Limones'), 'Kiwis'] <class 'list'>\n",
      "('Fresas', ['Naranjas', 'Limones'], 'Kiwis') <class 'tuple'>\n"
     ]
    }
   ],
   "source": [
    "lista_ej = [\"Fresas\", (\"Naranjas\", \"Limones\"), \"Kiwis\"]\n",
    "tupla_ej = (\"Fresas\", [\"Naranjas\", \"Limones\"], \"Kiwis\")\n",
    "print(lista_ej, type(lista_ej))\n",
    "print(tupla_ej, type(tupla_ej))"
   ]
  },
  {
   "cell_type": "code",
   "execution_count": 43,
   "id": "e644c183",
   "metadata": {},
   "outputs": [
    {
     "ename": "TypeError",
     "evalue": "'tuple' object does not support item assignment",
     "output_type": "error",
     "traceback": [
      "\u001b[31m---------------------------------------------------------------------------\u001b[39m",
      "\u001b[31mTypeError\u001b[39m                                 Traceback (most recent call last)",
      "\u001b[36mCell\u001b[39m\u001b[36m \u001b[39m\u001b[32mIn[43]\u001b[39m\u001b[32m, line 1\u001b[39m\n\u001b[32m----> \u001b[39m\u001b[32m1\u001b[39m \u001b[43mtupla_ej\u001b[49m\u001b[43m[\u001b[49m\u001b[32;43m1\u001b[39;49m\u001b[43m]\u001b[49m = [\u001b[33m\"\u001b[39m\u001b[33mperas\u001b[39m\u001b[33m\"\u001b[39m, \u001b[33m\"\u001b[39m\u001b[33mmanzanas\u001b[39m\u001b[33m\"\u001b[39m] \u001b[38;5;66;03m# TypeError: 'tuple' object does not support item assignment\u001b[39;00m\n",
      "\u001b[31mTypeError\u001b[39m: 'tuple' object does not support item assignment"
     ]
    }
   ],
   "source": [
    "tupla_ej[1] = [\"peras\", \"manzanas\"] # TypeError: 'tuple' object does not support item assignment"
   ]
  },
  {
   "cell_type": "markdown",
   "id": "b0ea4681",
   "metadata": {},
   "source": [
    "# DICTS\n",
    "\n",
    "* colleciones de dif tipos con etiquetado\n",
    "* {`clave`: `valor`}\n",
    "    - **mutables**\n",
    "    - **desordenado**"
   ]
  },
  {
   "cell_type": "code",
   "execution_count": 1,
   "id": "ad753532",
   "metadata": {},
   "outputs": [],
   "source": [
    "dict_coche = {\n",
    "    \"color\":\"rojo\",\n",
    "    \"marca\":\"tesla\",\n",
    "    \"modelo\":\"cybertruck\",\n",
    "    \"peso\": 3500,\n",
    "    \"año\": 2025,\n",
    "    \"cambio auto\": True\n",
    "}"
   ]
  },
  {
   "cell_type": "code",
   "execution_count": 3,
   "id": "649ea30e",
   "metadata": {},
   "outputs": [
    {
     "data": {
      "text/plain": [
       "{'color': 'rojo',\n",
       " 'marca': 'tesla',\n",
       " 'modelo': 'cybertruck',\n",
       " 'peso': 3500,\n",
       " 'año': 2025,\n",
       " 'cambio auto': True}"
      ]
     },
     "execution_count": 3,
     "metadata": {},
     "output_type": "execute_result"
    }
   ],
   "source": [
    "(dict_coche)"
   ]
  },
  {
   "cell_type": "markdown",
   "id": "0f8034d9",
   "metadata": {},
   "source": [
    "## Acceso, modificación, añadir, eliminar"
   ]
  },
  {
   "cell_type": "markdown",
   "id": "41f57e77",
   "metadata": {},
   "source": [
    "* `acceso`"
   ]
  },
  {
   "cell_type": "code",
   "execution_count": 8,
   "id": "cc4c3bd1",
   "metadata": {},
   "outputs": [
    {
     "name": "stdout",
     "output_type": "stream",
     "text": [
      "rojo\n",
      "3500\n"
     ]
    },
    {
     "ename": "KeyError",
     "evalue": "'puertas'",
     "output_type": "error",
     "traceback": [
      "\u001b[31m---------------------------------------------------------------------------\u001b[39m",
      "\u001b[31mKeyError\u001b[39m                                  Traceback (most recent call last)",
      "\u001b[36mCell\u001b[39m\u001b[36m \u001b[39m\u001b[32mIn[8]\u001b[39m\u001b[32m, line 4\u001b[39m\n\u001b[32m      1\u001b[39m \u001b[38;5;28mprint\u001b[39m(dict_coche[\u001b[33m'\u001b[39m\u001b[33mcolor\u001b[39m\u001b[33m'\u001b[39m])\n\u001b[32m      2\u001b[39m \u001b[38;5;28mprint\u001b[39m(dict_coche[\u001b[33m'\u001b[39m\u001b[33mpeso\u001b[39m\u001b[33m'\u001b[39m])\n\u001b[32m----> \u001b[39m\u001b[32m4\u001b[39m \u001b[38;5;28mprint\u001b[39m(\u001b[43mdict_coche\u001b[49m\u001b[43m[\u001b[49m\u001b[33;43m'\u001b[39;49m\u001b[33;43mpuertas\u001b[39;49m\u001b[33;43m'\u001b[39;49m\u001b[43m]\u001b[49m)\n",
      "\u001b[31mKeyError\u001b[39m: 'puertas'"
     ]
    }
   ],
   "source": [
    "print(dict_coche['color'])\n",
    "print(dict_coche['peso'])\n",
    "\n",
    "print(dict_coche['puertas'])"
   ]
  },
  {
   "cell_type": "markdown",
   "id": "f438bc39",
   "metadata": {},
   "source": [
    "* `modif`"
   ]
  },
  {
   "cell_type": "code",
   "execution_count": 12,
   "id": "6b756d5a",
   "metadata": {},
   "outputs": [
    {
     "name": "stdout",
     "output_type": "stream",
     "text": [
      "['blanco nuclear', 'azul']\n",
      "{'color': ['blanco nuclear', 'azul'], 'marca': 'tesla', 'modelo': 'cybertruck', 'peso': 3500, 'año': 2025, 'cambio auto': True}\n"
     ]
    }
   ],
   "source": [
    "dict_coche['color'] = [\"blanco nuclear\", \"azul\"]\n",
    "print(dict_coche['color'])\n",
    "print(dict_coche)"
   ]
  },
  {
   "cell_type": "markdown",
   "id": "4e4f1779",
   "metadata": {},
   "source": [
    "* `añadir elemeento a un Dict`"
   ]
  },
  {
   "cell_type": "code",
   "execution_count": 14,
   "id": "670d3053",
   "metadata": {},
   "outputs": [
    {
     "name": "stdout",
     "output_type": "stream",
     "text": [
      "6\n"
     ]
    }
   ],
   "source": [
    "dict_coche[\"puertas\"] = 6\n",
    "print(dict_coche['puertas'])"
   ]
  },
  {
   "cell_type": "markdown",
   "id": "63861d76",
   "metadata": {},
   "source": [
    "* `eliminar`"
   ]
  },
  {
   "cell_type": "code",
   "execution_count": 15,
   "id": "5682a969",
   "metadata": {},
   "outputs": [
    {
     "data": {
      "text/plain": [
       "{'color': ['blanco nuclear', 'azul'],\n",
       " 'marca': 'tesla',\n",
       " 'modelo': 'cybertruck',\n",
       " 'peso': 3500,\n",
       " 'año': 2025,\n",
       " 'cambio auto': True}"
      ]
     },
     "execution_count": 15,
     "metadata": {},
     "output_type": "execute_result"
    }
   ],
   "source": [
    "del dict_coche['puertas']\n",
    "dict_coche"
   ]
  },
  {
   "cell_type": "markdown",
   "id": "7aa6dbf2",
   "metadata": {},
   "source": [
    "* `dict keys`"
   ]
  },
  {
   "cell_type": "code",
   "execution_count": 17,
   "id": "c015c4c6",
   "metadata": {},
   "outputs": [
    {
     "name": "stdout",
     "output_type": "stream",
     "text": [
      "dict_keys(['color', 'marca', 'modelo', 'peso', 'año', 'cambio auto'])\n"
     ]
    }
   ],
   "source": [
    "print(dict_coche.keys())"
   ]
  },
  {
   "cell_type": "markdown",
   "id": "21243507",
   "metadata": {},
   "source": [
    "* `dict values`"
   ]
  },
  {
   "cell_type": "code",
   "execution_count": 19,
   "id": "7a9d5656",
   "metadata": {},
   "outputs": [
    {
     "name": "stdout",
     "output_type": "stream",
     "text": [
      "dict_values([['blanco nuclear', 'azul'], 'tesla', 'cybertruck', 3500, 2025, True])\n"
     ]
    }
   ],
   "source": [
    "print(dict_coche.values())"
   ]
  },
  {
   "cell_type": "markdown",
   "id": "48524151",
   "metadata": {},
   "source": [
    "Más informatción: https://www.google.com/url?q=https%3A%2F%2Fwww.w3schools.com%2Fpython%2Fpython_ref_dictionary.asp"
   ]
  },
  {
   "cell_type": "markdown",
   "id": "da0d2473",
   "metadata": {},
   "source": [
    "* `init dict` mediante un dict vacio"
   ]
  },
  {
   "cell_type": "code",
   "execution_count": 20,
   "id": "c6cc9b9c",
   "metadata": {},
   "outputs": [],
   "source": [
    "tienda = {}"
   ]
  },
  {
   "cell_type": "markdown",
   "id": "f40bdefd",
   "metadata": {},
   "source": [
    "## Errores Dict\n",
    "\n",
    "* `KeyError`"
   ]
  },
  {
   "cell_type": "code",
   "execution_count": 21,
   "id": "812ccfd0",
   "metadata": {},
   "outputs": [
    {
     "ename": "KeyError",
     "evalue": "'puertas'",
     "output_type": "error",
     "traceback": [
      "\u001b[31m---------------------------------------------------------------------------\u001b[39m",
      "\u001b[31mKeyError\u001b[39m                                  Traceback (most recent call last)",
      "\u001b[36mCell\u001b[39m\u001b[36m \u001b[39m\u001b[32mIn[21]\u001b[39m\u001b[32m, line 1\u001b[39m\n\u001b[32m----> \u001b[39m\u001b[32m1\u001b[39m \u001b[43mdict_coche\u001b[49m\u001b[43m[\u001b[49m\u001b[33;43m'\u001b[39;49m\u001b[33;43mpuertas\u001b[39;49m\u001b[33;43m'\u001b[39;49m\u001b[43m]\u001b[49m\n",
      "\u001b[31mKeyError\u001b[39m: 'puertas'"
     ]
    }
   ],
   "source": [
    "dict_coche['puertas']"
   ]
  },
  {
   "cell_type": "code",
   "execution_count": 22,
   "id": "aaa12b46",
   "metadata": {},
   "outputs": [
    {
     "name": "stdout",
     "output_type": "stream",
     "text": [
      "no existe la llave 'puertas' en el diccionario\n"
     ]
    }
   ],
   "source": [
    "try:\n",
    "    dict_coche['puertas']\n",
    "except KeyError:\n",
    "    print(\"no existe la llave 'puertas' en el diccionario\")"
   ]
  },
  {
   "cell_type": "markdown",
   "id": "bec37f7d",
   "metadata": {},
   "source": [
    "**¿como solucionar?** `dict._get(clave, valor si no existe)_`"
   ]
  },
  {
   "cell_type": "code",
   "execution_count": null,
   "id": "871185bd",
   "metadata": {},
   "outputs": [
    {
     "data": {
      "text/plain": [
       "'tesla'"
      ]
     },
     "execution_count": 26,
     "metadata": {},
     "output_type": "execute_result"
    }
   ],
   "source": [
    "lookup_key = 'puertas'\n",
    "dict_coche.get(lookup_key, f\"no existe la llave '{lookup_key}' en el diccionario\")"
   ]
  },
  {
   "cell_type": "code",
   "execution_count": 25,
   "id": "df4f6b33",
   "metadata": {},
   "outputs": [
    {
     "name": "stdout",
     "output_type": "stream",
     "text": [
      "0\n"
     ]
    }
   ],
   "source": [
    "n_puertas = dict_coche.get('puertas', 0)\n",
    "print(n_puertas)"
   ]
  },
  {
   "cell_type": "code",
   "execution_count": 27,
   "id": "27a562c8",
   "metadata": {},
   "outputs": [
    {
     "data": {
      "text/plain": [
       "'tesla'"
      ]
     },
     "execution_count": 27,
     "metadata": {},
     "output_type": "execute_result"
    }
   ],
   "source": [
    "lookup_key = 'marca'\n",
    "dict_coche.get(lookup_key, \"desconocida\")"
   ]
  },
  {
   "cell_type": "markdown",
   "id": "55375235",
   "metadata": {},
   "source": [
    "* `iterar`"
   ]
  },
  {
   "cell_type": "code",
   "execution_count": 31,
   "id": "13cd7906",
   "metadata": {},
   "outputs": [
    {
     "name": "stdout",
     "output_type": "stream",
     "text": [
      "color : ['blanco nuclear', 'azul']\n",
      "marca : tesla\n",
      "modelo : cybertruck\n",
      "peso : 3500\n",
      "año : 2025\n",
      "cambio auto : True\n"
     ]
    }
   ],
   "source": [
    "for i in dict_coche:\n",
    "    print(i, \":\", end=\" \")\n",
    "    print(dict_coche[i])\n",
    "    # print(i, \":\", dict_coche[i])"
   ]
  },
  {
   "cell_type": "code",
   "execution_count": null,
   "id": "d7ee7e09",
   "metadata": {},
   "outputs": [
    {
     "data": {
      "text/plain": [
       "dict_items([('color', ['blanco nuclear', 'azul']), ('marca', 'tesla'), ('modelo', 'cybertruck'), ('peso', 3500), ('año', 2025), ('cambio auto', True)])"
      ]
     },
     "execution_count": 33,
     "metadata": {},
     "output_type": "execute_result"
    }
   ],
   "source": [
    "dict_coche.items() # clave valor"
   ]
  },
  {
   "cell_type": "code",
   "execution_count": 34,
   "id": "273f391d",
   "metadata": {},
   "outputs": [
    {
     "name": "stdout",
     "output_type": "stream",
     "text": [
      "color : ['blanco nuclear', 'azul']\n",
      "marca : tesla\n",
      "modelo : cybertruck\n",
      "peso : 3500\n",
      "año : 2025\n",
      "cambio auto : True\n"
     ]
    }
   ],
   "source": [
    "for k, v in dict_coche.items():\n",
    "    print(k, \":\", v)"
   ]
  }
 ],
 "metadata": {
  "kernelspec": {
   "display_name": "Python 3",
   "language": "python",
   "name": "python3"
  },
  "language_info": {
   "codemirror_mode": {
    "name": "ipython",
    "version": 3
   },
   "file_extension": ".py",
   "mimetype": "text/x-python",
   "name": "python",
   "nbconvert_exporter": "python",
   "pygments_lexer": "ipython3",
   "version": "3.11.4"
  }
 },
 "nbformat": 4,
 "nbformat_minor": 5
}
