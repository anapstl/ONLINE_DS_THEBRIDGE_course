{
 "cells": [
  {
   "cell_type": "markdown",
   "id": "d2bb6020-42f1-449c-8dfd-7b9cc13b0073",
   "metadata": {},
   "source": [
    "# Python basics I: variables"
   ]
  },
  {
   "cell_type": "markdown",
   "id": "bc2b56e8-571e-4c9a-afd5-31f8a8f2d547",
   "metadata": {},
   "source": [
    "https://colab.research.google.com/drive/1p5gt9tYvzREz_ZpB_HUfUoJPRced1hrN"
   ]
  },
  {
   "cell_type": "markdown",
   "id": "277c7604-b9d4-4ce7-a8fe-14d260177488",
   "metadata": {},
   "source": [
    "##  Variables númericas"
   ]
  },
  {
   "cell_type": "code",
   "execution_count": 3,
   "id": "db44fc03-2fc1-4251-adc6-73fda8554270",
   "metadata": {},
   "outputs": [],
   "source": [
    "# asignación\n",
    "ingresos = 1000\n",
    "gastos = 400"
   ]
  },
  {
   "cell_type": "code",
   "execution_count": 4,
   "id": "c87c485b-e61f-4559-a55f-32f202d9f91c",
   "metadata": {},
   "outputs": [
    {
     "data": {
      "text/plain": [
       "1000"
      ]
     },
     "execution_count": 4,
     "metadata": {},
     "output_type": "execute_result"
    }
   ],
   "source": [
    "ingresos"
   ]
  },
  {
   "cell_type": "code",
   "execution_count": 5,
   "id": "15423535-b857-45ea-9539-35991c91b3bc",
   "metadata": {},
   "outputs": [
    {
     "data": {
      "text/plain": [
       "400"
      ]
     },
     "execution_count": 5,
     "metadata": {},
     "output_type": "execute_result"
    }
   ],
   "source": [
    "# imprime el valor de la última variable\n",
    "ingresos\n",
    "gastos"
   ]
  },
  {
   "cell_type": "code",
   "execution_count": 6,
   "id": "471b9f65-e13d-42df-a256-c62e35680b68",
   "metadata": {},
   "outputs": [
    {
     "name": "stdout",
     "output_type": "stream",
     "text": [
      "1000\n",
      "400\n"
     ]
    }
   ],
   "source": [
    "print(ingresos)\n",
    "print(gastos)"
   ]
  },
  {
   "cell_type": "code",
   "execution_count": 9,
   "id": "ffc4d936-5d9a-4ad1-989e-df3db986e6a2",
   "metadata": {},
   "outputs": [
    {
     "data": {
      "text/plain": [
       "600"
      ]
     },
     "execution_count": 9,
     "metadata": {},
     "output_type": "execute_result"
    }
   ],
   "source": [
    "margen = ingresos - gastos\n",
    "margen"
   ]
  },
  {
   "cell_type": "code",
   "execution_count": 10,
   "id": "7524161d-e671-438f-b1cb-c76626da6620",
   "metadata": {},
   "outputs": [
    {
     "name": "stdout",
     "output_type": "stream",
     "text": [
      "600\n"
     ]
    }
   ],
   "source": [
    "print(margen)"
   ]
  },
  {
   "cell_type": "markdown",
   "id": "048d1ead-6cb7-4372-b8ee-ba4f835210af",
   "metadata": {},
   "source": [
    "## Cadenas de texto"
   ]
  },
  {
   "cell_type": "code",
   "execution_count": 13,
   "id": "394d8377-49c2-48a6-ba5a-a665631d5d40",
   "metadata": {},
   "outputs": [
    {
     "name": "stdout",
     "output_type": "stream",
     "text": [
      "Los ingresos han sido altos ; Los ingresos han sido altos\n"
     ]
    }
   ],
   "source": [
    "ingresos_text = \"Los ingresos han sido altos\"\n",
    "ingresos_alt = 'Los ingresos han sido altos'\n",
    "print(ingresos_text,\";\", ingresos_alt)"
   ]
  },
  {
   "cell_type": "code",
   "execution_count": 14,
   "id": "f6445ec3-09ad-42d6-be87-b9975f4a351f",
   "metadata": {},
   "outputs": [
    {
     "data": {
      "text/plain": [
       "\"Los 'ingresos' han sido altos\""
      ]
     },
     "execution_count": 14,
     "metadata": {},
     "output_type": "execute_result"
    }
   ],
   "source": [
    "ingresos_text = \"Los 'ingresos' han sido altos\"\n",
    "ingresos_text"
   ]
  },
  {
   "cell_type": "code",
   "execution_count": 19,
   "id": "253ee934-8f60-45ec-884a-18ad927ec01f",
   "metadata": {},
   "outputs": [
    {
     "ename": "SyntaxError",
     "evalue": "invalid syntax (2628728648.py, line 3)",
     "output_type": "error",
     "traceback": [
      "  \u001b[36mCell\u001b[39m\u001b[36m \u001b[39m\u001b[32mIn[19]\u001b[39m\u001b[32m, line 3\u001b[39m\n\u001b[31m    \u001b[39m\u001b[31mingresos text = \"esto da error\"\u001b[39m\n             ^\n\u001b[31mSyntaxError\u001b[39m\u001b[31m:\u001b[39m invalid syntax\n"
     ]
    }
   ],
   "source": [
    "ingresos=1000\n",
    "ingresos = 1000\n",
    "ingresos text = \"esto da error\""
   ]
  },
  {
   "cell_type": "code",
   "execution_count": 17,
   "id": "841977ea-c80d-4036-acac-a0ac3527de61",
   "metadata": {},
   "outputs": [
    {
     "ename": "SyntaxError",
     "evalue": "invalid syntax (3585657470.py, line 1)",
     "output_type": "error",
     "traceback": [
      "  \u001b[36mCell\u001b[39m\u001b[36m \u001b[39m\u001b[32mIn[17]\u001b[39m\u001b[32m, line 1\u001b[39m\n\u001b[31m    \u001b[39m\u001b[31mingresos_text = \"los \"ingresos\" han sido altos\" # error invalido syntaxis, mal uso de las dobles comillas\u001b[39m\n                          ^\n\u001b[31mSyntaxError\u001b[39m\u001b[31m:\u001b[39m invalid syntax\n"
     ]
    }
   ],
   "source": [
    "ingresos_text = \"los \"ingresos\" han sido altos\" # error invalido syntaxis, mal uso de las dobles comillas"
   ]
  },
  {
   "cell_type": "code",
   "execution_count": 21,
   "id": "8a4772a3-703f-4880-856f-e2994ce9e5f8",
   "metadata": {},
   "outputs": [
    {
     "name": "stdout",
     "output_type": "stream",
     "text": [
      "200\n"
     ]
    }
   ],
   "source": [
    "# reasignar gastos\n",
    "\n",
    "gastos = 200\n",
    "print(gastos)"
   ]
  },
  {
   "cell_type": "code",
   "execution_count": 22,
   "id": "4ec60449-a1fa-436f-9add-7804f1013f9f",
   "metadata": {},
   "outputs": [],
   "source": [
    "gastos = 100"
   ]
  },
  {
   "cell_type": "code",
   "execution_count": 23,
   "id": "e68317c6-fb05-43a9-8275-8dc97f9e14b7",
   "metadata": {},
   "outputs": [],
   "source": [
    "beneficios = ingresos - gastos"
   ]
  },
  {
   "cell_type": "code",
   "execution_count": 24,
   "id": "2a7a15bd-6ae2-423f-8483-dec9dab881b6",
   "metadata": {},
   "outputs": [
    {
     "name": "stdout",
     "output_type": "stream",
     "text": [
      "900\n"
     ]
    }
   ],
   "source": [
    "print(beneficios)"
   ]
  },
  {
   "cell_type": "markdown",
   "id": "051595a8-90fd-4a48-be6f-c1a9692cbe73",
   "metadata": {},
   "source": [
    "## Errores típicos en variables"
   ]
  },
  {
   "cell_type": "markdown",
   "id": "ad5b46b9-447d-497f-aa4e-d6c3a3f04497",
   "metadata": {},
   "source": [
    "### escribir mal el nombre"
   ]
  },
  {
   "cell_type": "code",
   "execution_count": 26,
   "id": "6ec93f5a-3284-4f3e-ae45-8b6b2d48914d",
   "metadata": {},
   "outputs": [
    {
     "ename": "NameError",
     "evalue": "name 'gatos' is not defined",
     "output_type": "error",
     "traceback": [
      "\u001b[31m---------------------------------------------------------------------------\u001b[39m",
      "\u001b[31mNameError\u001b[39m                                 Traceback (most recent call last)",
      "\u001b[36mCell\u001b[39m\u001b[36m \u001b[39m\u001b[32mIn[26]\u001b[39m\u001b[32m, line 1\u001b[39m\n\u001b[32m----> \u001b[39m\u001b[32m1\u001b[39m \u001b[43mgatos\u001b[49m\n",
      "\u001b[31mNameError\u001b[39m: name 'gatos' is not defined"
     ]
    }
   ],
   "source": [
    "gatos"
   ]
  },
  {
   "cell_type": "markdown",
   "id": "7b2e120f-563a-4e11-842c-67ecc3bd806a",
   "metadata": {},
   "source": [
    "### cerrar bien los string"
   ]
  },
  {
   "cell_type": "code",
   "execution_count": 27,
   "id": "28d37870-19ae-43b6-a5f8-9f66abf66a6d",
   "metadata": {},
   "outputs": [
    {
     "ename": "SyntaxError",
     "evalue": "unterminated string literal (detected at line 1) (1483135910.py, line 1)",
     "output_type": "error",
     "traceback": [
      "  \u001b[36mCell\u001b[39m\u001b[36m \u001b[39m\u001b[32mIn[27]\u001b[39m\u001b[32m, line 1\u001b[39m\n\u001b[31m    \u001b[39m\u001b[31mtexto = \"error sin comillas\u001b[39m\n            ^\n\u001b[31mSyntaxError\u001b[39m\u001b[31m:\u001b[39m unterminated string literal (detected at line 1)\n"
     ]
    }
   ],
   "source": [
    "texto = \"error sin comillas\n",
    "texto"
   ]
  },
  {
   "cell_type": "markdown",
   "id": "604cdc01-0674-4087-9ab6-38370b2dab21",
   "metadata": {},
   "source": [
    "### NO espacios en los nombres de la variables"
   ]
  },
  {
   "cell_type": "code",
   "execution_count": 28,
   "id": "f38d8b3c-2fd4-434f-9b36-541f579f0a0a",
   "metadata": {},
   "outputs": [
    {
     "ename": "SyntaxError",
     "evalue": "invalid syntax (1038665322.py, line 1)",
     "output_type": "error",
     "traceback": [
      "  \u001b[36mCell\u001b[39m\u001b[36m \u001b[39m\u001b[32mIn[28]\u001b[39m\u001b[32m, line 1\u001b[39m\n\u001b[31m    \u001b[39m\u001b[31mnombre sin espacios = \"error\"\u001b[39m\n           ^\n\u001b[31mSyntaxError\u001b[39m\u001b[31m:\u001b[39m invalid syntax\n"
     ]
    }
   ],
   "source": [
    "nombre sin espacios = \"error\"\n",
    "nombre sin espacios"
   ]
  },
  {
   "cell_type": "markdown",
   "id": "7c13790e-bc5c-4c01-b357-532b92c0ab20",
   "metadata": {},
   "source": [
    "### Números en el nombre de la variable (al principio de la cadena)"
   ]
  },
  {
   "cell_type": "code",
   "execution_count": 32,
   "id": "43a8c0a4-3b83-4922-baad-5f1ec554aeef",
   "metadata": {},
   "outputs": [],
   "source": [
    "ingresos2009 = 0"
   ]
  },
  {
   "cell_type": "code",
   "execution_count": 33,
   "id": "d2239114-3ecf-40cd-bf7d-5067eca37501",
   "metadata": {},
   "outputs": [
    {
     "ename": "SyntaxError",
     "evalue": "invalid decimal literal (176038607.py, line 1)",
     "output_type": "error",
     "traceback": [
      "  \u001b[36mCell\u001b[39m\u001b[36m \u001b[39m\u001b[32mIn[33]\u001b[39m\u001b[32m, line 1\u001b[39m\n\u001b[31m    \u001b[39m\u001b[31m2009_ingresos\u001b[39m\n        ^\n\u001b[31mSyntaxError\u001b[39m\u001b[31m:\u001b[39m invalid decimal literal\n"
     ]
    }
   ],
   "source": [
    "2009_ingresos"
   ]
  },
  {
   "cell_type": "markdown",
   "id": "b590ac2f-539f-4af0-a96e-2d7bed0b97ae",
   "metadata": {},
   "source": [
    "### Sensible a mayusculas/minus - case sensitive"
   ]
  },
  {
   "cell_type": "code",
   "execution_count": 34,
   "id": "77b4dc03-9066-47f3-a284-918b62a99443",
   "metadata": {},
   "outputs": [
    {
     "ename": "NameError",
     "evalue": "name 'Ingresos2009' is not defined",
     "output_type": "error",
     "traceback": [
      "\u001b[31m---------------------------------------------------------------------------\u001b[39m",
      "\u001b[31mNameError\u001b[39m                                 Traceback (most recent call last)",
      "\u001b[36mCell\u001b[39m\u001b[36m \u001b[39m\u001b[32mIn[34]\u001b[39m\u001b[32m, line 1\u001b[39m\n\u001b[32m----> \u001b[39m\u001b[32m1\u001b[39m \u001b[38;5;28mprint\u001b[39m(\u001b[43mIngresos2009\u001b[49m)\n",
      "\u001b[31mNameError\u001b[39m: name 'Ingresos2009' is not defined"
     ]
    }
   ],
   "source": [
    "print(Ingresos2009)"
   ]
  },
  {
   "cell_type": "markdown",
   "id": "d012e6ee-f0b9-475f-8d29-f164e00ffbc9",
   "metadata": {},
   "source": [
    "### Palabras reservadas "
   ]
  },
  {
   "cell_type": "markdown",
   "id": "e04381e1-c591-4575-8702-516f70a2926e",
   "metadata": {},
   "source": [
    "`def`"
   ]
  },
  {
   "cell_type": "code",
   "execution_count": 35,
   "id": "8f8ad7cf-83b4-4dc0-815f-0c8606ba8dcd",
   "metadata": {},
   "outputs": [
    {
     "ename": "SyntaxError",
     "evalue": "invalid syntax (3594483855.py, line 1)",
     "output_type": "error",
     "traceback": [
      "  \u001b[36mCell\u001b[39m\u001b[36m \u001b[39m\u001b[32mIn[35]\u001b[39m\u001b[32m, line 1\u001b[39m\n\u001b[31m    \u001b[39m\u001b[31mdef = 10\u001b[39m\n        ^\n\u001b[31mSyntaxError\u001b[39m\u001b[31m:\u001b[39m invalid syntax\n"
     ]
    }
   ],
   "source": [
    "def = 10"
   ]
  },
  {
   "cell_type": "markdown",
   "id": "c4623a4b-7bb5-408b-bf4f-cf72c1292a57",
   "metadata": {},
   "source": [
    "palabras reservadas "
   ]
  },
  {
   "cell_type": "code",
   "execution_count": 36,
   "id": "be7877a3-3f65-4b94-a8f6-739d55960f3a",
   "metadata": {},
   "outputs": [
    {
     "name": "stdout",
     "output_type": "stream",
     "text": [
      "['False', 'None', 'True', 'and', 'as', 'assert', 'async', 'await', 'break', 'class', 'continue', 'def', 'del', 'elif', 'else', 'except', 'finally', 'for', 'from', 'global', 'if', 'import', 'in', 'is', 'lambda', 'nonlocal', 'not', 'or', 'pass', 'raise', 'return', 'try', 'while', 'with', 'yield']\n"
     ]
    }
   ],
   "source": [
    "import keyword\n",
    "print(keyword.kwlist)"
   ]
  },
  {
   "cell_type": "code",
   "execution_count": null,
   "id": "6f007f4a-d923-4fec-bf3b-bcd28450a375",
   "metadata": {},
   "outputs": [],
   "source": []
  },
  {
   "cell_type": "code",
   "execution_count": 41,
   "id": "5e7e122a-c96e-4150-8428-258d310b22a3",
   "metadata": {},
   "outputs": [
    {
     "name": "stdout",
     "output_type": "stream",
     "text": [
      "\n",
      "Here is a list of the Python keywords.  Enter any keyword to get more help.\n",
      "\n",
      "False               class               from                or\n",
      "None                continue            global              pass\n",
      "True                def                 if                  raise\n",
      "and                 del                 import              return\n",
      "as                  elif                in                  try\n",
      "assert              else                is                  while\n",
      "async               except              lambda              with\n",
      "await               finally             nonlocal            yield\n",
      "break               for                 not                 \n",
      "\n"
     ]
    }
   ],
   "source": [
    "help(\"keywords\")"
   ]
  },
  {
   "cell_type": "markdown",
   "id": "5dbc28b8-0bdc-4917-b4c4-a336dbb9d4f6",
   "metadata": {},
   "source": [
    "### Resumen variables"
   ]
  },
  {
   "cell_type": "markdown",
   "id": "da46b168-c08f-4648-8f05-30d8a08efcdd",
   "metadata": {},
   "source": [
    "* usar minus, `case sensitive`\n",
    "* sin espacios\n",
    "* no palabras reservadas\n",
    "* no numeros al principio de la variables\n",
    "* cuidado con l y 1, o y 0"
   ]
  }
 ],
 "metadata": {
  "kernelspec": {
   "display_name": "Python 3 (ipykernel)",
   "language": "python",
   "name": "python3"
  },
  "language_info": {
   "codemirror_mode": {
    "name": "ipython",
    "version": 3
   },
   "file_extension": ".py",
   "mimetype": "text/x-python",
   "name": "python",
   "nbconvert_exporter": "python",
   "pygments_lexer": "ipython3",
   "version": "3.13.2"
  }
 },
 "nbformat": 4,
 "nbformat_minor": 5
}
