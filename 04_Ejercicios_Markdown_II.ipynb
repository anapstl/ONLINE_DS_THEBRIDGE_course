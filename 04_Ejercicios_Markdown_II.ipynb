{
 "cells": [
  {
   "cell_type": "markdown",
   "id": "c49ba49d",
   "metadata": {
    "id": "c49ba49d",
    "jupyter": {
     "source_hidden": true
    }
   },
   "source": [
    "<img src=\"./img/TheBridge_logo_RGB_color.jpg\" width = 500>"
   ]
  },
  {
   "cell_type": "markdown",
   "id": "175eedb2-1358-4004-b14b-a7bbe9b66ecd",
   "metadata": {
    "id": "c49ba49d"
   },
   "source": [
    "<img src=\"./img/logo.png\" width = 500>"
   ]
  },
  {
   "cell_type": "markdown",
   "id": "22ff8a1a",
   "metadata": {
    "id": "22ff8a1a"
   },
   "source": [
    "# EJERCICIOS MARKDOWN (II)"
   ]
  },
  {
   "cell_type": "markdown",
   "id": "d626df26",
   "metadata": {
    "id": "d626df26"
   },
   "source": [
    "Aquí tienes cinco sencillos ejercicios para practicar lo aprendido en la segundasesión de Markdown. Como en el anterior, utiliza las celdas que hay debajo dec cada enunciado y recuerda convertirlas a Markdown primero ;-)\n",
    "\n",
    "Si algunos ejercicios no los entiendes de primeras, dales una vuelta, busca pistas, busca en Internet... pero todavía no le preguntes a ChatGPT... Recuerda con dudas teóricas corre a preguntar, con los ejercicios exprimete antes de preguntar."
   ]
  },
  {
   "cell_type": "markdown",
   "id": "b2efd92f",
   "metadata": {
    "id": "b2efd92f"
   },
   "source": [
    "### Ejercicio 6: Listas\n",
    "Crea una lista no ordenada con los siguientes elementos:\n",
    "\n",
    "1. Manzanas\n",
    "2. Plátanos\n",
    "3. Uvas"
   ]
  },
  {
   "cell_type": "markdown",
   "id": "nFRwS0cPAR5b",
   "metadata": {
    "id": "nFRwS0cPAR5b"
   },
   "source": [
    "* Manzanas\n",
    "+ Plátanos\n",
    "- Uvas"
   ]
  },
  {
   "cell_type": "markdown",
   "id": "FiN9LMIwmk0F",
   "metadata": {
    "id": "FiN9LMIwmk0F"
   },
   "source": [
    "* Manzanas  \n",
    "+ Plátanos  \n",
    "- Uvas"
   ]
  },
  {
   "cell_type": "markdown",
   "id": "61911878-6877-4e6f-a77f-dc72ba8c925c",
   "metadata": {},
   "source": [
    "***  \n",
    "Ana  \n",
    "\n",
    "Al usar `+` y `-` se obtienen listas con mas/menos espacio interlineado. Si se usa solo `*`\n",
    "* Manzanas  \n",
    "* Plátanos  \n",
    "* Uvas"
   ]
  },
  {
   "cell_type": "markdown",
   "id": "c8c2ff80",
   "metadata": {
    "id": "c8c2ff80"
   },
   "source": [
    "[Google](https://www.google.es)  \n",
    "[subir](#-EJERCICIOS-MARKDOWN-(II))  \n",
    "Crea ahora una lista ordenada de 1 a 3 y que además lo esté alfabéticamente con estos elementos:\n",
    "\n",
    "    * Arbol binario\n",
    "    * Random Forest\n",
    "    * Regresión Logística"
   ]
  },
  {
   "cell_type": "markdown",
   "id": "BCfkq7eMBmrt",
   "metadata": {
    "id": "BCfkq7eMBmrt"
   },
   "source": [
    "1. Arbol binario\n",
    "2. Random Forest\n",
    "3. Regresión Logística"
   ]
  },
  {
   "cell_type": "markdown",
   "id": "ehuGTCRjmZE3",
   "metadata": {
    "id": "ehuGTCRjmZE3"
   },
   "source": [
    "1. Random Forest  \n",
    "2. Árbol Binario  \n",
    "3. Regresión Logística"
   ]
  },
  {
   "cell_type": "markdown",
   "id": "6fd4e2de-8142-4a17-80b9-c1ef2ad21e66",
   "metadata": {},
   "source": [
    "---   \n",
    "Ana  \n",
    "* 1a solución OK\n",
    "* 2a no está en orden alfabético"
   ]
  },
  {
   "cell_type": "markdown",
   "id": "2c65c04a",
   "metadata": {
    "id": "2c65c04a"
   },
   "source": [
    "### Ejercicio 7: Listas Anidadas\n",
    "Bajo el título \"Frutas y Verduras\", crea una lista ordenada de frutas, y dentro de esta, anida una lista no ordenada de tres frutas. Luego, crea otra lista ordenada de verduras y anida dentro de ella una lista no ordenada de tres verduras.\n",
    "\n",
    "Las listas anidadas no las hemos visto pero seguro que con esto te haces una idea, como con los subrayados en los ejercicios de la primera parte:\n",
    "1. El elemento con orden\n",
    "* Aquí sin orden\n",
    "2. El siguiente\n",
    "* Pico\n",
    "* Pala\n"
   ]
  },
  {
   "cell_type": "markdown",
   "id": "cPML7ys-EQqR",
   "metadata": {
    "id": "cPML7ys-EQqR",
    "jp-MarkdownHeadingCollapsed": true
   },
   "source": [
    "# Frutas y Verduras  \n",
    "1. Frutas:  \n",
    "  1.1. Ácidas \n",
    "    * Limón\n",
    "    + Fresa\n",
    "    - Naranja  \n",
    "  1.2. Dulces\n",
    "    * Banano\n",
    "    + Cereza\n",
    "    - Melón\n",
    "\n",
    "3. Verduras:  \n",
    "  2.1. Hoja\n",
    "    * Acelga\n",
    "    + Espinaca\n",
    "    - Lechuga  \n",
    "  2.2. Fruto\n",
    "    * Berengena\n",
    "    + Pepino\n",
    "    - Tomate\n",
    "\n",
    "\n"
   ]
  },
  {
   "cell_type": "markdown",
   "id": "8e79caa7-6b6a-4b83-bc80-55bb09918379",
   "metadata": {
    "id": "AI8qyPqOTM6f"
   },
   "source": [
    "# Frutas y Verduras\n",
    "\n",
    "1. Frutas  \n",
    "  + 1.1 Ácidas\n",
    "    * Limón\n",
    "    + Fresa\n",
    "    - Naranja  \n",
    "  + 1.2 Dulces  \n",
    "    * Banano\n",
    "    + Cereza\n",
    "    - Melón\n",
    "2. Verduras  \n",
    "  + 2.1. Hoja\n",
    "    * Acelga\n",
    "    + Espinaca\n",
    "    - Lechuga  \n",
    "  + 2.2. Fruto\n",
    "    * Berenjena\n",
    "    + Pepino\n",
    "    - Tomate"
   ]
  },
  {
   "cell_type": "markdown",
   "id": "6b5fa6cb-4d4c-4617-84d7-c44ef17122b5",
   "metadata": {},
   "source": [
    "`Ana`\n",
    "# Frutas y Verduras\n",
    "\n",
    "1. Frutas  \n",
    "    * Limón\n",
    "    * Fresa\n",
    "    * Naranja  \n",
    "2. Verduras  \n",
    "    * Acelga\n",
    "    * Espinaca\n",
    "    * Lechuga  "
   ]
  },
  {
   "cell_type": "markdown",
   "id": "e224fbf7",
   "metadata": {
    "id": "e224fbf7"
   },
   "source": [
    "### Ejercicio 8: Enlaces e Imágenes\n",
    "Inserta:\n",
    "\n",
    "1. Un enlace que lleve a \"www.thebridge.com\" con el texto \"Por aquí se cruzan puentes\".\n",
    "2. Una imagen de cualquier URL con el texto alternativo \"Logo\". Recuerda que puedes hacerlo referenciando la imagen a través de su ruta en tu ordenador, o bien incrustandola en el notebook\n"
   ]
  },
  {
   "cell_type": "markdown",
   "id": "db11y8CZaEud",
   "metadata": {
    "id": "db11y8CZaEud"
   },
   "source": [
    "* incrustado en el notebook  \n",
    "[Por aquí se cruzan puentes](www.thebridge.com)  \n",
    "![Logo](data:image/png;base64,iVBORw0KGgoAAAANSUhEUgAAACwAAAAuCAYAAABTTPsKAAAAAXNSR0IArs4c6QAAAVVJREFUaAXtmT1uwkAQRn0EjuAjgJeCzpMDpCcdBaL2CUB0tKmiVChXoEnJEXKEdNBgRoAQokATDbYTa7VLJCLHAxpLI+Mf2c/P3y6WJghKCzahgeZhiAbmaADRANVcH6mJn7EJYQkz+4ltADTwWTOgTxCmESTf0Dms72Qx+8/QrFuwWVsWBqsIekJjYMOet4N8gDkPSnwQBr4ZWGZV4KrfmBpWw9akoJHQSGgkLAMaCUuIzhIaibuOxPapT/vR5N9rN0i83+gXB93hdUp1LMfZuwJXKl4NV6qXiNTwzRrePHbp2jotlt7nriwSf/luUGC299s/nRrOU60ZLoa3RuJeI+HtHImcJdJWPPZlUSRw1kx0NxFFAnOzDiNIXJblAcfjn+aiA1oWcAm2oOYm49rEbxhlEakdOOOYc6e2YPSusQPh4WUaEpG3+Jxr69J1+b58XRfcFyIVSYDqQtpBAAAAAElFTkSuQmCC)"
   ]
  },
  {
   "cell_type": "markdown",
   "id": "GBxM19jfaDsD",
   "metadata": {
    "id": "GBxM19jfaDsD"
   },
   "source": [
    "* Referenciando una img de la carpeta img:  \n",
    "    [Por aquí se cruzan puentes](www.thebridge.com).  \n",
    "\n",
    "\n",
    "    ![Logo](./img/logo.png)"
   ]
  },
  {
   "cell_type": "markdown",
   "id": "0xSJfqA4IY5h",
   "metadata": {
    "id": "0xSJfqA4IY5h"
   },
   "source": [
    "* Incrustado Html:\n",
    "\n",
    "    [Por aquí se cruzan puentes](www.thebridge.com).  \n",
    "\n",
    "    <img src=\"./img/logo.png\" alt=\"Logo\" width=\"200\">"
   ]
  },
  {
   "cell_type": "markdown",
   "id": "7cc0cd41-aedd-4ea7-94a0-ed7646ae8c90",
   "metadata": {
    "id": "0xSJfqA4IY5h"
   },
   "source": [
    "* referenciado a través de una URL  \n",
    "    [Por aquí se cruzan puentes](www.thebridge.com).  \n",
    "\n",
    "    ![Logo](https://campusvirtual.thebridge.tech/pluginfile.php/1/core_admin/logocompact/300x300/1734003960/logo.png)"
   ]
  },
  {
   "cell_type": "markdown",
   "id": "94e48fe3",
   "metadata": {
    "id": "94e48fe3"
   },
   "source": [
    "### Ejercicio 9: Líneas Horizontales y Bloques de Código\n",
    "Inserta:\n",
    "\n",
    "1. Un bloque de código en Python que imprima \"Hola Mundo\" (pista: print(\"Hola Mundo\")) entre dos líneas horizontales, cada una creada con un método diferente."
   ]
  },
  {
   "cell_type": "markdown",
   "id": "_t9Olq2GLULt",
   "metadata": {
    "id": "_t9Olq2GLULt"
   },
   "source": [
    "***"
   ]
  },
  {
   "cell_type": "code",
   "execution_count": 1,
   "id": "64W8ZshBLWU3",
   "metadata": {
    "id": "64W8ZshBLWU3"
   },
   "outputs": [
    {
     "name": "stdout",
     "output_type": "stream",
     "text": [
      "Hola Mundo\n"
     ]
    }
   ],
   "source": [
    "print(\"Hola Mundo\")"
   ]
  },
  {
   "cell_type": "markdown",
   "id": "qogO5U51Lcmm",
   "metadata": {
    "id": "qogO5U51Lcmm"
   },
   "source": [
    "---"
   ]
  },
  {
   "cell_type": "code",
   "execution_count": 3,
   "id": "ee8bb88e-27ea-4b28-ae0d-cd14a15e837f",
   "metadata": {},
   "outputs": [
    {
     "name": "stdout",
     "output_type": "stream",
     "text": [
      "Hola Mundo\n"
     ]
    }
   ],
   "source": [
    "print(\"Hola Mundo\")"
   ]
  },
  {
   "cell_type": "markdown",
   "id": "1b46255b-b877-4fde-8e7b-5e45e2ea725d",
   "metadata": {},
   "source": [
    "___"
   ]
  }
 ],
 "metadata": {
  "colab": {
   "provenance": []
  },
  "kernelspec": {
   "display_name": "Python 3 (ipykernel)",
   "language": "python",
   "name": "python3"
  },
  "language_info": {
   "codemirror_mode": {
    "name": "ipython",
    "version": 3
   },
   "file_extension": ".py",
   "mimetype": "text/x-python",
   "name": "python",
   "nbconvert_exporter": "python",
   "pygments_lexer": "ipython3",
   "version": "3.13.2"
  }
 },
 "nbformat": 4,
 "nbformat_minor": 5
}
