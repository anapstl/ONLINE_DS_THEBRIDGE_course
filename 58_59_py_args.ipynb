{
 "cells": [
  {
   "cell_type": "markdown",
   "id": "26dbe870",
   "metadata": {},
   "source": [
    "# Args posicionales & variables\n",
    "\n",
    "URL: \n",
    "* https://colab.research.google.com/drive/1pUIkRmndSjGrSpGGxMyF5SQnrBO1VDCg\n",
    "* https://colab.research.google.com/drive/13huw3T3XLthi8OJXJLUbQe0Vc3GLBvZV"
   ]
  },
  {
   "cell_type": "markdown",
   "id": "65b073f8",
   "metadata": {},
   "source": [
    "## Intro\n",
    "\n",
    "* **orden** de los _args_ - `posicionales`\n",
    "* si los declaramos son **obligatorios**"
   ]
  },
  {
   "cell_type": "code",
   "execution_count": 3,
   "id": "473a90fa",
   "metadata": {},
   "outputs": [
    {
     "data": {
      "text/plain": [
       "10.0"
      ]
     },
     "execution_count": 3,
     "metadata": {},
     "output_type": "execute_result"
    }
   ],
   "source": [
    "def multiply(x1, x2, x3, x4):\n",
    "    \"\"\"\n",
    "    multiplicamos los tres primeros y el res lo\n",
    "    dividimos entre el cuarto\n",
    "    \"\"\"\n",
    "    resultado = (x1 * x2 * x3) / x4\n",
    "    return resultado\n",
    "\n",
    "multiply(3, 4, 5, 6)"
   ]
  },
  {
   "cell_type": "code",
   "execution_count": 5,
   "id": "1efb35ee",
   "metadata": {},
   "outputs": [
    {
     "data": {
      "text/plain": [
       "10.0"
      ]
     },
     "execution_count": 5,
     "metadata": {},
     "output_type": "execute_result"
    }
   ],
   "source": [
    "multiply(x1 = 3, x4 = 6, x3 = 5, x2 = 4)"
   ]
  },
  {
   "cell_type": "markdown",
   "id": "fa609439",
   "metadata": {},
   "source": [
    "### Errores"
   ]
  },
  {
   "cell_type": "code",
   "execution_count": 7,
   "id": "36c8bee4",
   "metadata": {},
   "outputs": [
    {
     "ename": "ZeroDivisionError",
     "evalue": "division by zero",
     "output_type": "error",
     "traceback": [
      "\u001b[31m---------------------------------------------------------------------------\u001b[39m",
      "\u001b[31mZeroDivisionError\u001b[39m                         Traceback (most recent call last)",
      "\u001b[36mCell\u001b[39m\u001b[36m \u001b[39m\u001b[32mIn[7]\u001b[39m\u001b[32m, line 1\u001b[39m\n\u001b[32m----> \u001b[39m\u001b[32m1\u001b[39m \u001b[43mmultiply\u001b[49m\u001b[43m(\u001b[49m\u001b[43mx4\u001b[49m\u001b[43m \u001b[49m\u001b[43m=\u001b[49m\u001b[43m \u001b[49m\u001b[32;43m0\u001b[39;49m\u001b[43m,\u001b[49m\u001b[43m \u001b[49m\u001b[43mx1\u001b[49m\u001b[43m \u001b[49m\u001b[43m=\u001b[49m\u001b[43m \u001b[49m\u001b[32;43m3\u001b[39;49m\u001b[43m,\u001b[49m\u001b[43m \u001b[49m\u001b[43mx2\u001b[49m\u001b[43m \u001b[49m\u001b[43m=\u001b[49m\u001b[43m \u001b[49m\u001b[32;43m5\u001b[39;49m\u001b[43m,\u001b[49m\u001b[43m \u001b[49m\u001b[43mx3\u001b[49m\u001b[43m \u001b[49m\u001b[43m=\u001b[49m\u001b[43m \u001b[49m\u001b[32;43m12\u001b[39;49m\u001b[43m)\u001b[49m\n",
      "\u001b[36mCell\u001b[39m\u001b[36m \u001b[39m\u001b[32mIn[3]\u001b[39m\u001b[32m, line 6\u001b[39m, in \u001b[36mmultiply\u001b[39m\u001b[34m(x1, x2, x3, x4)\u001b[39m\n\u001b[32m      1\u001b[39m \u001b[38;5;28;01mdef\u001b[39;00m\u001b[38;5;250m \u001b[39m\u001b[34mmultiply\u001b[39m(x1, x2, x3, x4):\n\u001b[32m      2\u001b[39m \u001b[38;5;250m    \u001b[39m\u001b[33;03m\"\"\"\u001b[39;00m\n\u001b[32m      3\u001b[39m \u001b[33;03m    multiplicamos los tres primeros y el res lo\u001b[39;00m\n\u001b[32m      4\u001b[39m \u001b[33;03m    dividimos entre el cuarto\u001b[39;00m\n\u001b[32m      5\u001b[39m \u001b[33;03m    \"\"\"\u001b[39;00m\n\u001b[32m----> \u001b[39m\u001b[32m6\u001b[39m     resultado = \u001b[43m(\u001b[49m\u001b[43mx1\u001b[49m\u001b[43m \u001b[49m\u001b[43m*\u001b[49m\u001b[43m \u001b[49m\u001b[43mx2\u001b[49m\u001b[43m \u001b[49m\u001b[43m*\u001b[49m\u001b[43m \u001b[49m\u001b[43mx3\u001b[49m\u001b[43m)\u001b[49m\u001b[43m \u001b[49m\u001b[43m/\u001b[49m\u001b[43m \u001b[49m\u001b[43mx4\u001b[49m\n\u001b[32m      7\u001b[39m     \u001b[38;5;28;01mreturn\u001b[39;00m resultado\n",
      "\u001b[31mZeroDivisionError\u001b[39m: division by zero"
     ]
    }
   ],
   "source": [
    "multiply(x4 = 0, x1 = 3, x2 = 5, x3 = 12)"
   ]
  },
  {
   "cell_type": "code",
   "execution_count": 10,
   "id": "2fe303ab",
   "metadata": {},
   "outputs": [
    {
     "name": "stdout",
     "output_type": "stream",
     "text": [
      "Error en la fct\n",
      "Error: division by zero\n"
     ]
    }
   ],
   "source": [
    "try:\n",
    "    multiply(x4 = 0, x1 = 3, x2 = 5, x3 = 12)\n",
    "except ZeroDivisionError as e:\n",
    "    print(\"Error en la fct\")\n",
    "    print(f\"Error: {e}\")"
   ]
  },
  {
   "cell_type": "markdown",
   "id": "9c059238",
   "metadata": {},
   "source": [
    "`gestión de excepciones`"
   ]
  },
  {
   "cell_type": "code",
   "execution_count": 11,
   "id": "832f3928",
   "metadata": {},
   "outputs": [
    {
     "data": {
      "text/plain": [
       "10.0"
      ]
     },
     "execution_count": 11,
     "metadata": {},
     "output_type": "execute_result"
    }
   ],
   "source": [
    "def multiply(x1, x2, x3, x4):\n",
    "    \"\"\"\n",
    "    multiplicamos los tres primeros y el res lo\n",
    "    dividimos entre el cuarto\n",
    "    \"\"\"\n",
    "    try:\n",
    "        resultado = (x1 * x2 * x3) / x4\n",
    "    except ZeroDivisionError as e:\n",
    "        print(\"Error en la fct\")\n",
    "        print(f\"Error: {e}\")\n",
    "        resultado = None\n",
    "    return resultado\n",
    "\n",
    "multiply(3, 4, 5, 6)"
   ]
  },
  {
   "cell_type": "code",
   "execution_count": 16,
   "id": "40b5c7d4",
   "metadata": {},
   "outputs": [
    {
     "data": {
      "text/plain": [
       "10.0"
      ]
     },
     "execution_count": 16,
     "metadata": {},
     "output_type": "execute_result"
    }
   ],
   "source": [
    "def multiply(x1, x2, x3, x4):\n",
    "    \"\"\"\n",
    "    multiplicamos los tres primeros y el res lo\n",
    "    dividimos entre el cuarto\n",
    "    \"\"\"\n",
    "    if x4 == 0:\n",
    "        print(\"Error en la ; arg x4 inválido\")\n",
    "    else:\n",
    "        resultado = (x1 * x2 * x3) / x4\n",
    "        return resultado\n",
    "\n",
    "multiply(3, 4, 5, 6)"
   ]
  },
  {
   "cell_type": "markdown",
   "id": "1f9ad544",
   "metadata": {},
   "source": [
    "## ***Args variables***"
   ]
  },
  {
   "cell_type": "markdown",
   "id": "14cefe70",
   "metadata": {},
   "source": [
    "* fct con un nº de _args_ no fijados\n",
    "\n",
    "flexibilidad a través del `*`"
   ]
  },
  {
   "cell_type": "code",
   "execution_count": 3,
   "id": "5fb99eb7",
   "metadata": {},
   "outputs": [
    {
     "name": "stdout",
     "output_type": "stream",
     "text": [
      "(2, 3, 5)\n",
      "<class 'tuple'>\n",
      "(1, 2, 4, 67, 4)\n",
      "<class 'tuple'>\n"
     ]
    }
   ],
   "source": [
    "def multiply(*argumentos):\n",
    "    print(argumentos)\n",
    "    print(type(argumentos))\n",
    "\n",
    "multiply(2, 3, 5)\n",
    "multiply(1, 2, 4, 67, 4)"
   ]
  },
  {
   "cell_type": "code",
   "execution_count": 5,
   "id": "7316942f",
   "metadata": {},
   "outputs": [
    {
     "name": "stdout",
     "output_type": "stream",
     "text": [
      "el resultado es:  30\n",
      "el resultado es:  264\n",
      "el resultado es:  1\n"
     ]
    },
    {
     "data": {
      "text/plain": [
       "1"
      ]
     },
     "execution_count": 5,
     "metadata": {},
     "output_type": "execute_result"
    }
   ],
   "source": [
    "def multiply(*args):\n",
    "    res = 1\n",
    "    for elem in args:\n",
    "        res *= elem\n",
    "    print(\"el resultado es: \", res)\n",
    "    return res\n",
    "\n",
    "multiply(2, 3, 5)\n",
    "multiply(22, 12)\n",
    "multiply()\n"
   ]
  },
  {
   "cell_type": "markdown",
   "id": "6a939e23",
   "metadata": {},
   "source": [
    "* `*args` es un iterable, más concreto una `tupla`\n",
    "* se puede acceder a través del `indice`"
   ]
  },
  {
   "cell_type": "code",
   "execution_count": 8,
   "id": "c52804c0",
   "metadata": {},
   "outputs": [
    {
     "name": "stdout",
     "output_type": "stream",
     "text": [
      "el siguiente elem es 3\n",
      "el siguiente elem es 5\n",
      "el siguiente elem es None\n",
      "el resultado es:  30\n",
      "el siguiente elem es 12\n",
      "el siguiente elem es None\n",
      "el resultado es:  264\n",
      "el resultado es:  1\n"
     ]
    },
    {
     "data": {
      "text/plain": [
       "1"
      ]
     },
     "execution_count": 8,
     "metadata": {},
     "output_type": "execute_result"
    }
   ],
   "source": [
    "def multiply(*args):\n",
    "    res = 1\n",
    "    for elem in args:\n",
    "        # puedo acceder al siguiente elemento de la siguiente forma:\n",
    "        # print(\"el siguiente elem es\", args[args.index(elem) + 1])\n",
    "        # o de esta forma:\n",
    "        print(\"el siguiente elem es\", args[args.index(elem) + 1] if args.index(elem) + 1 < len(args) else None)\n",
    "        res *= elem\n",
    "    print(\"el resultado es: \", res)\n",
    "    return res\n",
    "\n",
    "multiply(2, 3, 5)\n",
    "multiply(22, 12)\n",
    "multiply()\n"
   ]
  },
  {
   "cell_type": "code",
   "execution_count": 11,
   "id": "6bc0a6b7",
   "metadata": {},
   "outputs": [
    {
     "name": "stdout",
     "output_type": "stream",
     "text": [
      "el siguiente elem es 2\n",
      "el siguiente elem es 3\n",
      "el siguiente elem es 5\n",
      "el resultado es:  30\n",
      "el siguiente elem es 22\n",
      "el siguiente elem es 12\n",
      "el resultado es:  264\n",
      "el resultado es:  1\n"
     ]
    },
    {
     "data": {
      "text/plain": [
       "1"
      ]
     },
     "execution_count": 11,
     "metadata": {},
     "output_type": "execute_result"
    }
   ],
   "source": [
    "def multiply_bis(*args):\n",
    "    res = 1\n",
    "    for indice, elem in enumerate(args):\n",
    "        print(\"el siguiente elem es\", args[indice])\n",
    "        res *= elem\n",
    "    print(\"el resultado es: \", res)\n",
    "    return res\n",
    "\n",
    "multiply_bis(2, 3, 5)\n",
    "multiply_bis(22, 12)\n",
    "multiply_bis()\n"
   ]
  },
  {
   "cell_type": "markdown",
   "id": "110f1891",
   "metadata": {},
   "source": [
    "* se pueden combinar args posicionales con *variables\n"
   ]
  },
  {
   "cell_type": "code",
   "execution_count": 12,
   "id": "fab4bf79",
   "metadata": {},
   "outputs": [
    {
     "data": {
      "text/plain": [
       "15.0"
      ]
     },
     "execution_count": 12,
     "metadata": {},
     "output_type": "execute_result"
    }
   ],
   "source": [
    "def multiply_div(*args, div):\n",
    "    res = 1\n",
    "    for i in args:\n",
    "        res *= i\n",
    "    res = res / div\n",
    "    return res\n",
    "\n",
    "multiply_div(2, 3, 5, div=2)"
   ]
  },
  {
   "cell_type": "code",
   "execution_count": 17,
   "id": "52aaa863",
   "metadata": {},
   "outputs": [
    {
     "data": {
      "text/plain": [
       "15.0"
      ]
     },
     "execution_count": 17,
     "metadata": {},
     "output_type": "execute_result"
    }
   ],
   "source": [
    "def multiply_div(div, *args):\n",
    "    res = 1\n",
    "    for i in args:\n",
    "        res *= i\n",
    "    res = res / div\n",
    "    return res\n",
    "\n",
    "multiply_div(2, 2, 3, 5) # no hace ya falta especificar ya que el div es el primero"
   ]
  },
  {
   "cell_type": "markdown",
   "id": "45cb2cd9",
   "metadata": {},
   "source": [
    "### Errores"
   ]
  },
  {
   "cell_type": "code",
   "execution_count": null,
   "id": "06ceabda",
   "metadata": {},
   "outputs": [],
   "source": []
  }
 ],
 "metadata": {
  "kernelspec": {
   "display_name": "Python 3",
   "language": "python",
   "name": "python3"
  },
  "language_info": {
   "codemirror_mode": {
    "name": "ipython",
    "version": 3
   },
   "file_extension": ".py",
   "mimetype": "text/x-python",
   "name": "python",
   "nbconvert_exporter": "python",
   "pygments_lexer": "ipython3",
   "version": "3.11.4"
  }
 },
 "nbformat": 4,
 "nbformat_minor": 5
}
