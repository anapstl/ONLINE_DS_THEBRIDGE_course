{
 "cells": [
  {
   "cell_type": "markdown",
   "id": "001ea796",
   "metadata": {},
   "source": [
    "# SETS\n",
    "\n",
    "URL: https://colab.research.google.com/drive/1jNQClWBFvhRAsEeQfLHUlM9TxeOYAx5X\n",
    "\n",
    "* `Elementos únicos`\n",
    "* `No ordenado`\n",
    "* `Mutables`\n",
    "* Como una lista pero van entre `{}` llaves\n",
    "\n",
    "Docu: https://www.google.com/url?q=https%3A%2F%2Fdocs.python.org%2F2%2Flibrary%2Fsets.html"
   ]
  },
  {
   "cell_type": "code",
   "execution_count": 1,
   "id": "1d9b521d",
   "metadata": {},
   "outputs": [],
   "source": [
    "my_set = {\"elem1\", \"elem2\", \"elem3\"}"
   ]
  },
  {
   "cell_type": "code",
   "execution_count": 6,
   "id": "06a36fe4",
   "metadata": {},
   "outputs": [
    {
     "name": "stdout",
     "output_type": "stream",
     "text": [
      "{'amarillo', 'naranja', 'rojo', 'azul'} \n",
      " <class 'set'>\n",
      "4\n"
     ]
    }
   ],
   "source": [
    "colores = {\"azul\", \"rojo\", \"amarillo\", \"naranja\", \"azul\"}\n",
    "# colores.insert(\"naranja\")\n",
    "print(colores,\"\\n\", type(colores))\n",
    "print(len(colores))"
   ]
  },
  {
   "cell_type": "markdown",
   "id": "af424183",
   "metadata": {},
   "source": [
    "## **Ops**\n",
    "\n",
    "* `añadir` valores únicos y listas"
   ]
  },
  {
   "cell_type": "code",
   "execution_count": 10,
   "id": "e277986d",
   "metadata": {},
   "outputs": [
    {
     "name": "stdout",
     "output_type": "stream",
     "text": [
      "{'azul', 'amarillo', 'magenta', 'naranja', 'rojo'}\n"
     ]
    }
   ],
   "source": [
    "colores.add(\"amarillo\")\n",
    "print(colores)\n",
    "\n",
    "\n",
    "colores.update([\"celeste\", \"burdeos\"])"
   ]
  },
  {
   "cell_type": "code",
   "execution_count": 11,
   "id": "7823c096",
   "metadata": {},
   "outputs": [
    {
     "name": "stdout",
     "output_type": "stream",
     "text": [
      "{'burdeos', 'celeste', 'azul', 'amarillo', 'magenta', 'naranja', 'rojo'}\n"
     ]
    }
   ],
   "source": [
    "print(colores)"
   ]
  },
  {
   "cell_type": "markdown",
   "id": "1bac80ac",
   "metadata": {},
   "source": [
    "si se intenta volver a insertar un valor existente, lo ignora\n",
    "\n",
    "* `remove`"
   ]
  },
  {
   "cell_type": "code",
   "execution_count": 12,
   "id": "77f6ca4e",
   "metadata": {},
   "outputs": [],
   "source": [
    "colores.remove(\"naranja\")"
   ]
  },
  {
   "cell_type": "code",
   "execution_count": 14,
   "id": "9aea8df1",
   "metadata": {},
   "outputs": [
    {
     "name": "stdout",
     "output_type": "stream",
     "text": [
      "{'burdeos', 'celeste', 'azul', 'amarillo', 'magenta', 'rojo'}\n"
     ]
    }
   ],
   "source": [
    "print(colores)"
   ]
  },
  {
   "cell_type": "markdown",
   "id": "158fce02",
   "metadata": {},
   "source": [
    "* `iterables`"
   ]
  },
  {
   "cell_type": "code",
   "execution_count": 16,
   "id": "e547abd8",
   "metadata": {},
   "outputs": [
    {
     "name": "stdout",
     "output_type": "stream",
     "text": [
      "burdeos\n",
      "celeste\n",
      "azul\n",
      "amarillo\n",
      "magenta\n",
      "rojo\n"
     ]
    }
   ],
   "source": [
    "for color in colores:\n",
    "    print(color)"
   ]
  },
  {
   "cell_type": "markdown",
   "id": "49606ed4",
   "metadata": {},
   "source": [
    "* `iguales`"
   ]
  },
  {
   "cell_type": "code",
   "execution_count": null,
   "id": "6bc17da9",
   "metadata": {},
   "outputs": [
    {
     "name": "stdout",
     "output_type": "stream",
     "text": [
      "True\n"
     ]
    }
   ],
   "source": [
    "set_1 = {1, 2, 4, 4, 2, 1, 2, 1}  # lleva los mismos elementos, aunque no esten ordenados!!!! asi que iguales\n",
    "set_3 = {1, 2, 4}\n",
    "\n",
    "print(set_1 == set_3)"
   ]
  },
  {
   "cell_type": "markdown",
   "id": "465742df",
   "metadata": {},
   "source": [
    "* eliminar redundacias de una lista a través de los `sets`"
   ]
  },
  {
   "cell_type": "code",
   "execution_count": 25,
   "id": "101c06d0",
   "metadata": {},
   "outputs": [
    {
     "name": "stdout",
     "output_type": "stream",
     "text": [
      "[100, 10, 23, 23, 15, 32, 45, 10, 100, 23] <class 'list'>\n",
      "[32, 100, 10, 45, 15, 23] <class 'list'>\n"
     ]
    }
   ],
   "source": [
    "lista_con = [100, 10, 23, 23, 15, 32, 45, 10, 100, 23]\n",
    "print(lista_con, type(lista_con))\n",
    "lista_con = list(set(lista_con))  # convierte la lista en un set, eliminando los duplicados y volver a convertir en lista\n",
    "print(lista_con, type(lista_con))"
   ]
  },
  {
   "cell_type": "code",
   "execution_count": null,
   "id": "cfdcd4fc",
   "metadata": {},
   "outputs": [],
   "source": []
  }
 ],
 "metadata": {
  "kernelspec": {
   "display_name": "Python 3",
   "language": "python",
   "name": "python3"
  },
  "language_info": {
   "codemirror_mode": {
    "name": "ipython",
    "version": 3
   },
   "file_extension": ".py",
   "mimetype": "text/x-python",
   "name": "python",
   "nbconvert_exporter": "python",
   "pygments_lexer": "ipython3",
   "version": "3.11.4"
  }
 },
 "nbformat": 4,
 "nbformat_minor": 5
}
