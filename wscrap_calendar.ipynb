{
 "cells": [
  {
   "cell_type": "code",
   "execution_count": 2,
   "id": "010d7593",
   "metadata": {},
   "outputs": [],
   "source": [
    "ccaa = [\n",
    "\t\"Andalucía\", \"Aragón\", \"Asturias\", \"Islas Baleares\",\n",
    "\t\"Canarias\", \"Cantabria\", \"Castilla-La Mancha\",\n",
    "\t\"Castilla y León\", \"Cataluña\", \"Comunidad Valenciana\",\n",
    "\t\"Extremadura\", \"Galicia\", \"La Rioja\", \"Comunidad de Madrid\",\n",
    "\t\"Región de Murcia\", \"Navarra\", \"País Vasco\", \"Ceuta\", \"Melilla\"\n",
    "]\n",
    "\n",
    "provincias = [\n",
    "    \"Álava\", \"Albacete\", \"Alicante\", \"Almería\", \"Asturias\", \"Ávila\",\n",
    "    \"Badajoz\", \"Barcelona\", \"Burgos\", \"Cáceres\", \"Cádiz\", \"Cantabria\",\n",
    "    \"Castellón\", \"Ciudad Real\", \"Córdoba\", \"La Coruña\", \"Cuenca\", \"Gerona\",\n",
    "    \"Granada\", \"Guadalajara\", \"Guipúzcoa\", \"Huelva\", \"Huesca\", \"Islas Baleares\",\n",
    "    \"Jaén\", \"León\", \"Lérida\", \"Lugo\", \"Madrid\", \"Málaga\", \"Murcia\", \"Navarra\",\n",
    "    \"Orense\", \"Palencia\", \"Las Palmas\", \"Pontevedra\", \"La Rioja\", \"Salamanca\",\n",
    "    \"Santa Cruz de Tenerife\", \"Segovia\", \"Sevilla\", \"Soria\", \"Tarragona\",\n",
    "    \"Teruel\", \"Toledo\", \"Valencia\", \"Valladolid\", \"Vizcaya\", \"Zamora\", \"Zaragoza\"\n",
    "]\n",
    "\n",
    "meses = [\n",
    "    \"Enero\", \"Febrero\", \"Marzo\", \"Abril\", \"Mayo\", \"Junio\",\n",
    "    \"Julio\", \"Agosto\", \"Septiembre\", \"Octubre\", \"Noviembre\", \"Diciembre\"\n",
    "]\n"
   ]
  },
  {
   "cell_type": "code",
   "execution_count": 5,
   "id": "0fb0f8bc",
   "metadata": {},
   "outputs": [],
   "source": [
    "from bs4 import BeautifulSoup as bs\n",
    "import requests\n",
    "import pandas as pd\n"
   ]
  },
  {
   "cell_type": "code",
   "execution_count": 25,
   "id": "53bec71a",
   "metadata": {},
   "outputs": [],
   "source": [
    "\n",
    "festivos = []\n"
   ]
  },
  {
   "cell_type": "code",
   "execution_count": null,
   "id": "259273bd",
   "metadata": {},
   "outputs": [],
   "source": [
    "\n",
    "for provincia in provincias:\n",
    "    for anio in range(2015, 2026):\n",
    "        url = \"https://www.calendarioslaborales.com/calendario-laboral-\" \n",
    "        + provincia +\"-\"\n",
    "        + anio +\".htm\"\n",
    "\n",
    "        rx = requests.get(url)\n"
   ]
  },
  {
   "cell_type": "code",
   "execution_count": 6,
   "id": "d9682a05",
   "metadata": {},
   "outputs": [
    {
     "data": {
      "text/plain": [
       "b'<!DOCTYPE html> <html lang=\"es\"> <head> <meta charset=\"utf-8\" /> <meta http-equiv=\"X-UA-Compatible\" content=\"IE=edge\"> <meta name=\"viewport\" content=\"width=device-width, initial-scale=1\"> <link rel=\"shortcut icon\" href=\"assets/images/fav.png\" /> <title>Calendario Laboral \\xc3\\x81lava 2015</title> <meta name=\"description\" content=\"Calendario Laboral de Alava 2015. Anticipate a los d\\xc3\\xadas festivos de tu provincia y planifica tus vacaciones.\" /> <meta name=\"keywords\" content=\"calendario laboral Alava 2015,calendario laboral de Alava 2015, calendario fiestas Alava 2015, calendario dias festivos Alava 2015\" /> <!-- Open Graph data --> <meta property=\"og:url\" content=\"https://www.calendarioslaborales.com/calendario-laboral-alava-2015.htm\" /> <meta property=\"og:type\" content=\"website\" /> <meta property=\"og:title\" content=\"Calendario Laboral \\xc3\\x81lava 2015\" /> <meta property=\"og:description\" content=\"Calendario Laboral de Alava 2015. Anticipate a los d\\xc3\\xadas festivos de tu provincia y planifica tus vacaciones.\" /> <meta property=\"og:image\" content=\"https://www.calendarioslaborales.com/assets/images/calendarios/calendario-laboral-alava-2015.jpg\" /> <!-- Facebook data --> <meta property=\"fb:app_id\" content=\"156260998367942\"> <meta name=\"google-site-verification\" content=\"rld88ML5jnK4lDvDSAjW8sWPUWS6x5_DEIi0LM1POiM\" /> <!-- CSS de Bootstrap --> <link href=\"vendor/bootstrap/css/bootstrap.min.css\" rel=\"stylesheet\" media=\"screen\"> <!-- CSS de la web --> <link href=\"assets/css/style.min.css\" rel=\"stylesheet\"> <!-- librer\\xc3\\xadas opcionales que activan el soporte de HTML5 para IE8 --> <!--[if lt IE 9]> <script src=\"https://oss.maxcdn.com/libs/html5shiv/3.7.0/html5shiv.js\"></script> <script src=\"https://oss.maxcdn.com/libs/respond.js/1.4.2/respond.min.js\"></script> <![endif]--> <script type=\"text/javascript\"> var _gaq = _gaq || []; _gaq.push([\\'_setAccount\\', \\'UA-21069752-1\\']); _gaq.push([\\'_trackPageview\\']); (function() { var ga = document.createElement(\\'script\\'); ga.type = \\'text/javascript\\'; ga.async = true; ga.src = (\\'https:\\' == document.location.protocol ? \\'https://\\' : \\'http://\\') + \\'stats.g.doubleclick.net/dc.js\\'; var s = document.getElementsByTagName(\\'script\\')[0]; s.parentNode.insertBefore(ga, s); })(); </script> </head><body> <header> <div id=\"wrapCabecera\" class=\"container\"> <div id=\"logo\"><a href=\"https://www.calendarioslaborales.com\"><img class=\"img-responsive\" src=\"assets/images/logotipo.png\" alt=\"Logo calendarioslaborales.com\" /></a></div> </div> </header> <div id=\"principal\" class=\"container\"> <div class=\"row\"> <div id=\"wrapMiguitas\"> <div id=\"miguitas\"> <a href=\"https://www.calendarioslaborales.com\" title=\"Ir a Inicio\">Inicio</a> &gt; Alava &gt; <a href=\"https://www.calendarioslaborales.com/calendarios-laborales-alava.htm\" title=\"\">2015</a> &gt; Calendario Laboral Alava 2015 </div> </div> <div class=\"col-md-10 col-md-push-2\" id=\"columnaDerecha\"> <div id=\"wrapCalendario\"> <div id=\"publiAdsenseHome\"> <script async src=\"//pagead2.googlesyndication.com/pagead/js/adsbygoogle.js\"></script> <!-- cabeceraPaginaCalendario --> <ins class=\"adsbygoogle\" style=\"display:inline-block;width:728px;height:90px\" data-ad-client=\"ca-pub-9075812213282082\" data-ad-slot=\"7313965367\"></ins> <script> (adsbygoogle = window.adsbygoogle || []).push({}); </script> </div> <div id=\"h1\"><h1>Calendario Laboral Alava 2015</h1></div> <div class=\"wrapAnteriorSiguiente\"> <a href=\"https://www.calendarioslaborales.com/calendario-laboral-alava-2014.htm\" title=\"Calendario Laboral alava 2014\">&lt; 2014</a> <a style=\"float:right;\" title=\"Calendario Laboral alava 2016\" href=\"https://www.calendarioslaborales.com/calendario-laboral-alava-2016.htm\">2016 &gt;</a> <p style=\"clear:left\"></p> </div> <div id=\"wrapIconosSociales\"> <ul id=\"listaIconosSociales\"> <li><a href=\"#\" data-href=\"https://twitter.com/intent/tweet?url=https%3A%2F%2Fwww.calendarioslaborales.com%2Fcalendario-laboral-alava-2015.htm&amp;text=Calendario+laboral+con+los+d%C3%ADas+festivos+en+%C3%81lava+2015\" class=\"twitter-share\" title=\"Compartir calendario en Twitter\"><img class=\"social-icon\" src=\"assets/images/socialIcons/twitter.png\" alt=\"Compartir calendario en Twitter\" /></a></li> <li><a href=\"#\" data-href=\"https://www.facebook.com/sharer/sharer.php?u=https%3A%2F%2Fwww.calendarioslaborales.com%2Fcalendario-laboral-alava-2015.htm\" class=\"fb-share\" title=\"Compartir calendario en Facebook\"><img class=\"social-icon\" src=\"assets/images/socialIcons/facebook.png\" alt=\"Compartir calendario en Facebook\" /></a></li> <li><a href=\"#\" data-href=\"https://plus.google.com/share?url=https://www.calendarioslaborales.com/calendario-laboral-alava-2015.htm\" class=\"googleplus-share\" title=\"Compartir calendario en Google+\"><img class=\"social-icon\" src=\"assets/images/socialIcons/google-plus.png\" alt=\"Compartir calendario en en Google+\" /></a></li> </ul> </div> <div id=\"wrapMeses\"> <div id=\"wrapIntoMeses\"> <div class=\"mes\" id=\"wrapEnero\"><h3>Enero</h3><table class=\"tablaMes\" id=\"mesEnero\"> <tr><th>L</th><th>M</th><th>X</th><th>J</th><th>V</th><th>S</th><th>D</th></tr><tr><td>&nbsp;</td><td>&nbsp;</td><td>&nbsp;</td><td class=\"cajaFestivoN\">1</td><td>2</td><td>3</td><td>4</td></tr><tr><td>5</td><td class=\"cajaFestivoN\">6</td><td>7</td><td>8</td><td>9</td><td>10</td><td>11</td></tr><tr><td>12</td><td>13</td><td>14</td><td>15</td><td>16</td><td>17</td><td>18</td></tr><tr><td>19</td><td>20</td><td>21</td><td>22</td><td>23</td><td>24</td><td>25</td></tr><tr><td>26</td><td>27</td><td>28</td><td>29</td><td>30</td><td>31</td><td>&nbsp;</td></tr><tr><td></td><td></td><td></td><td></td><td></td><td></td><td></td></tr> </table><div class=\"wrapFestivos\"><ul><li><span class=\"festivoN\">1 de Enero.</span>A\\xc3\\xb1o nuevo</li><li><span class=\"festivoN\">6 de Enero.</span>Epifan\\xc3\\xada del Se\\xc3\\xb1or</li></ul></div></div><div class=\"mes\" id=\"wrapFebrero\"><h3>Febrero</h3><table class=\"tablaMes\" id=\"mesFebrero\"> <tr><th>L</th><th>M</th><th>X</th><th>J</th><th>V</th><th>S</th><th>D</th></tr><tr><td>&nbsp;</td><td>&nbsp;</td><td>&nbsp;</td><td>&nbsp;</td><td>&nbsp;</td><td>&nbsp;</td><td>1</td></tr><tr><td>2</td><td>3</td><td>4</td><td>5</td><td>6</td><td>7</td><td>8</td></tr><tr><td>9</td><td>10</td><td>11</td><td>12</td><td>13</td><td>14</td><td>15</td></tr><tr><td>16</td><td>17</td><td>18</td><td>19</td><td>20</td><td>21</td><td>22</td></tr><tr><td>23</td><td>24</td><td>25</td><td>26</td><td>27</td><td>28</td><td>&nbsp;</td></tr><tr><td></td><td></td><td></td><td></td><td></td><td></td><td></td></tr> </table></div><div class=\"bimestre\"></div><div class=\"mes\" id=\"wrapMarzo\"><h3>Marzo</h3><table class=\"tablaMes\" id=\"mesMarzo\"> <tr><th>L</th><th>M</th><th>X</th><th>J</th><th>V</th><th>S</th><th>D</th></tr><tr><td>&nbsp;</td><td>&nbsp;</td><td>&nbsp;</td><td>&nbsp;</td><td>&nbsp;</td><td>&nbsp;</td><td>1</td></tr><tr><td>2</td><td>3</td><td>4</td><td>5</td><td>6</td><td>7</td><td>8</td></tr><tr><td>9</td><td>10</td><td>11</td><td>12</td><td>13</td><td>14</td><td>15</td></tr><tr><td>16</td><td>17</td><td>18</td><td class=\"cajaFestivoR\">19</td><td>20</td><td>21</td><td>22</td></tr><tr><td>23</td><td>24</td><td>25</td><td>26</td><td>27</td><td>28</td><td>29</td></tr><tr><td>30</td><td>31</td><td>&nbsp;</td><td>&nbsp;</td><td>&nbsp;</td><td>&nbsp;</td><td>&nbsp;</td></tr> </table><div class=\"wrapFestivos\"><ul><li><span class=\"festivoR\">19 de Marzo.</span>San Jos\\xc3\\xa9</li></ul></div></div><div class=\"trimestre\"></div><div class=\"mes\" id=\"wrapAbril\"><h3>Abril</h3><table class=\"tablaMes\" id=\"mesAbril\"> <tr><th>L</th><th>M</th><th>X</th><th>J</th><th>V</th><th>S</th><th>D</th></tr><tr><td>&nbsp;</td><td>&nbsp;</td><td>1</td><td class=\"cajaFestivoR\">2</td><td class=\"cajaFestivoN\">3</td><td>4</td><td>5</td></tr><tr><td class=\"cajaFestivoR\">6</td><td>7</td><td>8</td><td>9</td><td>10</td><td>11</td><td>12</td></tr><tr><td>13</td><td>14</td><td>15</td><td>16</td><td>17</td><td>18</td><td>19</td></tr><tr><td>20</td><td>21</td><td>22</td><td>23</td><td>24</td><td>25</td><td>26</td></tr><tr><td>27</td><td class=\"cajaFestivoP\">28</td><td>29</td><td>30</td><td>&nbsp;</td><td>&nbsp;</td><td>&nbsp;</td></tr><tr><td></td><td></td><td></td><td></td><td></td><td></td><td></td></tr> </table><div class=\"wrapFestivos\"><ul><li><span class=\"festivoR\">2 de Abril.</span>Jueves Santo</li><li><span class=\"festivoN\">3 de Abril.</span>Viernes Santo</li><li><span class=\"festivoR\">6 de Abril.</span>Lunes de Pascua</li><li><span class=\"festivoP\">28 de Abril.</span>San Prudencio</li></ul></div></div><div class=\"bimestre\"></div> <div id=\"bannerMovilIntracalendario\"> <script async src=\"//pagead2.googlesyndication.com/pagead/js/adsbygoogle.js\"></script> <!-- BannerIntraCalendario --> <ins class=\"adsbygoogle\" style=\"display:inline-block;width:320px;height:100px\" data-ad-client=\"ca-pub-9075812213282082\" data-ad-slot=\"4766770782\"></ins> <script> (adsbygoogle = window.adsbygoogle || []).push({}); </script> </div> <div class=\"mes\" id=\"wrapMayo\"><h3>Mayo</h3><table class=\"tablaMes\" id=\"mesMayo\"> <tr><th>L</th><th>M</th><th>X</th><th>J</th><th>V</th><th>S</th><th>D</th></tr><tr><td>&nbsp;</td><td>&nbsp;</td><td>&nbsp;</td><td>&nbsp;</td><td class=\"cajaFestivoN\">1</td><td>2</td><td>3</td></tr><tr><td>4</td><td>5</td><td>6</td><td>7</td><td>8</td><td>9</td><td>10</td></tr><tr><td>11</td><td>12</td><td>13</td><td>14</td><td>15</td><td>16</td><td>17</td></tr><tr><td>18</td><td>19</td><td>20</td><td>21</td><td>22</td><td>23</td><td>24</td></tr><tr><td>25</td><td>26</td><td>27</td><td>28</td><td>29</td><td>30</td><td>31</td></tr><tr><td>&nbsp;</td><td>&nbsp;</td><td>&nbsp;</td><td>&nbsp;</td><td>&nbsp;</td><td>&nbsp;</td><td>&nbsp;</td></tr> </table><div class=\"wrapFestivos\"><ul><li><span class=\"festivoN\">1 de Mayo.</span>D\\xc3\\xada del trabajo</li></ul></div></div><div class=\"mes\" id=\"wrapJunio\"><h3>Junio</h3><table class=\"tablaMes\" id=\"mesJunio\"> <tr><th>L</th><th>M</th><th>X</th><th>J</th><th>V</th><th>S</th><th>D</th></tr><tr><td>1</td><td>2</td><td>3</td><td>4</td><td>5</td><td>6</td><td>7</td></tr><tr><td>8</td><td>9</td><td>10</td><td>11</td><td>12</td><td>13</td><td>14</td></tr><tr><td>15</td><td>16</td><td>17</td><td>18</td><td>19</td><td>20</td><td>21</td></tr><tr><td>22</td><td>23</td><td>24</td><td>25</td><td>26</td><td>27</td><td>28</td></tr><tr><td>29</td><td>30</td><td>&nbsp;</td><td>&nbsp;</td><td>&nbsp;</td><td>&nbsp;</td><td>&nbsp;</td></tr><tr><td></td><td></td><td></td><td></td><td></td><td></td><td></td></tr> </table></div><div class=\"trimestre\"></div><div class=\"bimestre\"></div><div class=\"mes\" id=\"wrapJulio\"><h3>Julio</h3><table class=\"tablaMes\" id=\"mesJulio\"> <tr><th>L</th><th>M</th><th>X</th><th>J</th><th>V</th><th>S</th><th>D</th></tr><tr><td>&nbsp;</td><td>&nbsp;</td><td>1</td><td>2</td><td>3</td><td>4</td><td>5</td></tr><tr><td>6</td><td>7</td><td>8</td><td>9</td><td>10</td><td>11</td><td>12</td></tr><tr><td>13</td><td>14</td><td>15</td><td>16</td><td>17</td><td>18</td><td>19</td></tr><tr><td>20</td><td>21</td><td>22</td><td>23</td><td>24</td><td class=\"cajaFestivoR\">25</td><td>26</td></tr><tr><td>27</td><td>28</td><td>29</td><td>30</td><td>31</td><td>&nbsp;</td><td>&nbsp;</td></tr><tr><td></td><td></td><td></td><td></td><td></td><td></td><td></td></tr> </table><div class=\"wrapFestivos\"><ul><li><span class=\"festivoR\">25 de Julio.</span>Santiago Apostol</li></ul></div></div><div class=\"mes\" id=\"wrapAgosto\"><h3>Agosto</h3><table class=\"tablaMes\" id=\"mesAgosto\"> <tr><th>L</th><th>M</th><th>X</th><th>J</th><th>V</th><th>S</th><th>D</th></tr><tr><td>&nbsp;</td><td>&nbsp;</td><td>&nbsp;</td><td>&nbsp;</td><td>&nbsp;</td><td>1</td><td>2</td></tr><tr><td>3</td><td>4</td><td class=\"cajaFestivoP\">5</td><td>6</td><td>7</td><td>8</td><td>9</td></tr><tr><td>10</td><td>11</td><td>12</td><td>13</td><td>14</td><td class=\"cajaFestivoN\">15</td><td>16</td></tr><tr><td>17</td><td>18</td><td>19</td><td>20</td><td>21</td><td>22</td><td>23</td></tr><tr><td>24</td><td>25</td><td>26</td><td>27</td><td>28</td><td>29</td><td>30</td></tr><tr><td>31</td><td>&nbsp;</td><td>&nbsp;</td><td>&nbsp;</td><td>&nbsp;</td><td>&nbsp;</td><td>&nbsp;</td></tr> </table><div class=\"wrapFestivos\"><ul><li><span class=\"festivoP\">5 de Agosto.</span>Virgen Blanca</li><li><span class=\"festivoN\">15 de Agosto.</span>Asunci\\xc3\\xb3n de la Virgen</li></ul></div></div><div class=\"bimestre\"></div><div class=\"mes\" id=\"wrapSeptiembre\"><h3>Septiembre</h3><table class=\"tablaMes\" id=\"mesSeptiembre\"> <tr><th>L</th><th>M</th><th>X</th><th>J</th><th>V</th><th>S</th><th>D</th></tr><tr><td>&nbsp;</td><td>1</td><td>2</td><td>3</td><td>4</td><td>5</td><td>6</td></tr><tr><td>7</td><td>8</td><td>9</td><td>10</td><td>11</td><td>12</td><td>13</td></tr><tr><td>14</td><td>15</td><td>16</td><td>17</td><td>18</td><td>19</td><td>20</td></tr><tr><td>21</td><td>22</td><td>23</td><td>24</td><td>25</td><td>26</td><td>27</td></tr><tr><td>28</td><td>29</td><td>30</td><td>&nbsp;</td><td>&nbsp;</td><td>&nbsp;</td><td>&nbsp;</td></tr><tr><td></td><td></td><td></td><td></td><td></td><td></td><td></td></tr> </table></div><div class=\"trimestre\"></div><div class=\"mes\" id=\"wrapOctubre\"><h3>Octubre</h3><table class=\"tablaMes\" id=\"mesOctubre\"> <tr><th>L</th><th>M</th><th>X</th><th>J</th><th>V</th><th>S</th><th>D</th></tr><tr><td>&nbsp;</td><td>&nbsp;</td><td>&nbsp;</td><td>1</td><td>2</td><td>3</td><td>4</td></tr><tr><td>5</td><td>6</td><td>7</td><td>8</td><td>9</td><td>10</td><td>11</td></tr><tr><td class=\"cajaFestivoN\">12</td><td>13</td><td>14</td><td>15</td><td>16</td><td>17</td><td>18</td></tr><tr><td>19</td><td>20</td><td>21</td><td>22</td><td>23</td><td>24</td><td>25</td></tr><tr><td>26</td><td>27</td><td>28</td><td>29</td><td>30</td><td>31</td><td>&nbsp;</td></tr><tr><td></td><td></td><td></td><td></td><td></td><td></td><td></td></tr> </table><div class=\"wrapFestivos\"><ul><li><span class=\"festivoN\">12 de Octubre.</span>Fiesta Nacional Espa\\xc3\\xb1ola</li></ul></div></div><div class=\"bimestre\"></div><div class=\"mes\" id=\"wrapNoviembre\"><h3>Noviembre</h3><table class=\"tablaMes\" id=\"mesNoviembre\"> <tr><th>L</th><th>M</th><th>X</th><th>J</th><th>V</th><th>S</th><th>D</th></tr><tr><td>&nbsp;</td><td>&nbsp;</td><td>&nbsp;</td><td>&nbsp;</td><td>&nbsp;</td><td>&nbsp;</td><td>1</td></tr><tr><td>2</td><td>3</td><td>4</td><td>5</td><td>6</td><td>7</td><td>8</td></tr><tr><td>9</td><td>10</td><td>11</td><td>12</td><td>13</td><td>14</td><td>15</td></tr><tr><td>16</td><td>17</td><td>18</td><td>19</td><td>20</td><td>21</td><td>22</td></tr><tr><td>23</td><td>24</td><td>25</td><td>26</td><td>27</td><td>28</td><td>29</td></tr><tr><td>30</td><td>&nbsp;</td><td>&nbsp;</td><td>&nbsp;</td><td>&nbsp;</td><td>&nbsp;</td><td>&nbsp;</td></tr> </table></div><div class=\"mes\" id=\"wrapDiciembre\"><h3>Diciembre</h3><table class=\"tablaMes\" id=\"mesDiciembre\"> <tr><th>L</th><th>M</th><th>X</th><th>J</th><th>V</th><th>S</th><th>D</th></tr><tr><td>&nbsp;</td><td>1</td><td>2</td><td>3</td><td>4</td><td>5</td><td>6</td></tr><tr><td>7</td><td class=\"cajaFestivoN\">8</td><td>9</td><td>10</td><td>11</td><td>12</td><td>13</td></tr><tr><td>14</td><td>15</td><td>16</td><td>17</td><td>18</td><td>19</td><td>20</td></tr><tr><td>21</td><td>22</td><td>23</td><td>24</td><td class=\"cajaFestivoN\">25</td><td>26</td><td>27</td></tr><tr><td>28</td><td>29</td><td>30</td><td>31</td><td>&nbsp;</td><td>&nbsp;</td><td>&nbsp;</td></tr><tr><td></td><td></td><td></td><td></td><td></td><td></td><td></td></tr> </table><div class=\"wrapFestivos\"><ul><li><span class=\"festivoN\">8 de Diciembre.</span>Inmaculada Concepci\\xc3\\xb3n</li><li><span class=\"festivoN\">25 de Diciembre.</span>Natividad del Se\\xc3\\xb1or</li></ul></div></div><div class=\"trimestre\"></div><div class=\"bimestre\"></div> <div id=\"wrapLeyenda\"> <div id=\"wrapLeyendaFestivosNacionales\"> <div class=\"wrapDiaFestivo\"><div class=\"cuadroLeyenda cajaFestivoN\"></div><span>D\\xc3\\xadas Festivos Nacionales</span></div> </div> <div id=\"wrapLeyendaFestivosRegionales\"> <div class=\"cuadroLeyenda cajaFestivoR\"></div><span>D\\xc3\\xadas Festivos Regionales</span> </div> <div id=\"wrapLeyendaFestivosLocales\"> <div class=\"cuadroLeyenda cajaFestivoL\"></div><span>D\\xc3\\xadas Festivos Locales</span> </div> </div><!-- #wrapLeyenda --> <p style=\"clear:left\"></p> </div> </div><!-- #wrapMeses --> </div><!-- #wrapCalendario --> <div class=\"wrapSeccionPaginaCalendario\"> <h2>Descargar calendario Alava 2015 para imprimir</h2> <div id=\"wrapBotonesPDFJPG\"> <a target=\"_blank\" id=\"botonDescargaPDF\" class=\"botonDescargaJPGPDF\" href=\"https://www.calendarioslaborales.com/calendario-laboral-alava-2015-PDF.pdf\" title=\"Calendario Laboral Alava 2015 PDF\" onClick=\"javascript: pageTracker._trackPageview(\\'/calendario-laboral-Alava-2015-PDF\\'); \">Descargar<br /> en PDF</a> <!-- <a class=\"botonDescargaJPGPDF\" id=\"botonDescargaJPG\" title=\"Calendario Laboral Alava 2015 en jpg\" target=\"_blank\" href=\"https://www.calendarioslaborales.com/assets/images/calendarios/calendario-laboral-alava-2015.jpg\">Descargar<br /> en JPG</a> --> <p style=\"clear:left\"></p> </div> </div> <div id=\"publiCalendarioAbajo\"> <script async src=\"//pagead2.googlesyndication.com/pagead/js/adsbygoogle.js\"></script> <!-- Publi Adaptable abajo --> <ins class=\"adsbygoogle\" style=\"display:block\" data-ad-client=\"ca-pub-9075812213282082\" data-ad-slot=\"4203847783\" data-ad-format=\"auto\"></ins> <script> (adsbygoogle = window.adsbygoogle || []).push({}); </script> </div> <!--<div class=\"wrapSeccionPaginaCalendario\"> <h2>Calendarios laborales 2018 en la provincia de Barcelona</h2> </div> <div class=\"wrapSeccionPaginaCalendario\"> <h2>Pon este calendario en tu web</h2> <p>Ponga en su web el calendario de d\\xc3\\xadas festivos del mes actual</p> <div class=\"mesWidget\"> <h3>Diciembre</h3> <table class=\"tablaMes\" id=\"mesDiciembre\"> <tr><th>L</th><th>M</th><th>X</th><th>J</th><th>V</th><th>S</th><th>D</th></tr> <tr> <td class=\"cajaFestivoN\">1</td><td>2</td><td>3</td><td>4</td><td>5</td><td class=\"cajaFestivoN\">6</td><td>7</td></tr> <tr><td>8</td><td>9</td><td>10</td><td>11</td><td>12</td><td>13</td><td>14</td></tr> <tr><td>15</td><td>16</td><td>17</td><td>18</td><td>19</td><td>20</td><td>21</td></tr> <tr><td>22</td><td>23</td><td>24</td><td>25</td><td>26</td><td>27</td><td>28</td></tr> <tr><td>29</td><td>30</td><td>31</td><td>&nbsp;</td><td>&nbsp;</td><td>&nbsp;</td><td>&nbsp;</td></tr> <tr><td></td><td></td><td></td><td></td><td></td><td></td><td></td></tr> </table> <a href=\"#\" title=\"Ver calendario laboral de Barcelona 2018 completo\">Calendario laboral Barcelona 2018</a> </div> <table id=\"tablaWidget\"> <tbody> <tr> <td colspan=\"2\" width=\"50%\"> <h4>Calendario</h4> </td> <td colspan=\"2\" width=\"50%\"> <h4>Cabecera</h4></td> </tr> <tr> <td>Fondo</td> <td> <div id=\"cabBg\" class=\"input-group colorpicker-element\"> <input name=\"widget[cabBg]\" class=\"form-control\" value=\"#CA0022\" type=\"text\"><span class=\"input-group-addon\"><i style=\"background-color: rgb(202, 0, 34);\"></i></span> </div> </td> <td>Fondo</td> <td> <div id=\"cabBg\" class=\"input-group colorpicker-element\"> <input name=\"widget[cabBg]\" class=\"form-control\" value=\"#CA0022\" type=\"text\"><span class=\"input-group-addon\"><i style=\"background-color: rgb(202, 0, 34);\"></i></span> </div> </td> </tr> <tr> <td>Texto</td> <td> <div id=\"cabBg\" class=\"input-group colorpicker-element\"> <input name=\"widget[calColor]\" class=\"form-control\" value=\"#CA0022\" type=\"text\"><span class=\"input-group-addon\"><i style=\"background-color: rgb(202, 0, 34);\"></i></span> </div> </td> <td>Texto</td> <td> <div id=\"cabColor\" class=\"input-group colorpicker-element\"> <input name=\"widget[cabColor]\" class=\"form-control\" value=\"#FFFFFF\" type=\"text\"><span class=\"input-group-addon\"><i style=\"background-color: rgb(255, 255, 255);\"></i></span> </div> </td> </tr> </tbody> </table> <button id=\"botonObtenerCodigo\">Obtener C\\xc3\\xb3digo</button><br /> <div id=\"wrapTextareaObtenerCodigo\"> <textarea id=\"textareaObtenerCodigo\">asdf</textarea> </div> </div>--> </div><!--#columnaDerecha--> <div class=\"col-md-2 col-md-pull-10\" id=\"columnaIzquierda\"> <h3>Calendarios 2025</h3> <div class=\"row\"> <div class=\"col-xs-6 col-sm-3 col-md-12 col-lg-12\"> <ul> <li><a href=\"https://www.calendarioslaborales.com/calendario-laboral-alava-2025.htm\" title=\"Calendario laboral \\xc3\\x81lava 2025\">\\xc3\\x81lava</a></li> <li><a href=\"https://www.calendarioslaborales.com/calendario-laboral-albacete-2025.htm\" title=\"Calendario laboral Albacete 2025\">Albacete</a></li> <li><a href=\"https://www.calendarioslaborales.com/calendario-laboral-alicante-2025.htm\" title=\"Calendario laboral Alicante 2025\">Alicante</a></li> <li><a href=\"https://www.calendarioslaborales.com/calendario-laboral-almeria-2025.htm\" title=\"Calendario laboral Almer\\xc3\\xada 2025\">Almer\\xc3\\xada</a></li> <li><a href=\"https://www.calendarioslaborales.com/calendario-laboral-asturias-2025.htm\" title=\"Calendario laboral Asturias 2025\">Asturias</a></li> <li><a href=\"https://www.calendarioslaborales.com/calendario-laboral-avila-2025.htm\" title=\"Calendario laboral \\xc3\\x81vila 2025\">\\xc3\\x81vila</a></li> <li><a href=\"https://www.calendarioslaborales.com/calendario-laboral-badajoz-2025.htm\" title=\"Calendario laboral Badajoz 2025\">Badajoz</a></li> <li><a href=\"https://www.calendarioslaborales.com/calendario-laboral-baleares-2025.htm\" title=\"Calendario laboral Baleares 2025\">Baleares</a></li> <li><a href=\"https://www.calendarioslaborales.com/calendario-laboral-barcelona-2025.htm\" title=\"Calendario laboral Barcelona 2025\">Barcelona</a></li> <li><a href=\"https://www.calendarioslaborales.com/calendario-laboral-bilbao-2025.htm\" title=\"Calendario laboral Bilbao 2025\">Bilbao</a></li> <li><a href=\"https://www.calendarioslaborales.com/calendario-laboral-burgos-2025.htm\" title=\"Calendario laboral Burgos 2025\">Burgos</a></li> <li><a href=\"https://www.calendarioslaborales.com/calendario-laboral-caceres-2025.htm\" title=\"Calendario laboral C\\xc3\\xa1ceres 2025\">C\\xc3\\xa1ceres</a></li> <li><a href=\"https://www.calendarioslaborales.com/calendario-laboral-cadiz-2025.htm\" title=\"Calendario laboral C\\xc3\\xa1diz 2025\">C\\xc3\\xa1diz</a></li> <li><a href=\"https://www.calendarioslaborales.com/calendario-laboral-cantabria-2025.htm\" title=\"Calendario laboral Cantabria 2025\">Cantabria</a></li> <li><a href=\"https://www.calendarioslaborales.com/calendario-laboral-castellon-2025.htm\" title=\"Calendario laboral Castell\\xc3\\xb3n 2025\">Castell\\xc3\\xb3n</a></li> </ul> </div> <div class=\"col-xs-6 col-sm-3 col-md-12 col-lg-12\"> <ul> <li><a href=\"https://www.calendarioslaborales.com/calendario-laboral-ceuta-2025.htm\" title=\"Calendario laboral Ceuta 2025\">Ceuta</a></li> <li><a href=\"https://www.calendarioslaborales.com/calendario-laboral-ciudad-real-2025.htm\" title=\"Calendario laboral Ciudad Real 2025\">Ciudad Real</a></li> <li><a href=\"https://www.calendarioslaborales.com/calendario-laboral-cordoba-2025.htm\" title=\"Calendario laboral C\\xc3\\xb3rdoba 2025\">C\\xc3\\xb3rdoba</a></li> <li><a href=\"https://www.calendarioslaborales.com/calendario-laboral-la-coruna-2025.htm\" title=\"Calendario laboral Coru\\xc3\\xb1a, La 2025\">Coru\\xc3\\xb1a, La</a></li> <li><a href=\"https://www.calendarioslaborales.com/calendario-laboral-cuenca-2025.htm\" title=\"Calendario laboral Cuenca 2025\">Cuenca</a></li> <li><a href=\"https://www.calendarioslaborales.com/calendario-laboral-gijon-2025.htm\" title=\"Calendario laboral Gij\\xc3\\xb3n 2025\">Gij\\xc3\\xb3n</a></li> <li><a href=\"https://www.calendarioslaborales.com/calendario-laboral-girona-2025.htm\" title=\"Calendario laboral Girona 2025\">Girona</a></li> <li><a href=\"https://www.calendarioslaborales.com/calendario-laboral-granada-2025.htm\" title=\"Calendario laboral Granada 2025\">Granada</a></li> <li><a href=\"https://www.calendarioslaborales.com/calendario-laboral-guadalajara-2025.htm\" title=\"Calendario laboral Guadalajara 2025\">Guadalajara</a></li> <li><a href=\"https://www.calendarioslaborales.com/calendario-laboral-guipuzcoa-2025.htm\" title=\"Calendario laboral Guipuzcoa 2025\">Guipuzcoa</a></li> <li><a href=\"https://www.calendarioslaborales.com/calendario-laboral-huelva-2025.htm\" title=\"Calendario laboral Huelva 2025\">Huelva</a></li> <li><a href=\"https://www.calendarioslaborales.com/calendario-laboral-huesca-2025.htm\" title=\"Calendario laboral Huesca 2025\">Huesca</a></li> <li><a href=\"https://www.calendarioslaborales.com/calendario-laboral-jaen-2025.htm\" title=\"Calendario laboral Ja\\xc3\\xa9n 2025\">Ja\\xc3\\xa9n</a></li> <li><a href=\"https://www.calendarioslaborales.com/calendario-laboral-leon-2025.htm\" title=\"Calendario laboral Le\\xc3\\xb3n 2025\">Le\\xc3\\xb3n</a></li> <li><a href=\"https://www.calendarioslaborales.com/calendario-laboral-lleida-2025.htm\" title=\"Calendario laboral Lleida 2025\">Lleida</a></li> </ul> </div> <div class=\"col-xs-6 col-sm-3 col-md-12 col-lg-12\"> <ul> <li><a href=\"https://www.calendarioslaborales.com/calendario-laboral-logrono-2025.htm\" title=\"Calendario laboral Logro\\xc3\\xb1o 2025\">Logro\\xc3\\xb1o</a></li> <li><a href=\"https://www.calendarioslaborales.com/calendario-laboral-lugo-2025.htm\" title=\"Calendario laboral Lugo 2025\">Lugo</a></li> <li><a href=\"https://www.calendarioslaborales.com/calendario-laboral-madrid-2025.htm\" title=\"Calendario laboral Madrid 2025\">Madrid</a></li> <li><a href=\"https://www.calendarioslaborales.com/calendario-laboral-malaga-2025.htm\" title=\"Calendario laboral M\\xc3\\xa1laga 2025\">M\\xc3\\xa1laga</a></li> <li><a href=\"https://www.calendarioslaborales.com/calendario-laboral-melilla-2025.htm\" title=\"Calendario laboral Melilla 2025\">Melilla</a></li> <li><a href=\"https://www.calendarioslaborales.com/calendario-laboral-murcia-2025.htm\" title=\"Calendario laboral Murcia 2025\">Murcia</a></li> <li><a href=\"https://www.calendarioslaborales.com/calendario-laboral-navarra-2025.htm\" title=\"Calendario laboral Navarra 2025\">Navarra</a></li> <li><a href=\"https://www.calendarioslaborales.com/calendario-laboral-ourense-2025.htm\" title=\"Calendario laboral Ourense 2025\">Ourense</a></li> <li><a href=\"https://www.calendarioslaborales.com/calendario-laboral-oviedo-2025.htm\" title=\"Calendario laboral Oviedo 2025\">Oviedo</a></li> <li><a href=\"https://www.calendarioslaborales.com/calendario-laboral-palencia-2025.htm\" title=\"Calendario laboral Palencia 2025\">Palencia</a></li> <li><a href=\"https://www.calendarioslaborales.com/calendario-laboral-palma-de-mallorca-2025.htm\" title=\"Calendario laboral Palma de Mallorca 2025\">Palma de Mallorca</a></li> <li><a href=\"https://www.calendarioslaborales.com/calendario-laboral-las-palmas-2025.htm\" title=\"Calendario laboral Palmas (Las) 2025\">Palmas (Las)</a></li> <li><a href=\"https://www.calendarioslaborales.com/calendario-laboral-pamplona-2025.htm\" title=\"Calendario laboral Pamplona 2025\">Pamplona</a></li> <li><a href=\"https://www.calendarioslaborales.com/calendario-laboral-pontevedra-2025.htm\" title=\"Calendario laboral Pontevedra 2025\">Pontevedra</a></li> <li><a href=\"https://www.calendarioslaborales.com/calendario-laboral-la-rioja-2025.htm\" title=\"Calendario laboral Rioja (La) 2025\">Rioja (La)</a></li> </ul> </div> <div class=\"col-xs-6 col-sm-3 col-md-12 col-lg-12\"> <ul> <li><a href=\"https://www.calendarioslaborales.com/calendario-laboral-salamanca-2025.htm\" title=\"Calendario laboral Salamanca 2025\">Salamanca</a></li> <li><a href=\"https://www.calendarioslaborales.com/calendario-laboral-san-sebastian-2025.htm\" title=\"Calendario laboral San Sebasti\\xc3\\xa1n 2025\">San Sebasti\\xc3\\xa1n</a></li> <li><a href=\"https://www.calendarioslaborales.com/calendario-laboral-santander-2025.htm\" title=\"Calendario laboral Santander 2025\">Santander</a></li> <li><a href=\"https://www.calendarioslaborales.com/calendario-laboral-segovia-2025.htm\" title=\"Calendario laboral Segovia 2025\">Segovia</a></li> <li><a href=\"https://www.calendarioslaborales.com/calendario-laboral-sevilla-2025.htm\" title=\"Calendario laboral Sevilla 2025\">Sevilla</a></li> <li><a href=\"https://www.calendarioslaborales.com/calendario-laboral-soria-2025.htm\" title=\"Calendario laboral Soria 2025\">Soria</a></li> <li><a href=\"https://www.calendarioslaborales.com/calendario-laboral-tarragona-2025.htm\" title=\"Calendario laboral Tarragona 2025\">Tarragona</a></li> <li><a href=\"https://www.calendarioslaborales.com/calendario-laboral-tenerife-2025.htm\" title=\"Calendario laboral Tenerife (S.C.) 2025\">Tenerife (S.C.)</a></li> <li><a href=\"https://www.calendarioslaborales.com/calendario-laboral-teruel-2025.htm\" title=\"Calendario laboral Teruel 2025\">Teruel</a></li> <li><a href=\"https://www.calendarioslaborales.com/calendario-laboral-toledo-2025.htm\" title=\"Calendario laboral Toledo 2025\">Toledo</a></li> <li><a href=\"https://www.calendarioslaborales.com/calendario-laboral-valencia-2025.htm\" title=\"Calendario laboral Valencia 2025\">Valencia</a></li> <li><a href=\"https://www.calendarioslaborales.com/calendario-laboral-valladolid-2025.htm\" title=\"Calendario laboral Valladolid 2025\">Valladolid</a></li> <li><a href=\"https://www.calendarioslaborales.com/calendario-laboral-vitoria-2025.htm\" title=\"Calendario laboral Vitoria 2025\">Vitoria</a></li> <li><a href=\"https://www.calendarioslaborales.com/calendario-laboral-vizcaya-2025.htm\" title=\"Calendario laboral Vizcaya 2025\">Vizcaya</a></li> <li><a href=\"https://www.calendarioslaborales.com/calendario-laboral-zamora-2025.htm\" title=\"Calendario laboral Zamora 2025\">Zamora</a></li> <li><a href=\"https://www.calendarioslaborales.com/calendario-laboral-zaragoza-2025.htm\" title=\"Calendario laboral Zaragoza 2025\">Zaragoza</a></li> </ul> </div> </div><!-- columnaIzquierda --> </div><!-- row --> </div> </div> <footer> <div id=\"wrapPie\" class=\"container\"> <a href=\"https://www.calendarioslaborales.com/contacto.php\" title=\"Contactar\" rel=\"nofollow\">Contacto</a>&nbsp;&nbsp;&nbsp;&nbsp;&nbsp;&nbsp;&nbsp;&nbsp; <a href=\"https://www.calendarioslaborales.com/notaLegal.php\" rel=\"nofollow\">Aviso Legal</a>&nbsp;&nbsp;&nbsp;&nbsp;&nbsp;&nbsp;&nbsp;&nbsp; <a href=\"https://www.calendarioslaborales.com/politica-cookies.php\" rel=\"nofollow\">Pol\\xc3\\xadtica de cookies</a> <!--<li><a href=\"/quienesSomos.php\" title=\"Quienes Somos\" rel=\"nofollow\">Qui&eacute;nes Somos</a></li>--> </div> <!--//BLOQUE COOKIES--> <div id=\"barraaceptacion\"> <div class=\"inner\"> Usamos cookies para el an\\xc3\\xa1lisis de tus datos de navegaci\\xc3\\xb3n. Al navegar se considera que aceptas su uso <a href=\"https://www.calendarioslaborales.com/politica-cookies.php\" target=\"_blank\" class=\"info\">Pol\\xc3\\xadtica de Cookies</a> | <a href=\"javascript:void(0);\" class=\"ok\" onclick=\"PonerCookie();\"><b>ENTENDIDO!</b></a> <br /><br /> </div> </div> </footer> <!-- JS de JQuery --> <script src=\"vendor/jquery/jquery-3.2.1.min.js\"></script> <!-- JS de Bootstrap --> <script src=\"vendor/bootstrap/js/bootstrap.min.js\"></script> <!-- JS de JQuery --> <script src=\"assets/js/cookies.js\"></script> <!-- share rrss --> <script src=\"assets/js/rrss.js\"></script> </body></html>  \\n'"
      ]
     },
     "execution_count": 6,
     "metadata": {},
     "output_type": "execute_result"
    }
   ],
   "source": [
    "url = \"https://www.calendarioslaborales.com/calendario-laboral-alava-2015.htm\"\n",
    "response= requests.get(url)\n",
    "response.content"
   ]
  },
  {
   "cell_type": "code",
   "execution_count": 7,
   "id": "f781d58a",
   "metadata": {},
   "outputs": [
    {
     "data": {
      "text/plain": [
       "<!DOCTYPE html>\n",
       " <html lang=\"es\"> <head> <meta charset=\"utf-8\"/> <meta content=\"IE=edge\" http-equiv=\"X-UA-Compatible\"/> <meta content=\"width=device-width, initial-scale=1\" name=\"viewport\"/> <link href=\"assets/images/fav.png\" rel=\"shortcut icon\"/> <title>Calendario Laboral Álava 2015</title> <meta content=\"Calendario Laboral de Alava 2015. Anticipate a los días festivos de tu provincia y planifica tus vacaciones.\" name=\"description\"> <meta content=\"calendario laboral Alava 2015,calendario laboral de Alava 2015, calendario fiestas Alava 2015, calendario dias festivos Alava 2015\" name=\"keywords\"> <!-- Open Graph data --> <meta content=\"https://www.calendarioslaborales.com/calendario-laboral-alava-2015.htm\" property=\"og:url\"/> <meta content=\"website\" property=\"og:type\"/> <meta content=\"Calendario Laboral Álava 2015\" property=\"og:title\"/> <meta content=\"Calendario Laboral de Alava 2015. Anticipate a los días festivos de tu provincia y planifica tus vacaciones.\" property=\"og:description\"/> <meta content=\"https://www.calendarioslaborales.com/assets/images/calendarios/calendario-laboral-alava-2015.jpg\" property=\"og:image\"/> <!-- Facebook data --> <meta content=\"156260998367942\" property=\"fb:app_id\"/> <meta content=\"rld88ML5jnK4lDvDSAjW8sWPUWS6x5_DEIi0LM1POiM\" name=\"google-site-verification\"> <!-- CSS de Bootstrap --> <link href=\"vendor/bootstrap/css/bootstrap.min.css\" media=\"screen\" rel=\"stylesheet\"/> <!-- CSS de la web --> <link href=\"assets/css/style.min.css\" rel=\"stylesheet\"/> <!-- librerías opcionales que activan el soporte de HTML5 para IE8 --> <!--[if lt IE 9]> <script src=\"https://oss.maxcdn.com/libs/html5shiv/3.7.0/html5shiv.js\"></script> <script src=\"https://oss.maxcdn.com/libs/respond.js/1.4.2/respond.min.js\"></script> <![endif]--> <script type=\"text/javascript\"> var _gaq = _gaq || []; _gaq.push(['_setAccount', 'UA-21069752-1']); _gaq.push(['_trackPageview']); (function() { var ga = document.createElement('script'); ga.type = 'text/javascript'; ga.async = true; ga.src = ('https:' == document.location.protocol ? 'https://' : 'http://') + 'stats.g.doubleclick.net/dc.js'; var s = document.getElementsByTagName('script')[0]; s.parentNode.insertBefore(ga, s); })(); </script> </meta></meta></meta></head><body> <header> <div class=\"container\" id=\"wrapCabecera\"> <div id=\"logo\"><a href=\"https://www.calendarioslaborales.com\"><img alt=\"Logo calendarioslaborales.com\" class=\"img-responsive\" src=\"assets/images/logotipo.png\"/></a></div> </div> </header> <div class=\"container\" id=\"principal\"> <div class=\"row\"> <div id=\"wrapMiguitas\"> <div id=\"miguitas\"> <a href=\"https://www.calendarioslaborales.com\" title=\"Ir a Inicio\">Inicio</a> &gt; Alava &gt; <a href=\"https://www.calendarioslaborales.com/calendarios-laborales-alava.htm\" title=\"\">2015</a> &gt; Calendario Laboral Alava 2015 </div> </div> <div class=\"col-md-10 col-md-push-2\" id=\"columnaDerecha\"> <div id=\"wrapCalendario\"> <div id=\"publiAdsenseHome\"> <script async=\"\" src=\"//pagead2.googlesyndication.com/pagead/js/adsbygoogle.js\"></script> <!-- cabeceraPaginaCalendario --> <ins class=\"adsbygoogle\" data-ad-client=\"ca-pub-9075812213282082\" data-ad-slot=\"7313965367\" style=\"display:inline-block;width:728px;height:90px\"></ins> <script> (adsbygoogle = window.adsbygoogle || []).push({}); </script> </div> <div id=\"h1\"><h1>Calendario Laboral Alava 2015</h1></div> <div class=\"wrapAnteriorSiguiente\"> <a href=\"https://www.calendarioslaborales.com/calendario-laboral-alava-2014.htm\" title=\"Calendario Laboral alava 2014\">&lt; 2014</a> <a href=\"https://www.calendarioslaborales.com/calendario-laboral-alava-2016.htm\" style=\"float:right;\" title=\"Calendario Laboral alava 2016\">2016 &gt;</a> <p style=\"clear:left\"></p> </div> <div id=\"wrapIconosSociales\"> <ul id=\"listaIconosSociales\"> <li><a class=\"twitter-share\" data-href=\"https://twitter.com/intent/tweet?url=https%3A%2F%2Fwww.calendarioslaborales.com%2Fcalendario-laboral-alava-2015.htm&amp;text=Calendario+laboral+con+los+d%C3%ADas+festivos+en+%C3%81lava+2015\" href=\"#\" title=\"Compartir calendario en Twitter\"><img alt=\"Compartir calendario en Twitter\" class=\"social-icon\" src=\"assets/images/socialIcons/twitter.png\"/></a></li> <li><a class=\"fb-share\" data-href=\"https://www.facebook.com/sharer/sharer.php?u=https%3A%2F%2Fwww.calendarioslaborales.com%2Fcalendario-laboral-alava-2015.htm\" href=\"#\" title=\"Compartir calendario en Facebook\"><img alt=\"Compartir calendario en Facebook\" class=\"social-icon\" src=\"assets/images/socialIcons/facebook.png\"/></a></li> <li><a class=\"googleplus-share\" data-href=\"https://plus.google.com/share?url=https://www.calendarioslaborales.com/calendario-laboral-alava-2015.htm\" href=\"#\" title=\"Compartir calendario en Google+\"><img alt=\"Compartir calendario en en Google+\" class=\"social-icon\" src=\"assets/images/socialIcons/google-plus.png\"/></a></li> </ul> </div> <div id=\"wrapMeses\"> <div id=\"wrapIntoMeses\"> <div class=\"mes\" id=\"wrapEnero\"><h3>Enero</h3><table class=\"tablaMes\" id=\"mesEnero\"> <tr><th>L</th><th>M</th><th>X</th><th>J</th><th>V</th><th>S</th><th>D</th></tr><tr><td> </td><td> </td><td> </td><td class=\"cajaFestivoN\">1</td><td>2</td><td>3</td><td>4</td></tr><tr><td>5</td><td class=\"cajaFestivoN\">6</td><td>7</td><td>8</td><td>9</td><td>10</td><td>11</td></tr><tr><td>12</td><td>13</td><td>14</td><td>15</td><td>16</td><td>17</td><td>18</td></tr><tr><td>19</td><td>20</td><td>21</td><td>22</td><td>23</td><td>24</td><td>25</td></tr><tr><td>26</td><td>27</td><td>28</td><td>29</td><td>30</td><td>31</td><td> </td></tr><tr><td></td><td></td><td></td><td></td><td></td><td></td><td></td></tr> </table><div class=\"wrapFestivos\"><ul><li><span class=\"festivoN\">1 de Enero.</span>Año nuevo</li><li><span class=\"festivoN\">6 de Enero.</span>Epifanía del Señor</li></ul></div></div><div class=\"mes\" id=\"wrapFebrero\"><h3>Febrero</h3><table class=\"tablaMes\" id=\"mesFebrero\"> <tr><th>L</th><th>M</th><th>X</th><th>J</th><th>V</th><th>S</th><th>D</th></tr><tr><td> </td><td> </td><td> </td><td> </td><td> </td><td> </td><td>1</td></tr><tr><td>2</td><td>3</td><td>4</td><td>5</td><td>6</td><td>7</td><td>8</td></tr><tr><td>9</td><td>10</td><td>11</td><td>12</td><td>13</td><td>14</td><td>15</td></tr><tr><td>16</td><td>17</td><td>18</td><td>19</td><td>20</td><td>21</td><td>22</td></tr><tr><td>23</td><td>24</td><td>25</td><td>26</td><td>27</td><td>28</td><td> </td></tr><tr><td></td><td></td><td></td><td></td><td></td><td></td><td></td></tr> </table></div><div class=\"bimestre\"></div><div class=\"mes\" id=\"wrapMarzo\"><h3>Marzo</h3><table class=\"tablaMes\" id=\"mesMarzo\"> <tr><th>L</th><th>M</th><th>X</th><th>J</th><th>V</th><th>S</th><th>D</th></tr><tr><td> </td><td> </td><td> </td><td> </td><td> </td><td> </td><td>1</td></tr><tr><td>2</td><td>3</td><td>4</td><td>5</td><td>6</td><td>7</td><td>8</td></tr><tr><td>9</td><td>10</td><td>11</td><td>12</td><td>13</td><td>14</td><td>15</td></tr><tr><td>16</td><td>17</td><td>18</td><td class=\"cajaFestivoR\">19</td><td>20</td><td>21</td><td>22</td></tr><tr><td>23</td><td>24</td><td>25</td><td>26</td><td>27</td><td>28</td><td>29</td></tr><tr><td>30</td><td>31</td><td> </td><td> </td><td> </td><td> </td><td> </td></tr> </table><div class=\"wrapFestivos\"><ul><li><span class=\"festivoR\">19 de Marzo.</span>San José</li></ul></div></div><div class=\"trimestre\"></div><div class=\"mes\" id=\"wrapAbril\"><h3>Abril</h3><table class=\"tablaMes\" id=\"mesAbril\"> <tr><th>L</th><th>M</th><th>X</th><th>J</th><th>V</th><th>S</th><th>D</th></tr><tr><td> </td><td> </td><td>1</td><td class=\"cajaFestivoR\">2</td><td class=\"cajaFestivoN\">3</td><td>4</td><td>5</td></tr><tr><td class=\"cajaFestivoR\">6</td><td>7</td><td>8</td><td>9</td><td>10</td><td>11</td><td>12</td></tr><tr><td>13</td><td>14</td><td>15</td><td>16</td><td>17</td><td>18</td><td>19</td></tr><tr><td>20</td><td>21</td><td>22</td><td>23</td><td>24</td><td>25</td><td>26</td></tr><tr><td>27</td><td class=\"cajaFestivoP\">28</td><td>29</td><td>30</td><td> </td><td> </td><td> </td></tr><tr><td></td><td></td><td></td><td></td><td></td><td></td><td></td></tr> </table><div class=\"wrapFestivos\"><ul><li><span class=\"festivoR\">2 de Abril.</span>Jueves Santo</li><li><span class=\"festivoN\">3 de Abril.</span>Viernes Santo</li><li><span class=\"festivoR\">6 de Abril.</span>Lunes de Pascua</li><li><span class=\"festivoP\">28 de Abril.</span>San Prudencio</li></ul></div></div><div class=\"bimestre\"></div> <div id=\"bannerMovilIntracalendario\"> <script async=\"\" src=\"//pagead2.googlesyndication.com/pagead/js/adsbygoogle.js\"></script> <!-- BannerIntraCalendario --> <ins class=\"adsbygoogle\" data-ad-client=\"ca-pub-9075812213282082\" data-ad-slot=\"4766770782\" style=\"display:inline-block;width:320px;height:100px\"></ins> <script> (adsbygoogle = window.adsbygoogle || []).push({}); </script> </div> <div class=\"mes\" id=\"wrapMayo\"><h3>Mayo</h3><table class=\"tablaMes\" id=\"mesMayo\"> <tr><th>L</th><th>M</th><th>X</th><th>J</th><th>V</th><th>S</th><th>D</th></tr><tr><td> </td><td> </td><td> </td><td> </td><td class=\"cajaFestivoN\">1</td><td>2</td><td>3</td></tr><tr><td>4</td><td>5</td><td>6</td><td>7</td><td>8</td><td>9</td><td>10</td></tr><tr><td>11</td><td>12</td><td>13</td><td>14</td><td>15</td><td>16</td><td>17</td></tr><tr><td>18</td><td>19</td><td>20</td><td>21</td><td>22</td><td>23</td><td>24</td></tr><tr><td>25</td><td>26</td><td>27</td><td>28</td><td>29</td><td>30</td><td>31</td></tr><tr><td> </td><td> </td><td> </td><td> </td><td> </td><td> </td><td> </td></tr> </table><div class=\"wrapFestivos\"><ul><li><span class=\"festivoN\">1 de Mayo.</span>Día del trabajo</li></ul></div></div><div class=\"mes\" id=\"wrapJunio\"><h3>Junio</h3><table class=\"tablaMes\" id=\"mesJunio\"> <tr><th>L</th><th>M</th><th>X</th><th>J</th><th>V</th><th>S</th><th>D</th></tr><tr><td>1</td><td>2</td><td>3</td><td>4</td><td>5</td><td>6</td><td>7</td></tr><tr><td>8</td><td>9</td><td>10</td><td>11</td><td>12</td><td>13</td><td>14</td></tr><tr><td>15</td><td>16</td><td>17</td><td>18</td><td>19</td><td>20</td><td>21</td></tr><tr><td>22</td><td>23</td><td>24</td><td>25</td><td>26</td><td>27</td><td>28</td></tr><tr><td>29</td><td>30</td><td> </td><td> </td><td> </td><td> </td><td> </td></tr><tr><td></td><td></td><td></td><td></td><td></td><td></td><td></td></tr> </table></div><div class=\"trimestre\"></div><div class=\"bimestre\"></div><div class=\"mes\" id=\"wrapJulio\"><h3>Julio</h3><table class=\"tablaMes\" id=\"mesJulio\"> <tr><th>L</th><th>M</th><th>X</th><th>J</th><th>V</th><th>S</th><th>D</th></tr><tr><td> </td><td> </td><td>1</td><td>2</td><td>3</td><td>4</td><td>5</td></tr><tr><td>6</td><td>7</td><td>8</td><td>9</td><td>10</td><td>11</td><td>12</td></tr><tr><td>13</td><td>14</td><td>15</td><td>16</td><td>17</td><td>18</td><td>19</td></tr><tr><td>20</td><td>21</td><td>22</td><td>23</td><td>24</td><td class=\"cajaFestivoR\">25</td><td>26</td></tr><tr><td>27</td><td>28</td><td>29</td><td>30</td><td>31</td><td> </td><td> </td></tr><tr><td></td><td></td><td></td><td></td><td></td><td></td><td></td></tr> </table><div class=\"wrapFestivos\"><ul><li><span class=\"festivoR\">25 de Julio.</span>Santiago Apostol</li></ul></div></div><div class=\"mes\" id=\"wrapAgosto\"><h3>Agosto</h3><table class=\"tablaMes\" id=\"mesAgosto\"> <tr><th>L</th><th>M</th><th>X</th><th>J</th><th>V</th><th>S</th><th>D</th></tr><tr><td> </td><td> </td><td> </td><td> </td><td> </td><td>1</td><td>2</td></tr><tr><td>3</td><td>4</td><td class=\"cajaFestivoP\">5</td><td>6</td><td>7</td><td>8</td><td>9</td></tr><tr><td>10</td><td>11</td><td>12</td><td>13</td><td>14</td><td class=\"cajaFestivoN\">15</td><td>16</td></tr><tr><td>17</td><td>18</td><td>19</td><td>20</td><td>21</td><td>22</td><td>23</td></tr><tr><td>24</td><td>25</td><td>26</td><td>27</td><td>28</td><td>29</td><td>30</td></tr><tr><td>31</td><td> </td><td> </td><td> </td><td> </td><td> </td><td> </td></tr> </table><div class=\"wrapFestivos\"><ul><li><span class=\"festivoP\">5 de Agosto.</span>Virgen Blanca</li><li><span class=\"festivoN\">15 de Agosto.</span>Asunción de la Virgen</li></ul></div></div><div class=\"bimestre\"></div><div class=\"mes\" id=\"wrapSeptiembre\"><h3>Septiembre</h3><table class=\"tablaMes\" id=\"mesSeptiembre\"> <tr><th>L</th><th>M</th><th>X</th><th>J</th><th>V</th><th>S</th><th>D</th></tr><tr><td> </td><td>1</td><td>2</td><td>3</td><td>4</td><td>5</td><td>6</td></tr><tr><td>7</td><td>8</td><td>9</td><td>10</td><td>11</td><td>12</td><td>13</td></tr><tr><td>14</td><td>15</td><td>16</td><td>17</td><td>18</td><td>19</td><td>20</td></tr><tr><td>21</td><td>22</td><td>23</td><td>24</td><td>25</td><td>26</td><td>27</td></tr><tr><td>28</td><td>29</td><td>30</td><td> </td><td> </td><td> </td><td> </td></tr><tr><td></td><td></td><td></td><td></td><td></td><td></td><td></td></tr> </table></div><div class=\"trimestre\"></div><div class=\"mes\" id=\"wrapOctubre\"><h3>Octubre</h3><table class=\"tablaMes\" id=\"mesOctubre\"> <tr><th>L</th><th>M</th><th>X</th><th>J</th><th>V</th><th>S</th><th>D</th></tr><tr><td> </td><td> </td><td> </td><td>1</td><td>2</td><td>3</td><td>4</td></tr><tr><td>5</td><td>6</td><td>7</td><td>8</td><td>9</td><td>10</td><td>11</td></tr><tr><td class=\"cajaFestivoN\">12</td><td>13</td><td>14</td><td>15</td><td>16</td><td>17</td><td>18</td></tr><tr><td>19</td><td>20</td><td>21</td><td>22</td><td>23</td><td>24</td><td>25</td></tr><tr><td>26</td><td>27</td><td>28</td><td>29</td><td>30</td><td>31</td><td> </td></tr><tr><td></td><td></td><td></td><td></td><td></td><td></td><td></td></tr> </table><div class=\"wrapFestivos\"><ul><li><span class=\"festivoN\">12 de Octubre.</span>Fiesta Nacional Española</li></ul></div></div><div class=\"bimestre\"></div><div class=\"mes\" id=\"wrapNoviembre\"><h3>Noviembre</h3><table class=\"tablaMes\" id=\"mesNoviembre\"> <tr><th>L</th><th>M</th><th>X</th><th>J</th><th>V</th><th>S</th><th>D</th></tr><tr><td> </td><td> </td><td> </td><td> </td><td> </td><td> </td><td>1</td></tr><tr><td>2</td><td>3</td><td>4</td><td>5</td><td>6</td><td>7</td><td>8</td></tr><tr><td>9</td><td>10</td><td>11</td><td>12</td><td>13</td><td>14</td><td>15</td></tr><tr><td>16</td><td>17</td><td>18</td><td>19</td><td>20</td><td>21</td><td>22</td></tr><tr><td>23</td><td>24</td><td>25</td><td>26</td><td>27</td><td>28</td><td>29</td></tr><tr><td>30</td><td> </td><td> </td><td> </td><td> </td><td> </td><td> </td></tr> </table></div><div class=\"mes\" id=\"wrapDiciembre\"><h3>Diciembre</h3><table class=\"tablaMes\" id=\"mesDiciembre\"> <tr><th>L</th><th>M</th><th>X</th><th>J</th><th>V</th><th>S</th><th>D</th></tr><tr><td> </td><td>1</td><td>2</td><td>3</td><td>4</td><td>5</td><td>6</td></tr><tr><td>7</td><td class=\"cajaFestivoN\">8</td><td>9</td><td>10</td><td>11</td><td>12</td><td>13</td></tr><tr><td>14</td><td>15</td><td>16</td><td>17</td><td>18</td><td>19</td><td>20</td></tr><tr><td>21</td><td>22</td><td>23</td><td>24</td><td class=\"cajaFestivoN\">25</td><td>26</td><td>27</td></tr><tr><td>28</td><td>29</td><td>30</td><td>31</td><td> </td><td> </td><td> </td></tr><tr><td></td><td></td><td></td><td></td><td></td><td></td><td></td></tr> </table><div class=\"wrapFestivos\"><ul><li><span class=\"festivoN\">8 de Diciembre.</span>Inmaculada Concepción</li><li><span class=\"festivoN\">25 de Diciembre.</span>Natividad del Señor</li></ul></div></div><div class=\"trimestre\"></div><div class=\"bimestre\"></div> <div id=\"wrapLeyenda\"> <div id=\"wrapLeyendaFestivosNacionales\"> <div class=\"wrapDiaFestivo\"><div class=\"cuadroLeyenda cajaFestivoN\"></div><span>Días Festivos Nacionales</span></div> </div> <div id=\"wrapLeyendaFestivosRegionales\"> <div class=\"cuadroLeyenda cajaFestivoR\"></div><span>Días Festivos Regionales</span> </div> <div id=\"wrapLeyendaFestivosLocales\"> <div class=\"cuadroLeyenda cajaFestivoL\"></div><span>Días Festivos Locales</span> </div> </div><!-- #wrapLeyenda --> <p style=\"clear:left\"></p> </div> </div><!-- #wrapMeses --> </div><!-- #wrapCalendario --> <div class=\"wrapSeccionPaginaCalendario\"> <h2>Descargar calendario Alava 2015 para imprimir</h2> <div id=\"wrapBotonesPDFJPG\"> <a class=\"botonDescargaJPGPDF\" href=\"https://www.calendarioslaborales.com/calendario-laboral-alava-2015-PDF.pdf\" id=\"botonDescargaPDF\" onclick=\"javascript: pageTracker._trackPageview('/calendario-laboral-Alava-2015-PDF'); \" target=\"_blank\" title=\"Calendario Laboral Alava 2015 PDF\">Descargar<br/> en PDF</a> <!-- <a class=\"botonDescargaJPGPDF\" id=\"botonDescargaJPG\" title=\"Calendario Laboral Alava 2015 en jpg\" target=\"_blank\" href=\"https://www.calendarioslaborales.com/assets/images/calendarios/calendario-laboral-alava-2015.jpg\">Descargar<br /> en JPG</a> --> <p style=\"clear:left\"></p> </div> </div> <div id=\"publiCalendarioAbajo\"> <script async=\"\" src=\"//pagead2.googlesyndication.com/pagead/js/adsbygoogle.js\"></script> <!-- Publi Adaptable abajo --> <ins class=\"adsbygoogle\" data-ad-client=\"ca-pub-9075812213282082\" data-ad-format=\"auto\" data-ad-slot=\"4203847783\" style=\"display:block\"></ins> <script> (adsbygoogle = window.adsbygoogle || []).push({}); </script> </div> <!--<div class=\"wrapSeccionPaginaCalendario\"> <h2>Calendarios laborales 2018 en la provincia de Barcelona</h2> </div> <div class=\"wrapSeccionPaginaCalendario\"> <h2>Pon este calendario en tu web</h2> <p>Ponga en su web el calendario de días festivos del mes actual</p> <div class=\"mesWidget\"> <h3>Diciembre</h3> <table class=\"tablaMes\" id=\"mesDiciembre\"> <tr><th>L</th><th>M</th><th>X</th><th>J</th><th>V</th><th>S</th><th>D</th></tr> <tr> <td class=\"cajaFestivoN\">1</td><td>2</td><td>3</td><td>4</td><td>5</td><td class=\"cajaFestivoN\">6</td><td>7</td></tr> <tr><td>8</td><td>9</td><td>10</td><td>11</td><td>12</td><td>13</td><td>14</td></tr> <tr><td>15</td><td>16</td><td>17</td><td>18</td><td>19</td><td>20</td><td>21</td></tr> <tr><td>22</td><td>23</td><td>24</td><td>25</td><td>26</td><td>27</td><td>28</td></tr> <tr><td>29</td><td>30</td><td>31</td><td>&nbsp;</td><td>&nbsp;</td><td>&nbsp;</td><td>&nbsp;</td></tr> <tr><td></td><td></td><td></td><td></td><td></td><td></td><td></td></tr> </table> <a href=\"#\" title=\"Ver calendario laboral de Barcelona 2018 completo\">Calendario laboral Barcelona 2018</a> </div> <table id=\"tablaWidget\"> <tbody> <tr> <td colspan=\"2\" width=\"50%\"> <h4>Calendario</h4> </td> <td colspan=\"2\" width=\"50%\"> <h4>Cabecera</h4></td> </tr> <tr> <td>Fondo</td> <td> <div id=\"cabBg\" class=\"input-group colorpicker-element\"> <input name=\"widget[cabBg]\" class=\"form-control\" value=\"#CA0022\" type=\"text\"><span class=\"input-group-addon\"><i style=\"background-color: rgb(202, 0, 34);\"></i></span> </div> </td> <td>Fondo</td> <td> <div id=\"cabBg\" class=\"input-group colorpicker-element\"> <input name=\"widget[cabBg]\" class=\"form-control\" value=\"#CA0022\" type=\"text\"><span class=\"input-group-addon\"><i style=\"background-color: rgb(202, 0, 34);\"></i></span> </div> </td> </tr> <tr> <td>Texto</td> <td> <div id=\"cabBg\" class=\"input-group colorpicker-element\"> <input name=\"widget[calColor]\" class=\"form-control\" value=\"#CA0022\" type=\"text\"><span class=\"input-group-addon\"><i style=\"background-color: rgb(202, 0, 34);\"></i></span> </div> </td> <td>Texto</td> <td> <div id=\"cabColor\" class=\"input-group colorpicker-element\"> <input name=\"widget[cabColor]\" class=\"form-control\" value=\"#FFFFFF\" type=\"text\"><span class=\"input-group-addon\"><i style=\"background-color: rgb(255, 255, 255);\"></i></span> </div> </td> </tr> </tbody> </table> <button id=\"botonObtenerCodigo\">Obtener Código</button><br /> <div id=\"wrapTextareaObtenerCodigo\"> <textarea id=\"textareaObtenerCodigo\">asdf</textarea> </div> </div>--> </div><!--#columnaDerecha--> <div class=\"col-md-2 col-md-pull-10\" id=\"columnaIzquierda\"> <h3>Calendarios 2025</h3> <div class=\"row\"> <div class=\"col-xs-6 col-sm-3 col-md-12 col-lg-12\"> <ul> <li><a href=\"https://www.calendarioslaborales.com/calendario-laboral-alava-2025.htm\" title=\"Calendario laboral Álava 2025\">Álava</a></li> <li><a href=\"https://www.calendarioslaborales.com/calendario-laboral-albacete-2025.htm\" title=\"Calendario laboral Albacete 2025\">Albacete</a></li> <li><a href=\"https://www.calendarioslaborales.com/calendario-laboral-alicante-2025.htm\" title=\"Calendario laboral Alicante 2025\">Alicante</a></li> <li><a href=\"https://www.calendarioslaborales.com/calendario-laboral-almeria-2025.htm\" title=\"Calendario laboral Almería 2025\">Almería</a></li> <li><a href=\"https://www.calendarioslaborales.com/calendario-laboral-asturias-2025.htm\" title=\"Calendario laboral Asturias 2025\">Asturias</a></li> <li><a href=\"https://www.calendarioslaborales.com/calendario-laboral-avila-2025.htm\" title=\"Calendario laboral Ávila 2025\">Ávila</a></li> <li><a href=\"https://www.calendarioslaborales.com/calendario-laboral-badajoz-2025.htm\" title=\"Calendario laboral Badajoz 2025\">Badajoz</a></li> <li><a href=\"https://www.calendarioslaborales.com/calendario-laboral-baleares-2025.htm\" title=\"Calendario laboral Baleares 2025\">Baleares</a></li> <li><a href=\"https://www.calendarioslaborales.com/calendario-laboral-barcelona-2025.htm\" title=\"Calendario laboral Barcelona 2025\">Barcelona</a></li> <li><a href=\"https://www.calendarioslaborales.com/calendario-laboral-bilbao-2025.htm\" title=\"Calendario laboral Bilbao 2025\">Bilbao</a></li> <li><a href=\"https://www.calendarioslaborales.com/calendario-laboral-burgos-2025.htm\" title=\"Calendario laboral Burgos 2025\">Burgos</a></li> <li><a href=\"https://www.calendarioslaborales.com/calendario-laboral-caceres-2025.htm\" title=\"Calendario laboral Cáceres 2025\">Cáceres</a></li> <li><a href=\"https://www.calendarioslaborales.com/calendario-laboral-cadiz-2025.htm\" title=\"Calendario laboral Cádiz 2025\">Cádiz</a></li> <li><a href=\"https://www.calendarioslaborales.com/calendario-laboral-cantabria-2025.htm\" title=\"Calendario laboral Cantabria 2025\">Cantabria</a></li> <li><a href=\"https://www.calendarioslaborales.com/calendario-laboral-castellon-2025.htm\" title=\"Calendario laboral Castellón 2025\">Castellón</a></li> </ul> </div> <div class=\"col-xs-6 col-sm-3 col-md-12 col-lg-12\"> <ul> <li><a href=\"https://www.calendarioslaborales.com/calendario-laboral-ceuta-2025.htm\" title=\"Calendario laboral Ceuta 2025\">Ceuta</a></li> <li><a href=\"https://www.calendarioslaborales.com/calendario-laboral-ciudad-real-2025.htm\" title=\"Calendario laboral Ciudad Real 2025\">Ciudad Real</a></li> <li><a href=\"https://www.calendarioslaborales.com/calendario-laboral-cordoba-2025.htm\" title=\"Calendario laboral Córdoba 2025\">Córdoba</a></li> <li><a href=\"https://www.calendarioslaborales.com/calendario-laboral-la-coruna-2025.htm\" title=\"Calendario laboral Coruña, La 2025\">Coruña, La</a></li> <li><a href=\"https://www.calendarioslaborales.com/calendario-laboral-cuenca-2025.htm\" title=\"Calendario laboral Cuenca 2025\">Cuenca</a></li> <li><a href=\"https://www.calendarioslaborales.com/calendario-laboral-gijon-2025.htm\" title=\"Calendario laboral Gijón 2025\">Gijón</a></li> <li><a href=\"https://www.calendarioslaborales.com/calendario-laboral-girona-2025.htm\" title=\"Calendario laboral Girona 2025\">Girona</a></li> <li><a href=\"https://www.calendarioslaborales.com/calendario-laboral-granada-2025.htm\" title=\"Calendario laboral Granada 2025\">Granada</a></li> <li><a href=\"https://www.calendarioslaborales.com/calendario-laboral-guadalajara-2025.htm\" title=\"Calendario laboral Guadalajara 2025\">Guadalajara</a></li> <li><a href=\"https://www.calendarioslaborales.com/calendario-laboral-guipuzcoa-2025.htm\" title=\"Calendario laboral Guipuzcoa 2025\">Guipuzcoa</a></li> <li><a href=\"https://www.calendarioslaborales.com/calendario-laboral-huelva-2025.htm\" title=\"Calendario laboral Huelva 2025\">Huelva</a></li> <li><a href=\"https://www.calendarioslaborales.com/calendario-laboral-huesca-2025.htm\" title=\"Calendario laboral Huesca 2025\">Huesca</a></li> <li><a href=\"https://www.calendarioslaborales.com/calendario-laboral-jaen-2025.htm\" title=\"Calendario laboral Jaén 2025\">Jaén</a></li> <li><a href=\"https://www.calendarioslaborales.com/calendario-laboral-leon-2025.htm\" title=\"Calendario laboral León 2025\">León</a></li> <li><a href=\"https://www.calendarioslaborales.com/calendario-laboral-lleida-2025.htm\" title=\"Calendario laboral Lleida 2025\">Lleida</a></li> </ul> </div> <div class=\"col-xs-6 col-sm-3 col-md-12 col-lg-12\"> <ul> <li><a href=\"https://www.calendarioslaborales.com/calendario-laboral-logrono-2025.htm\" title=\"Calendario laboral Logroño 2025\">Logroño</a></li> <li><a href=\"https://www.calendarioslaborales.com/calendario-laboral-lugo-2025.htm\" title=\"Calendario laboral Lugo 2025\">Lugo</a></li> <li><a href=\"https://www.calendarioslaborales.com/calendario-laboral-madrid-2025.htm\" title=\"Calendario laboral Madrid 2025\">Madrid</a></li> <li><a href=\"https://www.calendarioslaborales.com/calendario-laboral-malaga-2025.htm\" title=\"Calendario laboral Málaga 2025\">Málaga</a></li> <li><a href=\"https://www.calendarioslaborales.com/calendario-laboral-melilla-2025.htm\" title=\"Calendario laboral Melilla 2025\">Melilla</a></li> <li><a href=\"https://www.calendarioslaborales.com/calendario-laboral-murcia-2025.htm\" title=\"Calendario laboral Murcia 2025\">Murcia</a></li> <li><a href=\"https://www.calendarioslaborales.com/calendario-laboral-navarra-2025.htm\" title=\"Calendario laboral Navarra 2025\">Navarra</a></li> <li><a href=\"https://www.calendarioslaborales.com/calendario-laboral-ourense-2025.htm\" title=\"Calendario laboral Ourense 2025\">Ourense</a></li> <li><a href=\"https://www.calendarioslaborales.com/calendario-laboral-oviedo-2025.htm\" title=\"Calendario laboral Oviedo 2025\">Oviedo</a></li> <li><a href=\"https://www.calendarioslaborales.com/calendario-laboral-palencia-2025.htm\" title=\"Calendario laboral Palencia 2025\">Palencia</a></li> <li><a href=\"https://www.calendarioslaborales.com/calendario-laboral-palma-de-mallorca-2025.htm\" title=\"Calendario laboral Palma de Mallorca 2025\">Palma de Mallorca</a></li> <li><a href=\"https://www.calendarioslaborales.com/calendario-laboral-las-palmas-2025.htm\" title=\"Calendario laboral Palmas (Las) 2025\">Palmas (Las)</a></li> <li><a href=\"https://www.calendarioslaborales.com/calendario-laboral-pamplona-2025.htm\" title=\"Calendario laboral Pamplona 2025\">Pamplona</a></li> <li><a href=\"https://www.calendarioslaborales.com/calendario-laboral-pontevedra-2025.htm\" title=\"Calendario laboral Pontevedra 2025\">Pontevedra</a></li> <li><a href=\"https://www.calendarioslaborales.com/calendario-laboral-la-rioja-2025.htm\" title=\"Calendario laboral Rioja (La) 2025\">Rioja (La)</a></li> </ul> </div> <div class=\"col-xs-6 col-sm-3 col-md-12 col-lg-12\"> <ul> <li><a href=\"https://www.calendarioslaborales.com/calendario-laboral-salamanca-2025.htm\" title=\"Calendario laboral Salamanca 2025\">Salamanca</a></li> <li><a href=\"https://www.calendarioslaborales.com/calendario-laboral-san-sebastian-2025.htm\" title=\"Calendario laboral San Sebastián 2025\">San Sebastián</a></li> <li><a href=\"https://www.calendarioslaborales.com/calendario-laboral-santander-2025.htm\" title=\"Calendario laboral Santander 2025\">Santander</a></li> <li><a href=\"https://www.calendarioslaborales.com/calendario-laboral-segovia-2025.htm\" title=\"Calendario laboral Segovia 2025\">Segovia</a></li> <li><a href=\"https://www.calendarioslaborales.com/calendario-laboral-sevilla-2025.htm\" title=\"Calendario laboral Sevilla 2025\">Sevilla</a></li> <li><a href=\"https://www.calendarioslaborales.com/calendario-laboral-soria-2025.htm\" title=\"Calendario laboral Soria 2025\">Soria</a></li> <li><a href=\"https://www.calendarioslaborales.com/calendario-laboral-tarragona-2025.htm\" title=\"Calendario laboral Tarragona 2025\">Tarragona</a></li> <li><a href=\"https://www.calendarioslaborales.com/calendario-laboral-tenerife-2025.htm\" title=\"Calendario laboral Tenerife (S.C.) 2025\">Tenerife (S.C.)</a></li> <li><a href=\"https://www.calendarioslaborales.com/calendario-laboral-teruel-2025.htm\" title=\"Calendario laboral Teruel 2025\">Teruel</a></li> <li><a href=\"https://www.calendarioslaborales.com/calendario-laboral-toledo-2025.htm\" title=\"Calendario laboral Toledo 2025\">Toledo</a></li> <li><a href=\"https://www.calendarioslaborales.com/calendario-laboral-valencia-2025.htm\" title=\"Calendario laboral Valencia 2025\">Valencia</a></li> <li><a href=\"https://www.calendarioslaborales.com/calendario-laboral-valladolid-2025.htm\" title=\"Calendario laboral Valladolid 2025\">Valladolid</a></li> <li><a href=\"https://www.calendarioslaborales.com/calendario-laboral-vitoria-2025.htm\" title=\"Calendario laboral Vitoria 2025\">Vitoria</a></li> <li><a href=\"https://www.calendarioslaborales.com/calendario-laboral-vizcaya-2025.htm\" title=\"Calendario laboral Vizcaya 2025\">Vizcaya</a></li> <li><a href=\"https://www.calendarioslaborales.com/calendario-laboral-zamora-2025.htm\" title=\"Calendario laboral Zamora 2025\">Zamora</a></li> <li><a href=\"https://www.calendarioslaborales.com/calendario-laboral-zaragoza-2025.htm\" title=\"Calendario laboral Zaragoza 2025\">Zaragoza</a></li> </ul> </div> </div><!-- columnaIzquierda --> </div><!-- row --> </div> </div> <footer> <div class=\"container\" id=\"wrapPie\"> <a href=\"https://www.calendarioslaborales.com/contacto.php\" rel=\"nofollow\" title=\"Contactar\">Contacto</a>         <a href=\"https://www.calendarioslaborales.com/notaLegal.php\" rel=\"nofollow\">Aviso Legal</a>         <a href=\"https://www.calendarioslaborales.com/politica-cookies.php\" rel=\"nofollow\">Política de cookies</a> <!--<li><a href=\"/quienesSomos.php\" title=\"Quienes Somos\" rel=\"nofollow\">Qui&eacute;nes Somos</a></li>--> </div> <!--//BLOQUE COOKIES--> <div id=\"barraaceptacion\"> <div class=\"inner\"> Usamos cookies para el análisis de tus datos de navegación. Al navegar se considera que aceptas su uso <a class=\"info\" href=\"https://www.calendarioslaborales.com/politica-cookies.php\" target=\"_blank\">Política de Cookies</a> | <a class=\"ok\" href=\"javascript:void(0);\" onclick=\"PonerCookie();\"><b>ENTENDIDO!</b></a> <br/><br/> </div> </div> </footer> <!-- JS de JQuery --> <script src=\"vendor/jquery/jquery-3.2.1.min.js\"></script> <!-- JS de Bootstrap --> <script src=\"vendor/bootstrap/js/bootstrap.min.js\"></script> <!-- JS de JQuery --> <script src=\"assets/js/cookies.js\"></script> <!-- share rrss --> <script src=\"assets/js/rrss.js\"></script> </body></html>"
      ]
     },
     "execution_count": 7,
     "metadata": {},
     "output_type": "execute_result"
    }
   ],
   "source": [
    "soup = bs(response.content, \"html.parser\")\n",
    "soup"
   ]
  },
  {
   "cell_type": "code",
   "execution_count": 8,
   "id": "27d33908",
   "metadata": {},
   "outputs": [
    {
     "data": {
      "text/plain": [
       "[<div class=\"wrapFestivos\"><ul><li><span class=\"festivoN\">1 de Enero.</span>Año nuevo</li><li><span class=\"festivoN\">6 de Enero.</span>Epifanía del Señor</li></ul></div>,\n",
       " <div class=\"wrapFestivos\"><ul><li><span class=\"festivoR\">19 de Marzo.</span>San José</li></ul></div>,\n",
       " <div class=\"wrapFestivos\"><ul><li><span class=\"festivoR\">2 de Abril.</span>Jueves Santo</li><li><span class=\"festivoN\">3 de Abril.</span>Viernes Santo</li><li><span class=\"festivoR\">6 de Abril.</span>Lunes de Pascua</li><li><span class=\"festivoP\">28 de Abril.</span>San Prudencio</li></ul></div>,\n",
       " <div class=\"wrapFestivos\"><ul><li><span class=\"festivoN\">1 de Mayo.</span>Día del trabajo</li></ul></div>,\n",
       " <div class=\"wrapFestivos\"><ul><li><span class=\"festivoR\">25 de Julio.</span>Santiago Apostol</li></ul></div>,\n",
       " <div class=\"wrapFestivos\"><ul><li><span class=\"festivoP\">5 de Agosto.</span>Virgen Blanca</li><li><span class=\"festivoN\">15 de Agosto.</span>Asunción de la Virgen</li></ul></div>,\n",
       " <div class=\"wrapFestivos\"><ul><li><span class=\"festivoN\">12 de Octubre.</span>Fiesta Nacional Española</li></ul></div>,\n",
       " <div class=\"wrapFestivos\"><ul><li><span class=\"festivoN\">8 de Diciembre.</span>Inmaculada Concepción</li><li><span class=\"festivoN\">25 de Diciembre.</span>Natividad del Señor</li></ul></div>]"
      ]
     },
     "execution_count": 8,
     "metadata": {},
     "output_type": "execute_result"
    }
   ],
   "source": [
    "soup.find_all(\"div\", class_=\"wrapFestivos\")"
   ]
  },
  {
   "cell_type": "code",
   "execution_count": 14,
   "id": "800e4464",
   "metadata": {},
   "outputs": [
    {
     "data": {
      "text/plain": [
       "2"
      ]
     },
     "execution_count": 14,
     "metadata": {},
     "output_type": "execute_result"
    }
   ],
   "source": [
    "len(soup.find_all(\"div\", class_=\"wrapFestivos\")[0].find_all(\"li\"))"
   ]
  },
  {
   "cell_type": "code",
   "execution_count": null,
   "id": "a348f9d7",
   "metadata": {},
   "outputs": [
    {
     "data": {
      "text/plain": [
       "'1 de Enero.Año nuevo'"
      ]
     },
     "execution_count": 13,
     "metadata": {},
     "output_type": "execute_result"
    }
   ],
   "source": [
    "# soup.find_all(\"div\", class_=\"wrapFestivos\")[0].find_all(\"li\")[0].get_text()\n",
    "# # "
   ]
  },
  {
   "cell_type": "code",
   "execution_count": null,
   "id": "562a254d",
   "metadata": {},
   "outputs": [],
   "source": [
    "# cols = []\n",
    "# df_festivos = "
   ]
  },
  {
   "cell_type": "code",
   "execution_count": null,
   "id": "d255ef71",
   "metadata": {},
   "outputs": [
    {
     "data": {
      "text/plain": [
       "['1 de Enero.Año nuevo',\n",
       " '6 de Enero.Epifanía del Señor',\n",
       " '19 de Marzo.San José',\n",
       " '2 de Abril.Jueves Santo',\n",
       " '3 de Abril.Viernes Santo',\n",
       " '6 de Abril.Lunes de Pascua',\n",
       " '28 de Abril.San Prudencio',\n",
       " '1 de Mayo.Día del trabajo',\n",
       " '25 de Julio.Santiago Apostol',\n",
       " '5 de Agosto.Virgen Blanca',\n",
       " '15 de Agosto.Asunción de la Virgen',\n",
       " '12 de Octubre.Fiesta Nacional Española',\n",
       " '8 de Diciembre.Inmaculada Concepción',\n",
       " '25 de Diciembre.Natividad del Señor']"
      ]
     },
     "execution_count": 26,
     "metadata": {},
     "output_type": "execute_result"
    }
   ],
   "source": [
    "# for elem in soup.find_all(\"div\", class_=\"wrapFestivos\"):\n",
    "#     # print(elem)\n",
    "#     # print(elem.find_all('li'))\n",
    "#     # print([i.get_text() for i in elem])\n",
    "#     # print(elem.find(\"span\").text)\n",
    "#     # print(elem.find(\"li\").text)\n",
    "#     # print(elem)\n",
    "#     for li in elem.find_all(\"li\"):\n",
    "#         texto = li.get_text(strip=True)\n",
    "#         festivos.append(texto)\n",
    "# festivos"
   ]
  },
  {
   "cell_type": "code",
   "execution_count": 34,
   "id": "8cb26e39",
   "metadata": {},
   "outputs": [
    {
     "data": {
      "text/plain": [
       "'https://www.calendarioslaborales.com/calendario-laboral-madrid-2025.htm'"
      ]
     },
     "execution_count": 34,
     "metadata": {},
     "output_type": "execute_result"
    }
   ],
   "source": [
    "import pandas as pd\n",
    "import requests\n",
    "from bs4 import BeautifulSoup\n",
    "\n",
    "# Configura tu búsqueda\n",
    "provincia = \"Madrid\"\n",
    "comunidad = \"Madrid\"\n",
    "anio = 2025\n",
    "url = f\"https://www.calendarioslaborales.com/calendario-laboral-{provincia.lower()}-{anio}.htm\"\n",
    "url\n",
    "\n",
    "\n",
    "# Petición y parseo\n",
    "res = requests.get(url)\n",
    "soup = BeautifulSoup(res.text, \"html.parser\")\n",
    "\n",
    "# Lista para almacenar resultados\n",
    "festivos = []\n",
    "\n",
    "# Buscar todos los contenedores de festivos\n",
    "for div in soup.find_all(\"div\", class_=\"wrapFestivos\"):\n",
    "    for li in div.find_all(\"li\"):\n",
    "        # Extraer clase para determinar ámbito\n",
    "        clase = li.find(\"span\").get(\"class\", [\"\"])[0]  # ejemplo: festivoN\n",
    "        ambito = {\n",
    "            \"festivoN\": \"nacional\",\n",
    "            \"festivoP\": \"local\",\n",
    "            \"festivoR\": \"regional\"\n",
    "        }.get(clase, \"desconocido\")\n",
    "        \n",
    "        # Extraer fecha y nombre del festivo\n",
    "        span = li.find(\"span\")\n",
    "        fecha = span.text.strip().rstrip('.').split()  # e.g., \"1 de Enero\"\n",
    "        festivo_nombre = li.get_text().replace(span.text, \"\").strip()\n",
    "        \n",
    "        # Añadir al dataset\n",
    "        festivos.append({\n",
    "            \"dia\": int(fecha[0]),\n",
    "            \"mes\": fecha[-1],\n",
    "            \"anio\": anio,\n",
    "            \"festivo\": festivo_nombre,\n",
    "            \"provincia\": provincia,\n",
    "            \"comunidad\": comunidad,\n",
    "            \"ambito\": ambito,\n",
    "        })\n",
    "\n",
    "# Crear DataFrame\n",
    "df_festivos = pd.DataFrame(festivos)\n",
    "print(df_festivos)\n"
   ]
  },
  {
   "cell_type": "code",
   "execution_count": 39,
   "id": "5413a7bd",
   "metadata": {},
   "outputs": [
    {
     "data": {
      "text/plain": [
       "'Enero'"
      ]
     },
     "execution_count": 39,
     "metadata": {},
     "output_type": "execute_result"
    }
   ],
   "source": [
    "('1 de Enero'.split()[-1])"
   ]
  },
  {
   "cell_type": "code",
   "execution_count": null,
   "id": "4e978c51",
   "metadata": {},
   "outputs": [],
   "source": []
  }
 ],
 "metadata": {
  "kernelspec": {
   "display_name": "Python 3",
   "language": "python",
   "name": "python3"
  },
  "language_info": {
   "codemirror_mode": {
    "name": "ipython",
    "version": 3
   },
   "file_extension": ".py",
   "mimetype": "text/x-python",
   "name": "python",
   "nbconvert_exporter": "python",
   "pygments_lexer": "ipython3",
   "version": "3.11.4"
  }
 },
 "nbformat": 4,
 "nbformat_minor": 5
}
