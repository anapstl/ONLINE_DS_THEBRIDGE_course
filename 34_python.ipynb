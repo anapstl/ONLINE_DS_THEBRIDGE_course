{
 "cells": [
  {
   "cell_type": "markdown",
   "id": "d14ea34a-6f40-4a78-ab35-ad5d77b6406e",
   "metadata": {},
   "source": [
    "# Python basics I: print, comments, otros aspectos básicos"
   ]
  },
  {
   "cell_type": "markdown",
   "id": "a2d34b5c-761c-4fbc-acb4-df1358832251",
   "metadata": {},
   "source": [
    "https://colab.research.google.com/drive/1HO0OhEZSzoDzLlXeYkTckULnHIE-SPMs#Comentarios"
   ]
  },
  {
   "cell_type": "markdown",
   "id": "a7b103e8-750f-4edd-ac18-f19cccd60037",
   "metadata": {},
   "source": [
    "## Print"
   ]
  },
  {
   "cell_type": "code",
   "execution_count": 1,
   "id": "4e1b1797-cfcf-4885-93a5-c486b55e0273",
   "metadata": {},
   "outputs": [],
   "source": [
    "ingresos = 1000\n",
    "gastos = 100\n",
    "beneficios = ingresos - gastos"
   ]
  },
  {
   "cell_type": "code",
   "execution_count": 3,
   "id": "ecfa6085-6daf-4258-a752-331ef2395963",
   "metadata": {},
   "outputs": [
    {
     "name": "stdout",
     "output_type": "stream",
     "text": [
      "1000\n",
      "100\n",
      "los beneficios han sido de:\n",
      "900\n"
     ]
    }
   ],
   "source": [
    "print(ingresos)\n",
    "print(gastos)\n",
    "print(\"los beneficios han sido de:\")\n",
    "print(beneficios)"
   ]
  },
  {
   "cell_type": "code",
   "execution_count": 6,
   "id": "f6e016b5-2ecf-4947-8a17-473b9dec83e2",
   "metadata": {},
   "outputs": [
    {
     "name": "stdout",
     "output_type": "stream",
     "text": [
      "los beneficios de junio han sido 900 milliones\n"
     ]
    }
   ],
   "source": [
    "mes = 'junio'\n",
    "print(\"los beneficios de %s han sido %s milliones\" %(mes, beneficios))"
   ]
  },
  {
   "cell_type": "code",
   "execution_count": 7,
   "id": "36be92fb-4a9c-4f6f-8f9a-6dc2d63fa710",
   "metadata": {},
   "outputs": [
    {
     "name": "stdout",
     "output_type": "stream",
     "text": [
      "los benedicios 900 han sido junio milliones\n"
     ]
    }
   ],
   "source": [
    "print(\"los benedicios %s han sido %s milliones\" %(beneficios, mes))"
   ]
  },
  {
   "cell_type": "code",
   "execution_count": 8,
   "id": "8e388e13-8206-4dcf-b68c-8697ba0366b6",
   "metadata": {},
   "outputs": [
    {
     "name": "stdout",
     "output_type": "stream",
     "text": [
      "los benedicios de  agosto han sido 900  milliones\n"
     ]
    }
   ],
   "source": [
    "mes = \"agosto\"\n",
    "print(\"los benedicios de \",mes, \"han sido\", beneficios, \" milliones\")"
   ]
  },
  {
   "cell_type": "markdown",
   "id": "1ab082ba-9f72-447f-90af-5bac1dc79bfd",
   "metadata": {},
   "source": [
    "## comments"
   ]
  },
  {
   "cell_type": "code",
   "execution_count": 11,
   "id": "43741a9b-7963-43c3-b148-50b6fc785193",
   "metadata": {},
   "outputs": [
    {
     "name": "stdout",
     "output_type": "stream",
     "text": [
      "esto si que ejecuta\n"
     ]
    }
   ],
   "source": [
    "# comentario de línea \n",
    "# print('lo ignora')\n",
    "\n",
    "print(\"esto si que ejecuta\")       #comentario de código"
   ]
  },
  {
   "cell_type": "code",
   "execution_count": 13,
   "id": "d6a2455b-ee68-4fb4-b25c-bba3bcf288cf",
   "metadata": {},
   "outputs": [
    {
     "name": "stdout",
     "output_type": "stream",
     "text": [
      "este si se ejecuta\n"
     ]
    }
   ],
   "source": [
    "'''\n",
    "comentario de bloque, multilineas\n",
    "'''\n",
    "\n",
    "\"\"\"\n",
    "pueden ir entre comillas dobles; no se ejecuta\n",
    "\"\"\"\n",
    "\n",
    "print(\"este si se ejecuta\")"
   ]
  },
  {
   "cell_type": "markdown",
   "id": "de7ff6fb-14a9-4f3d-be9e-5c614d8da4ff",
   "metadata": {},
   "source": [
    "Guia:  \n",
    "https://www.google.com/url?q=https%3A%2F%2Frealpython.com%2Fpython-comments-guide%2F"
   ]
  },
  {
   "cell_type": "markdown",
   "id": "2131fdad-48b7-415a-844b-bffca4f23690",
   "metadata": {},
   "source": [
    "## flujos de exec"
   ]
  },
  {
   "cell_type": "markdown",
   "id": "f35303d2-3e6f-45dc-bf02-a28fed84ed5b",
   "metadata": {},
   "source": [
    "es importante la orden de ejecución "
   ]
  },
  {
   "cell_type": "code",
   "execution_count": 14,
   "id": "10109141-da0d-4f0f-8df4-1a5b83510a99",
   "metadata": {},
   "outputs": [
    {
     "ename": "NameError",
     "evalue": "name 'ventas_jun' is not defined",
     "output_type": "error",
     "traceback": [
      "\u001b[31m---------------------------------------------------------------------------\u001b[39m",
      "\u001b[31mNameError\u001b[39m                                 Traceback (most recent call last)",
      "\u001b[36mCell\u001b[39m\u001b[36m \u001b[39m\u001b[32mIn[14]\u001b[39m\u001b[32m, line 1\u001b[39m\n\u001b[32m----> \u001b[39m\u001b[32m1\u001b[39m ventas_jun_jul = \u001b[43mventas_jun\u001b[49m + ventas_jul\n\u001b[32m      3\u001b[39m ventas_jun = \u001b[32m100\u001b[39m\n\u001b[32m      4\u001b[39m ventas_jul = \u001b[32m150\u001b[39m\n",
      "\u001b[31mNameError\u001b[39m: name 'ventas_jun' is not defined"
     ]
    }
   ],
   "source": [
    "ventas_jun_jul = ventas_jun + ventas_jul\n",
    "\n",
    "ventas_jun = 100\n",
    "ventas_jul = 150"
   ]
  },
  {
   "cell_type": "markdown",
   "id": "4677f31d-fa21-4e6f-ab59-86e674314ee2",
   "metadata": {},
   "source": [
    "al haber dado error ya no se han init las variables; ojo asignar antes de intentar usar"
   ]
  },
  {
   "cell_type": "code",
   "execution_count": 15,
   "id": "7a407851-2b70-4844-b43b-59bbe8d58310",
   "metadata": {},
   "outputs": [
    {
     "name": "stdout",
     "output_type": "stream",
     "text": [
      "las ventas de junio a julio son 250\n"
     ]
    }
   ],
   "source": [
    "ventas_jun = 100\n",
    "ventas_jul = 150\n",
    "ventas_jun_jul = ventas_jun + ventas_jul\n",
    "\n",
    "print(\"las ventas de junio a julio son\", ventas_jun_jul)"
   ]
  },
  {
   "cell_type": "markdown",
   "id": "d5f30a4b-d32e-4908-ad17-566516017a71",
   "metadata": {},
   "source": [
    "chracter de finde linea de código `;`"
   ]
  },
  {
   "cell_type": "code",
   "execution_count": 18,
   "id": "7ff56c25-2adb-4169-bf51-57658c9f2c9f",
   "metadata": {},
   "outputs": [
    {
     "name": "stdout",
     "output_type": "stream",
     "text": [
      "1.8 75\n"
     ]
    }
   ],
   "source": [
    "altura = 1.80; peso = 75\n",
    "print(altura, peso)"
   ]
  },
  {
   "cell_type": "code",
   "execution_count": 19,
   "id": "610a5e24-2294-4869-843d-adee3cc61df9",
   "metadata": {},
   "outputs": [
    {
     "name": "stdout",
     "output_type": "stream",
     "text": [
      "12 23 45\n"
     ]
    }
   ],
   "source": [
    "# otra forma de declarar multiple\n",
    "\n",
    "x, y, z = 12, 23, 45\n",
    "print(x, y, z)"
   ]
  },
  {
   "cell_type": "code",
   "execution_count": 20,
   "id": "faae3032-87a1-43cc-8ca9-8e2d1fdb0188",
   "metadata": {},
   "outputs": [],
   "source": [
    "x = 12\n",
    "y = 23\n",
    "z = 45"
   ]
  },
  {
   "cell_type": "markdown",
   "id": "bb7595b2-fcd6-4586-a6f8-e9d08b052d1d",
   "metadata": {},
   "source": [
    "## Del - borrar variable"
   ]
  },
  {
   "cell_type": "markdown",
   "id": "dc0ba244-db46-4ba5-b14b-93d75b853c78",
   "metadata": {},
   "source": [
    "muchos datos, imgs, videos"
   ]
  },
  {
   "cell_type": "code",
   "execution_count": 22,
   "id": "9b8a57aa-0b52-4de3-89e4-64fc6b26d79a",
   "metadata": {},
   "outputs": [
    {
     "name": "stdout",
     "output_type": "stream",
     "text": [
      "antes 1.85\n"
     ]
    },
    {
     "ename": "NameError",
     "evalue": "name 'altura' is not defined",
     "output_type": "error",
     "traceback": [
      "\u001b[31m---------------------------------------------------------------------------\u001b[39m",
      "\u001b[31mNameError\u001b[39m                                 Traceback (most recent call last)",
      "\u001b[36mCell\u001b[39m\u001b[36m \u001b[39m\u001b[32mIn[22]\u001b[39m\u001b[32m, line 7\u001b[39m\n\u001b[32m      3\u001b[39m \u001b[38;5;28mprint\u001b[39m(\u001b[33m'\u001b[39m\u001b[33mantes\u001b[39m\u001b[33m'\u001b[39m, altura)\n\u001b[32m      5\u001b[39m \u001b[38;5;28;01mdel\u001b[39;00m altura\n\u001b[32m----> \u001b[39m\u001b[32m7\u001b[39m \u001b[38;5;28mprint\u001b[39m(\u001b[33m'\u001b[39m\u001b[33mdespues de del\u001b[39m\u001b[33m'\u001b[39m, \u001b[43maltura\u001b[49m)\n",
      "\u001b[31mNameError\u001b[39m: name 'altura' is not defined"
     ]
    }
   ],
   "source": [
    "altura = 1.85\n",
    "\n",
    "print('antes', altura)\n",
    "\n",
    "del altura\n",
    "\n",
    "print('despues de del', altura)"
   ]
  },
  {
   "cell_type": "code",
   "execution_count": null,
   "id": "3e4da3e0-c767-4244-8a02-48f92478df87",
   "metadata": {},
   "outputs": [],
   "source": []
  }
 ],
 "metadata": {
  "kernelspec": {
   "display_name": "Python 3 (ipykernel)",
   "language": "python",
   "name": "python3"
  },
  "language_info": {
   "codemirror_mode": {
    "name": "ipython",
    "version": 3
   },
   "file_extension": ".py",
   "mimetype": "text/x-python",
   "name": "python",
   "nbconvert_exporter": "python",
   "pygments_lexer": "ipython3",
   "version": "3.13.2"
  }
 },
 "nbformat": 4,
 "nbformat_minor": 5
}
