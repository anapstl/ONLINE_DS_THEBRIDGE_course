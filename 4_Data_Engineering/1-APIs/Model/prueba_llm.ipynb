{
 "cells": [
  {
   "cell_type": "markdown",
   "id": "80c19d2e",
   "metadata": {},
   "source": [
    "# Prueba LLMs"
   ]
  },
  {
   "cell_type": "code",
   "execution_count": null,
   "id": "8c7cc753",
   "metadata": {},
   "outputs": [],
   "source": [
    "# pip install groq, python-dotenv"
   ]
  },
  {
   "cell_type": "code",
   "execution_count": 2,
   "id": "544f2071",
   "metadata": {},
   "outputs": [
    {
     "name": "stdout",
     "output_type": "stream",
     "text": [
      "LLM son las siglas en inglés de \"Large Language Model\" (Modelo de Lenguaje Grande). Un LLM es un tipo de modelo de aprendizaje automático diseñado para procesar y generar lenguaje natural a gran escala.\n",
      "\n",
      "Los LLM se entrenan con enormes cantidades de texto, que pueden ser millones o incluso miles de millones de palabras, y utilizan técnicas de aprendizaje profundo para aprender a representar el lenguaje de manera efectiva. Esto les permite realizar tareas como:\n",
      "\n",
      "1. **Generación de texto**: Los LLM pueden generar texto coherente y natural, similar al escrito por humanos, en respuesta a una pregunta o un tema determinado.\n",
      "2. **Traducción automática**: Los LLM pueden traducir texto de un idioma a otro, utilizando su comprensión del lenguaje y las relaciones entre las palabras.\n",
      "3. **Resumen de texto**: Los LLM pueden resumir textos largos en versiones más cortas, manteniendo la esencia y el significado original.\n",
      "4. **Análisis de sentimiento**: Los LLM pueden analizar el sentimiento o la emoción detrás de un texto, como determinar si es positivo, negativo o neutral.\n",
      "5. **Respuesta a preguntas**: Los LLM pueden responder a preguntas en función de su conocimiento y comprensión del lenguaje.\n",
      "\n",
      "Los LLM se han vuelto cada vez más populares en los últimos años, gracias a su capacidad para procesar y generar lenguaje natural de manera efectiva. Algunos ejemplos de LLM incluyen:\n",
      "\n",
      "* **BERT** (Bidirectional Encoder Representations from Transformers)\n",
      "* **RoBERTa** (Robustly Optimized BERT Pretraining Approach)\n",
      "* **Transformers** (una arquitectura de aprendizaje automático desarrollada por Google)\n",
      "* **LaMDA** (Language Model for Dialogue Applications, desarrollado por Google)\n",
      "\n",
      "En resumen, los LLM son modelos de aprendizaje automático que procesan y generan lenguaje natural a gran escala, permitiendo realizar tareas como la generación de texto, la traducción automática y el análisis de sentimiento, entre otras.\n"
     ]
    }
   ],
   "source": [
    "import os\n",
    "from groq import Groq\n",
    "\n",
    "from dotenv import load_dotenv\n",
    "load_dotenv()\n",
    "\n",
    "client = Groq(\n",
    "    api_key=os.environ.get(\"GROQ_API_KEY\"),\n",
    ")\n",
    "\n",
    "chat_completion = client.chat.completions.create(\n",
    "    messages=[\n",
    "        {\n",
    "            \"role\": \"user\",  # eres mi profe de DS\n",
    "            \"content\": \"que es LLM\",\n",
    "        }\n",
    "    ],\n",
    "    model=\"llama-3.3-70b-versatile\", # mistral-saba-24b\n",
    "    stream=False,\n",
    ")\n",
    "\n",
    "print(chat_completion.choices[0].message.content)\n"
   ]
  },
  {
   "cell_type": "markdown",
   "id": "769c9f7b",
   "metadata": {},
   "source": [
    "¡Claro! Aquí te dejo uno: ¿Por qué el programa informático fue al terapeuta? Porque tenía muchos \"bugs\" en la cabeza y necesitaba depurarse un poco. Espero que te haya hecho reír. ¿Quieres otro?"
   ]
  },
  {
   "cell_type": "markdown",
   "id": "bcdc58bb",
   "metadata": {},
   "source": []
  }
 ],
 "metadata": {
  "kernelspec": {
   "display_name": "Python 3",
   "language": "python",
   "name": "python3"
  },
  "language_info": {
   "codemirror_mode": {
    "name": "ipython",
    "version": 3
   },
   "file_extension": ".py",
   "mimetype": "text/x-python",
   "name": "python",
   "nbconvert_exporter": "python",
   "pygments_lexer": "ipython3",
   "version": "3.11.4"
  }
 },
 "nbformat": 4,
 "nbformat_minor": 5
}
