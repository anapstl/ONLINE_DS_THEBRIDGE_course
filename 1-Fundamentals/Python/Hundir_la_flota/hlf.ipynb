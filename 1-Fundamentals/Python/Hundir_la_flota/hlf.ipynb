{
 "cells": [
  {
   "cell_type": "code",
   "execution_count": 2,
   "id": "ec339d2c",
   "metadata": {},
   "outputs": [],
   "source": [
    "import numpy as np\n",
    "\n",
    "def crear_tablero():\n",
    "    tablero = np.full((10, 10), \"_\")\n",
    "    return tablero\n",
    "# print(tablero)"
   ]
  },
  {
   "cell_type": "code",
   "execution_count": 4,
   "id": "3b41cb4f",
   "metadata": {},
   "outputs": [],
   "source": [
    "def colocar_barcos(tablero, barco):  # update a lista de lista\n",
    "# barco_jugador = [[[0, 3],[0, 4], [0, 5], [0, 6]], [[4, 7],[5, 7], [6, 7]], [[8, 8],[8, 9]],[[1, 7]]]\n",
    "    for i in barco:\n",
    "        for j in i:\n",
    "        # tablero[i[0], i[1]] = \"0\"    # row, col\n",
    "            tablero[j[0], j[1]] = \"O\"\n",
    "    return tablero"
   ]
  },
  {
   "cell_type": "code",
   "execution_count": 7,
   "id": "b3597e79",
   "metadata": {},
   "outputs": [],
   "source": [
    "    # disparar(casilla, tablero)\n",
    "def disparar(casilla, tablero, barcos_jugador):\n",
    "    # print(tablero)\n",
    "    # casilla = [0, 3]\n",
    "\n",
    "    for barco in barcos_jugador:\n",
    "        print(barco)\n",
    "        if any(np.equal(barco,casilla).all(1)):\n",
    "            print('touche')\n",
    "            # pintarlo con \"X\"\n",
    "            tablero[casilla[0], casilla[1]] = \"X\"\n",
    "        else:\n",
    "            # agua\n",
    "            tablero[casilla[0], casilla[1]] = \"A\"\n",
    "    return tablero\n",
    "\n",
    "\n",
    "\n"
   ]
  },
  {
   "cell_type": "code",
   "execution_count": null,
   "id": "859fb87b",
   "metadata": {},
   "outputs": [
    {
     "name": "stdout",
     "output_type": "stream",
     "text": [
      "mi tablero\n",
      "[['_' '_' '_' 'O' 'O' 'O' 'O' '_' '_' '_']\n",
      " ['_' '_' '_' '_' '_' '_' '_' 'O' '_' '_']\n",
      " ['_' '_' '_' '_' '_' '_' '_' '_' '_' '_']\n",
      " ['_' '_' '_' '_' '_' '_' '_' '_' '_' '_']\n",
      " ['_' '_' '_' '_' '_' '_' '_' 'O' '_' '_']\n",
      " ['_' '_' '_' '_' '_' '_' '_' 'O' '_' '_']\n",
      " ['_' '_' '_' '_' '_' '_' '_' 'O' '_' '_']\n",
      " ['_' '_' '_' '_' '_' '_' '_' '_' '_' '_']\n",
      " ['_' '_' '_' '_' '_' '_' '_' '_' 'O' 'O']\n",
      " ['_' '_' '_' '_' '_' '_' '_' '_' '_' '_']]\n",
      "tablero de mis disparos init\n",
      "[['_' '_' '_' '_' '_' '_' '_' '_' '_' '_']\n",
      " ['_' '_' '_' '_' '_' '_' '_' '_' '_' '_']\n",
      " ['_' '_' '_' '_' '_' '_' '_' '_' '_' '_']\n",
      " ['_' '_' '_' '_' '_' '_' '_' '_' '_' '_']\n",
      " ['_' '_' '_' '_' '_' '_' '_' '_' '_' '_']\n",
      " ['_' '_' '_' '_' '_' '_' '_' '_' '_' '_']\n",
      " ['_' '_' '_' '_' '_' '_' '_' '_' '_' '_']\n",
      " ['_' '_' '_' '_' '_' '_' '_' '_' '_' '_']\n",
      " ['_' '_' '_' '_' '_' '_' '_' '_' '_' '_']\n",
      " ['_' '_' '_' '_' '_' '_' '_' '_' '_' '_']]\n",
      "[[0, 3], [0, 4], [0, 5], [0, 6]]\n",
      "touche\n",
      "[[4, 7], [5, 7], [6, 7]]\n",
      "[[8, 8], [8, 9]]\n",
      "[[1, 7]]\n",
      "tablero de mis disparos init\n",
      "[['_' '_' '_' 'A' '_' '_' '_' '_' '_' '_']\n",
      " ['_' '_' '_' '_' '_' '_' '_' '_' '_' '_']\n",
      " ['_' '_' '_' '_' '_' '_' '_' '_' '_' '_']\n",
      " ['_' '_' '_' '_' '_' '_' '_' '_' '_' '_']\n",
      " ['_' '_' '_' '_' '_' '_' '_' '_' '_' '_']\n",
      " ['_' '_' '_' '_' '_' '_' '_' '_' '_' '_']\n",
      " ['_' '_' '_' '_' '_' '_' '_' '_' '_' '_']\n",
      " ['_' '_' '_' '_' '_' '_' '_' '_' '_' '_']\n",
      " ['_' '_' '_' '_' '_' '_' '_' '_' '_' '_']\n",
      " ['_' '_' '_' '_' '_' '_' '_' '_' '_' '_']]\n"
     ]
    }
   ],
   "source": [
    "barcos_jugador = [[[0, 3],[0, 4], [0, 5], [0, 6]], [[4, 7],[5, 7], [6, 7]], [[8, 8],[8, 9]],[[1, 7]]]\n",
    "casilla = [0, 3]\n",
    "\n",
    "tablero_j = crear_tablero()\n",
    "tablero_j_modif = colocar_barcos(tablero_j, barcos_jugador)\n",
    "print('mi tablero')\n",
    "print(tablero_j_modif)\n",
    "tablero_j_disp = crear_tablero()\n",
    "print('tablero de mis disparos init')\n",
    "print(tablero_j_disp)\n",
    "\n",
    "tablero_j_disp = disparar(casilla, tablero_j_disp, barcos_jugador)\n",
    "print('tablero tras disparos')\n",
    "print(tablero_j_disp)\n",
    "\n",
    "\n"
   ]
  },
  {
   "cell_type": "code",
   "execution_count": null,
   "id": "095d2309",
   "metadata": {},
   "outputs": [],
   "source": []
  }
 ],
 "metadata": {
  "kernelspec": {
   "display_name": "Python 3",
   "language": "python",
   "name": "python3"
  },
  "language_info": {
   "codemirror_mode": {
    "name": "ipython",
    "version": 3
   },
   "file_extension": ".py",
   "mimetype": "text/x-python",
   "name": "python",
   "nbconvert_exporter": "python",
   "pygments_lexer": "ipython3",
   "version": "3.11.4"
  }
 },
 "nbformat": 4,
 "nbformat_minor": 5
}
