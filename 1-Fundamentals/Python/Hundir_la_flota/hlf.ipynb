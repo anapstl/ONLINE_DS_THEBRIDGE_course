{
 "cells": [
  {
   "cell_type": "code",
   "execution_count": 22,
   "id": "ec339d2c",
   "metadata": {},
   "outputs": [],
   "source": [
    "import numpy as np\n",
    "import random\n",
    "\n",
    "def crear_tablero():\n",
    "    return np.full((10, 10), \"_\")"
   ]
  },
  {
   "cell_type": "code",
   "execution_count": 23,
   "id": "dfa087a3",
   "metadata": {},
   "outputs": [],
   "source": [
    "def pretty_tablero(tablero):\n",
    "    for tb in tablero:\n",
    "        print(*tb)"
   ]
  },
  {
   "cell_type": "code",
   "execution_count": 24,
   "id": "213ea39c",
   "metadata": {},
   "outputs": [
    {
     "name": "stdout",
     "output_type": "stream",
     "text": [
      "_ _ _ _ _ _ _ _ _ _\n",
      "_ _ _ _ _ _ _ _ _ _\n",
      "_ _ _ _ _ _ _ _ _ _\n",
      "_ _ _ _ _ _ _ _ _ _\n",
      "_ _ _ _ _ _ _ _ _ _\n",
      "_ _ _ _ _ _ _ _ _ _\n",
      "_ _ _ _ _ _ _ _ _ _\n",
      "_ _ _ _ _ _ _ _ _ _\n",
      "_ _ _ _ _ _ _ _ _ _\n",
      "_ _ _ _ _ _ _ _ _ _\n"
     ]
    }
   ],
   "source": [
    "tablero_prueba = crear_tablero()\n",
    "pretty_tablero(tablero_prueba)"
   ]
  },
  {
   "cell_type": "code",
   "execution_count": null,
   "id": "52b17ec3",
   "metadata": {},
   "outputs": [],
   "source": [
    "# crear barcos"
   ]
  },
  {
   "cell_type": "code",
   "execution_count": 26,
   "id": "3b41cb4f",
   "metadata": {},
   "outputs": [],
   "source": [
    "def colocar_barcos(tablero, barcos):  # update a lista de lista\n",
    "# barco_jugador = [[[0, 3],[0, 4], [0, 5], [0, 6]], [[4, 7],[5, 7], [6, 7]], [[8, 8],[8, 9]],[[1, 7]]]\n",
    "    for barco in barcos:\n",
    "        for xy in barco:\n",
    "        # tablero[i[0], i[1]] = \"0\"    # row, col\n",
    "            tablero[xy[0], xy[1]] = \"O\"\n",
    "    return tablero"
   ]
  },
  {
   "cell_type": "code",
   "execution_count": null,
   "id": "b3597e79",
   "metadata": {},
   "outputs": [],
   "source": [
    "    # disparar(casilla, tablero)\n",
    "touche = True\n",
    "\n",
    "def disparar(casilla, tablero, barcos):\n",
    "    # print(tablero)\n",
    "    # casilla = [0, 3]\n",
    "    print(\"-------------casilla\", casilla)\n",
    "\n",
    "    for barco in barcos:\n",
    "        print(barco)\n",
    "        if any(np.equal(barco,casilla).all(1)):\n",
    "            print('touche')\n",
    "            # pintarlo con \"X\"\n",
    "            tablero[casilla[0], casilla[1]] = \"X\"\n",
    "            barco.remove(casilla)\n",
    "            break\n",
    "        else:\n",
    "            # agua\n",
    "            print(\"cuando entro???\")\n",
    "            tablero[casilla[0], casilla[1]] = \"A\"\n",
    "            touche = False\n",
    "    return tablero\n",
    "\n",
    "\n",
    "\n"
   ]
  },
  {
   "cell_type": "code",
   "execution_count": null,
   "id": "859fb87b",
   "metadata": {},
   "outputs": [
    {
     "name": "stdout",
     "output_type": "stream",
     "text": [
      "mi tablero\n",
      "[['_' '_' '_' 'O' 'O' 'O' 'O' '_' '_' '_']\n",
      " ['_' '_' '_' '_' '_' '_' '_' '_' '_' '_']\n",
      " ['_' '_' '_' '_' '_' '_' '_' '_' '_' '_']\n",
      " ['_' '_' '_' '_' '_' '_' '_' '_' '_' '_']\n",
      " ['_' '_' '_' '_' '_' '_' '_' '_' '_' '_']\n",
      " ['_' '_' '_' '_' '_' '_' '_' '_' '_' '_']\n",
      " ['_' '_' '_' '_' '_' '_' '_' '_' '_' '_']\n",
      " ['_' '_' '_' '_' '_' '_' '_' '_' '_' '_']\n",
      " ['_' '_' '_' '_' '_' '_' '_' '_' '_' '_']\n",
      " ['_' '_' '_' '_' '_' '_' '_' '_' '_' '_']]\n",
      "tablero de mis disparos init\n",
      "[['_' '_' '_' '_' '_' '_' '_' '_' '_' '_']\n",
      " ['_' '_' '_' '_' '_' '_' '_' '_' '_' '_']\n",
      " ['_' '_' '_' '_' '_' '_' '_' '_' '_' '_']\n",
      " ['_' '_' '_' '_' '_' '_' '_' '_' '_' '_']\n",
      " ['_' '_' '_' '_' '_' '_' '_' '_' '_' '_']\n",
      " ['_' '_' '_' '_' '_' '_' '_' '_' '_' '_']\n",
      " ['_' '_' '_' '_' '_' '_' '_' '_' '_' '_']\n",
      " ['_' '_' '_' '_' '_' '_' '_' '_' '_' '_']\n",
      " ['_' '_' '_' '_' '_' '_' '_' '_' '_' '_']\n",
      " ['_' '_' '_' '_' '_' '_' '_' '_' '_' '_']]\n",
      "-------------casilla [0, 3]\n",
      "[[0, 3], [0, 4], [0, 5], [0, 6]]\n",
      "touche\n",
      "tablero tras disparos\n",
      "[['_' '_' '_' 'X' '_' '_' '_' '_' '_' '_']\n",
      " ['_' '_' '_' '_' '_' '_' '_' '_' '_' '_']\n",
      " ['_' '_' '_' '_' '_' '_' '_' '_' '_' '_']\n",
      " ['_' '_' '_' '_' '_' '_' '_' '_' '_' '_']\n",
      " ['_' '_' '_' '_' '_' '_' '_' '_' '_' '_']\n",
      " ['_' '_' '_' '_' '_' '_' '_' '_' '_' '_']\n",
      " ['_' '_' '_' '_' '_' '_' '_' '_' '_' '_']\n",
      " ['_' '_' '_' '_' '_' '_' '_' '_' '_' '_']\n",
      " ['_' '_' '_' '_' '_' '_' '_' '_' '_' '_']\n",
      " ['_' '_' '_' '_' '_' '_' '_' '_' '_' '_']]\n",
      "[[[0, 4], [0, 5], [0, 6]]]\n"
     ]
    },
    {
     "ename": "ValueError",
     "evalue": "invalid literal for int() with base 10: ''",
     "output_type": "error",
     "traceback": [
      "\u001b[31m---------------------------------------------------------------------------\u001b[39m",
      "\u001b[31mValueError\u001b[39m                                Traceback (most recent call last)",
      "\u001b[36mCell\u001b[39m\u001b[36m \u001b[39m\u001b[32mIn[29]\u001b[39m\u001b[32m, line 16\u001b[39m\n\u001b[32m     13\u001b[39m \u001b[38;5;66;03m# touche = True\u001b[39;00m\n\u001b[32m     14\u001b[39m \u001b[38;5;28;01mwhile\u001b[39;00m touche:\n\u001b[32m     15\u001b[39m     \u001b[38;5;66;03m# casilla = [0, 3]\u001b[39;00m\n\u001b[32m---> \u001b[39m\u001b[32m16\u001b[39m     casilla = \u001b[43m[\u001b[49m\u001b[38;5;28;43mint\u001b[39;49m\u001b[43m(\u001b[49m\u001b[43mx\u001b[49m\u001b[43m)\u001b[49m\u001b[43m \u001b[49m\u001b[38;5;28;43;01mfor\u001b[39;49;00m\u001b[43m \u001b[49m\u001b[43mx\u001b[49m\u001b[43m \u001b[49m\u001b[38;5;129;43;01min\u001b[39;49;00m\u001b[43m \u001b[49m\u001b[38;5;28;43minput\u001b[39;49m\u001b[43m(\u001b[49m\u001b[33;43m\"\u001b[39;49m\u001b[33;43mIntroduce dos nº separados por comma (fila, col): \u001b[39;49m\u001b[33;43m\"\u001b[39;49m\u001b[43m)\u001b[49m\u001b[43m.\u001b[49m\u001b[43msplit\u001b[49m\u001b[43m(\u001b[49m\u001b[33;43m'\u001b[39;49m\u001b[33;43m,\u001b[39;49m\u001b[33;43m'\u001b[39;49m\u001b[43m)\u001b[49m\u001b[43m]\u001b[49m\n\u001b[32m     17\u001b[39m     tablero_j_disp = disparar(casilla, tablero_j_disp, barcos_jugador)\n\u001b[32m     18\u001b[39m     \u001b[38;5;28mprint\u001b[39m(\u001b[33m'\u001b[39m\u001b[33mtablero tras disparos\u001b[39m\u001b[33m'\u001b[39m)\n",
      "\u001b[36mCell\u001b[39m\u001b[36m \u001b[39m\u001b[32mIn[29]\u001b[39m\u001b[32m, line 16\u001b[39m, in \u001b[36m<listcomp>\u001b[39m\u001b[34m(.0)\u001b[39m\n\u001b[32m     13\u001b[39m \u001b[38;5;66;03m# touche = True\u001b[39;00m\n\u001b[32m     14\u001b[39m \u001b[38;5;28;01mwhile\u001b[39;00m touche:\n\u001b[32m     15\u001b[39m     \u001b[38;5;66;03m# casilla = [0, 3]\u001b[39;00m\n\u001b[32m---> \u001b[39m\u001b[32m16\u001b[39m     casilla = [\u001b[38;5;28;43mint\u001b[39;49m\u001b[43m(\u001b[49m\u001b[43mx\u001b[49m\u001b[43m)\u001b[49m \u001b[38;5;28;01mfor\u001b[39;00m x \u001b[38;5;129;01min\u001b[39;00m \u001b[38;5;28minput\u001b[39m(\u001b[33m\"\u001b[39m\u001b[33mIntroduce dos nº separados por comma (fila, col): \u001b[39m\u001b[33m\"\u001b[39m).split(\u001b[33m'\u001b[39m\u001b[33m,\u001b[39m\u001b[33m'\u001b[39m)]\n\u001b[32m     17\u001b[39m     tablero_j_disp = disparar(casilla, tablero_j_disp, barcos_jugador)\n\u001b[32m     18\u001b[39m     \u001b[38;5;28mprint\u001b[39m(\u001b[33m'\u001b[39m\u001b[33mtablero tras disparos\u001b[39m\u001b[33m'\u001b[39m)\n",
      "\u001b[31mValueError\u001b[39m: invalid literal for int() with base 10: ''"
     ]
    }
   ],
   "source": [
    "# barcos_jugador = [[[0, 3],[0, 4], [0, 5], [0, 6]], [[4, 7],[5, 7], [6, 7]], [[8, 8],[8, 9]],[[1, 7]]]\n",
    "barcos_jugador = [[[0, 3],[0, 4], [0, 5], [0, 6]]]\n",
    "# casilla = [0, 3]\n",
    "\n",
    "tablero_j = crear_tablero()\n",
    "tablero_j_modif = colocar_barcos(tablero_j, barcos_jugador)\n",
    "print('mi tablero')\n",
    "print(tablero_j_modif)\n",
    "tablero_j_disp = crear_tablero()\n",
    "\n",
    "# touche = True\n",
    "while touche:\n",
    "    # casilla = [0, 3]\n",
    "    casilla = [int(x) for x in input(\"Introduce dos nº separados por comma (fila, col): \").split(',')]\n",
    "    tablero_j_disp = disparar(casilla, tablero_j_disp, barcos_jugador)\n",
    "    print('tablero tras disparos')\n",
    "    print(tablero_j_disp)\n",
    "    print(barcos_jugador)\n",
    "\n",
    "\n"
   ]
  },
  {
   "cell_type": "code",
   "execution_count": 10,
   "id": "095d2309",
   "metadata": {},
   "outputs": [
    {
     "data": {
      "text/plain": [
       "[0, 3]"
      ]
     },
     "execution_count": 10,
     "metadata": {},
     "output_type": "execute_result"
    }
   ],
   "source": [
    "[int(x) for x in input(\"Enter two numbers here: \").split(',')]\n"
   ]
  },
  {
   "cell_type": "code",
   "execution_count": 17,
   "id": "226768aa",
   "metadata": {},
   "outputs": [
    {
     "data": {
      "text/plain": [
       "numpy.ndarray"
      ]
     },
     "execution_count": 17,
     "metadata": {},
     "output_type": "execute_result"
    }
   ],
   "source": [
    "import numpy as np\n",
    "lst_ship = np.array([[0, 3], [0, 4], [0, 5], [0, 6]])\n",
    "\n",
    "type(lst_ship)"
   ]
  },
  {
   "cell_type": "code",
   "execution_count": 18,
   "id": "9edd003d",
   "metadata": {},
   "outputs": [
    {
     "data": {
      "text/plain": [
       "True"
      ]
     },
     "execution_count": 18,
     "metadata": {},
     "output_type": "execute_result"
    }
   ],
   "source": [
    "[0,3] in lst_ship"
   ]
  },
  {
   "cell_type": "code",
   "execution_count": 30,
   "id": "7d1fae5f",
   "metadata": {},
   "outputs": [
    {
     "data": {
      "text/plain": [
       "True"
      ]
     },
     "execution_count": 30,
     "metadata": {},
     "output_type": "execute_result"
    }
   ],
   "source": [
    "[0, 3] in [[0, 3],[0, 4], [0, 5], [0, 6]]"
   ]
  },
  {
   "cell_type": "code",
   "execution_count": 31,
   "id": "eb04fd4c",
   "metadata": {},
   "outputs": [
    {
     "data": {
      "text/plain": [
       "[[0, 3]]"
      ]
     },
     "execution_count": 31,
     "metadata": {},
     "output_type": "execute_result"
    }
   ],
   "source": [
    "tirados = []\n",
    "casilla = [0,3]\n",
    "if casilla in tirados:\n",
    "            print(\"punto gastado; intentalo de nuevo\")\n",
    "            casilla = [int(x) for x in input(\"Introduce dos nº separados por comma (fila, col): \").split(',')]\n",
    "tirados.append(casilla)\n",
    "tirados"
   ]
  },
  {
   "cell_type": "code",
   "execution_count": null,
   "id": "e26bcded",
   "metadata": {},
   "outputs": [],
   "source": []
  }
 ],
 "metadata": {
  "kernelspec": {
   "display_name": "Python 3",
   "language": "python",
   "name": "python3"
  },
  "language_info": {
   "codemirror_mode": {
    "name": "ipython",
    "version": 3
   },
   "file_extension": ".py",
   "mimetype": "text/x-python",
   "name": "python",
   "nbconvert_exporter": "python",
   "pygments_lexer": "ipython3",
   "version": "3.11.4"
  }
 },
 "nbformat": 4,
 "nbformat_minor": 5
}
