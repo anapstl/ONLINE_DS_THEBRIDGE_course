{
 "cells": [
  {
   "cell_type": "markdown",
   "metadata": {},
   "source": [
    "![imagen](./img/hundir-la-flota-juego-de-mesa.jpg)"
   ]
  },
  {
   "cell_type": "markdown",
   "metadata": {},
   "source": [
    "En esta entrega vas a crear tu propio juego de **Hundir la flota** en Python. \n",
    "[Aquí](http://es.battleship-game.org/) podrás probarlo online."
   ]
  },
  {
   "attachments": {},
   "cell_type": "markdown",
   "metadata": {},
   "source": [
    "### En clase\n",
    "1. Crea la función `crear_tablero(tamaño)`, un tablero por defecto de 10x10 relleno del carácter \"_\" con numpy.\n",
    "2. Crea la función `colocar_barco(barco, tablero)`, que recibirá la lista de casillas de un barco y el tablero donde colocarlo. Prueba primero a posicionar un par de barcos por ejemplo en [(0,1), (1,1)] y [(1,3), (1,4), (1,5), (1,6)]. Los barcos serán Os mayúsculas. Como ves, un barco de dos posiciones de eslora y otro de cuatro.\n",
    "3. Crea la función `disparar(casilla, tablero)`, si el disparo acierta en un barco sustituye la O por una X (tocado), si es agua, sustituye la _ por una A (Agua). Prueba primero a disparar el barco de 2 casillas.\n",
    "4. Crea la función `crear_barco(eslora)`, que deberá crear una lista de casillas de un barco en función a la eslora, de forma aleatoria.\n",
    "\n",
    "### Proyecto individual\n",
    "5. Crea la función `colocar_barcos(tablero)`, que deberá de colocar la lista de barcos generados de forma aleatoria (6 barcos en total (3 barcos de eslora 2, 2 de eslora 3 y 1 eslora 4)) ¡Mucho ojo con barcos que estén superpuestos (no pueden ocupar dos barcos la misma casilla) o barcos que se salgan del tablero!\n",
    "6. Escribe el flujo completo del programa, con la dinámica de turnos y funcionalidades necesarios para jugar contra la máquina (dispara a tu tablero de forma aleatoria). Crea todas las funciones que necesites y aplica todo lo aprendido que te sea útil.\n",
    "7. Encapsula todo en un `main.py` y un `utils.py` para ejecutarlo desde terminal.\n",
    "8. Sube tu proyecto a un repositorio de github y prepara una demo (solo se podrá enseñar desde terminal) para la presentación de tu proyecto."
   ]
  },
  {
   "cell_type": "markdown",
   "metadata": {},
   "source": [
    "## Presentación\n",
    "Cada uno realizará una presentación el **viernes 9 de Mayo**, donde se contarán con **10 minutos máximo**, importante ceñirse al tiempo. Se tendrá que enseñar:\n",
    "1. El git clone del repositorio de github a tu ordenador y explicar las partes más relevantes del código.\n",
    "2. Una demo donde se muestre el correcto funcionamiento del código para jugar, ejecutándose desde terminal"
   ]
  },
  {
   "cell_type": "code",
   "execution_count": 2,
   "metadata": {},
   "outputs": [],
   "source": [
    "import numpy as np\n",
    "\n",
    "tablero = np.full((10, 10), \"_\")\n",
    "# print(tablero)"
   ]
  },
  {
   "cell_type": "code",
   "execution_count": 3,
   "metadata": {},
   "outputs": [
    {
     "name": "stdout",
     "output_type": "stream",
     "text": [
      "[['_' '_' '_' 'O' 'O' 'O' 'O' '_' '_' '_']\n",
      " ['_' '_' '_' '_' '_' '_' '_' '_' '_' '_']\n",
      " ['_' '_' '_' '_' '_' '_' '_' '_' '_' '_']\n",
      " ['_' '_' '_' '_' '_' '_' '_' '_' '_' '_']\n",
      " ['_' '_' '_' '_' '_' '_' '_' '_' '_' '_']\n",
      " ['_' '_' '_' '_' '_' '_' '_' '_' '_' '_']\n",
      " ['_' '_' '_' '_' '_' '_' '_' '_' '_' '_']\n",
      " ['_' '_' '_' '_' '_' '_' '_' '_' '_' '_']\n",
      " ['_' '_' '_' '_' '_' '_' '_' '_' '_' '_']\n",
      " ['_' '_' '_' '_' '_' '_' '_' '_' '_' '_']]\n"
     ]
    }
   ],
   "source": [
    "tablero[0,3] = \"O\"\n",
    "tablero[0,4] = \"O\"\n",
    "tablero[0,5] = \"O\"\n",
    "tablero[0,6] = \"O\"\n",
    "print(tablero)"
   ]
  },
  {
   "cell_type": "code",
   "execution_count": 4,
   "metadata": {},
   "outputs": [
    {
     "name": "stdout",
     "output_type": "stream",
     "text": [
      "[['_' '_' '_' '0' '0' '0' '0' '_' '_' '_']\n",
      " ['_' '_' '_' '_' '_' '_' '_' '_' '_' '_']\n",
      " ['_' '_' '_' '_' '_' '_' '_' '_' '_' '_']\n",
      " ['_' '_' '_' '_' '_' '_' '_' '_' '_' '_']\n",
      " ['_' '_' '_' '_' '_' '_' '_' '_' '_' '_']\n",
      " ['_' '_' '_' '_' '_' '_' '_' '_' '_' '_']\n",
      " ['_' '_' '_' '_' '_' '_' '_' '_' '_' '_']\n",
      " ['_' '_' '_' '_' '_' '_' '_' '_' '_' '_']\n",
      " ['_' '_' '_' '_' '_' '_' '_' '_' '_' '_']\n",
      " ['_' '_' '_' '_' '_' '_' '_' '_' '_' '_']]\n"
     ]
    }
   ],
   "source": [
    "barco = [[0, 3],[0, 4], [0, 5], [0, 6]]\n",
    "\n",
    "for i in barco:\n",
    "    tablero[i[0], i[1]] = \"0\"    # fila, col\n",
    "\n",
    "print(tablero)"
   ]
  },
  {
   "cell_type": "code",
   "execution_count": 5,
   "metadata": {},
   "outputs": [],
   "source": [
    "def colocar_barco(barco ):\n",
    "    for i in barco:\n",
    "        tablero[i[0], i[1]] = \"0\"    # fila, col\n",
    "\n",
    "    print(tablero)"
   ]
  },
  {
   "cell_type": "code",
   "execution_count": 6,
   "metadata": {},
   "outputs": [
    {
     "name": "stdout",
     "output_type": "stream",
     "text": [
      "[['_' '_' '_' '0' '0' '0' '0' '_' '_' '_']\n",
      " ['_' '_' '_' '_' '_' '_' '_' '_' '_' '_']\n",
      " ['_' '_' '_' '_' '_' '_' '_' '_' '_' '_']\n",
      " ['_' '_' '_' '_' '_' '_' '_' '_' '_' '_']\n",
      " ['_' '_' '_' '_' '_' '_' '_' '_' '_' '_']\n",
      " ['_' '_' '_' '_' '_' '_' '_' '_' '_' '_']\n",
      " ['_' '_' '_' '_' '_' '_' '_' '_' '_' '_']\n",
      " ['_' '_' '_' '_' '_' '_' '_' '_' '_' '_']\n",
      " ['_' '_' '_' '_' '_' '_' '_' '_' '_' '_']\n",
      " ['_' '_' '_' '_' '_' '_' '_' '_' '_' '_']]\n",
      "[['_' '_' '_' '0' '0' '0' '0' '_' '_' '_']\n",
      " ['_' '_' '_' '_' '_' '_' '_' '_' '_' '_']\n",
      " ['_' '_' '_' '_' '_' '_' '_' '_' '_' '_']\n",
      " ['_' '_' '_' '_' '_' '_' '_' '_' '_' '_']\n",
      " ['_' '_' '_' '_' '_' '_' '_' '0' '_' '_']\n",
      " ['_' '_' '_' '_' '_' '_' '_' '0' '_' '_']\n",
      " ['_' '_' '_' '_' '_' '_' '_' '0' '_' '_']\n",
      " ['_' '_' '_' '_' '_' '_' '_' '_' '_' '_']\n",
      " ['_' '_' '_' '_' '_' '_' '_' '_' '_' '_']\n",
      " ['_' '_' '_' '_' '_' '_' '_' '_' '_' '_']]\n"
     ]
    }
   ],
   "source": [
    "barco_1 = [[0, 3],[0, 4], [0, 5], [0, 6]]\n",
    "barco_2 = [[4, 7],[5, 7], [6, 7]]\n",
    "# barco_3 = [[0, 3],[0, 4], [0, 5], [0, 6]]\n",
    "\n",
    "colocar_barco(barco_1)\n",
    "colocar_barco(barco_2)"
   ]
  },
  {
   "cell_type": "code",
   "execution_count": 7,
   "metadata": {},
   "outputs": [],
   "source": [
    "barco_jugador = [[[0, 3],[0, 4], [0, 5], [0, 6]], [[4, 7],[5, 7], [6, 7]], [[8, 8],[8, 9]],[[1, 7]]]\n",
    "\n",
    "for i in barco_jugador:\n",
    "        # tablero[i[0], i[1]] = \"0\"    # fila, col\n",
    "    for j in i:\n",
    "        # print(j[0], j[1])\n",
    "        tablero[j[0], j[1]] = \"O\""
   ]
  },
  {
   "cell_type": "code",
   "execution_count": 8,
   "metadata": {},
   "outputs": [],
   "source": [
    "def crear_tablero():\n",
    "    tablero = np.full((10, 10), \"_\")\n",
    "    return tablero\n",
    "# print(tablero)"
   ]
  },
  {
   "cell_type": "code",
   "execution_count": 9,
   "metadata": {},
   "outputs": [
    {
     "ename": "NameError",
     "evalue": "name 'tb_jugador' is not defined",
     "output_type": "error",
     "traceback": [
      "\u001b[31m---------------------------------------------------------------------------\u001b[39m",
      "\u001b[31mNameError\u001b[39m                                 Traceback (most recent call last)",
      "\u001b[36mCell\u001b[39m\u001b[36m \u001b[39m\u001b[32mIn[9]\u001b[39m\u001b[32m, line 1\u001b[39m\n\u001b[32m----> \u001b[39m\u001b[32m1\u001b[39m \u001b[43mtb_jugador\u001b[49m \n\u001b[32m      2\u001b[39m tb_rival\n",
      "\u001b[31mNameError\u001b[39m: name 'tb_jugador' is not defined"
     ]
    }
   ],
   "source": [
    "tb_jugador \n",
    "tb_rival"
   ]
  },
  {
   "cell_type": "code",
   "execution_count": null,
   "metadata": {},
   "outputs": [
    {
     "name": "stdout",
     "output_type": "stream",
     "text": [
      "[['_' '_' '_' 'X' 'O' 'O' 'O' '_' '_' '_']\n",
      " ['_' '_' '_' '_' '_' '_' '_' 'O' '_' '_']\n",
      " ['_' '_' '_' '_' '_' '_' '_' '_' '_' '_']\n",
      " ['_' '_' '_' '_' '_' '_' '_' '_' '_' '_']\n",
      " ['_' '_' '_' '_' '_' '_' '_' 'O' '_' '_']\n",
      " ['_' '_' '_' '_' '_' '_' '_' 'O' '_' '_']\n",
      " ['_' '_' '_' '_' '_' '_' '_' 'O' '_' '_']\n",
      " ['_' '_' '_' '_' '_' '_' '_' '_' '_' '_']\n",
      " ['_' '_' '_' '_' '_' '_' '_' '_' 'O' 'O']\n",
      " ['_' '_' '_' '_' '_' '_' '_' '_' '_' '_']]\n",
      "[[0, 3], [0, 4], [0, 5], [0, 6]]\n",
      "touche\n"
     ]
    },
    {
     "ename": "ValueError",
     "evalue": "list.remove(x): x not in list",
     "output_type": "error",
     "traceback": [
      "\u001b[31m---------------------------------------------------------------------------\u001b[39m",
      "\u001b[31mValueError\u001b[39m                                Traceback (most recent call last)",
      "\u001b[36mCell\u001b[39m\u001b[36m \u001b[39m\u001b[32mIn[38]\u001b[39m\u001b[32m, line 27\u001b[39m\n\u001b[32m     25\u001b[39m \u001b[38;5;66;03m# sigue el turno actual\u001b[39;00m\n\u001b[32m     26\u001b[39m cambio_turno = \u001b[38;5;28;01mFalse\u001b[39;00m\n\u001b[32m---> \u001b[39m\u001b[32m27\u001b[39m \u001b[43mbarco_j_cpy\u001b[49m\u001b[43m.\u001b[49m\u001b[43mremove\u001b[49m\u001b[43m(\u001b[49m\u001b[43mcasilla\u001b[49m\u001b[43m)\u001b[49m\n\u001b[32m     28\u001b[39m \u001b[38;5;28mprint\u001b[39m(\u001b[33m\"\u001b[39m\u001b[33melementos de barcos remanentes\u001b[39m\u001b[33m\"\u001b[39m, barco_j_cpy)\n\u001b[32m     29\u001b[39m \u001b[38;5;28;01mif\u001b[39;00m \u001b[38;5;28mlen\u001b[39m(barco_j_cpy) == \u001b[32m0\u001b[39m:\n",
      "\u001b[31mValueError\u001b[39m: list.remove(x): x not in list"
     ]
    }
   ],
   "source": [
    "# disparar(casilla, tablero)\n",
    "print(tablero)\n",
    "casilla = [0, 3]\n",
    "# tablero[casilla[0], casilla[1]] = '+'\n",
    "# tablero\n",
    "\n",
    "# barco_jugador = [[[0, 3],[0, 4], [0, 5], [0, 6]], [[4, 7],[5, 7], [6, 7]], [[8, 8],[8, 9]],[[1, 7]]]\n",
    "barco_j_cpy = barco_jugador.copy()\n",
    "# barco_jugador = [[[0, 3]]]\n",
    "\n",
    "for barco in barco_jugador:\n",
    "    print(barco)\n",
    "    # if all(np.equal(barco,casilla).all(1)):\n",
    "    #     print('touche')\n",
    "    #     # pintarlo con \"X\"\n",
    "    #     tablero[casilla[0], casilla[1]] = \"X\"\n",
    "    #     # fin juego\n",
    "    #     fin_juego = True\n",
    "    #     # msg ganador\n",
    "    #     # salir\n",
    "    if any(np.equal(barco,casilla).all(1)):\n",
    "        print('touche')\n",
    "        # pintarlo con \"X\"\n",
    "        tablero[casilla[0], casilla[1]] = \"X\"\n",
    "        # sigue el turno actual\n",
    "        cambio_turno = False\n",
    "        barco_j_cpy.remove(casilla) # NOPE\n",
    "        print(\"elementos de barcos remanentes\", barco_j_cpy)\n",
    "        if len(barco_j_cpy) == 0:\n",
    "            print(\"Fin juego\")\n",
    "    else:\n",
    "        # agua\n",
    "        tablero[casilla[0], casilla[1]] = \"A\"\n",
    "        # turno perdido, cambio\n",
    "        cambio_turno = True\n",
    "\n",
    "\n",
    "\n"
   ]
  },
  {
   "cell_type": "code",
   "execution_count": null,
   "metadata": {},
   "outputs": [
    {
     "data": {
      "text/plain": [
       "0"
      ]
     },
     "execution_count": 1,
     "metadata": {},
     "output_type": "execute_result"
    }
   ],
   "source": [
    "import os\n",
    "\n",
    "clear = lambda: os.system('cls')\n",
    "clear()"
   ]
  },
  {
   "cell_type": "code",
   "execution_count": null,
   "metadata": {},
   "outputs": [
    {
     "data": {
      "text/plain": [
       "4"
      ]
     },
     "execution_count": 3,
     "metadata": {},
     "output_type": "execute_result"
    }
   ],
   "source": [
    "orig = [[[0, 3],[0, 4], [0, 5], [0, 6]], [[4, 7],[5, 7], [6, 7]], [[8, 8],[8, 9]],[[1, 7]]]\n",
    "\n",
    "len(orig)"
   ]
  },
  {
   "cell_type": "code",
   "execution_count": null,
   "metadata": {},
   "outputs": [
    {
     "data": {
      "text/plain": [
       "4"
      ]
     },
     "execution_count": 18,
     "metadata": {},
     "output_type": "execute_result"
    }
   ],
   "source": [
    "cpy = [[[0,6]], [[4, 7],[5, 7], [6, 7]], [[8, 8],[8, 9]],[[1, 7]]]\n",
    "\n",
    "len(cpy)"
   ]
  },
  {
   "cell_type": "code",
   "execution_count": null,
   "metadata": {},
   "outputs": [
    {
     "data": {
      "text/plain": [
       "True"
      ]
     },
     "execution_count": 23,
     "metadata": {},
     "output_type": "execute_result"
    }
   ],
   "source": [
    "[0,6] in cpy[0]"
   ]
  },
  {
   "cell_type": "code",
   "execution_count": null,
   "metadata": {},
   "outputs": [
    {
     "data": {
      "text/plain": [
       "[[0, 6]]"
      ]
     },
     "execution_count": 24,
     "metadata": {},
     "output_type": "execute_result"
    }
   ],
   "source": [
    "cpy[0]"
   ]
  },
  {
   "cell_type": "code",
   "execution_count": null,
   "metadata": {},
   "outputs": [
    {
     "name": "stdout",
     "output_type": "stream",
     "text": [
      "Barco Hundido\n"
     ]
    }
   ],
   "source": [
    "for o in cpy:\n",
    "    if [0,6] in o:\n",
    "        o.remove([0,6])\n",
    "        if len(o) == 0:\n",
    "            print(\"Barco Hundido\")\n",
    "\n",
    "        # print(len(o), type(o))\n",
    "\n",
    "# orig, len(orig)"
   ]
  },
  {
   "cell_type": "code",
   "execution_count": null,
   "metadata": {},
   "outputs": [],
   "source": [
    "def disparar(casilla, barcos, tablero, *tablero_jugador_tiros):\n",
    "    '''\n",
    "    Función de disparar para el Jugador. \n",
    "    Parametros de entrada:\n",
    "        * casilla, que representa las coordenadas [row, col] del disparo\n",
    "        * barcos, la lista de barcos correspondiente al turno\n",
    "        * tablero, sobre cual se ejecuta el disparo segun el turno\n",
    "        * arg opcional tablero_jugador_tiros, para actualizar los tiros\n",
    "    Devuelve:\n",
    "        * un booleano que representa si ha acertado o no\n",
    "        * el tablero actualizado\n",
    "    '''\n",
    "    print(\"-------------casilla\", casilla)\n",
    "\n",
    "    for barco in barcos:\n",
    "        print(\"barco de for disparar:\", barco)\n",
    "        if casilla in barco:\n",
    "            print('TOUCHE')\n",
    "            # pintarlo con \"X\"\n",
    "            tablero[casilla[0], casilla[1]] = \"X\"\n",
    "            if tablero_jugador_tiros:\n",
    "                tablero_jugador_tiros[0][casilla[0], casilla[1]] = \"X\"\n",
    "            barco.remove(casilla)\n",
    "            if len(barco) == 0:\n",
    "                print(\"BARCO HUNDIDO\")\n",
    "            return True, tablero\n",
    "        else:\n",
    "            # agua\n",
    "            print(\"agua\")\n",
    "            tablero[casilla[0], casilla[1]] = \"A\"\n",
    "            if tablero_jugador_tiros:\n",
    "                tablero_jugador_tiros[0][casilla[0], casilla[1]] = \"A\"\n",
    "            print(\"CAMBIO TURNO\")\n",
    "            return False, tablero"
   ]
  },
  {
   "cell_type": "code",
   "execution_count": null,
   "metadata": {},
   "outputs": [],
   "source": []
  },
  {
   "cell_type": "code",
   "execution_count": null,
   "metadata": {},
   "outputs": [
    {
     "data": {
      "text/plain": [
       "4"
      ]
     },
     "execution_count": 29,
     "metadata": {},
     "output_type": "execute_result"
    }
   ],
   "source": [
    "barcos = [[], [], [], []]\n",
    "len(barcos)"
   ]
  },
  {
   "cell_type": "code",
   "execution_count": 10,
   "metadata": {},
   "outputs": [
    {
     "data": {
      "text/plain": [
       "numpy.ndarray"
      ]
     },
     "execution_count": 10,
     "metadata": {},
     "output_type": "execute_result"
    }
   ],
   "source": [
    "type(tablero)"
   ]
  },
  {
   "cell_type": "code",
   "execution_count": null,
   "metadata": {},
   "outputs": [],
   "source": [
    "for barco in barcos:\n",
    "    len()"
   ]
  },
  {
   "cell_type": "code",
   "execution_count": 13,
   "metadata": {},
   "outputs": [
    {
     "name": "stdout",
     "output_type": "stream",
     "text": [
      "[6, 9]\n"
     ]
    }
   ],
   "source": [
    "import random\n",
    "import time\n",
    "\n",
    "time.sleep\n",
    "\n",
    "print([random.randint(0,9) for _ in range(2)])"
   ]
  },
  {
   "cell_type": "code",
   "execution_count": 18,
   "metadata": {},
   "outputs": [
    {
     "name": "stdout",
     "output_type": "stream",
     "text": [
      "has perdido 😢\n"
     ]
    }
   ],
   "source": [
    "import emoji\n",
    "\n",
    "print(emoji.emojize('has perdido :crying_face:'))"
   ]
  },
  {
   "cell_type": "code",
   "execution_count": 16,
   "metadata": {},
   "outputs": [
    {
     "name": "stdout",
     "output_type": "stream",
     "text": [
      "Python is 👍\n"
     ]
    }
   ],
   "source": [
    "print(emoji.emojize('Python is :thumbs_up:'))"
   ]
  },
  {
   "cell_type": "code",
   "execution_count": 19,
   "metadata": {},
   "outputs": [
    {
     "name": "stdout",
     "output_type": "stream",
     "text": [
      "El PC ha ganado 😢. ¡Suerte la próxima vez!\n"
     ]
    }
   ],
   "source": [
    "print(emoji.emojize(\"El PC ha ganado :crying_face:. ¡Suerte la próxima vez!\"))\n"
   ]
  },
  {
   "cell_type": "code",
   "execution_count": 21,
   "metadata": {},
   "outputs": [],
   "source": [
    "tirados_jugador = []\n",
    "tirados_pc = []\n",
    "\n",
    "def get_xy_tiro(turno: bool):\n",
    "    \"\"\"\n",
    "    Obtiene las coordenadas del disparo según el turno.\n",
    "    Si es el turno del jugador, solicita input validado.\n",
    "    Si es el turno del PC, genera coordenadas aleatorias.\n",
    "    \"\"\"\n",
    "    if turno:\n",
    "        while True:\n",
    "            try:\n",
    "                # Solicitar input del jugador\n",
    "                entrada = input(\"Introduce dos números separados por coma (fila, col): \")\n",
    "                casilla = [int(x) for x in entrada.split(',')]\n",
    "                \n",
    "                # Validar que sean exactamente dos números\n",
    "                if len(casilla) != 2:\n",
    "                    raise ValueError(\"Debes introducir exactamente dos números separados por coma.\")\n",
    "                \n",
    "                # Validar rango de las coordenadas\n",
    "                if not (0 <= casilla[0] < 10 and 0 <= casilla[1] < 10):\n",
    "                    raise ValueError(\"Las coordenadas deben estar entre 0 y 9.\")\n",
    "                \n",
    "                # Validar que no sea un tiro repetido\n",
    "                if casilla in tirados_jugador:\n",
    "                    print(\"Tiro repetido; intenta de nuevo.\")\n",
    "                    continue\n",
    "                \n",
    "                # Si todo es válido, agregar a la lista de tiros y salir del bucle\n",
    "                tirados_jugador.append(casilla)\n",
    "                print(\"Tirados jugador:\", tirados_jugador)\n",
    "                return casilla\n",
    "            except ValueError as e:\n",
    "                print(f\"Entrada inválida: {e}. Intenta de nuevo.\")\n",
    "    else:\n",
    "        print(\"El PC elige los números:\")\n",
    "        time.sleep(2)\n",
    "        while True:\n",
    "            # Generar coordenadas aleatorias\n",
    "            casilla = [random.randint(0, 9) for _ in range(2)]\n",
    "            \n",
    "            # Validar que no sea un tiro repetido\n",
    "            if casilla not in tirados_pc:\n",
    "                tirados_pc.append(casilla)\n",
    "                print(\"Tirados PC:\", tirados_pc)\n",
    "                return casilla\n",
    "            print(\"Tiro repetido; PC intenta de nuevo.\")"
   ]
  },
  {
   "cell_type": "code",
   "execution_count": 23,
   "metadata": {},
   "outputs": [
    {
     "name": "stdout",
     "output_type": "stream",
     "text": [
      "Tiro repetido; intenta de nuevo.\n",
      "Tiro repetido; intenta de nuevo.\n",
      "Tirados jugador: [[0, 0], [0, 1]]\n"
     ]
    },
    {
     "data": {
      "text/plain": [
       "[0, 1]"
      ]
     },
     "execution_count": 23,
     "metadata": {},
     "output_type": "execute_result"
    }
   ],
   "source": [
    " get_xy_tiro(True)"
   ]
  },
  {
   "cell_type": "code",
   "execution_count": null,
   "metadata": {},
   "outputs": [],
   "source": []
  }
 ],
 "metadata": {
  "kernelspec": {
   "display_name": "Python 3",
   "language": "python",
   "name": "python3"
  },
  "language_info": {
   "codemirror_mode": {
    "name": "ipython",
    "version": 3
   },
   "file_extension": ".py",
   "mimetype": "text/x-python",
   "name": "python",
   "nbconvert_exporter": "python",
   "pygments_lexer": "ipython3",
   "version": "3.11.4"
  },
  "orig_nbformat": 4
 },
 "nbformat": 4,
 "nbformat_minor": 2
}
