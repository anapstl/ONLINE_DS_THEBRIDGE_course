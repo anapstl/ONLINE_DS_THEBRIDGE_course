{
 "cells": [
  {
   "cell_type": "markdown",
   "metadata": {},
   "source": [
    "![imagen](./img/ejercicios.png)"
   ]
  },
  {
   "cell_type": "markdown",
   "metadata": {},
   "source": [
    "# Ejercicios funciones\n",
    "## Ejercicio 1\n",
    "Escribe una función que convierta números del 1 al 7 en nombres de los dias de la semana. La función constará de un único argumento numérico y una salida de tipo string"
   ]
  },
  {
   "cell_type": "code",
   "execution_count": 30,
   "metadata": {},
   "outputs": [
    {
     "name": "stdout",
     "output_type": "stream",
     "text": [
      "Lunes\n",
      "Domingo\n",
      "Valor NO válido: el número debe estar entre 0 y 6 (inclusive).\n"
     ]
    }
   ],
   "source": [
    "def convierte_nr_a_diasemana(n):\n",
    "    \"\"\"\n",
    "    Convierte un número entero n en una cadena que representa el día de la semana correspondiente.\n",
    "    \n",
    "    :param n:  Número entero que representa el día de la semana (0-6)\n",
    "    :return:  String que representa el día de la semana\n",
    "    \"\"\"\n",
    "    weekdays =  [\"Lunes\", \"Martes\", \"Miércoles\", \"Jueves\", \"Viernes\", \"Sábado\", \"Domingo\"]\n",
    "    \n",
    "    if 0 <= n < 7:\n",
    "        return weekdays[n]\n",
    "    else:\n",
    "        return \"Valor NO válido: el número debe estar entre 0 y 6 (inclusive).\"\n",
    "    \n",
    "print(convierte_nr_a_diasemana(0))  # Lunes\n",
    "print(convierte_nr_a_diasemana(6))  # Domingo\n",
    "print(convierte_nr_a_diasemana(7))  # valor No válido"
   ]
  },
  {
   "cell_type": "markdown",
   "metadata": {},
   "source": [
    "## Ejercicio 2\n",
    "En el ejercicio 8 de flujos de control, creábamos una pirámide invertida de números desde el 5. Crea una función que replique el comportamiento de la pirámide, y utiliza un único parámetro de entrada de la función para determinar el número de filas de la pirámide."
   ]
  },
  {
   "cell_type": "code",
   "execution_count": 2,
   "metadata": {},
   "outputs": [
    {
     "name": "stdout",
     "output_type": "stream",
     "text": [
      "5 4 3 2 1 \n",
      "4 3 2 1 \n",
      "3 2 1 \n",
      "2 1 \n",
      "1 \n"
     ]
    }
   ],
   "source": [
    "def piramide(n_filas):\n",
    "    \"\"\"\n",
    "    Imprime una pirámide de números con n filas.\n",
    "    \"\"\"\n",
    "    lst = list(range(1, n_filas + 1))\n",
    "    lst.reverse()\n",
    "    i = 0\n",
    "    for elem in lst:\n",
    "        lst_aux = lst[i:]\n",
    "        i += 1\n",
    "        for elem2 in lst_aux:\n",
    "            print(elem2, end=\" \")\n",
    "        print()\n",
    "\n",
    "piramide(5)"
   ]
  },
  {
   "cell_type": "markdown",
   "metadata": {},
   "source": [
    "## Ejercicio 3\n",
    "Escribe una función que compare dos números. La función tiene dos argumentos y hay tres salidas posibles: que sean iguales, que el primero sea  mayor que el segundo, o que el segundo sea mayor que el primero"
   ]
  },
  {
   "cell_type": "code",
   "execution_count": 3,
   "metadata": {},
   "outputs": [
    {
     "name": "stdout",
     "output_type": "stream",
     "text": [
      "Segundo mayor que primero\n",
      "Son iguales\n",
      "Primero mayor que segundo\n"
     ]
    }
   ],
   "source": [
    "def compara(primero, segundo):\n",
    "    \"\"\"\n",
    "    Compara dos números y devuelve si son iguales, el primero es mayor o menor.\n",
    "    \"\"\"\n",
    "    if primero < segundo:\n",
    "        return \"Segundo mayor que primero\"\n",
    "    elif primero == segundo:\n",
    "        return \"Son iguales\"\n",
    "    else:\n",
    "        return \"Primero mayor que segundo\"\n",
    "\n",
    "print(compara(3, 5))\n",
    "print(compara(5, 5))\n",
    "print(compara(5, 1))\n"
   ]
  },
  {
   "attachments": {},
   "cell_type": "markdown",
   "metadata": {},
   "source": [
    "## Ejercicio 4\n",
    "Escribe una función que sea un contador de letras. En el primer argumento tienes que introducir un texto, y el segundo que sea una letra que contar. La función tiene que devolver un entero con el número de veces que aparece esa letra, tanto mayúscula, como minúscula"
   ]
  },
  {
   "cell_type": "code",
   "execution_count": 8,
   "metadata": {},
   "outputs": [
    {
     "name": "stdout",
     "output_type": "stream",
     "text": [
      "El texto contiene la 'o': 3 veces\n"
     ]
    }
   ],
   "source": [
    "def contador_letras(texto, letra_a_contar):\n",
    "    \"\"\"\n",
    "    Cuenta cuántas veces aparece una letra en un texto.\n",
    "    \"\"\"\n",
    "    return texto.lower().count(letra_a_contar.lower())\n",
    "\n",
    "txt = \"Hello world Olivia\"\n",
    "letra = \"o\"\n",
    "\n",
    "print(f\"El texto contiene la '{letra}':\",contador_letras(txt, letra) ,\"veces\")"
   ]
  },
  {
   "cell_type": "markdown",
   "metadata": {},
   "source": [
    "## Ejercicio 5\n",
    "Escribe una función que tenga un único argumento, un string. La salida de la función tiene que ser un diccionario con el conteo de todas las letras de ese string, siendo la clave la letra y el valor el conteo."
   ]
  },
  {
   "cell_type": "code",
   "execution_count": 22,
   "metadata": {},
   "outputs": [
    {
     "name": "stdout",
     "output_type": "stream",
     "text": [
      "{'H': 1,\n",
      " 'M': 1,\n",
      " 'O': 1,\n",
      " 'a': 1,\n",
      " 'd': 1,\n",
      " 'i': 1,\n",
      " 'l': 1,\n",
      " 'n': 1,\n",
      " 'o': 1,\n",
      " 'u': 1,\n",
      " 'v': 1}\n"
     ]
    }
   ],
   "source": [
    "import pprint\n",
    "\n",
    "txt = \"Hola Mundo Olivia\"\n",
    "\n",
    "def contador_generico(txt):\n",
    "    \"\"\"\n",
    "    Cuenta cuántas veces aparece cada letra en un texto.\n",
    "    \"\"\"\n",
    "    dict_result = {}\n",
    "    for letra in set(txt):\n",
    "        if letra.isalpha():\n",
    "            dict_result[letra] = dict_result.get(letra, 0) + 1\n",
    "    return dict_result\n",
    "\n",
    "pprint.pprint(contador_generico(txt))"
   ]
  },
  {
   "cell_type": "markdown",
   "metadata": {},
   "source": [
    "## Ejercicio 6\n",
    "Escribir una función que añada o elimine elementos en una lista. La función necesita los siguientes argumentos:\n",
    "* lista: la lista donde se añadirán o eliminarán los elementos\n",
    "* comando: \"add\" o \"remove\"\n",
    "* elemento: Por defecto es None.\n",
    "\n",
    "Tendrá como salida la lista"
   ]
  },
  {
   "cell_type": "code",
   "execution_count": 23,
   "metadata": {},
   "outputs": [
    {
     "name": "stdout",
     "output_type": "stream",
     "text": [
      "[1, 2, 3, 4]\n",
      "[1, 3]\n"
     ]
    }
   ],
   "source": [
    "def ops_lista(lista, cmd, elemento=None):\n",
    "    \"\"\"\n",
    "    Realiza operaciones en una lista según el comando dado.\n",
    "    \"\"\"\n",
    "    if cmd == \"add\":\n",
    "        lista.append(elemento)\n",
    "    elif cmd == \"remove\":\n",
    "        lista.remove(elemento)\n",
    "    else:\n",
    "        print(\"Comando no válido\")\n",
    "    return lista\n",
    "\n",
    "print(ops_lista([1, 2, 3], \"add\", 4))\n",
    "print(ops_lista([1, 2, 3], \"remove\", 2))"
   ]
  },
  {
   "cell_type": "markdown",
   "metadata": {},
   "source": [
    "## Ejercicio 7\n",
    "Crea una función que reciba un número arbitrario de palabras, y devuelva una frase completa, separando las palabras con espacios."
   ]
  },
  {
   "cell_type": "code",
   "execution_count": 26,
   "metadata": {},
   "outputs": [
    {
     "name": "stdout",
     "output_type": "stream",
     "text": [
      "Hola Mundo Olivia Python es genial\n"
     ]
    }
   ],
   "source": [
    "def n_random_words(*args):\n",
    "    \"\"\"\n",
    "    Genera una frase completa separando las n palabras aleatorias con espacios.\n",
    "    \"\"\"\n",
    "    return \" \".join(args)\n",
    "\n",
    "print(n_random_words(\"Hola\", \"Mundo\", \"Olivia\", \"Python\", \"es\", \"genial\"))\n",
    "    "
   ]
  },
  {
   "cell_type": "markdown",
   "metadata": {},
   "source": [
    "## Ejercicio 8\n",
    "Escribe un programa que obtenga el enésimo número de la [serie de Fibonacci](https://es.wikipedia.org/wiki/Sucesi%C3%B3n_de_Fibonacci). Tienes que crear una función recursiva con un único argumento.\n",
    "\n",
    "```Python\n",
    "fibonacci(2) = 1\n",
    "fibonacci(4) = 3\n",
    "fibonacci(5) = 5\n",
    "fibonacci(8) = 21\n",
    "```"
   ]
  },
  {
   "cell_type": "markdown",
   "metadata": {},
   "source": [
    "fibonacci(n) = fibonacci(n-1) + fibonacci(n-2)"
   ]
  },
  {
   "cell_type": "code",
   "execution_count": null,
   "metadata": {},
   "outputs": [],
   "source": []
  },
  {
   "attachments": {},
   "cell_type": "markdown",
   "metadata": {},
   "source": [
    "## Ejercicio 9\n",
    "Define en una única celda las siguientes funciones:\n",
    "* Función que calcule el área de un cuadrado\n",
    "* Función que calcule el área de un triángulo\n",
    "* Función que calcule el área de un círculo\n",
    "\n",
    "En otra celda, calcular el area de:\n",
    "* Dos círculos de radio 10 + un triángulo de base 3 y altura 7\n",
    "* Un cuadrado de lado = 10 + 3 círculos (uno de radio = 4 y los otros dos de radio = 6) + 5 triángulos de base = 2 + altura = 4"
   ]
  },
  {
   "cell_type": "code",
   "execution_count": null,
   "metadata": {},
   "outputs": [],
   "source": []
  },
  {
   "cell_type": "markdown",
   "metadata": {},
   "source": [
    "## Ejercicio 10\n",
    "\n",
    "Guarda las funciones de estos ejercicios en un fichero llamado `funciones.py` e importalas desde este jupyter notebook para probar que puedes hacer uso de ellas."
   ]
  },
  {
   "cell_type": "code",
   "execution_count": null,
   "metadata": {},
   "outputs": [],
   "source": []
  }
 ],
 "metadata": {
  "kernelspec": {
   "display_name": "Python 3",
   "language": "python",
   "name": "python3"
  },
  "language_info": {
   "codemirror_mode": {
    "name": "ipython",
    "version": 3
   },
   "file_extension": ".py",
   "mimetype": "text/x-python",
   "name": "python",
   "nbconvert_exporter": "python",
   "pygments_lexer": "ipython3",
   "version": "3.11.4"
  }
 },
 "nbformat": 4,
 "nbformat_minor": 4
}
