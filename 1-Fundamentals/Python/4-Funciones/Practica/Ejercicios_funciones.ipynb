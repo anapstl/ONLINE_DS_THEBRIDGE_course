{
  "cells": [
    {
      "cell_type": "markdown",
      "metadata": {
        "id": "AyOlWS2nRWxH"
      },
      "source": [
        "## PRACTICA OBLIGATORIA: COLECCIONES Y FUNCIONES"
      ]
    },
    {
      "cell_type": "markdown",
      "metadata": {
        "id": "6UOgb0KVRWxH"
      },
      "source": [
        "* La práctica obligatoria de esta unidad consiste varios ejercicios de programación libre a completar sobre Colecciones y Funciones. Descarga este notebook en tu ordenador y trabaja en local.  \n",
        "* Recuerda que debes subirla a tu repositorio personal antes de la sesión en vivo para que puntúe adecuadamente y puedas participar en dicha sesión.  \n",
        "* Recuerda también que no es necesario que esté perfecta, sólo es necesario que se vea el esfuerzo.\n",
        "* Esta práctica se resolverá en la sesión en vivo correspondiente y la solución se publicará en el repo del curso."
      ]
    },
    {
      "cell_type": "markdown",
      "metadata": {
        "id": "j3yu-tEjRWxH"
      },
      "source": [
        "### Contenidos"
      ]
    },
    {
      "cell_type": "markdown",
      "metadata": {
        "id": "kO-fLH39RWxH"
      },
      "source": [
        "## Ejercicio 1\n",
        "Eleva todos los elementos de la lista al cuadrado\n",
        "> ```ejer_2 = [1,2,3,4,5]```"
      ]
    },
    {
      "cell_type": "code",
      "execution_count": 1,
      "metadata": {
        "id": "ks5l3yi7RWxH"
      },
      "outputs": [
        {
          "name": "stdout",
          "output_type": "stream",
          "text": [
            "[1, 4, 9, 16, 25]\n"
          ]
        }
      ],
      "source": [
        "ejer_2 = [1,2,3,4,5]\n",
        "ejer_2_al_cuadrado = [x**2 for x in ejer_2]\n",
        "print(ejer_2_al_cuadrado)"
      ]
    },
    {
      "cell_type": "markdown",
      "metadata": {
        "id": "kI_Xr5oFRWxI"
      },
      "source": [
        "## Ejercicio 2\n",
        "Haz un programa que detecte todos los duplicados de un elemento en una lista:\n",
        "* Utiliza una variable duplicado para asignarle el valor del elemento del que queremos encontrar todos sus duplicados.\n",
        "* El programa debe devolver todos los índices de los elementos duplicados.\n",
        "* Aplícalo para encontrar los duplicados de \"un\", \"es\" y \"binario\" de:  \n",
        "\n",
        ">```ejer_3 = [\"Un\", \"árbol\", \"binario\", \"es\", \"una\", \"estructura\", \"de\", \"un\", \"tipo\", \"particular\", \"a\", \"veces\", \"no\", \"es\", \"ni\", \"binario\"]```\n"
      ]
    },
    {
      "cell_type": "code",
      "execution_count": 2,
      "metadata": {
        "id": "cLY9WB7YRWxI"
      },
      "outputs": [
        {
          "name": "stdout",
          "output_type": "stream",
          "text": [
            "[0, 7]\n",
            "[3, 13]\n",
            "[2, 15]\n"
          ]
        }
      ],
      "source": [
        "ejer_3 = [\"Un\", \"árbol\", \"binario\", \"es\", \"una\", \"estructura\", \"de\", \"un\", \"tipo\", \"particular\", \"a\", \"veces\", \"no\", \"es\", \"ni\", \"binario\"]\n",
        "\n",
        "def find_duplicates(lista, duplicado):\n",
        "    return [i for i, val in enumerate(lista) if val.lower() == duplicado.lower()]\n",
        "\n",
        "print(find_duplicates(ejer_3, \"un\"))\n",
        "print(find_duplicates(ejer_3, \"es\"))\n",
        "print(find_duplicates(ejer_3, \"binario\"))"
      ]
    },
    {
      "cell_type": "markdown",
      "metadata": {
        "id": "3WrBd5QaRWxI"
      },
      "source": [
        "## Ejercicio 3\n",
        "1. ¿Cuántas veces se repite el 3 en la siguiente tupla?\n",
        "2. Crea una tupla nueva con los elementos desde la posicion 5 a la 10.\n",
        "3. ¿Cuántos elementos tiene la tupla `ejer_3`?\n",
        "> ```ejer_9 = (3, 20, 3, 47, 19, 3, 29, 45, 67, 78, 90, 3, 3, 5, 2, 4, 7, 9, 4, 2, 4, 3, 3, 4, 6, 7)```"
      ]
    },
    {
      "cell_type": "code",
      "execution_count": 16,
      "metadata": {
        "id": "bkv_R5LYRWxI"
      },
      "outputs": [
        {
          "name": "stdout",
          "output_type": "stream",
          "text": [
            "Se repite 7 veces el 3 en la tupla ejer_9\n",
            "La nueva tupla es: (3, 29, 45, 67, 78, 90)\n",
            "La tupla ejer_9 tiene 26 elementos\n"
          ]
        }
      ],
      "source": [
        "ejer_9 = (3, 20, 3, 47, 19, 3, 29, 45, 67, 78, 90, 3, 3, 5, 2, 4, 7, 9, 4, 2, 4, 3, 3, 4, 6, 7)\n",
        "\n",
        "# 1. ¿Cuántas veces se repite el 3 en la siguiente tupla?\n",
        "print(\"Se repite\",ejer_9.count(3), \"veces el 3 en la tupla ejer_9\")\n",
        "\n",
        "# 2. Crea una tupla nueva con los elementos desde la posicion 5 a la 10.\n",
        "ejer_9_nueva = ejer_9[5:11]\n",
        "print(\"La nueva tupla es:\", ejer_9_nueva)\n",
        "\n",
        "# 3. ¿Cuántos elementos tiene la tupla `ejer_3`?\n",
        "print(\"La tupla ejer_9 tiene\", len(ejer_9), \"elementos\")"
      ]
    },
    {
      "cell_type": "markdown",
      "metadata": {
        "id": "6g8Y54AeRWxI"
      },
      "source": [
        "## Ejercicio 4\n",
        "Comprueba si el numero 60 esta en la tupla del ejercicio 3"
      ]
    },
    {
      "cell_type": "code",
      "execution_count": 18,
      "metadata": {
        "id": "F8VTEZonRWxI"
      },
      "outputs": [
        {
          "name": "stdout",
          "output_type": "stream",
          "text": [
            "El número 60: no se encuentra de la tupla ejer_9\n"
          ]
        }
      ],
      "source": [
        "print(\"El número 60:\", ejer_9.index(60) if 60 in ejer_9 else \"no se encuentra\", \"de la tupla ejer_9\")"
      ]
    },
    {
      "cell_type": "markdown",
      "metadata": {
        "id": "y0fg-ZA6RWxI"
      },
      "source": [
        "## Ejercicio 5\n",
        "1. Convierte la tupla del ejercicio 3 en una lista\n",
        "2. Convierte la tupla del ejercicio 3 en un set\n",
        "3. Convierte la tupla del ejercicio 3 en un diccionario. Usa también los indices"
      ]
    },
    {
      "cell_type": "code",
      "execution_count": null,
      "metadata": {
        "id": "_O5hXr01RWxI"
      },
      "outputs": [
        {
          "name": "stdout",
          "output_type": "stream",
          "text": [
            "[3, 20, 3, 47, 19, 3, 29, 45, 67, 78, 90, 3, 3, 5, 2, 4, 7, 9, 4, 2, 4, 3, 3, 4, 6, 7] <class 'list'>\n",
            "{2, 3, 67, 5, 4, 7, 6, 9, 45, 78, 47, 19, 20, 90, 29} <class 'set'>\n",
            "{0: 3,\n",
            " 1: 20,\n",
            " 2: 3,\n",
            " 3: 47,\n",
            " 4: 19,\n",
            " 5: 3,\n",
            " 6: 29,\n",
            " 7: 45,\n",
            " 8: 67,\n",
            " 9: 78,\n",
            " 10: 90,\n",
            " 11: 3,\n",
            " 12: 3,\n",
            " 13: 5,\n",
            " 14: 2,\n",
            " 15: 4,\n",
            " 16: 7,\n",
            " 17: 9,\n",
            " 18: 4,\n",
            " 19: 2,\n",
            " 20: 4,\n",
            " 21: 3,\n",
            " 22: 3,\n",
            " 23: 4,\n",
            " 24: 6,\n",
            " 25: 7}\n",
            "<class 'dict'>\n"
          ]
        }
      ],
      "source": [
        "# 1. Convierte la tupla del ejercicio 3 en una lista\n",
        "lst_ejer_9 = list(ejer_9)\n",
        "print(lst_ejer_9, type(lst_ejer_9))\n",
        "\n",
        "# 2. Convierte la tupla del ejercicio 3 en un set\n",
        "set_ejer_9 = set(ejer_9)\n",
        "print(set_ejer_9, type(set_ejer_9))\n",
        "\n",
        "# 3. Convierte la tupla del ejercicio 3 en un diccionario. Usa también los indices\n",
        "# como claves y los elementos de la tupla como valores.\n",
        "\n",
        "import pprint\n",
        "dict_ejer_9 = {i: ejer_9[i] for i in range(len(ejer_9))}\n",
        "# o también se puede hacer con enumerate\n",
        "# dict_ejer_9 = {i: val for i, val in enumerate(ejer_9)}\n",
        "pprint.pprint(dict_ejer_9)\n",
        "print(type(dict_ejer_9))"
      ]
    },
    {
      "cell_type": "markdown",
      "metadata": {
        "id": "eOdWWbxvRWxJ"
      },
      "source": [
        "## Ejercicio 6\n",
        "Multiplica todos los valores del diccionario\n",
        "> ```ejer_6 = {1: 11, 2: 22, 3: 33, 4: 44, 5: 55}```"
      ]
    },
    {
      "cell_type": "code",
      "execution_count": 28,
      "metadata": {},
      "outputs": [
        {
          "name": "stdout",
          "output_type": "stream",
          "text": [
            "Producto de todos los valores del dict: 19326120\n"
          ]
        }
      ],
      "source": [
        "ejer_6 = {1: 11, 2: 22, 3: 33, 4: 44, 5: 55}\n",
        "\n",
        "def multiplica_val_dict(d):\n",
        "    res = 1\n",
        "    for i in d.values():\n",
        "        res *= i\n",
        "    return res\n",
        "\n",
        "print(\"Producto de todos los valores del dict:\",multiplica_val_dict(ejer_6))"
      ]
    },
    {
      "cell_type": "markdown",
      "metadata": {
        "id": "W7TUSaKRRWxJ"
      },
      "source": [
        "## Ejercicio 7\n",
        "\n",
        "1. Crea un diccionario que describa un libro, con los siguientes campos o claves: \"titulo\",\"autor\",\"idioma original\",\"año de publicación\".\n",
        "2. Crea un a lista, llamada librería.\n",
        "3. Añade cuatro libros a tu elección a la librería."
      ]
    },
    {
      "cell_type": "code",
      "execution_count": 31,
      "metadata": {
        "id": "d-IMRvxRRWxJ"
      },
      "outputs": [
        {
          "name": "stdout",
          "output_type": "stream",
          "text": [
            "[{'autor': 'Cervantes',\n",
            "  'año': 1605,\n",
            "  'idioma original': 'castellano',\n",
            "  'titulo': 'El Quijote'},\n",
            " {'autor': 'Capote',\n",
            "  'año': 1966,\n",
            "  'idioma original': 'inglés',\n",
            "  'titulo': 'A sangre fría'},\n",
            " {'autor': 'Boris Vian',\n",
            "  'año': 1947,\n",
            "  'idioma original': 'francés',\n",
            "  'titulo': 'La espuma de los días'},\n",
            " {'autor': 'Muriel Barbery',\n",
            "  'año': 2006,\n",
            "  'idioma original': 'francés',\n",
            "  'titulo': 'La elegancia del erizo'}]\n"
          ]
        }
      ],
      "source": [
        "import pprint\n",
        "\n",
        "libro1 = {\n",
        "    \"titulo\": \"El Quijote\",\n",
        "    \"autor\": \"Cervantes\",\n",
        "    \"idioma original\": \"castellano\",\n",
        "    \"año\": 1605,\n",
        "}\n",
        "libro2 = {\n",
        "    \"titulo\": \"A sangre fría\",\n",
        "    \"autor\": \"Capote\",\n",
        "    \"idioma original\": \"inglés\",\n",
        "    \"año\": 1966,\n",
        "}\n",
        "libro3 = {\n",
        "    \"titulo\": \"La espuma de los días\",\n",
        "    \"autor\": \"Boris Vian\",\n",
        "    \"idioma original\": \"francés\",\n",
        "    \"año\": 1947,\n",
        "}\n",
        "libro4 = {\n",
        "    \"titulo\": \"La elegancia del erizo\",\n",
        "    \"autor\": \"Muriel Barbery\",\n",
        "    \"idioma original\": \"francés\",\n",
        "    \"año\": 2006,\n",
        "}\n",
        "libreria = [libro1, libro2, libro3, libro4]\n",
        "pprint.pprint( libreria)\n"
      ]
    },
    {
      "cell_type": "markdown",
      "metadata": {
        "id": "glMoedjYRWxJ"
      },
      "source": [
        "## Ejercicio 8\n",
        "Modifica los valores del idioma de todos los libros del ejercicio anterior para que sea \"esperanto\"\n"
      ]
    },
    {
      "cell_type": "code",
      "execution_count": 33,
      "metadata": {
        "id": "veNdC-uwRWxJ"
      },
      "outputs": [
        {
          "name": "stdout",
          "output_type": "stream",
          "text": [
            "[{'autor': 'Cervantes',\n",
            "  'año': 1605,\n",
            "  'idioma original': 'esperanto',\n",
            "  'titulo': 'El Quijote'},\n",
            " {'autor': 'Capote',\n",
            "  'año': 1966,\n",
            "  'idioma original': 'esperanto',\n",
            "  'titulo': 'A sangre fría'},\n",
            " {'autor': 'Boris Vian',\n",
            "  'año': 1947,\n",
            "  'idioma original': 'esperanto',\n",
            "  'titulo': 'La espuma de los días'},\n",
            " {'autor': 'Muriel Barbery',\n",
            "  'año': 2006,\n",
            "  'idioma original': 'esperanto',\n",
            "  'titulo': 'La elegancia del erizo'}]\n"
          ]
        }
      ],
      "source": [
        "for libro in libreria:\n",
        "    libro[\"idioma original\"] = \"esperanto\"\n",
        "pprint.pprint( libreria)\n"
      ]
    },
    {
      "cell_type": "markdown",
      "metadata": {
        "id": "DRCJG04KRWxJ"
      },
      "source": [
        "## Ejercicio 9\n",
        "1. Escribe un programa que dada una variable titulo busque los libros que hay en la librería con ese título. Si no se encuentra debe devolver el mensaje `Ese no lo tengo, ¿mola?`\n",
        "2. Pruena que el programa con uno de tus libros y con otro que no contenga tu librería."
      ]
    },
    {
      "cell_type": "code",
      "execution_count": 35,
      "metadata": {
        "id": "eWHdJi9BRWxJ"
      },
      "outputs": [
        {
          "name": "stdout",
          "output_type": "stream",
          "text": [
            "{'titulo': 'La elegancia del erizo', 'autor': 'Muriel Barbery', 'idioma original': 'esperanto', 'año': 2006}\n",
            "Ese no lo tengo, ¿mola?\n"
          ]
        }
      ],
      "source": [
        "def buscar_libro(titulo, libreria):\n",
        "    for libro in libreria:\n",
        "        if libro[\"titulo\"].lower() == titulo.lower():\n",
        "            return libro   \n",
        "    return \"Ese no lo tengo, ¿mola?\"\n",
        "\n",
        "# Ejemplos de uso:\n",
        "print(buscar_libro(\"La elegancia del erizo\", libreria))\n",
        "print(buscar_libro(\"El viaje a la felicidad\", libreria))"
      ]
    },
    {
      "cell_type": "markdown",
      "metadata": {
        "id": "17YOpYuFRWxJ"
      },
      "source": [
        "## Ejercicio 10\n",
        "Convierte el programa del ejercicio 2 en una función al que se le pase el valor a buscar como un argumento posicional"
      ]
    },
    {
      "cell_type": "code",
      "execution_count": 36,
      "metadata": {
        "id": "xbj0LgvnRWxJ"
      },
      "outputs": [
        {
          "name": "stdout",
          "output_type": "stream",
          "text": [
            "[0, 7]\n",
            "[3, 13]\n",
            "[2, 15]\n"
          ]
        }
      ],
      "source": [
        "ejer_3 = [\"Un\", \"árbol\", \"binario\", \"es\", \"una\", \"estructura\", \"de\", \"un\", \"tipo\", \"particular\", \"a\", \"veces\", \"no\", \"es\", \"ni\", \"binario\"]\n",
        "\n",
        "def find_duplicates(lista, duplicado):\n",
        "    return [i for i, val in enumerate(lista) if val.lower() == duplicado.lower()]\n",
        "\n",
        "print(find_duplicates(ejer_3, \"un\"))\n",
        "print(find_duplicates(ejer_3, \"es\"))\n",
        "print(find_duplicates(ejer_3, \"binario\"))"
      ]
    },
    {
      "cell_type": "markdown",
      "metadata": {
        "id": "xZ-sWJxPRWxJ"
      },
      "source": [
        "## Ejercicio 11\n",
        "Convierte el programa del ejercicio 9 en una función al que se le pasen como argumentos la librería, posicional, y el título, argumento keyword con valor \"ninguno\", por defecto."
      ]
    },
    {
      "cell_type": "code",
      "execution_count": 39,
      "metadata": {
        "id": "4-JrsMdNRWxK"
      },
      "outputs": [
        {
          "name": "stdout",
          "output_type": "stream",
          "text": [
            "{'titulo': 'La elegancia del erizo', 'autor': 'Muriel Barbery', 'idioma original': 'esperanto', 'año': 2006}\n",
            "Ese no lo tengo, ¿mola?\n",
            "Ese no lo tengo, ¿mola?\n"
          ]
        }
      ],
      "source": [
        "def buscar_libro(libreria, titulo=\"ninguno\"):\n",
        "    for libro in libreria:\n",
        "        if libro[\"titulo\"].lower() == titulo.lower():\n",
        "            return libro   \n",
        "    return \"Ese no lo tengo, ¿mola?\"\n",
        "\n",
        "# Ejemplos de uso:\n",
        "print(buscar_libro(libreria, \"La elegancia del erizo\"))\n",
        "print(buscar_libro(libreria, \"El viaje a la felicidad\"))\n",
        "print(buscar_libro(libreria))"
      ]
    },
    {
      "cell_type": "markdown",
      "metadata": {
        "id": "FtJir95QRWxK"
      },
      "source": [
        "## Ejercicio 12\n",
        "Solicitar al usuario que ingrese su dirección email. Imprimir un mensaje indicando si la dirección es válida o no, valiéndose de una función para decidirlo. Una dirección se considerará válida si contiene el símbolo \"@\"."
      ]
    },
    {
      "cell_type": "code",
      "execution_count": null,
      "metadata": {
        "id": "sk852IZ8RWxK"
      },
      "outputs": [],
      "source": [
        "# def validar_email(email):\n",
        "#     return \"@\" in email\n",
        "\n",
        "# email = input(\"Introduce tu email: \")\n",
        "# if validar_email(email):\n",
        "#     print(\"La dirección es válida.\")\n",
        "# else:\n",
        "#     print(\"La dirección no es válida.\")"
      ]
    },
    {
      "cell_type": "markdown",
      "metadata": {
        "id": "Kw1MWBwBRWxK"
      },
      "source": [
        "## Ejercicio 13\n",
        "Escribe una función que compruebe si un DNI es válido, devolviendo `True` en caso afirmativo.  \n",
        "En primer lugar, el DNI debe tener entre 7 y 8 dígitos numéricos.  \n",
        "Para saber si la letra del DNI es correcta puedes utilizar el siguiente fragmento de código:\n",
        ">```Python\n",
        ">DNI= 55555555\n",
        ">palabra='TRWAGMYFPDXBNJZSQVHLCKE'\n",
        ">print('La letra del DNI es: ', palabra[DNI%23])\n",
        ">````\n"
      ]
    },
    {
      "cell_type": "code",
      "execution_count": null,
      "metadata": {
        "id": "F5Z9rSHqRWxK"
      },
      "outputs": [],
      "source": [
        "# def validar_dni(dni):\n",
        "#     if not (7 <= len(str(dni)) <= 8 and str(dni).isdigit()):\n",
        "#         return False\n",
        "#     palabra = 'TRWAGMYFPDXBNJZSQVHLCKE'\n",
        "#     letra_correcta = palabra[dni % 23]\n",
        "#     return f\"La letra del DNI es: {letra_correcta}\"\n",
        "\n",
        "# print(validar_dni(55555555))"
      ]
    }
  ],
  "metadata": {
    "colab": {
      "provenance": []
    },
    "kernelspec": {
      "display_name": "Python 3",
      "language": "python",
      "name": "python3"
    },
    "language_info": {
      "codemirror_mode": {
        "name": "ipython",
        "version": 3
      },
      "file_extension": ".py",
      "mimetype": "text/x-python",
      "name": "python",
      "nbconvert_exporter": "python",
      "pygments_lexer": "ipython3",
      "version": "3.11.4"
    },
    "orig_nbformat": 4
  },
  "nbformat": 4,
  "nbformat_minor": 0
}
