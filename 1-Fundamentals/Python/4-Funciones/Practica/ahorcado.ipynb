{
 "cells": [
  {
   "attachments": {},
   "cell_type": "markdown",
   "metadata": {},
   "source": [
    "## Juego del Ahorcado\n",
    "Desarrolla el juego del ahorcado en python. En cada turno irá mostrando por pantalla ```_ _ _ _ _``` las rayas bajas correspondientes al número de letras que tiene la palabra a adivinar. El usuario deberá insertar una letra y, si esa letra existe, se mostrará o mostrarán las letras acertadas ```S _ S _ _``` en sus posiciones correspondientes. \n",
    "\n",
    "Si falla, se mostrará el número de errores que lleva y, si lleva x errores, entonces se mostrará \"Fin del juego\"."
   ]
  },
  {
   "cell_type": "markdown",
   "metadata": {},
   "source": [
    "1. Inicializa el juego: declara una palabra a adivinar y muestra por pantalla la palabra oculta.\n"
   ]
  },
  {
   "cell_type": "markdown",
   "metadata": {},
   "source": [
    "\n",
    "```python\n",
    "_ _ _ _ _ _ _ _\n",
    "```"
   ]
  },
  {
   "cell_type": "markdown",
   "metadata": {},
   "source": [
    "2. Funcionamiento turnos: mediante un bucle genera el sistema de turnos donde el usuario introduce una letra y le va mostrando su progreso y sus n_vidas."
   ]
  },
  {
   "cell_type": "markdown",
   "metadata": {},
   "source": [
    "3. Desarrolla la finalización de la partida, tanto si gana como si pierde."
   ]
  },
  {
   "cell_type": "markdown",
   "metadata": {},
   "source": [
    "4. Encapsula el juego en una función llamada ```jugar_ahorcado()``` con la palabra a adivinar y el número de n_vidas para seleccionar la dificultad como argumentos de entrada."
   ]
  },
  {
   "cell_type": "code",
   "execution_count": 6,
   "metadata": {},
   "outputs": [
    {
     "name": "stdout",
     "output_type": "stream",
     "text": [
      "¡Bienvenid@ al juego del ahorcado! Tienes 10 vidas.\n",
      "_ _ _ _ _ _ _ _\n",
      "¡Bien hecho! La letra 'a' está en la palabra.\n",
      "a _ _ _ _ a _ _\n",
      "¡Bien hecho! La letra 'h' está en la palabra.\n",
      "a h _ _ _ a _ _\n",
      "¡Bien hecho! La letra 'o' está en la palabra.\n",
      "a h o _ _ a _ o\n",
      "¡Bien hecho! La letra 'r' está en la palabra.\n",
      "a h o r _ a _ o\n",
      "¡Bien hecho! La letra 'd' está en la palabra.\n",
      "a h o r _ a d o\n",
      "¡Bien hecho! La letra 'c' está en la palabra.\n",
      "a h o r c a d o\n",
      "¡Felicidades! Has adivinado la palabra ahorcado\n"
     ]
    }
   ],
   "source": [
    "def jugar_ahorcado(palabra, n_vidas):\n",
    "    palabra_oculta = [\"_\"] * len(palabra)\n",
    "    letras_probadas = set() \n",
    "    errores = 0 \n",
    "\n",
    "    print(f\"¡Bienvenid@ al juego del ahorcado! Tienes {n_vidas} vidas.\")\n",
    "    print(\" \".join(palabra_oculta))\n",
    "\n",
    "    while  n_vidas > 0 and \"_\" in palabra_oculta:\n",
    "        letra = input(\"Introduce una letra: \").lower()\n",
    "\n",
    "        # Validar input\n",
    "        if len(letra) != 1 or not letra.isalpha():\n",
    "            print(\"Por favor, introduce solo una letra válida.\")\n",
    "            continue\n",
    "\n",
    "        # Comprobar si la letra ya fue probada\n",
    "        if letra in letras_probadas:\n",
    "            print(f\"Ya has intentado con la letra '{letra}'. Prueba con otra.\")\n",
    "            continue\n",
    "\n",
    "        letras_probadas.add(letra)\n",
    "\n",
    "        # Comprobar si la letra está en la palabra\n",
    "        if letra in palabra:\n",
    "            print(f\"¡Bien hecho! La letra '{letra}' está en la palabra.\")\n",
    "            for i, l in enumerate(palabra):\n",
    "                if l == letra:\n",
    "                    palabra_oculta[i] = letra\n",
    "            print(\" \".join(palabra_oculta))\n",
    "        else:\n",
    "            errores += 1\n",
    "            n_vidas -= 1\n",
    "            print(f\"La letra '{letra}' no está en la palabra. Te quedan {n_vidas} n_vidas.\")\n",
    "\n",
    "    # Fin del juego\n",
    "    print(\"¡Felicidades! Has adivinado la palabra\" if \"_\" not in palabra_oculta \n",
    "          else \"¡Fin del juego! Has perdido. La palabra era:\", palabra)\n",
    "\n",
    "# Ejemplo de uso\n",
    "palabra_a_adivinar = \"ahorcado\"\n",
    "jugar_ahorcado(palabra_a_adivinar, 10)"
   ]
  },
  {
   "cell_type": "code",
   "execution_count": null,
   "metadata": {},
   "outputs": [],
   "source": []
  }
 ],
 "metadata": {
  "kernelspec": {
   "display_name": "Python 3",
   "language": "python",
   "name": "python3"
  },
  "language_info": {
   "codemirror_mode": {
    "name": "ipython",
    "version": 3
   },
   "file_extension": ".py",
   "mimetype": "text/x-python",
   "name": "python",
   "nbconvert_exporter": "python",
   "pygments_lexer": "ipython3",
   "version": "3.11.4"
  },
  "orig_nbformat": 4
 },
 "nbformat": 4,
 "nbformat_minor": 2
}
