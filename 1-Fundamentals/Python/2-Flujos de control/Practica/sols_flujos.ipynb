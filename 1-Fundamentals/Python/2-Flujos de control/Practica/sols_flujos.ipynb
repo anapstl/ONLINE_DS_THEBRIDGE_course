{
 "cells": [
  {
   "cell_type": "markdown",
   "id": "bfbcf7ae",
   "metadata": {},
   "source": [
    "![imagen](./img/ejercicios.png)"
   ]
  },
  {
   "cell_type": "markdown",
   "id": "7b36d6b4",
   "metadata": {},
   "source": [
    "# Ejercicios Flujos de Control"
   ]
  },
  {
   "cell_type": "markdown",
   "id": "0640803d",
   "metadata": {},
   "source": [
    "## Ejercicio 1: Hora del Día\n",
    "Implementa una estructura condicional para determinar la actividad basada en la hora del día."
   ]
  },
  {
   "cell_type": "code",
   "execution_count": null,
   "id": "d3561c88",
   "metadata": {},
   "outputs": [],
   "source": [
    "hora_del_dia = 24\n",
    "if hora_del_dia < 0 or hora_del_dia > 24:\n",
    "    print(\"Transporte o error\")\n",
    "elif hora_del_dia < 8:\n",
    "    print(\"Durmiendo\")\n",
    "elif hora_del_dia < 18:\n",
    "    print(\"Trabajando\")\n",
    "elif hora_del_dia < 21:\n",
    "    print(\"Clase\")\n",
    "else:\n",
    "    print(\"Descanso\")"
   ]
  },
  {
   "cell_type": "markdown",
   "id": "a3835c2c",
   "metadata": {},
   "source": [
    "## Ejercicio 2: Calculador de Precios de Casas\n",
    "Escribe un programa que calcule los precios de casas basándose en el distrito y la superficie usando estructuras condicionales."
   ]
  },
  {
   "cell_type": "code",
   "execution_count": null,
   "id": "799f4592",
   "metadata": {},
   "outputs": [],
   "source": [
    "superficie = 120\n",
    "distrito = \"Moncloa\"\n",
    "\n",
    "if (distrito == \"Moncloa\" or distrito == \"Centro\") and superficie > 100:\n",
    "    precio = 1000\n",
    "elif distrito == \"Salamanca\" and superficie >= 150:\n",
    "    precio = 1500\n",
    "elif distrito != \"Retiro\" and 60 <= superficie <= 80:\n",
    "    precio = 600\n",
    "else:\n",
    "    precio = 0\n",
    "\n",
    "print(f\"El precio de la casa es: {precio}\")"
   ]
  },
  {
   "cell_type": "markdown",
   "id": "ba07689f",
   "metadata": {},
   "source": [
    "## Ejercicio 3: Ifs Anidados\n",
    "Usa estructuras `if` anidadas para determinar el distrito y calcular el precio basado en la superficie."
   ]
  },
  {
   "cell_type": "code",
   "execution_count": null,
   "id": "d38c5205",
   "metadata": {},
   "outputs": [],
   "source": [
    "distrito = \"Retiro\"\n",
    "superficie = 110\n",
    "\n",
    "if distrito == \"Retiro\":\n",
    "    print(\"Distrito Retiro\")\n",
    "    if superficie > 100:\n",
    "        print(\"Precio: 1000\")\n",
    "    else:\n",
    "        print(\"Precio: 500\")\n",
    "else:\n",
    "    print(\"Otro distrito\")"
   ]
  },
  {
   "cell_type": "markdown",
   "id": "da87f60f",
   "metadata": {},
   "source": [
    "## Ejercicio 4: Multiplicar Elementos de una Lista\n",
    "Recorre una lista y multiplica cada elemento por un número dado, imprimiendo los resultados."
   ]
  },
  {
   "cell_type": "code",
   "execution_count": null,
   "id": "754d4721",
   "metadata": {},
   "outputs": [],
   "source": [
    "numero = 3\n",
    "lista = [1, 2, 3, 4, 5]\n",
    "\n",
    "for elemento in lista:\n",
    "    print(elemento * numero)"
   ]
  },
  {
   "cell_type": "markdown",
   "id": "84f446d8",
   "metadata": {},
   "source": [
    "## Ejercicio 5: Números del -10 al -1\n",
    "Usa un bucle para imprimir los números del -10 al -1 en orden."
   ]
  },
  {
   "cell_type": "code",
   "execution_count": null,
   "id": "f8bde110",
   "metadata": {},
   "outputs": [],
   "source": [
    "for i in range(-10, 0):\n",
    "    print(i)"
   ]
  },
  {
   "cell_type": "markdown",
   "id": "eb6f52af",
   "metadata": {},
   "source": [
    "## Ejercicio 6: Divisibles por 5 y Condición de Parada\n",
    "Recorre una lista, imprime los números divisibles por 5 y detén el bucle si encuentras un número mayor que 150."
   ]
  },
  {
   "cell_type": "code",
   "execution_count": null,
   "id": "5ddd368a",
   "metadata": {},
   "outputs": [],
   "source": [
    "list1 = [12, 15, 32, 42, 55, 75, 122, 132, 150, 180, 200]\n",
    "\n",
    "for num in list1:\n",
    "    if num > 150:\n",
    "        break\n",
    "    if num % 5 == 0:\n",
    "        print(num)"
   ]
  },
  {
   "cell_type": "markdown",
   "id": "c13cd909",
   "metadata": {},
   "source": [
    "## Ejercicio 7: Divisibles por 5 y 7 en un Rango\n",
    "Imprime los números divisibles por 5 y 7 dentro del rango de valores (150, 350)."
   ]
  },
  {
   "cell_type": "code",
   "execution_count": null,
   "id": "0f528f4d",
   "metadata": {},
   "outputs": [],
   "source": [
    "for num in range(150, 351):\n",
    "    if num % 5 == 0 and num % 7 == 0:\n",
    "        print(num)"
   ]
  },
  {
   "cell_type": "markdown",
   "id": "909fd10b",
   "metadata": {},
   "source": [
    "## Ejercicio 8: Patrón Descendente\n",
    "Genera e imprime un patrón descendente de números como se describe en el ejercicio."
   ]
  },
  {
   "cell_type": "code",
   "execution_count": 1,
   "id": "b60bc185",
   "metadata": {},
   "outputs": [
    {
     "name": "stdout",
     "output_type": "stream",
     "text": [
      "5 4 3 2 1 \n",
      "4 3 2 1 \n",
      "3 2 1 \n",
      "2 1 \n",
      "1 \n"
     ]
    }
   ],
   "source": [
    "for i in range(5, 0, -1):\n",
    "    for j in range(i, 0, -1):\n",
    "        print(j, end=\" \")\n",
    "    print()"
   ]
  },
  {
   "cell_type": "markdown",
   "id": "3639dbd8",
   "metadata": {},
   "source": [
    "## Ejercicio 9: Juego de Adivinanza\n",
    "Implementa un juego donde el usuario tiene dos intentos para adivinar un número aleatorio entre 1 y 5."
   ]
  },
  {
   "cell_type": "code",
   "execution_count": null,
   "id": "46b7513e",
   "metadata": {},
   "outputs": [],
   "source": [
    "import random\n",
    "\n",
    "numero_aleatorio = random.randint(1, 5)\n",
    "vidas = 2\n",
    "\n",
    "while vidas > 0:\n",
    "    intento = int(input(\"Adivina el número (1-5): \"))\n",
    "    if intento == numero_aleatorio:\n",
    "        print(\"You win\")\n",
    "        break\n",
    "    else:\n",
    "        vidas -= 1\n",
    "        print(f\"Te quedan {vidas} vidas\")\n",
    "\n",
    "else:\n",
    "    print(\"You lose\")"
   ]
  }
 ],
 "metadata": {
  "kernelspec": {
   "display_name": "Python 3",
   "language": "python",
   "name": "python3"
  },
  "language_info": {
   "codemirror_mode": {
    "name": "ipython",
    "version": 3
   },
   "file_extension": ".py",
   "mimetype": "text/x-python",
   "name": "python",
   "nbconvert_exporter": "python",
   "pygments_lexer": "ipython3",
   "version": "3.11.4"
  }
 },
 "nbformat": 4,
 "nbformat_minor": 5
}
