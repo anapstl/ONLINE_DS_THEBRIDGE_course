{
 "cells": [
  {
   "cell_type": "markdown",
   "metadata": {},
   "source": [
    "![imagen](./img/ejercicios.png)"
   ]
  },
  {
   "cell_type": "markdown",
   "metadata": {},
   "source": [
    "## Ejercicio 1\n",
    "Dada la siguiente lista:\n",
    "> ```ejer_1 = [1,2,3,4,5]```\n",
    "\n",
    "Inviértela para que quede de la siguiente manera\n",
    "> ```ejer_1 = [5,4,3,2,1]```"
   ]
  },
  {
   "cell_type": "code",
   "execution_count": 1,
   "metadata": {},
   "outputs": [
    {
     "name": "stdout",
     "output_type": "stream",
     "text": [
      "Lista invertida: [5, 4, 3, 2, 1]\n"
     ]
    }
   ],
   "source": [
    "ejer_1 = [1,2,3,4,5]\n",
    "ejer_1.reverse()\n",
    "print(f\"Lista invertida: {ejer_1}\")"
   ]
  },
  {
   "cell_type": "markdown",
   "metadata": {},
   "source": [
    "## Ejercicio 3\n",
    "Crea una lista nueva con todas las combinaciones de las siguientes dos listas:\n",
    "> ```ejer_3_1 = [\"Hola\", \"amigo\"]```\n",
    ">\n",
    "> ```ejer_3_2 = [\"Que\", \"tal\"]```\n",
    "\n",
    "Obten el siguiente output:\n",
    "\n",
    "```['Hola Que', 'Hola tal', 'amigo Que', 'amigo tal']```"
   ]
  },
  {
   "cell_type": "code",
   "execution_count": 3,
   "metadata": {},
   "outputs": [
    {
     "name": "stdout",
     "output_type": "stream",
     "text": [
      "Combinaciones: ['Hola Que', 'Hola tal', 'amigo Que', 'amigo tal']\n"
     ]
    }
   ],
   "source": [
    "ejer_3_1 = [\"Hola\", \"amigo\"]\n",
    "ejer_3_2 = [\"Que\", \"tal\"]\n",
    "\n",
    "lst_res = [ i + \" \" + j for i in ejer_3_1 for j in ejer_3_2 ]\n",
    "\n",
    "print(f\"Combinaciones: {lst_res}\")"
   ]
  },
  {
   "attachments": {},
   "cell_type": "markdown",
   "metadata": {},
   "source": [
    "## Ejercicio 4\n",
    "Dada la siguiente lista, encuentra por el índice el valor 45 y sustitúyelo por el 0\n",
    "> ```ejer_4 = [20, 47, 19, 29, 45, 67, 78, 90]```"
   ]
  },
  {
   "cell_type": "code",
   "execution_count": 7,
   "metadata": {},
   "outputs": [
    {
     "name": "stdout",
     "output_type": "stream",
     "text": [
      "Lista original: [20, 47, 19, 29, 45, 67, 78, 90]\n",
      "Lista actualizada: [20, 47, 19, 29, 0, 67, 78, 90]\n"
     ]
    }
   ],
   "source": [
    "ejer_4 = [20, 47, 19, 29, 45, 67, 78, 90]\n",
    "lookup_val = 45\n",
    "\n",
    "print(f\"Lista original: {ejer_4}\")\n",
    "ejer_4[ejer_4.index(lookup_val)] = 0\n",
    "print(f\"Lista actualizada: {ejer_4}\")"
   ]
  },
  {
   "cell_type": "markdown",
   "metadata": {},
   "source": [
    "## Ejercicio 5\n",
    "Dada la siguiente lista, elimina todos los valores iguales a 3\n",
    "> ```ejer_5 = [3, 20, 3, 47, 19, 3, 29, 45, 67, 78, 90, 3, 3]```\n",
    "\n",
    "TIP: No intentes eliminar elementos sobre la lista que estás iterando. Haz una copia con `ejer_5.copy()`."
   ]
  },
  {
   "cell_type": "code",
   "execution_count": 8,
   "metadata": {},
   "outputs": [
    {
     "data": {
      "text/plain": [
       "[20, 47, 19, 29, 45, 67, 78, 90]"
      ]
     },
     "execution_count": 8,
     "metadata": {},
     "output_type": "execute_result"
    }
   ],
   "source": [
    "ejer_5 = [3, 20, 3, 47, 19, 3, 29, 45, 67, 78, 90, 3, 3]\n",
    "\n",
    "[elem for elem in ejer_5 if elem != 3]"
   ]
  },
  {
   "attachments": {},
   "cell_type": "markdown",
   "metadata": {},
   "source": [
    "## Ejercicio 6\n",
    "1. Crea una tupla con 3 elementos\n",
    "2. Crea otra tupla con un elemento y comprueba su tipo\n",
    "3. Crea una tupla con elementos de diferentes tipos\n",
    "4. Imprime por pantalla el primer y último elemento de la tupla del apartado 3. Usa `len` para el último\n",
    "5. Añade un elemento a la tupla del apartado 3.\n",
    "6. Eliminar un elemento de la tupla del apartado 5, que se encuentre más o menos en la mitad.\n",
    "7. Convierte la tupla del apartado 5 en una lista"
   ]
  },
  {
   "cell_type": "code",
   "execution_count": null,
   "metadata": {},
   "outputs": [
    {
     "name": "stdout",
     "output_type": "stream",
     "text": [
      "Tupla 1: (17, 7, 25)\n",
      "Tupla 2: (17,) y su tipo: <class 'tuple'>\n",
      "Tupla 3: (17, 'Hello', 3.14, True, [1, 2, 3])\n",
      "Primer elemento: 17 y último elemento: [1, 2, 3]\n",
      "Tupla 3 actualizada: (17, 'Hello', 3.14, True, [1, 2, 3], 99)\n",
      "Tupla 3 actualizada: (17, 'Hello', True, [1, 2, 3], 99)\n",
      "Tupla convertida en lista: [17, 'Hello', True, [1, 2, 3], 99], y su tipo: <class 'list'>\n"
     ]
    }
   ],
   "source": [
    "# 1. Crea una tupla con 3 elementos\n",
    "tupla_1 = (17, 7, 25)\n",
    "print(f\"Tupla 1: {tupla_1}\")\n",
    "\n",
    "# 2. Crea otra tupla con un elemento y comprueba su tipo\n",
    "tupla_2 = (17,)\n",
    "print(f\"Tupla 2: {tupla_2} y su tipo: {type(tupla_2)}\")\n",
    "\n",
    "# 3. Crea una tupla con elementos de diferentes tipos\n",
    "tupla_3 = (17, \"Hello\", 3.14, True, [1,2,3])\n",
    "print(f\"Tupla 3: {tupla_3}\")\n",
    "\n",
    "# 4. Imprime por pantalla el primer y último elemento de la tupla del apartado 3. Usa `len` para el último\n",
    "print(f\"Primer elemento: {tupla_3[0]} y último elemento: {tupla_3[len(tupla_3)-1]}\")\n",
    "\n",
    "# 5. Añade un elemento a la tupla del apartado 3.\n",
    "tupla_3 = tupla_3 + (99,)\n",
    "print(f\"Tupla 3 actualizada: {tupla_3}\")\n",
    "\n",
    "# 6. Eliminar un elemento de la tupla del apartado 5, que se encuentre más o menos en la mitad.\n",
    "tupla_3 = tupla_3[:2] + tupla_3[3:]\n",
    "print(f\"Tupla 3 actualizada: {tupla_3}\")\n",
    "\n",
    "# 7. Convierte la tupla del apartado 5 en una lista\n",
    "lst = list(tupla_3)\n",
    "print(f\"Tupla convertida en lista: {lst}, y su tipo: {type(lst)}\")"
   ]
  },
  {
   "attachments": {},
   "cell_type": "markdown",
   "metadata": {},
   "source": [
    "## Ejercicio 7\n",
    "Concatena todos los elementos de la tupla en un único string. Para ello utiliza el metodo `.join()` de los Strings\n",
    "> ```ejer_7 = (\"cien\", \"cañones\", \"por\", \"banda\")```\n",
    "\n",
    "Resultado: `cien cañones por banda`"
   ]
  },
  {
   "cell_type": "code",
   "execution_count": 24,
   "metadata": {},
   "outputs": [
    {
     "name": "stdout",
     "output_type": "stream",
     "text": [
      "cien cañones por banda\n"
     ]
    }
   ],
   "source": [
    "ejer_7 = (\"cien\", \"cañones\", \"por\", \"banda\")\n",
    "print(\" \".join(ejer_7))"
   ]
  },
  {
   "cell_type": "markdown",
   "metadata": {},
   "source": [
    "## Ejercicio 8\n",
    "Obten el tercer elemento de la siguiente tupla, y el tercero empezando por la cola\n",
    "> ```ejer_8 = (3, 20, 3, 47, 19, 3, 29, 45, 67, 78, 90, 3, 3)```"
   ]
  },
  {
   "cell_type": "code",
   "execution_count": 25,
   "metadata": {},
   "outputs": [
    {
     "name": "stdout",
     "output_type": "stream",
     "text": [
      "El 3er elemento es: 3 y el 3er elemento desde el final es: 90\n"
     ]
    }
   ],
   "source": [
    "ejer_8 = (3, 20, 3, 47, 19, 3, 29, 45, 67, 78, 90, 3, 3)\n",
    "print(f\"El 3er elemento es: {ejer_8[2]} y el 3er elemento desde el final es: {ejer_8[-3]}\")"
   ]
  },
  {
   "cell_type": "markdown",
   "metadata": {},
   "source": [
    "## Ejercicio 11\n",
    "Convierte la siguiente lista en un diccionario\n",
    "> ```ejer_11 = [(\"x\", 1), (\"x\", 2), (\"x\", 3), (\"y\", 1), (\"y\", 2), (\"z\", 1)]```\n",
    "\n",
    "TIP: Puedes usar dos variables de control en un bucle `for`. Una por cada valor de las tuplas."
   ]
  },
  {
   "cell_type": "code",
   "execution_count": 1,
   "metadata": {},
   "outputs": [
    {
     "name": "stdout",
     "output_type": "stream",
     "text": [
      "Diccionario: {'x': [1, 2, 3], 'y': [1, 2], 'z': [1]}\n"
     ]
    }
   ],
   "source": [
    "ejer_11 = [(\"x\", 1), (\"x\", 2), (\"x\", 3), (\"y\", 1), (\"y\", 2), (\"z\", 1)]\n",
    "dict_11 = {}\n",
    "for k, v in ejer_11:\n",
    "\tif k not in dict_11:\n",
    "\t\tdict_11[k] = [v]\n",
    "\telse:\n",
    "\t\tdict_11[k].append(v)\n",
    "print(f\"Diccionario: {dict_11}\")"
   ]
  },
  {
   "attachments": {},
   "cell_type": "markdown",
   "metadata": {},
   "source": [
    "## Ejercicio 12\n",
    "1. Crea una lista ordenada ascendente con las claves del diccionario\n",
    "2. Crea otra lista ordenada descendente con los valores\n",
    "3. Añade una nueva clave/valor\n",
    "4. Busca la clave igual a 2 dentro del diccionario\n",
    "5. Itera la clave y el valor del diccionario con un único for\n",
    "> ```ejer_12 = {4:78, 2:98, 8:234, 5:29}```"
   ]
  },
  {
   "cell_type": "code",
   "execution_count": 8,
   "metadata": {},
   "outputs": [
    {
     "name": "stdout",
     "output_type": "stream",
     "text": [
      "Lista de claves ordenadas: [2, 4, 5, 8]\n",
      "Lista de valores ordenados descendente: [234, 98, 78, 29]\n",
      "Diccionario actualizado: {4: 78, 2: 98, 8: 234, 5: 29, 3: 45}\n",
      "Existe la clave 2 en el diccionario?: True\n",
      "Existe la clave 2 en el diccionario 2?: True\n",
      "Iterando con un for sobre el diccionario:\n",
      "Clave: 4, Valor: 78\n",
      "Clave: 2, Valor: 98\n",
      "Clave: 8, Valor: 234\n",
      "Clave: 5, Valor: 29\n",
      "Clave: 3, Valor: 45\n"
     ]
    }
   ],
   "source": [
    "ejer_12 = {4:78, 2:98, 8:234, 5:29}\n",
    "\n",
    "lst_ordered_keys = sorted(ejer_12.keys())\n",
    "print(f\"Lista de claves ordenadas: {lst_ordered_keys}\")\n",
    "\n",
    "lst_desc_order_values = sorted(ejer_12.values(), reverse=True)\n",
    "print(f\"Lista de valores ordenados descendente: {lst_desc_order_values}\")\n",
    "\n",
    "ejer_12[3] = 45\n",
    "print(f\"Diccionario actualizado: {ejer_12}\")\n",
    "\n",
    "clave_buscada = 2\n",
    "print(f\"Existe la clave {clave_buscada} en el diccionario?: {clave_buscada in ejer_12}\")\n",
    "print(f\"Existe la clave {clave_buscada} en el diccionario 2?: {clave_buscada in ejer_12.keys()}\")\n",
    "\n",
    "print(\"Iterando con un for sobre el diccionario:\")\n",
    "for k, v in ejer_12.items():\n",
    "    print(f\"Clave: {k}, Valor: {v}\")"
   ]
  },
  {
   "cell_type": "markdown",
   "metadata": {},
   "source": [
    "## Ejercicio 13\n",
    "Junta ambos diccionarios. Para ello, utiliza `update`\n",
    "> ```ejer_13_1 = {1: 11, 2: 22}```\n",
    ">\n",
    "> ```ejer_13_2 = {3: 33, 4: 44}```"
   ]
  },
  {
   "cell_type": "code",
   "execution_count": 10,
   "metadata": {},
   "outputs": [
    {
     "name": "stdout",
     "output_type": "stream",
     "text": [
      "Updated dictionary: {1: 11, 2: 22, 3: 33, 4: 44}\n"
     ]
    }
   ],
   "source": [
    "ejer_13_1 = {1: 11, 2: 22}\n",
    "ejer_13_2 = {3: 33, 4: 44}\n",
    "\n",
    "ejer_13_1.update(ejer_13_2)\n",
    "print(f\"Updated dictionary: {ejer_13_1}\")"
   ]
  },
  {
   "cell_type": "markdown",
   "metadata": {},
   "source": [
    "## Ejercicio 14\n",
    "Suma todos los valores del dicionario\n",
    "> ```ejer_14 = {1: 11, 2: 22, 3: 33, 4: 44, 5: 55}```"
   ]
  },
  {
   "cell_type": "code",
   "execution_count": 14,
   "metadata": {},
   "outputs": [
    {
     "name": "stdout",
     "output_type": "stream",
     "text": [
      "Suma de todos los valores del dict: 165\n"
     ]
    }
   ],
   "source": [
    "ejer_14 = {1: 11, 2: 22, 3: 33, 4: 44, 5: 55}\n",
    "\n",
    "print(\"Suma de todos los valores del dict:\", sum(ejer_14.values()))"
   ]
  },
  {
   "cell_type": "markdown",
   "metadata": {},
   "source": [
    "## Ejercicio 15\n",
    "Multiplica todos los valores del diccionario\n",
    "> ```ejer_15 = {1: 11, 2: 22, 3: 33, 4: 44, 5: 55}```"
   ]
  },
  {
   "cell_type": "code",
   "execution_count": 15,
   "metadata": {},
   "outputs": [
    {
     "name": "stdout",
     "output_type": "stream",
     "text": [
      "Producto de todos los valores del dict: 19326120\n"
     ]
    }
   ],
   "source": [
    "ejer_15 = {1: 11, 2: 22, 3: 33, 4: 44, 5: 55}\n",
    "\n",
    "res = 1\n",
    "for v in ejer_15.values():\n",
    "    res *= v\n",
    "print(f\"Producto de todos los valores del dict: {res}\")"
   ]
  },
  {
   "cell_type": "markdown",
   "metadata": {},
   "source": [
    "## Ejercicio 16\n",
    "1. Crea un set de tres elementos\n",
    "2. Añade un cuarto\n",
    "3. Elimina el último elemento añadido\n",
    "4. Elimina el elemento 10, si está presente. Usa `discard()`"
   ]
  },
  {
   "cell_type": "code",
   "execution_count": 4,
   "metadata": {},
   "outputs": [
    {
     "name": "stdout",
     "output_type": "stream",
     "text": [
      "Set de tres elementos: {1, 2, 10}\n",
      "Añadido un cuarto elemento al set : {1, 2, 10, 4}\n",
      "Eliminado el último elemento del set (4): {1, 2, 10}\n",
      "Eliminado el elemento 10 del set: {1, 2}\n"
     ]
    }
   ],
   "source": [
    "my_set = {1, 2, 10}\n",
    "print(f\"Set de tres elementos: {my_set}\")\n",
    "\n",
    "my_set.add(4)\n",
    "print(f\"Añadido un cuarto elemento al set : {my_set}\")\n",
    "\n",
    "aux = list(my_set)\n",
    "aux.pop()\n",
    "my_set = set(aux)\n",
    "print(f\"Eliminado el último elemento del set (4): {my_set}\")\n",
    "\n",
    "my_set.discard(10)\n",
    "print(f\"Eliminado el elemento 10 del set: {my_set}\")"
   ]
  }
 ],
 "metadata": {
  "kernelspec": {
   "display_name": "Python 3",
   "language": "python",
   "name": "python3"
  },
  "language_info": {
   "codemirror_mode": {
    "name": "ipython",
    "version": 3
   },
   "file_extension": ".py",
   "mimetype": "text/x-python",
   "name": "python",
   "nbconvert_exporter": "python",
   "pygments_lexer": "ipython3",
   "version": "3.11.4"
  }
 },
 "nbformat": 4,
 "nbformat_minor": 4
}
