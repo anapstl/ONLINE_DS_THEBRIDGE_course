{
 "cells": [
  {
   "cell_type": "markdown",
   "metadata": {},
   "source": [
    "# Soluciones a Ejercicios de Colecciones"
   ]
  },
  {
   "cell_type": "markdown",
   "metadata": {},
   "source": [
    "## Ejercicio 1\n",
    "Dada la siguiente lista:\n",
    "> ```ejer_1 = [1,2,3,4,5]```\n",
    "\n",
    "Inviértela para que quede de la siguiente manera:\n",
    "> ```ejer_1 = [5,4,3,2,1]```"
   ]
  },
  {
   "cell_type": "code",
   "metadata": {},
   "source": [
    "ejer_1 = [1, 2, 3, 4, 5]\n",
    "ejer_1.reverse()\n",
    "print(f\"Lista invertida: {ejer_1}\")"
   ]
  },
  {
   "cell_type": "markdown",
   "metadata": {},
   "source": [
    "## Ejercicio 3\n",
    "Crea una lista nueva con todas las combinaciones de las siguientes dos listas:\n",
    "> ```ejer_3_1 = [\"Hola\", \"amigo\"]```\n",
    "> ```ejer_3_2 = [\"Que\", \"tal\"]```\n",
    "\n",
    "Obten el siguiente output:\n",
    "```['Hola Que', 'Hola tal', 'amigo Que', 'amigo tal']```"
   ]
  },
  {
   "cell_type": "code",
   "metadata": {},
   "source": [
    "ejer_3_1 = [\"Hola\", \"amigo\"]\n",
    "ejer_3_2 = [\"Que\", \"tal\"]\n",
    "\n",
    "combinaciones = [f\"{x} {y}\" for x in ejer_3_1 for y in ejer_3_2]\n",
    "print(combinaciones)"
   ]
  },
  {
   "cell_type": "markdown",
   "metadata": {},
   "source": [
    "## Ejercicio 4\n",
    "Dada la siguiente lista, encuentra por el índice el valor 45 y sustitúyelo por el 0:\n",
    "> ```ejer_4 = [20, 47, 19, 29, 45, 67, 78, 90]```"
   ]
  },
  {
   "cell_type": "code",
   "metadata": {},
   "source": [
    "ejer_4 = [20, 47, 19, 29, 45, 67, 78, 90]\n",
    "index_45 = ejer_4.index(45)\n",
    "ejer_4[index_45] = 0\n",
    "print(ejer_4)"
   ]
  },
  {
   "cell_type": "markdown",
   "metadata": {},
   "source": [
    "## Ejercicio 5\n",
    "Dada la siguiente lista, elimina todos los valores iguales a 3:\n",
    "> ```ejer_5 = [3, 20, 3, 47, 19, 3, 29, 45, 67, 78, 90, 3, 3]```"
   ]
  },
  {
   "cell_type": "code",
   "metadata": {},
   "source": [
    "ejer_5 = [3, 20, 3, 47, 19, 3, 29, 45, 67, 78, 90, 3, 3]\n",
    "ejer_5 = [x for x in ejer_5 if x != 3]\n",
    "print(ejer_5)"
   ]
  },
  {
   "cell_type": "markdown",
   "metadata": {},
   "source": [
    "## Ejercicio 6\n",
    "1. Crea una tupla con 3 elementos\n",
    "2. Crea otra tupla con un elemento y comprueba su tipo\n",
    "3. Crea una tupla con elementos de diferentes tipos\n",
    "4. Imprime por pantalla el primer y último elemento de la tupla del apartado 3. Usa `len` para el último\n",
    "5. Añade un elemento a la tupla del apartado 3\n",
    "6. Elimina un elemento de la tupla del apartado 5, que se encuentre más o menos en la mitad\n",
    "7. Convierte la tupla del apartado 5 en una lista"
   ]
  },
  {
   "cell_type": "code",
   "metadata": {},
   "source": [
    "# 1. Crear una tupla con 3 elementos\n",
    "tupla_1 = (1, 2, 3)\n",
    "print(tupla_1)\n",
    "\n",
    "# 2. Crear una tupla con un elemento y comprobar su tipo\n",
    "tupla_2 = (1,)\n",
    "print(type(tupla_2))\n",
    "\n",
    "# 3. Crear una tupla con elementos de diferentes tipos\n",
    "tupla_3 = (1, \"Hola\", 3.14)\n",
    "print(tupla_3)\n",
    "\n",
    "# 4. Imprimir el primer y último elemento de la tupla del apartado 3\n",
    "print(tupla_3[0], tupla_3[len(tupla_3) - 1])\n",
    "\n",
    "# 5. Añadir un elemento a la tupla del apartado 3\n",
    "tupla_3 = tupla_3 + (\"Nuevo\",)\n",
    "print(tupla_3)\n",
    "\n",
    "# 6. Eliminar un elemento de la tupla del apartado 5\n",
    "tupla_3 = tupla_3[:2] + tupla_3[3:]\n",
    "print(tupla_3)\n",
    "\n",
    "# 7. Convertir la tupla del apartado 5 en una lista\n",
    "lista_3 = list(tupla_3)\n",
    "print(lista_3)"
   ]
  },
  {
   "cell_type": "markdown",
   "metadata": {},
   "source": [
    "## Ejercicio 7\n",
    "Concatena todos los elementos de la tupla en un único string. Para ello utiliza el método `.join()` de los Strings:\n",
    "> ```ejer_7 = (\"cien\", \"cañones\", \"por\", \"banda\")```"
   ]
  },
  {
   "cell_type": "code",
   "metadata": {},
   "source": [
    "ejer_7 = (\"cien\", \"cañones\", \"por\", \"banda\")\n",
    "resultado = \" \".join(ejer_7)\n",
    "print(resultado)"
   ]
  }
 ],
 "metadata": {
  "kernelspec": {
   "display_name": "Python 3",
   "language": "python",
   "name": "python3"
  },
  "language_info": {
   "codemirror_mode": {
    "name": "ipython",
    "version": 3
   },
   "file_extension": ".py",
   "mimetype": "text/x-python",
   "name": "python",
   "nbconvert_exporter": "python",
   "pygments_lexer": "ipython3",
   "version": "3.8.5"
  }
 },
 "nbformat": 4,
 "nbformat_minor": 4
}