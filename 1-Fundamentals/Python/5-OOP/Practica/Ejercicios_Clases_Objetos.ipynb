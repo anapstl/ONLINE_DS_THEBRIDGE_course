{
 "cells": [
  {
   "cell_type": "markdown",
   "metadata": {},
   "source": [
    "![imagen](./img/ejercicios.png)\n",
    "\n",
    "# Ejercicios Clases y Objetos"
   ]
  },
  {
   "attachments": {},
   "cell_type": "markdown",
   "metadata": {},
   "source": [
    "## Ejercicio 1\n",
    "Somos una empresa que tiene varias tiendas de electrodomésticos. Necesitamos un programa para manejar las tiendas, ver las ventas que han tenido, cuántos empleados hay, etc... Para ello vamos a modelizar la tienda en una clase, que tendrá las siguientes características:\n",
    "* Nombre clase: \"Tienda\"\n",
    "* Atributos comunes:\n",
    "    * Tipo: \"Electrodomésticos\"\n",
    "    * Abierta: True\n",
    "* Atributos propios de cada tienda:\n",
    "    * Nombre - String\n",
    "    * Dirección - String\n",
    "    * Número de empleados - int\n",
    "    * Ventas últimos 3 meses - Lista de 3 numeros\n",
    "* Método para calcular las ventas de todos los meses, que devuelva un número con todas las ventas.\n",
    "* Método que calcula la media de ventas de los últimos meses, por empleado\n",
    "* Método que devuelve en un string el nombre de la tienda, junto con su dirección.\n",
    "* Método que obtiene las ventas del último mes.\n",
    "* Método para dar una proyección de las ventas en caso de haber invertido X dinero en marketing en esa tienda. Siendo X el parámetro de entrada. Si X es menor de 1000, las ventas de los ultimos 3 meses hubiesen sido de (1.2 x ventas), si es mayor o igual de 1000, las ventas hubiesen sido de (1.5 x venta). El método reescribe el atributo de ventas en los últimos 3 meses, y además devuelve las ventas con el aumento.\n",
    "\n",
    "Se pide:\n",
    "1. Implementar la clase \"Tienda\"\n",
    "2. Crear tres tiendas con datos inventados\n",
    "3. Comprueba en al menos una de ellas, todo lo implementado en la clase tienda (sus atributos, media de ventas, ventas/empleado...)\n",
    "3. Calcular las ventas del último mes de todas las tiendas. Para ello usa el bucle `for`\n",
    "4. Imprime por pantalla los nombres de las tiendas cuya dirección lleve el string \"Avenida\"\n",
    "5. Seguro que ya has hecho este apartado... Documenta la clase :)"
   ]
  },
  {
   "cell_type": "code",
   "execution_count": null,
   "metadata": {},
   "outputs": [],
   "source": [
    "# 1. Implementar la clase \"Tienda\"\n",
    "\n",
    "class Tienda():\n",
    "\t''' \n",
    "\tClase que representa una tienda de electrodomésticos.\n",
    "\tParameters:\n",
    "       nombre: Nombre de la tienda.\n",
    "       direccion: Dirección de la tienda.\n",
    "       n_empleados: Número de empleados en la tienda.\n",
    "       ventas_3mes: Ventas en los últimos 3 meses.\n",
    "       tipo: Tipo de tienda (Eletrodomesticos).\n",
    "       abierta: Estado de la tienda (abierta o cerrada).\n",
    "\tMethods:\n",
    "       calc_ventas: Calcula las ventas totales de los últimos 3 meses.\n",
    "       calc_media_ventas_3mes: Calcula la media de ventas de los últimos 3 meses.\n",
    "       get_nom_dir: Devuelve el nombre y la dirección de la tienda.\n",
    "       get_venta_ultim_mes: Devuelve las ventas del último mes.\n",
    "       proy_ventas: Proyecta las ventas futuras basándose en el marketing.\n",
    "    '''\n",
    "\ttipo = \"Eletrodomesticos\"\n",
    "\tabierta = True\n",
    "\t\n",
    "    # recomendado definir los tipos de las var en clases\n",
    "\tdef __init__(self, nombre:str, direccion:str, n_empleados:int, ventas_3mes:list):\n",
    "\t\t'''\n",
    "\t\tDocumentacion del init\n",
    "\t\t'''\n",
    "\t\tself.nombre = nombre\n",
    "\t\tself.direccion = direccion\n",
    "\t\tself.n_empleados = n_empleados\n",
    "\t\tself.ventas_3mes = ventas_3mes\n",
    "\n",
    "\tdef calc_ventas(self):\n",
    "\t\t'''\n",
    "\t\tMétodo calc_ventas: Calcula las ventas totales de los últimos 3 meses.\n",
    "\t\tDevuelve la suma de las ventas de los últimos 3 meses.\n",
    "\t\t'''\n",
    "\t\treturn sum(self.ventas_3mes)\n",
    "\n",
    "\tdef calc_media_ventas_3mes(self):\n",
    "\t\t'''\n",
    "\t\tMétodo calc_media_ventas_3mes: Calcula la media de ventas de los últimos 3 meses.\n",
    "\t\tDevuelve la media de las ventas de los últimos 3 meses dividida por el número de empleados.\n",
    "\t\t'''\n",
    "\t\treturn self.calc_ventas() / self.n_empleados\n",
    "\n",
    "\tdef get_nom_dir(self):\n",
    "\t\t'''\n",
    "\t\tMétodo get_nom_dir: Devuelve el nombre y la dirección de la tienda.\n",
    "\t\tDevuelve una cadena con el nombre y la dirección de la tienda.\n",
    "\t\t'''\n",
    "\t\treturn f\"{self.nombre} {self.direccion}\"\n",
    "\n",
    "\tdef get_venta_ultim_mes(self):\n",
    "\t\t'''\n",
    "\t\tMétodo get_venta_ultim_mes: Devuelve las ventas del último mes.\n",
    "\t\tDevuelve el último elemento de la lista de ventas de los últimos 3 meses.\n",
    "\t\t'''\n",
    "\t\treturn self.ventas_3mes[-1]\n",
    "\n",
    "\tdef proy_ventas(self, x_mkt):\n",
    "\t\t'''\n",
    "\t\tMétodo proy_ventas: Proyecta las ventas futuras basándose en el marketing.\n",
    "\t\tDevuelve un valor proyectado de ventas basado en el marketing.\n",
    "\t\tParameters:\n",
    "\t\t\tx_mkt: Valor de marketing.\n",
    "\t\t'''\n",
    "\t\tfactor = 1.2 if x_mkt < 1000 else 1.5\n",
    "\t\tself.ventas_3mes = [v * factor for v in self.ventas_3mes]\n",
    "\t\treturn self.ventas_3mes"
   ]
  },
  {
   "cell_type": "code",
   "execution_count": null,
   "metadata": {},
   "outputs": [],
   "source": [
    "# 2. Crear tres tiendas con datos inventados\n",
    "tienda_1 = Tienda(\"ElectroSon\", \"Calle 123\", 10, [10000, 12000, 15000])\n",
    "tienda_2 = Tienda(\"ElectroDom\", \"Avenida 456\", 15, [20000, 25000, 30000])\n",
    "tienda_3 = Tienda(\"eCom\", \"Avenida 789\", 20, [10000, 12000, 15000])"
   ]
  },
  {
   "cell_type": "code",
   "execution_count": 24,
   "metadata": {},
   "outputs": [
    {
     "name": "stdout",
     "output_type": "stream",
     "text": [
      "Tipo tienda_1: Eletrodomesticos\n",
      "Nº empleados tienda_1: 10\n",
      "Ventas tienda_1: [14400.0, 17280.0, 21600.0]\n",
      "Suma de ventas de los últimos 3 meses: 53280.0\n",
      "Media de ventas de los últimos 3 meses: 5328.0\n",
      "Nombre y dirección de la tienda: ElectroSon Calle 123\n",
      "Ventas del último mes: 21600.0\n",
      "Proyección de ventas con marketing: [17280.0, 20736.0, 25920.0]\n",
      "________________________________________\n",
      "{'direccion': 'Calle 123',\n",
      " 'n_empleados': 10,\n",
      " 'nombre': 'ElectroSon',\n",
      " 'ventas_3mes': [17280.0, 20736.0, 25920.0]}\n"
     ]
    }
   ],
   "source": [
    "# 3. Comprueba en al menos una de ellas, todo lo implementado en la clase tienda (sus atributos, media de ventas, ventas/empleado...)\n",
    "print(f\"Tipo tienda_1:\", tienda_1.tipo)\n",
    "print(f\"Nº empleados tienda_1:\", tienda_1.n_empleados)\n",
    "print(f\"Ventas tienda_1:\", tienda_1.ventas_3mes)\n",
    "print(f\"Suma de ventas de los últimos 3 meses:\", tienda_1.calc_ventas()) \n",
    "print(f\"Media de ventas de los últimos 3 meses:\", tienda_1.calc_media_ventas_3mes())\n",
    "print(f\"Nombre y dirección de la tienda:\", tienda_1.get_nom_dir())\n",
    "print(f\"Ventas del último mes:\", tienda_1.get_venta_ultim_mes())\n",
    "print(f\"Proyección de ventas con marketing:\", tienda_1.proy_ventas(500))\n",
    "\n",
    "import pprint\n",
    "print(\"__\"*20)\n",
    "pprint.pprint(tienda_1.__dict__)\n",
    "\n"
   ]
  },
  {
   "cell_type": "code",
   "execution_count": null,
   "metadata": {},
   "outputs": [
    {
     "name": "stdout",
     "output_type": "stream",
     "text": [
      "Ventas del último mes de todas las tiendas:  63000.0\n"
     ]
    }
   ],
   "source": [
    "# 3. Calcular las ventas del último mes de todas las tiendas. Para ello usa el bucle `for`\n",
    "ventas_ult_mes_todas_tiendas = 0\n",
    "for tienda in [tienda_1, tienda_2, tienda_3]:\n",
    "\tventas_ult_mes_todas_tiendas += tienda.get_venta_ultim_mes()\n",
    "\n",
    "print(f\"Ventas del último mes de todas las tiendas:\", ventas_ult_mes_todas_tiendas)\n"
   ]
  },
  {
   "cell_type": "code",
   "execution_count": 22,
   "metadata": {},
   "outputs": [
    {
     "name": "stdout",
     "output_type": "stream",
     "text": [
      "ElectroDom ( Avenida 456 )\n",
      "eCom ( Avenida 789 )\n"
     ]
    }
   ],
   "source": [
    "# 4. Imprime por pantalla los nombres de las tiendas cuya dirección lleve el string \"Avenida\"\n",
    "for tienda in [tienda_1, tienda_2, tienda_3]:\n",
    "    if \"Avenida\" in tienda.direccion:\n",
    "        print(tienda.nombre,\"(\",tienda.direccion,\")\" )\n"
   ]
  },
  {
   "cell_type": "code",
   "execution_count": null,
   "metadata": {},
   "outputs": [],
   "source": [
    "# 5. Seguro que ya has hecho este apartado... Documenta la clase :)"
   ]
  },
  {
   "cell_type": "markdown",
   "metadata": {},
   "source": [
    "## Ejercicio 2\n",
    "En este ejercicio vamos a implementar una clase *Perro* en Python. La clase tiene las siguientes características:\n",
    "* Cosas que sabemos seguro que tiene un perro\n",
    "    * Tiene 4 patas\n",
    "    * 2 orejas\n",
    "    * 2 ojos\n",
    "    * Una velocidad de 0. Por defecto, el perro está parado\n",
    "* Cuando se inicialice:\n",
    "    * El perro será de una determinada raza\n",
    "    * Por defecto tendrá pelo \"Marrón\", a no ser que se diga lo contrario.\n",
    "    * Por defecto no tendrá dueño, a no ser que se diga lo contrario.\n",
    "    \n",
    "* Dispondrá también de un método llamado andar, que tiene un argumento de entrada (aumento_velocidad). Este valor se le sumará a la velocidad que ya llevaba el perro.\n",
    "* Necesita otro método (parar), donde pondremos la velocidad a 0.\n",
    "* Otro método llamado \"ladrar\", que tendrá un argumento de entrada, y la salida será el siguiente string: \"GUAU!\" + el argumento de entrada.\n",
    "\n",
    "\n",
    "Se pide:\n",
    "* Implementa la clase *Perro*\n",
    "* Crea un objeto de tipo *Perro*, sin dueño\n",
    "* Comprueba que están bien todos sus atributos\n",
    "* Prueba que ande, y comprueba su velocidad\n",
    "* Páralo\n",
    "* Documenta la clase *Perro*"
   ]
  },
  {
   "cell_type": "code",
   "execution_count": null,
   "metadata": {},
   "outputs": [],
   "source": [
    "class Perro():\n",
    "    '''\n",
    "\tClase que representa un perro.\n",
    "\tParameters:\n",
    "\t   patas: Número de patas del perro (4).\n",
    "\t   orejas: Número de orejas del perro (2).\n",
    "\t   ojos: Número de ojos del perro (2).\n",
    "\t   velocidad: Velocidad del perro (0).\n",
    "\t   raza: Raza del perro.\n",
    "\t   pelo: Color del pelo del perro (por defecto \"Marrón\").\n",
    "\t   dueño: Indica si el perro tiene dueño (por defecto False).\n",
    "\tMethods:\n",
    "\t   andar: Aumenta la velocidad del perro.\n",
    "\t   parar: Detiene al perro (velocidad = 0).\n",
    "\t   ladrar: Hace que el perro ladre un mensaje.\n",
    "\t'''\n",
    "\t# Atributos de clase\n",
    "    patas = 4\n",
    "    orejas = 2\n",
    "    ojos = 2\n",
    "    velocidad = 0\n",
    "\n",
    "    def __init__(self, raza, pelo=\"Marrón\", dueño=False):\n",
    "        '''\n",
    "\t\tConstructor de la clase Perro.\n",
    "\t\tParameters:\n",
    "\t\t\traza: Raza del perro.\n",
    "\t\t\tpelo: Color del pelo del perro (por defecto \"Marrón\").\n",
    "\t\t\tdueño: Indica si el perro tiene dueño (por defecto False).\n",
    "\t\t'''\n",
    "\t\t# Atributos de instancia\n",
    "        self.raza = raza\n",
    "        self.pelo = pelo\n",
    "        self.dueño = dueño\n",
    "\n",
    "    def andar(self, aumento_velocidad):\n",
    "        '''\n",
    "\t\tMétodo andar: Aumenta la velocidad del perro.\n",
    "\t\tParameters:\n",
    "\t\t\taumento_velocidad: Valor a aumentar a la velocidad actual.\n",
    "\t\tReturns:\n",
    "\t\t\tLa nueva velocidad del perro.\n",
    "\t\t'''\n",
    "        self.velocidad = self.velocidad + aumento_velocidad\n",
    "        return self.velocidad\n",
    "    \n",
    "    def parar(self):\n",
    "        '''\n",
    "\t\tMétodo parar: Para el perro.\n",
    "\t\tParameters:\n",
    "\t\t\tPone la velocidad del perro a cero (0).\n",
    "\t\tReturns:\n",
    "\t\t\tLa nueva velocidad del perro.\n",
    "\t\t'''\n",
    "        self.velocidad = 0\n",
    "        return self.velocidad\n",
    "    \n",
    "    def ladrar(self, mensaje):\n",
    "        '''\n",
    "\t\tMétodo ladrar: Hace que el perro ladre un mensaje.\n",
    "\t\tParameters:\n",
    "\t\t\tmensaje: Mensaje que ladrará el perro.\n",
    "\t\tReturns:\n",
    "\t\t\tEl mensaje ladrado por el perro.\n",
    "\t\t'''\n",
    "        return \"GUAU! \" + mensaje"
   ]
  },
  {
   "cell_type": "code",
   "execution_count": 38,
   "metadata": {},
   "outputs": [
    {
     "name": "stdout",
     "output_type": "stream",
     "text": [
      "False\n",
      "4\n",
      "2\n",
      "2\n",
      "0\n",
      "________________________________________\n",
      "{'raza': 'Pastor alemán', 'pelo': 'Negro', 'dueño': False}\n"
     ]
    }
   ],
   "source": [
    "perro_1 = Perro(\"Pastor alemán\", \"Negro\")\n",
    "print(perro_1.dueño)\n",
    "print(perro_1.patas)\n",
    "print(perro_1.orejas)\n",
    "print(perro_1.ojos)\n",
    "print(perro_1.velocidad)\n",
    "print(\"__\"*20)\n",
    "print(perro_1.__dict__)"
   ]
  },
  {
   "cell_type": "code",
   "execution_count": null,
   "metadata": {},
   "outputs": [
    {
     "name": "stdout",
     "output_type": "stream",
     "text": [
      "10\n",
      "10\n",
      "50\n",
      "50\n"
     ]
    }
   ],
   "source": [
    "print(perro_1.andar(10))\n",
    "print(perro_1.velocidad)\n",
    "print(perro_1.andar(40))\n",
    "print(perro_1.velocidad)"
   ]
  },
  {
   "cell_type": "code",
   "execution_count": 16,
   "metadata": {},
   "outputs": [
    {
     "name": "stdout",
     "output_type": "stream",
     "text": [
      "0\n",
      "0\n"
     ]
    }
   ],
   "source": [
    "print(perro_1.parar())\n",
    "print(perro_1.velocidad)"
   ]
  },
  {
   "cell_type": "code",
   "execution_count": 17,
   "metadata": {},
   "outputs": [
    {
     "name": "stdout",
     "output_type": "stream",
     "text": [
      "GUAU! Hola mundo\n"
     ]
    }
   ],
   "source": [
    "print(perro_1.ladrar(\"Hola mundo\"))"
   ]
  },
  {
   "cell_type": "code",
   "execution_count": 31,
   "metadata": {},
   "outputs": [
    {
     "name": "stdout",
     "output_type": "stream",
     "text": [
      "betty raza Beagles\n",
      "betty pelo ['Blanco', 'Marrón', 'Negro']\n",
      "betty dueño False\n",
      "betty patas 4\n",
      "betty orejas 2\n",
      "betty ojos 2\n",
      "betty velocidad 0\n",
      "____________________\n",
      "{'raza': 'Beagles', 'pelo': ['Blanco', 'Marrón', 'Negro'], 'dueño': False}\n"
     ]
    }
   ],
   "source": [
    "betty = Perro(\"Beagles\", [\"Blanco\", \"Marrón\", \"Negro\"])\n",
    "print(\"betty raza\", betty.raza)\n",
    "print(\"betty pelo\", betty.pelo)\n",
    "print(\"betty dueño\", betty.dueño)\n",
    "print(\"betty patas\", betty.patas)\n",
    "print(\"betty orejas\", betty.orejas)\n",
    "print(\"betty ojos\", betty.ojos)\n",
    "print(\"betty velocidad\", betty.velocidad)\n",
    "print(\"_\"*20)\n",
    "print(betty.__dict__)"
   ]
  },
  {
   "cell_type": "code",
   "execution_count": null,
   "metadata": {},
   "outputs": [
    {
     "name": "stdout",
     "output_type": "stream",
     "text": [
      "betty velocidad 20\n",
      "0\n",
      "betty velocidad 0\n",
      "GUAU! Hola Betty\n"
     ]
    }
   ],
   "source": [
    "betty.andar(20)\n",
    "print(\"betty anda con la velocidad\", betty.velocidad)\n",
    "print(betty.parar())\n",
    "print(\"paramos a betty; nueva velocidad\", betty.velocidad)\n",
    "print(betty.ladrar(\"Hola Betty\"))"
   ]
  }
 ],
 "metadata": {
  "kernelspec": {
   "display_name": "Python 3 (ipykernel)",
   "language": "python",
   "name": "python3"
  },
  "language_info": {
   "codemirror_mode": {
    "name": "ipython",
    "version": 3
   },
   "file_extension": ".py",
   "mimetype": "text/x-python",
   "name": "python",
   "nbconvert_exporter": "python",
   "pygments_lexer": "ipython3",
   "version": "3.11.4"
  }
 },
 "nbformat": 4,
 "nbformat_minor": 4
}
