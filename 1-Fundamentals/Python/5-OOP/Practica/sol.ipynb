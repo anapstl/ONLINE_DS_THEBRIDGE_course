{
 "cells": [
  {
   "cell_type": "markdown",
   "id": "efeb05b8",
   "metadata": {},
   "source": [
    "![imagen](./img/ejercicios.png)\n",
    "\n",
    "# Ejercicios Clases y Objetos"
   ]
  },
  {
   "cell_type": "markdown",
   "id": "e29a6856",
   "metadata": {},
   "source": [
    "## Ejercicio 1\n",
    "Somos una empresa que tiene varias tiendas de electrodomésticos. Necesitamos un programa para manejar las tiendas, ver las ventas que han tenido, cuántos empleados hay, etc... Para ello vamos a modelizar la tienda en una clase, que tendrá las siguientes características:\n",
    "* Nombre clase: \"Tienda\"\n",
    "* Atributos comunes:\n",
    "    * Tipo: \"Electrodomésticos\"\n",
    "    * Abierta: True\n",
    "* Atributos propios de cada tienda:\n",
    "    * Nombre - String\n",
    "    * Dirección - String\n",
    "    * Número de empleados - int\n",
    "    * Ventas últimos 3 meses - Lista de 3 numeros\n",
    "* Método para calcular las ventas de todos los meses, que devuelva un número con todas las ventas.\n",
    "* Método que calcula la media de ventas de los últimos meses, por empleado\n",
    "* Método que devuelve en un string el nombre de la tienda, junto con su dirección.\n",
    "* Método que obtiene las ventas del último mes.\n",
    "* Método para dar una proyección de las ventas en caso de haber invertido X dinero en marketing en esa tienda. Siendo X el parámetro de entrada. Si X es menor de 1000, las ventas de los ultimos 3 meses hubiesen sido de (1.2 x ventas), si es mayor o igual de 1000, las ventas hubiesen sido de (1.5 x venta). El método reescribe el atributo de ventas en los últimos 3 meses, y además devuelve las ventas con el aumento.\n",
    "\n",
    "Se pide:\n",
    "1. Implementar la clase \"Tienda\"\n",
    "2. Crear tres tiendas con datos inventados\n",
    "3. Comprueba en al menos una de ellas, todo lo implementado en la clase tienda (sus atributos, media de ventas, ventas/empleado...)\n",
    "3. Calcular las ventas del último mes de todas las tiendas. Para ello usa el bucle `for`\n",
    "4. Imprime por pantalla los nombres de las tiendas cuya dirección lleve el string \"Avenida\"\n",
    "5. Seguro que ya has hecho este apartado... Documenta la clase :)"
   ]
  },
  {
   "cell_type": "code",
   "execution_count": null,
   "id": "1efafe2d",
   "metadata": {},
   "outputs": [],
   "source": [
    "# 1. Implementar la clase \"Tienda\"\n",
    "\n",
    "class Tienda():\n",
    "    ''' \n",
    "    Clase que representa una tienda de electrodomésticos.\n",
    "    Parameters:\n",
    "       nombre: Nombre de la tienda.\n",
    "       direccion: Dirección de la tienda.\n",
    "       n_empleados: Número de empleados en la tienda.\n",
    "       ventas_3mes: Ventas en los últimos 3 meses.\n",
    "       tipo: Tipo de tienda (Electrodomésticos).\n",
    "       abierta: Estado de la tienda (abierta o cerrada).\n",
    "    Methods:\n",
    "       calc_ventas: Calcula las ventas totales de los últimos 3 meses.\n",
    "       calc_media_ventas_3mes: Calcula la media de ventas de los últimos 3 meses.\n",
    "       get_nom_dir: Devuelve el nombre y la dirección de la tienda.\n",
    "       get_venta_ultim_mes: Devuelve las ventas del último mes.\n",
    "       proy_ventas: Proyecta las ventas futuras basándose en el marketing.\n",
    "    '''\n",
    "    tipo = \"Electrodomésticos\"\n",
    "    abierta = True\n",
    "\n",
    "    def __init__(self, nombre, direccion, n_empleados, ventas_3mes):\n",
    "        self.nombre = nombre\n",
    "        self.direccion = direccion\n",
    "        self.n_empleados = n_empleados\n",
    "        self.ventas_3mes = ventas_3mes\n",
    "\n",
    "    def calc_ventas(self):\n",
    "        return sum(self.ventas_3mes)\n",
    "\n",
    "    def calc_media_ventas_3mes(self):\n",
    "        return self.calc_ventas() / self.n_empleados\n",
    "\n",
    "    def get_nom_dir(self):\n",
    "        return f\"{self.nombre}, {self.direccion}\"\n",
    "\n",
    "    def get_venta_ultim_mes(self):\n",
    "        return self.ventas_3mes[-1]\n",
    "\n",
    "    def proy_ventas(self, x_mkt):\n",
    "        factor = 1.2 if x_mkt < 1000 else 1.5\n",
    "        self.ventas_3mes = [v * factor for v in self.ventas_3mes]\n",
    "        return self.calc_ventas()"
   ]
  },
  {
   "cell_type": "code",
   "execution_count": null,
   "id": "b654101c",
   "metadata": {},
   "outputs": [],
   "source": [
    "# 2. Crear tres tiendas con datos inventados\n",
    "tienda_1 = Tienda(\"ElectroSon\", \"Calle 123\", 10, [10000, 12000, 15000])\n",
    "tienda_2 = Tienda(\"ElectroDom\", \"Avenida 456\", 15, [20000, 25000, 30000])\n",
    "tienda_3 = Tienda(\"eCom\", \"Avenida 789\", 20, [10000, 12000, 15000])"
   ]
  },
  {
   "cell_type": "code",
   "execution_count": null,
   "id": "f3173a62",
   "metadata": {},
   "outputs": [],
   "source": [
    "# 3. Comprueba en al menos una de ellas, todo lo implementado en la clase tienda (sus atributos, media de ventas, ventas/empleado...)\n",
    "print(tienda_1.calc_ventas())\n",
    "print(tienda_1.calc_media_ventas_3mes())\n",
    "print(tienda_1.get_nom_dir())\n",
    "print(tienda_1.get_venta_ultim_mes())\n",
    "print(tienda_1.proy_ventas(500))"
   ]
  },
  {
   "cell_type": "code",
   "execution_count": null,
   "id": "09938815",
   "metadata": {},
   "outputs": [],
   "source": [
    "# 3. Calcular las ventas del último mes de todas las tiendas. Para ello usa el bucle `for`\n",
    "for tienda in [tienda_1, tienda_2, tienda_3]:\n",
    "    print(tienda.get_venta_ultim_mes())"
   ]
  },
  {
   "cell_type": "code",
   "execution_count": null,
   "id": "5f8a4a59",
   "metadata": {},
   "outputs": [],
   "source": [
    "# 4. Imprime por pantalla los nombres de las tiendas cuya dirección lleve el string \"Avenida\"\n",
    "for tienda in [tienda_1, tienda_2, tienda_3]:\n",
    "    if \"Avenida\" in tienda.direccion:\n",
    "        print(tienda.nombre)"
   ]
  },
  {
   "cell_type": "markdown",
   "id": "48288b6a",
   "metadata": {},
   "source": [
    "## Ejercicio 2\n",
    "En este ejercicio vamos a implementar una clase *Perro* en Python. La clase tiene las siguientes características:\n",
    "* Cosas que sabemos seguro que tiene un perro\n",
    "    * Tiene 4 patas\n",
    "    * 2 orejas\n",
    "    * 2 ojos\n",
    "    * Una velocidad de 0. Por defecto, el perro está parado\n",
    "* Cuando se inicialice:\n",
    "    * El perro será de una determinada raza\n",
    "    * Por defecto tendrá pelo \"Marrón\", a no ser que se diga lo contrario.\n",
    "    * Por defecto no tendrá dueño, a no ser que se diga lo contrario.\n",
    "    \n",
    "* Dispondrá también de un método llamado andar, que tiene un argumento de entrada (aumento_velocidad). Este valor se le sumará a la velocidad que ya llevaba el perro.\n",
    "* Necesita otro método (parar), donde pondremos la velocidad a 0.\n",
    "* Otro método llamado \"ladrar\", que tendrá un argumento de entrada, y la salida será el siguiente string: \"GUAU!\" + el argumento de entrada.\n",
    "\n",
    "Se pide:\n",
    "* Implementa la clase *Perro*\n",
    "* Crea un objeto de tipo *Perro*, sin dueño\n",
    "* Comprueba que están bien todos sus atributos\n",
    "* Prueba que ande, y comprueba su velocidad\n",
    "* Páralo\n",
    "* Documenta la clase *Perro*"
   ]
  },
  {
   "cell_type": "code",
   "execution_count": null,
   "id": "5b8b1ddb",
   "metadata": {},
   "outputs": [],
   "source": [
    "class Perro():\n",
    "    patas = 4\n",
    "    orejas = 2\n",
    "    ojos = 2\n",
    "    velocidad = 0\n",
    "\n",
    "    def __init__(self, raza, pelo=\"Marrón\", dueño=False):\n",
    "        self.raza = raza\n",
    "        self.pelo = pelo\n",
    "        self.dueño = dueño\n",
    "\n",
    "    def andar(self, aumento_velocidad):\n",
    "        self.velocidad += aumento_velocidad\n",
    "        return self.velocidad\n",
    "\n",
    "    def parar(self):\n",
    "        self.velocidad = 0\n",
    "        return self.velocidad\n",
    "\n",
    "    def ladrar(self, mensaje):\n",
    "        return \"GUAU! \" + mensaje"
   ]
  },
  {
   "cell_type": "code",
   "execution_count": null,
   "id": "68aba999",
   "metadata": {},
   "outputs": [],
   "source": [
    "# Crear un objeto de tipo Perro, sin dueño\n",
    "perro_1 = Perro(\"Pastor alemán\", \"Negro\")\n",
    "print(perro_1.dueño)\n",
    "print(perro_1.patas)\n",
    "print(perro_1.orejas)\n",
    "print(perro_1.ojos)\n",
    "print(perro_1.velocidad)\n",
    "print(perro_1.__dict__)"
   ]
  },
  {
   "cell_type": "code",
   "execution_count": null,
   "id": "e535761a",
   "metadata": {},
   "outputs": [],
   "source": [
    "# Prueba que ande, y comprueba su velocidad\n",
    "print(perro_1.andar(10))\n",
    "print(perro_1.velocidad)\n",
    "print(perro_1.andar(40))\n",
    "print(perro_1.velocidad)"
   ]
  },
  {
   "cell_type": "code",
   "execution_count": null,
   "id": "71c4e111",
   "metadata": {},
   "outputs": [],
   "source": [
    "# Páralo\n",
    "print(perro_1.parar())\n",
    "print(perro_1.velocidad)"
   ]
  },
  {
   "cell_type": "code",
   "execution_count": null,
   "id": "18a49c2d",
   "metadata": {},
   "outputs": [],
   "source": [
    "# Prueba el método ladrar\n",
    "print(perro_1.ladrar(\"Hola mundo\"))"
   ]
  }
 ],
 "metadata": {
  "kernelspec": {
   "display_name": "Python 3",
   "language": "python",
   "name": "python3"
  },
  "language_info": {
   "name": "python",
   "version": "3.11.4"
  }
 },
 "nbformat": 4,
 "nbformat_minor": 5
}
