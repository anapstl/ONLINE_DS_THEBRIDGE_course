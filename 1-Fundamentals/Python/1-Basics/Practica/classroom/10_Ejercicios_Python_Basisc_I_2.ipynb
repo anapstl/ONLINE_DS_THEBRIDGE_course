{
  "cells": [
    {
      "cell_type": "markdown",
      "metadata": {
        "id": "GB2K42EgK9q5"
      },
      "source": [
        "![TheBridge_logo_RGB_color.jpg](attachment:TheBridge_logo_RGB_color.jpg)"
      ]
    },
    {
      "cell_type": "markdown",
      "metadata": {
        "id": "GnwVlO37K9q6"
      },
      "source": [
        "![imagen](../img/ejercicios.png)"
      ]
    },
    {
      "cell_type": "markdown",
      "metadata": {
        "id": "_9pTa0PXK9q6"
      },
      "source": [
        "## EJERCICIOS PYTHON BASICO 2:\n",
        "## Tipos y conversión de tipos"
      ]
    },
    {
      "cell_type": "markdown",
      "metadata": {
        "id": "tYmV-veoK9q6"
      },
      "source": [
        "Completa los siguiente ejercicios, la solución a los mismos se publicarán en el repo del curso a lo largo del sprint"
      ]
    },
    {
      "cell_type": "markdown",
      "metadata": {
        "id": "YAdFbIOXK9q7"
      },
      "source": [
        "![ejercicio.png](../img/ejercicio.png)\n",
        "\n",
        "## Ejercicio 1\n",
        "\n",
        "1. Crea dos variables numericas: un `int` y un `float`\n",
        "2. Comprueba sus tipos\n",
        "3. Sumalas en otra nueva\n",
        "4. ¿De qué tipo es la nueva variable?\n",
        "5. Elimina las dos primeras variables creadas"
      ]
    },
    {
      "cell_type": "code",
      "execution_count": 1,
      "metadata": {
        "id": "8QZmuLOsK9q7"
      },
      "outputs": [
        {
          "name": "stdout",
          "output_type": "stream",
          "text": [
            "comprobando el tipo de la 'var_int' es: {} <class 'int'>\n",
            "comprobando el tipo de la 'var_float' es: {} <class 'float'>\n",
            "comprobando el tipo de la 'var_sum' es: {} <class 'float'>\n"
          ]
        }
      ],
      "source": [
        "var_int = 17\n",
        "var_float = 24.68\n",
        "\n",
        "print(\"comprobando el tipo de la 'var_int' es: {}\", format(type(var_int)))\n",
        "print(\"comprobando el tipo de la 'var_float' es: {}\", format(type(var_float)))\n",
        "\n",
        "var_sum = var_int + var_float\n",
        "print(\"comprobando el tipo de la 'var_sum' es: {}\", format(type(var_sum)))\n",
        "\n",
        "# eliminar las dos primeras  variables\n",
        "del var_int\n",
        "del var_float"
      ]
    },
    {
      "cell_type": "markdown",
      "metadata": {
        "id": "f5xfpkpQK9q7"
      },
      "source": [
        "![ejercicio.png](./img/ejercicio.png)\n",
        "\n",
        "## Ejercicio 2\n",
        "Escribe un programa para pasar de grados a radianes. Hay que usar `input`. Recuerda que la conversión se realiza mediante\n",
        "\n",
        "radianes = grados*(pi/180)"
      ]
    },
    {
      "cell_type": "code",
      "execution_count": 8,
      "metadata": {
        "id": "V50TUQMzK9q7"
      },
      "outputs": [
        {
          "name": "stdout",
          "output_type": "stream",
          "text": [
            "El valor de 180.0 grados es 3.1416 radianes\n"
          ]
        }
      ],
      "source": [
        "import math\n",
        "\n",
        "try:\n",
        "    grados = float(input(\"Ingresa un valor para grados a convertir en radianes:\"))\n",
        "    radianes = grados * (math.pi/180)\n",
        "    print(f\"El valor de {grados} grados es {radianes:.4f} radianes\")\n",
        "except ValueError:\n",
        "    print(\"El valor ingresado no es un número válido.\")"
      ]
    },
    {
      "cell_type": "markdown",
      "metadata": {
        "id": "zX3-p58CK9q7"
      },
      "source": [
        "![ejercicio.png](./img/ejercicio.png)\n",
        "\n",
        "## Ejercicio 3\n",
        "Escribe un programa que calcule el area de un paralelogramo (base x altura). También con `input`"
      ]
    },
    {
      "cell_type": "code",
      "execution_count": 11,
      "metadata": {
        "id": "s2QfNiBAK9q7"
      },
      "outputs": [
        {
          "name": "stdout",
          "output_type": "stream",
          "text": [
            "El area calculado para un paralelogramo con base 3.0 y altura 5.0 es 15.00\n"
          ]
        }
      ],
      "source": [
        "try:    \n",
        "    base = float(input(\"Ingresa el valor de la base:\"))\n",
        "    altura = float(input(\"Ingresa el valor de la altura:\"))\n",
        "\n",
        "    area = base * altura\n",
        "\n",
        "    print(f\"El area calculado para un paralelogramo con base {base} y altura {altura} es {area:.2f}\")\n",
        "except ValueError:\n",
        "    print(\"El valor ingresado no es un número válido.\")"
      ]
    },
    {
      "cell_type": "markdown",
      "metadata": {
        "id": "-6TBo_HvK9q8"
      },
      "source": [
        "![ejercicio.png](./img/ejercicio.png)\n",
        "\n",
        "## Ejercicio 4\n",
        "Escribe un programa que calcule el area de un paralelogramo (base x altura). También con `input`. En este caso debe ser capaz de admitir valores reales, con decimales, para base y altura en español. (PISTA: Recuerda que tendrás que hacer uso del método replace)"
      ]
    },
    {
      "cell_type": "code",
      "execution_count": 4,
      "metadata": {
        "id": "uzUIa1JqK9q8"
      },
      "outputs": [
        {
          "name": "stdout",
          "output_type": "stream",
          "text": [
            "Por favor, introduce valores numéricos válidos para la base y/o la altura.\n"
          ]
        }
      ],
      "source": [
        "try:\n",
        "    # Solicitando la base y la altura, permitiendo valores con coma o punto\n",
        "    base = float(input(\"Ingresa el valor de la base: \").replace(\",\", \".\"))\n",
        "    altura = float(input(\"Ingresa el valor de la altura: \").replace(\",\", \".\"))\n",
        "\n",
        "    # Calculo del área\n",
        "    area = base * altura\n",
        "\n",
        "    # Mostrar el resultado con coma como separador decimal\n",
        "    print(f\"El área calculada para un paralelogramo con base {base} y altura {altura} es {area:.2f}\".replace(\".\", \",\"))\n",
        "\n",
        "except ValueError:\n",
        "    print(\"Por favor, introduce valores numéricos válidos para la base y/o la altura.\")"
      ]
    },
    {
      "cell_type": "markdown",
      "metadata": {
        "id": "5zKugi5iK9q8"
      },
      "source": [
        "![ejercicio.png](./img/ejercicio.png)\n",
        "\n",
        "## Ejercicio 5\n",
        "Complete el siguiente código para solicitar al usuario su nombre y su edad. Luego, calcule en qué año nació el usuario y muestre el resultado."
      ]
    },
    {
      "cell_type": "code",
      "execution_count": 5,
      "metadata": {
        "id": "LISfTnRkK9q8"
      },
      "outputs": [
        {
          "name": "stdout",
          "output_type": "stream",
          "text": [
            "Ana, naciste en el año 2007.\n"
          ]
        }
      ],
      "source": [
        "nombre = input(\"¿Cuál es tu nombre? \")\n",
        "edad = int(input(\"¿Cuál es tu edad? \"))\n",
        "año_actual = 2025  # Puedes cambiarlo según el año en curso\n",
        "año_nacimiento = año_actual - edad\n",
        "\n",
        "print(f\"{nombre}, naciste en el año {año_nacimiento}.\")"
      ]
    }
  ],
  "metadata": {
    "colab": {
      "provenance": []
    },
    "kernelspec": {
      "display_name": "Python 3",
      "language": "python",
      "name": "python3"
    },
    "language_info": {
      "codemirror_mode": {
        "name": "ipython",
        "version": 3
      },
      "file_extension": ".py",
      "mimetype": "text/x-python",
      "name": "python",
      "nbconvert_exporter": "python",
      "pygments_lexer": "ipython3",
      "version": "3.11.4"
    },
    "orig_nbformat": 4
  },
  "nbformat": 4,
  "nbformat_minor": 0
}
