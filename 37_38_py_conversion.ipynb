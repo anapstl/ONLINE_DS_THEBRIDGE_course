{
 "cells": [
  {
   "cell_type": "markdown",
   "id": "3a329554-5db4-4d9c-ba82-b5ca8aed9476",
   "metadata": {},
   "source": [
    "# Conversion de tipos"
   ]
  },
  {
   "cell_type": "markdown",
   "id": "ffcb0e55-b0f1-4005-a1e7-15ee69ef61a7",
   "metadata": {},
   "source": [
    "https://colab.research.google.com/drive/158ya3wlN91ywULFRorrlwdaAgwgRVnFJ"
   ]
  },
  {
   "cell_type": "markdown",
   "id": "771e6ae5-36ea-4579-8869-08c96e060331",
   "metadata": {},
   "source": [
    "* cast `float 2 int `"
   ]
  },
  {
   "cell_type": "code",
   "execution_count": 6,
   "id": "a7581bdb-f594-414c-8000-ab45f8db852f",
   "metadata": {},
   "outputs": [
    {
     "name": "stdout",
     "output_type": "stream",
     "text": [
      "<class 'float'>\n",
      "24\n",
      "<class 'int'>\n"
     ]
    }
   ],
   "source": [
    "no_float = 24.69696969\n",
    "print(type(no_float))\n",
    "\n",
    "no_int = int(no_float)\n",
    "print(no_int)\n",
    "print(type(no_int))"
   ]
  },
  {
   "cell_type": "markdown",
   "id": "c08a13c2-a338-4330-aef7-573771393763",
   "metadata": {},
   "source": [
    "* para redondear usar `round`"
   ]
  },
  {
   "cell_type": "code",
   "execution_count": 5,
   "id": "6559a3f0-a573-4469-8a4a-a4edd0db5f85",
   "metadata": {},
   "outputs": [
    {
     "name": "stdout",
     "output_type": "stream",
     "text": [
      "24.7\n"
     ]
    }
   ],
   "source": [
    "print(round(no_float,2))"
   ]
  },
  {
   "cell_type": "markdown",
   "id": "36ee8315-01c0-4fa6-96b6-1739b20b3a74",
   "metadata": {},
   "source": [
    "* cast `num 2 str`"
   ]
  },
  {
   "cell_type": "code",
   "execution_count": 8,
   "id": "ea774304-3d9b-49c6-99ec-50d28116c741",
   "metadata": {},
   "outputs": [
    {
     "name": "stdout",
     "output_type": "stream",
     "text": [
      "24.69 <class 'float'>\n",
      "12 <class 'int'>\n"
     ]
    }
   ],
   "source": [
    "num_float = 24.69\n",
    "num_int = 12\n",
    "\n",
    "float_str = str(num_float)\n",
    "print(float_str, type(num_float))\n",
    "int_str = str(num_int)\n",
    "print(num_int, type(num_int))"
   ]
  },
  {
   "cell_type": "code",
   "execution_count": 11,
   "id": "b2652941-b644-4782-bad8-81181b439d5c",
   "metadata": {},
   "outputs": [
    {
     "name": "stdout",
     "output_type": "stream",
     "text": [
      "36.69\n",
      "24.6912\n"
     ]
    }
   ],
   "source": [
    "print(num_float + num_int)\n",
    "print(float_str + int_str) # concatenation"
   ]
  },
  {
   "cell_type": "markdown",
   "id": "7b28e7ba-220f-431f-a079-028e68208092",
   "metadata": {},
   "source": [
    "* cast `str 2 num`"
   ]
  },
  {
   "cell_type": "code",
   "execution_count": null,
   "id": "0e74618c-bb3c-4c76-9ebf-4a9a1c1f4d97",
   "metadata": {},
   "outputs": [],
   "source": [
    "mi_int = 98\n",
    "print(mi_int)"
   ]
  },
  {
   "cell_type": "code",
   "execution_count": 16,
   "id": "163376c7-6b80-4b91-b2e9-8b3ca3bcf8cf",
   "metadata": {},
   "outputs": [
    {
     "name": "stdout",
     "output_type": "stream",
     "text": [
      "98 <class 'str'>\n",
      "98 <class 'int'>\n"
     ]
    },
    {
     "ename": "ValueError",
     "evalue": "could not convert string to float: '98,69'",
     "output_type": "error",
     "traceback": [
      "\u001b[31m---------------------------------------------------------------------------\u001b[39m",
      "\u001b[31mValueError\u001b[39m                                Traceback (most recent call last)",
      "\u001b[36mCell\u001b[39m\u001b[36m \u001b[39m\u001b[32mIn[16]\u001b[39m\u001b[32m, line 6\u001b[39m\n\u001b[32m      4\u001b[39m \u001b[38;5;28mprint\u001b[39m(mi_int, \u001b[38;5;28mtype\u001b[39m(mi_int))\n\u001b[32m      5\u001b[39m mi_str_float = \u001b[33m\"\u001b[39m\u001b[33m98,69\u001b[39m\u001b[33m\"\u001b[39m \u001b[38;5;66;03m# la comma no esta reconocido\u001b[39;00m\n\u001b[32m----> \u001b[39m\u001b[32m6\u001b[39m mi_float = \u001b[38;5;28;43mfloat\u001b[39;49m\u001b[43m(\u001b[49m\u001b[43mmi_str_float\u001b[49m\u001b[43m)\u001b[49m\n\u001b[32m      7\u001b[39m \u001b[38;5;28mprint\u001b[39m(mi_str_float, \u001b[38;5;28mtype\u001b[39m(mi_str_float))\n\u001b[32m      8\u001b[39m \u001b[38;5;28mprint\u001b[39m(mi_float, \u001b[38;5;28mtype\u001b[39m(mi_float))\n",
      "\u001b[31mValueError\u001b[39m: could not convert string to float: '98,69'"
     ]
    }
   ],
   "source": [
    "mi_str = \"98\"\n",
    "mi_int = int(mi_str)\n",
    "print(mi_str, type(mi_str))\n",
    "print(mi_int, type(mi_int))\n",
    "mi_str_float = \"98,69\" # la comma no esta reconocido\n",
    "mi_float = float(mi_str_float)\n",
    "print(mi_str_float, type(mi_str_float))\n",
    "print(mi_float, type(mi_float))"
   ]
  },
  {
   "cell_type": "code",
   "execution_count": 17,
   "id": "e2037a1a-fc86-4469-9a9d-ba1ca68133b6",
   "metadata": {},
   "outputs": [
    {
     "name": "stdout",
     "output_type": "stream",
     "text": [
      "98.69 <class 'str'>\n",
      "98.69 <class 'float'>\n"
     ]
    }
   ],
   "source": [
    "mi_str_float = \"98.69\" # la comma no esta reconocido\n",
    "mi_float = float(mi_str_float)\n",
    "print(mi_str_float, type(mi_str_float))\n",
    "print(mi_float, type(mi_float))"
   ]
  },
  {
   "cell_type": "markdown",
   "id": "78965284-23d9-46d1-acd1-dc158c0ffa21",
   "metadata": {},
   "source": [
    "* cast `nr 2 bool`"
   ]
  },
  {
   "cell_type": "code",
   "execution_count": 20,
   "id": "b338b5c5-e09d-4913-8d71-af8b87a8420c",
   "metadata": {},
   "outputs": [
    {
     "name": "stdout",
     "output_type": "stream",
     "text": [
      "True <class 'bool'>\n",
      "------------\n",
      "False <class 'bool'>\n"
     ]
    }
   ],
   "source": [
    "mi_bool = bool(123)\n",
    "print(mi_bool, type(mi_bool))\n",
    "print('------------')\n",
    "mi_bool2 = bool(0)\n",
    "print(mi_bool2, type(mi_bool2))"
   ]
  },
  {
   "cell_type": "markdown",
   "id": "7a5330d5-2335-4adc-97c7-f1e7f8169c84",
   "metadata": {},
   "source": [
    "* cast `str 2 bool` comprobaciones de que si una cadena esta vacia o no"
   ]
  },
  {
   "cell_type": "code",
   "execution_count": 21,
   "id": "60550fc2-e5e2-488c-b1fd-15a15c66316c",
   "metadata": {},
   "outputs": [
    {
     "name": "stdout",
     "output_type": "stream",
     "text": [
      "False <class 'bool'>\n",
      "True <class 'bool'>\n"
     ]
    }
   ],
   "source": [
    "booleano = bool(\"\")\n",
    "bool2 = bool(\"otro tipo\")\n",
    "print(booleano, type(booleano))\n",
    "print(bool2, type(bool2))"
   ]
  },
  {
   "cell_type": "code",
   "execution_count": 22,
   "id": "59e16ba9-0fd3-451b-899e-64c9c5a54921",
   "metadata": {},
   "outputs": [
    {
     "name": "stdout",
     "output_type": "stream",
     "text": [
      "False <class 'str'>\n",
      "True <class 'str'>\n"
     ]
    }
   ],
   "source": [
    "bool_str = str(booleano)\n",
    "bool2_str= str(bool2)\n",
    "print(bool_str, type(bool_str))\n",
    "print(bool2_str, type(boobl2_str))"
   ]
  },
  {
   "cell_type": "markdown",
   "id": "c59c891d-3272-4e96-8171-43420d948a09",
   "metadata": {},
   "source": [
    "# Errores en conversion de tipos"
   ]
  },
  {
   "cell_type": "code",
   "execution_count": 24,
   "id": "9d90cdcb-f194-4b7d-9af6-6bff4cf06c5c",
   "metadata": {},
   "outputs": [],
   "source": [
    "real_str = \"24,06\"\n",
    "real = float(real_str.replace(\",\", \".\"))"
   ]
  },
  {
   "cell_type": "code",
   "execution_count": 26,
   "id": "5077ea9b-3470-4336-a805-33947ceb59fe",
   "metadata": {},
   "outputs": [
    {
     "name": "stdout",
     "output_type": "stream",
     "text": [
      "24.06 <class 'float'>\n"
     ]
    }
   ],
   "source": [
    "print(real, type(real))"
   ]
  },
  {
   "cell_type": "code",
   "execution_count": 27,
   "id": "18d546bd-5bf9-41db-9d75-e6ce5ecf0e65",
   "metadata": {},
   "outputs": [],
   "source": [
    "# operar con el mismo tipo de datos para no tener TypeError"
   ]
  },
  {
   "cell_type": "markdown",
   "id": "8878a758-0c36-45b2-86c1-4cb43a74c4f3",
   "metadata": {},
   "source": [
    "# Input"
   ]
  },
  {
   "cell_type": "code",
   "execution_count": 28,
   "id": "47b9fdea-8f81-4202-a3e3-ddb9463cdaeb",
   "metadata": {},
   "outputs": [
    {
     "name": "stdin",
     "output_type": "stream",
     "text": [
      "escribeme algo: hola lola\n"
     ]
    }
   ],
   "source": [
    "# recoge un valor que escriba el usuario del prg\n",
    "primer_input = input(\"escribeme algo:\")"
   ]
  },
  {
   "cell_type": "code",
   "execution_count": 30,
   "id": "e85628fe-7450-44eb-a569-fda86e711aa0",
   "metadata": {},
   "outputs": [
    {
     "name": "stdout",
     "output_type": "stream",
     "text": [
      "hola lola\n"
     ]
    }
   ],
   "source": [
    "print(primer_input) # recoge como STR"
   ]
  },
  {
   "cell_type": "code",
   "execution_count": 31,
   "id": "c113c331-802c-4b79-aaac-20b7940a7cc8",
   "metadata": {},
   "outputs": [
    {
     "data": {
      "text/plain": [
       "str"
      ]
     },
     "execution_count": 31,
     "metadata": {},
     "output_type": "execute_result"
    }
   ],
   "source": [
    "type(primer_input)"
   ]
  },
  {
   "cell_type": "code",
   "execution_count": 32,
   "id": "73abcab0-033d-426c-b4e3-9b0f8cd9031d",
   "metadata": {},
   "outputs": [
    {
     "name": "stdin",
     "output_type": "stream",
     "text": [
      "como te llamas? lola\n"
     ]
    },
    {
     "name": "stdout",
     "output_type": "stream",
     "text": [
      "encantado de conocerte\n"
     ]
    },
    {
     "name": "stdin",
     "output_type": "stream",
     "text": [
      "¿que te parece este video? bufff\n"
     ]
    },
    {
     "name": "stdout",
     "output_type": "stream",
     "text": [
      "coincido\n"
     ]
    }
   ],
   "source": [
    "nombre = input(\"como te llamas?\")\n",
    "print(\"encantado de conocerte\")\n",
    "preferencias = input(\"¿que te parece este video?\")\n",
    "print(\"coincido\")"
   ]
  },
  {
   "cell_type": "markdown",
   "id": "7733391a-2d0b-407d-9be1-b080b39dface",
   "metadata": {},
   "source": [
    "# None"
   ]
  },
  {
   "cell_type": "markdown",
   "id": "545fee0c-03e8-4a94-acf4-5cbb425e2792",
   "metadata": {},
   "source": [
    "para designar el valor `nulo`; conjunto vacio"
   ]
  },
  {
   "cell_type": "code",
   "execution_count": 33,
   "id": "c1d3d244-3b1e-48c4-850f-3198ec97b5d1",
   "metadata": {},
   "outputs": [
    {
     "name": "stdout",
     "output_type": "stream",
     "text": [
      "None\n"
     ]
    }
   ],
   "source": [
    "print(None)"
   ]
  },
  {
   "cell_type": "code",
   "execution_count": 34,
   "id": "9ddc4cdb-ef7c-4dc2-ac7a-81f06af10571",
   "metadata": {},
   "outputs": [
    {
     "name": "stdout",
     "output_type": "stream",
     "text": [
      "<class 'NoneType'>\n"
     ]
    }
   ],
   "source": [
    "print(type(None))"
   ]
  },
  {
   "cell_type": "code",
   "execution_count": 36,
   "id": "013ac9fd-789b-4771-af94-079a004a4f0f",
   "metadata": {},
   "outputs": [
    {
     "data": {
      "text/plain": [
       "False"
      ]
     },
     "execution_count": 36,
     "metadata": {},
     "output_type": "execute_result"
    }
   ],
   "source": [
    "\" \" == None"
   ]
  },
  {
   "cell_type": "code",
   "execution_count": 37,
   "id": "7239985b-f003-4ff8-8ed5-5a7530aeb599",
   "metadata": {},
   "outputs": [
    {
     "data": {
      "text/plain": [
       "False"
      ]
     },
     "execution_count": 37,
     "metadata": {},
     "output_type": "execute_result"
    }
   ],
   "source": [
    "0 == None"
   ]
  },
  {
   "cell_type": "code",
   "execution_count": 38,
   "id": "7cb98e51-51cc-41ef-af80-995f07e00002",
   "metadata": {},
   "outputs": [
    {
     "data": {
      "text/plain": [
       "False"
      ]
     },
     "execution_count": 38,
     "metadata": {},
     "output_type": "execute_result"
    }
   ],
   "source": [
    "False == None"
   ]
  },
  {
   "cell_type": "markdown",
   "id": "7f530695-49e1-4312-ab42-a40711018bc4",
   "metadata": {},
   "source": [
    "# Sintaxis & best practices"
   ]
  },
  {
   "cell_type": "markdown",
   "id": "a911330c-bcff-4619-9d03-d8376b4a2b35",
   "metadata": {},
   "source": [
    "A la hora de escribir en Python, existen ciertas normas que hay que tener en cuenta:\n",
    "\n",
    "Todo lo que abras, lo tienes que cerrar: paréntesis, llaves, corchetes...\n",
    "Los decimales se ponen con puntos .\n",
    "Best practices\n",
    "+ Caracteres: NO se recomienda usar Ñs, acentos o caracteres raros (ª,º,@,ç...) en el codigo. Ponerlo únicamente en los comentarios.\n",
    "+ Espacios: NO usar espacios en los nombres de las variables ni de las funciones. Se recomienda usar guión bajo para simular el espacio. O también juntar las palabras y usar mayuscula para diferenciarlas miVariable. Lo normal es todo minúscula y guiones bajos\n",
    "+ Ahora bien, sí se recomienda usar espacios entre cada comando, para facilitar la lectura, aunque esto ya es más cuestión de gustos. mi_variable = 36.\n",
    "+ Se suelen declarar las variables en minuscula.\n",
    "+ Las constantes (variables que no van a cambiar nunca) en mayuscula. MI_PAIS = \"España\"\n",
    "+ Cada sentencia en una linea. Se puede usar el ; para declarar varias variables, pero no es lo habitual\n",
    "+ Comentarios: TODOS los que se pueda. Nunca sabes cuándo otra persona va a coger tu espectacular código, o si tu yo del futuro se acordará de por qué hiciste ese bucle while en vez de un for.\n",
    "+ Case sensitive: sensible a mayusculas y minusculas. CUIDADO con esto cuando declaremos variables o usemos Strings\n",
    "+ Sintaxis de línea: para una correcta lectura del codigo lo mejor es aplicar sintaxis de línea en la medida de lo posible"
   ]
  },
  {
   "cell_type": "code",
   "execution_count": null,
   "id": "bee06e08-1ece-45bd-b065-f44bed83c566",
   "metadata": {},
   "outputs": [],
   "source": []
  },
  {
   "cell_type": "markdown",
   "id": "04a8ddf7-7b1b-421a-b335-9c599da58fa0",
   "metadata": {},
   "source": [
    "# Zen of Python"
   ]
  },
  {
   "cell_type": "code",
   "execution_count": 39,
   "id": "96b07daf-3b6f-4742-a880-7971a71446eb",
   "metadata": {},
   "outputs": [
    {
     "name": "stdout",
     "output_type": "stream",
     "text": [
      "The Zen of Python, by Tim Peters\n",
      "\n",
      "Beautiful is better than ugly.\n",
      "Explicit is better than implicit.\n",
      "Simple is better than complex.\n",
      "Complex is better than complicated.\n",
      "Flat is better than nested.\n",
      "Sparse is better than dense.\n",
      "Readability counts.\n",
      "Special cases aren't special enough to break the rules.\n",
      "Although practicality beats purity.\n",
      "Errors should never pass silently.\n",
      "Unless explicitly silenced.\n",
      "In the face of ambiguity, refuse the temptation to guess.\n",
      "There should be one-- and preferably only one --obvious way to do it.\n",
      "Although that way may not be obvious at first unless you're Dutch.\n",
      "Now is better than never.\n",
      "Although never is often better than *right* now.\n",
      "If the implementation is hard to explain, it's a bad idea.\n",
      "If the implementation is easy to explain, it may be a good idea.\n",
      "Namespaces are one honking great idea -- let's do more of those!\n"
     ]
    }
   ],
   "source": [
    "import this"
   ]
  },
  {
   "cell_type": "code",
   "execution_count": null,
   "id": "711fd0db-0943-423b-b151-20943f3fa941",
   "metadata": {},
   "outputs": [],
   "source": []
  }
 ],
 "metadata": {
  "kernelspec": {
   "display_name": "Python 3 (ipykernel)",
   "language": "python",
   "name": "python3"
  },
  "language_info": {
   "codemirror_mode": {
    "name": "ipython",
    "version": 3
   },
   "file_extension": ".py",
   "mimetype": "text/x-python",
   "name": "python",
   "nbconvert_exporter": "python",
   "pygments_lexer": "ipython3",
   "version": "3.13.2"
  }
 },
 "nbformat": 4,
 "nbformat_minor": 5
}
