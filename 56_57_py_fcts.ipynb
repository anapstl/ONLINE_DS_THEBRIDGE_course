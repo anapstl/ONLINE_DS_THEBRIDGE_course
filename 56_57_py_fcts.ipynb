{
 "cells": [
  {
   "cell_type": "markdown",
   "id": "eb1baf68",
   "metadata": {},
   "source": [
    "# **Funciones**\n",
    "\n",
    "URL: \n",
    "* https://colab.research.google.com/drive/1ovnlKATqA3Baf1pNUM0QChNbcAk55bPi\n",
    "* https://colab.research.google.com/drive/1MDzENyciW5CEgc5QcZCDo9LX0HbVPRuC"
   ]
  },
  {
   "cell_type": "markdown",
   "id": "d2bb6123",
   "metadata": {},
   "source": [
    "* `Def y sintáxis`\n",
    "\n",
    "- print, type, round, len, ...\n",
    "- varias ops que se repiten\n",
    "- `return` es opcional"
   ]
  },
  {
   "cell_type": "code",
   "execution_count": null,
   "id": "66aef2ea",
   "metadata": {},
   "outputs": [],
   "source": [
    "def nombre_fct(entrada):\n",
    "    \"\"\"\n",
    "    Fonction qui renvoie la valeur de l'argument d'entrée.\n",
    "    :param entrada: Valeur d'entrée\n",
    "    :return: Valeur d'entrée\n",
    "    \"\"\"\n",
    "    # operaciones_varias\n",
    "    return entrada"
   ]
  },
  {
   "cell_type": "code",
   "execution_count": 8,
   "id": "97b4e16f",
   "metadata": {},
   "outputs": [],
   "source": [
    "def convert_km_millas(km):\n",
    "    \"\"\"\n",
    "    Convertit une distance en kilomètres en milles.\n",
    "    :param km: Distance en kilomètres\n",
    "    :return: Distance en milles\n",
    "    \"\"\"\n",
    "    return round(km * 0.621371, 1)"
   ]
  },
  {
   "cell_type": "code",
   "execution_count": 11,
   "id": "cd6f4ca5",
   "metadata": {},
   "outputs": [
    {
     "name": "stdout",
     "output_type": "stream",
     "text": [
      "137.3\n"
     ]
    }
   ],
   "source": [
    "print(convert_km_millas(221))  # Exemple d'utilisation de la fonction"
   ]
  },
  {
   "cell_type": "code",
   "execution_count": 10,
   "id": "4ff97fe4",
   "metadata": {},
   "outputs": [
    {
     "name": "stdout",
     "output_type": "stream",
     "text": [
      "124.3\n"
     ]
    }
   ],
   "source": [
    "unas_millas = convert_km_millas(200); print(unas_millas)"
   ]
  },
  {
   "cell_type": "code",
   "execution_count": 15,
   "id": "892d5c37",
   "metadata": {},
   "outputs": [],
   "source": [
    "from datetime import datetime\n",
    "\n",
    "# fct donde na hacen falta argumentos pero si parentesis <----------------------\n",
    "def que_hora_es():\n",
    "    \"\"\"\n",
    "    Fonction qui renvoie l'heure actuelle.\n",
    "    :return: Heure actuelle\n",
    "    \"\"\"\n",
    "    return datetime.now().strftime(\"%H:%M:%S\")"
   ]
  },
  {
   "cell_type": "code",
   "execution_count": 14,
   "id": "abb72818",
   "metadata": {},
   "outputs": [
    {
     "name": "stdout",
     "output_type": "stream",
     "text": [
      "16:42:56\n"
     ]
    }
   ],
   "source": [
    "print(que_hora_es())  # Exemple d'utilisation de la fonction"
   ]
  },
  {
   "cell_type": "code",
   "execution_count": 16,
   "id": "29e35776",
   "metadata": {},
   "outputs": [],
   "source": [
    "from datetime import datetime\n",
    "\n",
    "# fct donde na hacen falta argumentos pero si parentesis <----------------------\n",
    "def que_hora_es():\n",
    "    \"\"\"\n",
    "    Fonction qui renvoie l'heure actuelle.\n",
    "    :return: Heure actuelle\n",
    "    \"\"\"\n",
    "    print(datetime.now().strftime(\"%H:%M:%S\"))"
   ]
  },
  {
   "cell_type": "code",
   "execution_count": 17,
   "id": "7eaa7e1c",
   "metadata": {},
   "outputs": [
    {
     "name": "stdout",
     "output_type": "stream",
     "text": [
      "16:54:26\n"
     ]
    }
   ],
   "source": [
    "que_hora_es()  # Exemple d'utilisation de la fonction"
   ]
  },
  {
   "cell_type": "markdown",
   "id": "682a0606",
   "metadata": {},
   "source": [
    "## **Fct def por usu**"
   ]
  },
  {
   "cell_type": "code",
   "execution_count": null,
   "id": "c0fd2654",
   "metadata": {},
   "outputs": [],
   "source": [
    "from datetime import datetime\n",
    "\n",
    "# fct donde na hacen falta argumentos pero si parentesis <----------------------\n",
    "def que_hora_es():\n",
    "    \"\"\"\n",
    "    Fonction qui renvoie l'heure actuelle.\n",
    "    :return: Heure actuelle\n",
    "    \"\"\"\n",
    "    print(datetime.now().strftime(\"%H:%M:%S\"))"
   ]
  },
  {
   "cell_type": "code",
   "execution_count": 19,
   "id": "147b71f5",
   "metadata": {},
   "outputs": [
    {
     "name": "stdout",
     "output_type": "stream",
     "text": [
      "17:00:06\n",
      "None <class 'NoneType'>\n"
     ]
    }
   ],
   "source": [
    "hora = que_hora_es()  # Exemple d'utilisation de la fonction\n",
    "print(hora, type(hora))  # Affiche l'heure actuelle"
   ]
  },
  {
   "cell_type": "code",
   "execution_count": 22,
   "id": "f2a6bcf6",
   "metadata": {},
   "outputs": [
    {
     "ename": "NameError",
     "evalue": "name 'now' is not defined",
     "output_type": "error",
     "traceback": [
      "\u001b[31m---------------------------------------------------------------------------\u001b[39m",
      "\u001b[31mNameError\u001b[39m                                 Traceback (most recent call last)",
      "\u001b[36mCell\u001b[39m\u001b[36m \u001b[39m\u001b[32mIn[22]\u001b[39m\u001b[32m, line 1\u001b[39m\n\u001b[32m----> \u001b[39m\u001b[32m1\u001b[39m \u001b[38;5;28mprint\u001b[39m(\u001b[43mnow\u001b[49m) \u001b[38;5;66;03m# existe solo dentro de la function\u001b[39;00m\n",
      "\u001b[31mNameError\u001b[39m: name 'now' is not defined"
     ]
    }
   ],
   "source": [
    "print(now) # existe solo dentro de la function"
   ]
  },
  {
   "cell_type": "markdown",
   "id": "16777f46",
   "metadata": {},
   "source": [
    "* devolver `multiples valores` en el _return_ y devuelve una `tupla`"
   ]
  },
  {
   "cell_type": "code",
   "execution_count": 25,
   "id": "9cede39c",
   "metadata": {},
   "outputs": [],
   "source": [
    "def convert_km_millas(km):\n",
    "    \"\"\"\n",
    "    Convertit une distance en kilomètres en milles.\n",
    "    :param km: Distance en kilomètres\n",
    "    :return: Distance en milles\n",
    "    \"\"\"\n",
    "    millas = km * 0.621371\n",
    "    return round(millas, 1), millas,  km * 1000"
   ]
  },
  {
   "cell_type": "code",
   "execution_count": null,
   "id": "3e6ada93",
   "metadata": {},
   "outputs": [],
   "source": [
    "millas_redondeadas, millas_no_redondeadas, km_metros = convert_km_millas(200)"
   ]
  },
  {
   "cell_type": "code",
   "execution_count": 30,
   "id": "e7e03e6d",
   "metadata": {},
   "outputs": [
    {
     "name": "stdout",
     "output_type": "stream",
     "text": [
      "<class 'tuple'>\n",
      "(137.3, 137.322991, 221000)\n"
     ]
    }
   ],
   "source": [
    "print(type(convert_km_millas(221)))\n",
    "print((convert_km_millas(221)))"
   ]
  },
  {
   "cell_type": "markdown",
   "id": "e01fe596",
   "metadata": {},
   "source": [
    "se puede convertir el tipo de la salida... por ej. devolver una `lista` en vez de tupla"
   ]
  },
  {
   "cell_type": "code",
   "execution_count": 1,
   "id": "3a4f5e6d",
   "metadata": {},
   "outputs": [],
   "source": [
    "def convert_km_millas_return_list(km):\n",
    "    \"\"\"\n",
    "    Convertit une distance en kilomètres en milles.\n",
    "    :param km: Distance en kilomètres\n",
    "    :return: Distance en milles\n",
    "    \"\"\"\n",
    "    millas = km * 0.621371\n",
    "    return [round(millas, 1), millas,  km * 1000]"
   ]
  },
  {
   "cell_type": "markdown",
   "id": "842d5112",
   "metadata": {},
   "source": [
    "res_lst_km_2_millas = convert_km_millas_return_list(200)\n",
    "print(res_lst_km_2_millas)"
   ]
  },
  {
   "cell_type": "markdown",
   "id": "2e96948b",
   "metadata": {},
   "source": [
    "* `tipos de datos de los args`"
   ]
  },
  {
   "cell_type": "code",
   "execution_count": 5,
   "id": "f289c500",
   "metadata": {},
   "outputs": [],
   "source": [
    "def recibe_mix(tupla, lista, diccionario):\n",
    "    print(\"tupla contiene: \", tupla, \"y es de tipo: \", type(tupla))\n",
    "    print(\"lista contiene: \", lista, \"y es de tipo: \", type(lista))\n",
    "    print(\"diccionario contiene: \", diccionario, \"y es de tipo: \", type(diccionario))\n",
    "\n",
    "    return [type(tupla), type(lista), type(diccionario)]\n"
   ]
  },
  {
   "cell_type": "code",
   "execution_count": 7,
   "id": "80ee8634",
   "metadata": {},
   "outputs": [
    {
     "name": "stdout",
     "output_type": "stream",
     "text": [
      "tupla contiene:  (12, 34, 23) y es de tipo:  <class 'tuple'>\n",
      "lista contiene:  ['esto', 'es', 'una', 'lista'] y es de tipo:  <class 'list'>\n",
      "diccionario contiene:  {'uno': 1, 'dos': 2, 'tres': 3} y es de tipo:  <class 'dict'>\n"
     ]
    },
    {
     "data": {
      "text/plain": [
       "[tuple, list, dict]"
      ]
     },
     "execution_count": 7,
     "metadata": {},
     "output_type": "execute_result"
    }
   ],
   "source": [
    "tupla = (12, 34, 23)\n",
    "lista = [\"esto\", \"es\", \"una\", \"lista\"]\n",
    "diccionario = {\"uno\": 1, \"dos\": 2, \"tres\": 3}\n",
    "recibe_mix(tupla, lista, diccionario)"
   ]
  },
  {
   "cell_type": "code",
   "execution_count": 8,
   "id": "6986730d",
   "metadata": {},
   "outputs": [
    {
     "name": "stdout",
     "output_type": "stream",
     "text": [
      "tupla contiene:  1 y es de tipo:  <class 'int'>\n",
      "lista contiene:  hola y es de tipo:  <class 'str'>\n",
      "diccionario contiene:  True y es de tipo:  <class 'bool'>\n"
     ]
    },
    {
     "data": {
      "text/plain": [
       "[int, str, bool]"
      ]
     },
     "execution_count": 8,
     "metadata": {},
     "output_type": "execute_result"
    }
   ],
   "source": [
    "recibe_mix(1, \"hola\", True)"
   ]
  },
  {
   "cell_type": "markdown",
   "id": "1a2ab069",
   "metadata": {},
   "source": [
    "al no especificar el tipo de dato, se puede pasar cualquier tipo de dato a la función\n"
   ]
  },
  {
   "cell_type": "markdown",
   "id": "8cac37a9",
   "metadata": {},
   "source": [
    "* `errores` tipicos con funciones\n",
    "    - intentar acceder a un a variable de exterior de la función"
   ]
  },
  {
   "cell_type": "code",
   "execution_count": 15,
   "id": "5a40461d",
   "metadata": {},
   "outputs": [
    {
     "name": "stdout",
     "output_type": "stream",
     "text": [
      "124.0\n"
     ]
    },
    {
     "ename": "NameError",
     "evalue": "name 'millas' is not defined",
     "output_type": "error",
     "traceback": [
      "\u001b[31m---------------------------------------------------------------------------\u001b[39m",
      "\u001b[31mNameError\u001b[39m                                 Traceback (most recent call last)",
      "\u001b[36mCell\u001b[39m\u001b[36m \u001b[39m\u001b[32mIn[15]\u001b[39m\u001b[32m, line 6\u001b[39m\n\u001b[32m      3\u001b[39m     \u001b[38;5;28;01mreturn\u001b[39;00m millas\n\u001b[32m      5\u001b[39m \u001b[38;5;28mprint\u001b[39m(km_2_millas(\u001b[32m200\u001b[39m))\n\u001b[32m----> \u001b[39m\u001b[32m6\u001b[39m \u001b[38;5;28mprint\u001b[39m(\u001b[43mmillas\u001b[49m)\n",
      "\u001b[31mNameError\u001b[39m: name 'millas' is not defined"
     ]
    }
   ],
   "source": [
    "def km_2_millas(dist):\n",
    "    millas = round(dist * 0.62, 2)\n",
    "    return millas\n",
    "\n",
    "print(km_2_millas(200))\n",
    "print(millas)"
   ]
  },
  {
   "cell_type": "code",
   "execution_count": 17,
   "id": "1bd04c59",
   "metadata": {},
   "outputs": [
    {
     "data": {
      "text/plain": [
       "1"
      ]
     },
     "execution_count": 17,
     "metadata": {},
     "output_type": "execute_result"
    }
   ],
   "source": [
    "def numero_if(nr):\n",
    "    if nr == 1:\n",
    "        out = 1\n",
    "    return out\n",
    "\n",
    "numero_if(1)"
   ]
  },
  {
   "cell_type": "code",
   "execution_count": 18,
   "id": "635d3a6b",
   "metadata": {},
   "outputs": [
    {
     "ename": "UnboundLocalError",
     "evalue": "cannot access local variable 'out' where it is not associated with a value",
     "output_type": "error",
     "traceback": [
      "\u001b[31m---------------------------------------------------------------------------\u001b[39m",
      "\u001b[31mUnboundLocalError\u001b[39m                         Traceback (most recent call last)",
      "\u001b[36mCell\u001b[39m\u001b[36m \u001b[39m\u001b[32mIn[18]\u001b[39m\u001b[32m, line 1\u001b[39m\n\u001b[32m----> \u001b[39m\u001b[32m1\u001b[39m \u001b[43mnumero_if\u001b[49m\u001b[43m(\u001b[49m\u001b[32;43m2\u001b[39;49m\u001b[43m)\u001b[49m\n",
      "\u001b[36mCell\u001b[39m\u001b[36m \u001b[39m\u001b[32mIn[17]\u001b[39m\u001b[32m, line 4\u001b[39m, in \u001b[36mnumero_if\u001b[39m\u001b[34m(nr)\u001b[39m\n\u001b[32m      2\u001b[39m \u001b[38;5;28;01mif\u001b[39;00m nr == \u001b[32m1\u001b[39m:\n\u001b[32m      3\u001b[39m     out = \u001b[32m1\u001b[39m\n\u001b[32m----> \u001b[39m\u001b[32m4\u001b[39m \u001b[38;5;28;01mreturn\u001b[39;00m \u001b[43mout\u001b[49m\n",
      "\u001b[31mUnboundLocalError\u001b[39m: cannot access local variable 'out' where it is not associated with a value"
     ]
    }
   ],
   "source": [
    "numero_if(2)"
   ]
  },
  {
   "cell_type": "markdown",
   "id": "cd55d9d2",
   "metadata": {},
   "source": [
    "al intentar acceder al valor de _out_ que no está asignado en el marco de la llamada de la fct con 2"
   ]
  },
  {
   "cell_type": "markdown",
   "id": "22e0178d",
   "metadata": {},
   "source": [
    "* otro error: llamar fct sin args cuando este los espera"
   ]
  },
  {
   "cell_type": "code",
   "execution_count": 19,
   "id": "74b377f1",
   "metadata": {},
   "outputs": [
    {
     "ename": "TypeError",
     "evalue": "km_2_millas() missing 1 required positional argument: 'dist'",
     "output_type": "error",
     "traceback": [
      "\u001b[31m---------------------------------------------------------------------------\u001b[39m",
      "\u001b[31mTypeError\u001b[39m                                 Traceback (most recent call last)",
      "\u001b[36mCell\u001b[39m\u001b[36m \u001b[39m\u001b[32mIn[19]\u001b[39m\u001b[32m, line 1\u001b[39m\n\u001b[32m----> \u001b[39m\u001b[32m1\u001b[39m \u001b[43mkm_2_millas\u001b[49m\u001b[43m(\u001b[49m\u001b[43m)\u001b[49m\n",
      "\u001b[31mTypeError\u001b[39m: km_2_millas() missing 1 required positional argument: 'dist'"
     ]
    }
   ],
   "source": [
    "km_2_millas()"
   ]
  },
  {
   "cell_type": "markdown",
   "id": "0121336f",
   "metadata": {},
   "source": [
    "* sintaxis de linea : en fct e indentación"
   ]
  }
 ],
 "metadata": {
  "kernelspec": {
   "display_name": "Python 3",
   "language": "python",
   "name": "python3"
  },
  "language_info": {
   "codemirror_mode": {
    "name": "ipython",
    "version": 3
   },
   "file_extension": ".py",
   "mimetype": "text/x-python",
   "name": "python",
   "nbconvert_exporter": "python",
   "pygments_lexer": "ipython3",
   "version": "3.11.4"
  }
 },
 "nbformat": 4,
 "nbformat_minor": 5
}
