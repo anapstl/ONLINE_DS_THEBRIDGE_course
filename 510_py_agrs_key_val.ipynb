{
 "cells": [
  {
   "cell_type": "markdown",
   "id": "bc9d6f40",
   "metadata": {},
   "source": [
    "# Argumentos _key - value_"
   ]
  },
  {
   "cell_type": "markdown",
   "id": "fb81dbd9",
   "metadata": {},
   "source": [
    "URL:  \n",
    "    https://colab.research.google.com/drive/1JPn7SRt9do0WNFhQ3PpKamy_sMl_KbZf"
   ]
  },
  {
   "cell_type": "markdown",
   "id": "f657151a",
   "metadata": {},
   "source": [
    "## Contenidos\n",
    "\n",
    "* **kvargs\n",
    "* combinar *args con **kwargs\n",
    "* args keyword"
   ]
  },
  {
   "cell_type": "markdown",
   "id": "74dbbd92",
   "metadata": {},
   "source": [
    "`**kwargs`"
   ]
  },
  {
   "cell_type": "code",
   "execution_count": 1,
   "id": "3a823b4c",
   "metadata": {},
   "outputs": [
    {
     "name": "stdout",
     "output_type": "stream",
     "text": [
      "<class 'dict'>\n",
      "{'modelo': 'S20', 'marca': 'Samsung', 'precio': 800}\n"
     ]
    }
   ],
   "source": [
    "def insertar_movil_db(**key_value):\n",
    "    print(type(key_value))\n",
    "    print(key_value)\n",
    "\n",
    "insertar_movil_db(modelo=\"S20\", marca=\"Samsung\", precio=800)"
   ]
  },
  {
   "cell_type": "code",
   "execution_count": 2,
   "id": "ed37de03",
   "metadata": {},
   "outputs": [
    {
     "name": "stdout",
     "output_type": "stream",
     "text": [
      "modelo: S20\n",
      "marca: Samsung\n",
      "precio: 800\n"
     ]
    }
   ],
   "source": [
    "def insertar_movil_db(**kwargs):\n",
    "    \"\"\"\n",
    "    Inserta un nuevo móvil en la base de datos.\n",
    "    :param kwargs: Datos del móvil a insertar.\n",
    "    :return: None\n",
    "    \"\"\"\n",
    "    for key, value in kwargs.items():\n",
    "        # insertar(key, value)\n",
    "        print(f\"{key}: {value}\")\n",
    "\n",
    "insertar_movil_db(modelo=\"S20\", marca=\"Samsung\", precio=800)"
   ]
  },
  {
   "cell_type": "code",
   "execution_count": 3,
   "id": "8d4dda0a",
   "metadata": {},
   "outputs": [
    {
     "name": "stdout",
     "output_type": "stream",
     "text": [
      "modelo: S20\n",
      "marca: Samsung\n",
      "precio: 800\n",
      "flip: True\n"
     ]
    }
   ],
   "source": [
    "insertar_movil_db(modelo=\"S20\", marca=\"Samsung\", precio=800, flip=True)\n"
   ]
  },
  {
   "cell_type": "markdown",
   "id": "d37a14fb",
   "metadata": {},
   "source": [
    "* combinar *args y **kwargs"
   ]
  },
  {
   "cell_type": "code",
   "execution_count": 6,
   "id": "ad639f76",
   "metadata": {},
   "outputs": [
    {
     "name": "stdout",
     "output_type": "stream",
     "text": [
      "<class 'tuple'>\n",
      "('S20', 'Samsung', 800)\n",
      "<class 'dict'>\n",
      "{'modelo': 'S20', 'marca': 'Samsung', 'precio': 800, 'flip': True}\n",
      "S20\n",
      "Samsung\n",
      "800\n",
      "----\n",
      "modelo: S20\n",
      "marca: Samsung\n",
      "precio: 800\n",
      "flip: True\n"
     ]
    }
   ],
   "source": [
    "def insertar_movil_db(*args, **kwargs):\n",
    "    # args es de tipo tupla\n",
    "    # kwargs es de tipo diccionario\n",
    "    print(type(args))\n",
    "    print(args)\n",
    "    print(type(kwargs))\n",
    "    print(kwargs)\n",
    "    for i in args:\n",
    "        print(i)\n",
    "    print(\"----\")\n",
    "    for key, value in kwargs.items():\n",
    "        print(f\"{key}: {value}\")\n",
    "\n",
    "insertar_movil_db(\"S20\", \"Samsung\", 800, modelo=\"S20\",\\\n",
    "                  marca=\"Samsung\", precio=800, flip=True)\n",
    "    "
   ]
  },
  {
   "cell_type": "markdown",
   "id": "38032cb2",
   "metadata": {},
   "source": [
    "no se pueden invertir los _args_ y _kwargs_\n",
    "\n",
    "* argumentos `keyword`\n",
    "\n",
    "argumentos que tienen por defecto valor, si no usamos dicho arg en la llamada, dentro la función tomaráel valor que hayamos asignado por defecto\n",
    "\n",
    "`ojo`: se colocan al **final**"
   ]
  },
  {
   "cell_type": "code",
   "execution_count": 11,
   "id": "fca31b10",
   "metadata": {},
   "outputs": [
    {
     "name": "stdout",
     "output_type": "stream",
     "text": [
      "3\n",
      "3.14\n",
      "3.1416\n"
     ]
    }
   ],
   "source": [
    "print(round(3.14159))\n",
    "print(round(3.14159, 2))\n",
    "print(round(3.14159, ndigits=4))"
   ]
  },
  {
   "cell_type": "code",
   "execution_count": 14,
   "id": "daefb6fe",
   "metadata": {},
   "outputs": [
    {
     "name": "stdout",
     "output_type": "stream",
     "text": [
      "Su pedido de 123456 se entregara el 2023-10-01\n",
      "Incidencia en el pedido 123456 del 2023-10-01. Pongase en contacto con el servicio de atención al cliente.\n"
     ]
    }
   ],
   "source": [
    "def pdo_online(pedido, fecha, incidencia = False):\n",
    "    if incidencia:\n",
    "        print(f\"Incidencia en el pedido {pedido} del {fecha}. Pongase en contacto con el servicio de atención al cliente.\")\n",
    "    else:\n",
    "        print(f\"Su pedido de {pedido} se entregara el {fecha}\")\n",
    "\n",
    "pdo_online(\"123456\", \"2023-10-01\")\n",
    "pdo_online(\"123456\", \"2023-10-01\", True)\n",
    "\n",
    "\n"
   ]
  },
  {
   "cell_type": "markdown",
   "id": "94765687",
   "metadata": {},
   "source": [
    "### Errores con args `keyword`"
   ]
  },
  {
   "cell_type": "code",
   "execution_count": null,
   "id": "0d34e866",
   "metadata": {},
   "outputs": [],
   "source": [
    "def pdo_online(pedido, incidencia=False, fecha):\n",
    "    if incidencia:\n",
    "        print(f\"Incidencia en el pedido {pedido}. Pongase en contacto con el servicio de atención al cliente.\")\n",
    "    else:\n",
    "        if fecha is None:\n",
    "            print(f\"Su pedido de {pedido} se entregara en 24 horas\")\n",
    "        else:\n",
    "            print(f\"Su pedido de {pedido} se entregara el {fecha}\")"
   ]
  }
 ],
 "metadata": {
  "kernelspec": {
   "display_name": "Python 3",
   "language": "python",
   "name": "python3"
  },
  "language_info": {
   "codemirror_mode": {
    "name": "ipython",
    "version": 3
   },
   "file_extension": ".py",
   "mimetype": "text/x-python",
   "name": "python",
   "nbconvert_exporter": "python",
   "pygments_lexer": "ipython3",
   "version": "3.11.4"
  }
 },
 "nbformat": 4,
 "nbformat_minor": 5
}
