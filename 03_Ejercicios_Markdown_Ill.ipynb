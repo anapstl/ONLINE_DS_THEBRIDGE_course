{
 "cells": [
  {
   "cell_type": "markdown",
   "id": "59ec229f",
   "metadata": {
    "id": "59ec229f"
   },
   "source": [
    "<img src=\"./img/TheBridge_logo_RGB_color.jpg\" width = 500>"
   ]
  },
  {
   "cell_type": "markdown",
   "id": "6c57499c-b446-4ada-938e-88f4f98a428a",
   "metadata": {
    "id": "59ec229f"
   },
   "source": [
    "<img src=\"./img/logo.png\" width = 500>"
   ]
  },
  {
   "cell_type": "markdown",
   "id": "30a2c01b",
   "metadata": {
    "id": "30a2c01b"
   },
   "source": [
    "# EJERCICIOS MARKDOWN (I)"
   ]
  },
  {
   "cell_type": "markdown",
   "id": "e165fb0c",
   "metadata": {
    "id": "e165fb0c"
   },
   "source": [
    "Aquí tienes cinco sencillos ejercicios para practicar lo aprendido en la primera sesión de Markdown. Utiliza las celdas que hay debajo dec cada enunciado y recuerda convertirlas a Markdown primero ;-)"
   ]
  },
  {
   "cell_type": "markdown",
   "id": "5f74096f",
   "metadata": {
    "id": "5f74096f"
   },
   "source": [
    "### Ejercicio 1: Cabeceras\n",
    "Crea las siguientes cabeceras:\n",
    "\n",
    "1. Una cabecera de nivel 1 con el texto \"Ciencia de Datos\".\n",
    "2. Una cabecera de nivel 2 con el texto \"Introducción\".\n",
    "3. Una cabecera de nivel 3 con el texto \"Herramientas\"."
   ]
  },
  {
   "cell_type": "markdown",
   "id": "rrDvHrYAhg2s",
   "metadata": {
    "id": "rrDvHrYAhg2s"
   },
   "source": [
    "#Ciencia de Datos\n",
    "##Introducción\n",
    "###Herramientas"
   ]
  },
  {
   "cell_type": "markdown",
   "id": "45b0b14d-f815-4f51-8d9c-fe72845dd530",
   "metadata": {},
   "source": [
    "***\n",
    "Ana  \n",
    "Al estar pegados los *hashtags* obtenemos una fila, no el resultado deseado - encabezados"
   ]
  },
  {
   "cell_type": "markdown",
   "id": "Tz7mEOQChtuD",
   "metadata": {
    "id": "Tz7mEOQChtuD"
   },
   "source": [
    "# Ciencia de datos\n",
    "## Introducción\n",
    "### Herramientas"
   ]
  },
  {
   "cell_type": "markdown",
   "id": "2L3KMpIK-rLZ",
   "metadata": {
    "id": "2L3KMpIK-rLZ"
   },
   "source": [
    "# Ciencia de Datos  \n",
    "## Introducción  \n",
    "### Herramientas\n"
   ]
  },
  {
   "cell_type": "markdown",
   "id": "93404a60-0835-4b29-82ed-59faea5f8d2d",
   "metadata": {},
   "source": [
    "***\n",
    "Ana  \n",
    "La diferencia radica en el uso saltos de línea en el primero versus uso de espacios dobles en el segundo. Aunque, visualmente no veamos diferencia, ya que los encabezados lo generan de forma automática"
   ]
  },
  {
   "cell_type": "markdown",
   "id": "4b636168",
   "metadata": {
    "id": "4b636168"
   },
   "source": [
    "### Ejercicio 2: Estilos de texto\n",
    "Escribe una frase que contenga las siguientes características:\n",
    "\n",
    "1. La palabra \"Markdown\" en negritas.\n",
    "2. La palabra \"Jupyter\" en cursivas.\n",
    "3. La palabra \"Python\" en negritas y cursivas."
   ]
  },
  {
   "cell_type": "markdown",
   "id": "z1oHZHg1AFw2",
   "metadata": {
    "id": "z1oHZHg1AFw2"
   },
   "source": [
    "**Markdown**  \n",
    "*Jupiter*  \n",
    "***Python en negrita y cursivas***"
   ]
  },
  {
   "cell_type": "markdown",
   "id": "6FSx3eHTh_-f",
   "metadata": {
    "id": "6FSx3eHTh_-f"
   },
   "source": [
    "**Markdown**  \n",
    "*Jupiter*  \n",
    "***Python***\n"
   ]
  },
  {
   "cell_type": "markdown",
   "id": "WC77bWSMiBJs",
   "metadata": {
    "id": "WC77bWSMiBJs"
   },
   "source": [
    "**Markdown**  \n",
    "*Jupiter*  \n",
    "***Python en negrita y cursivas***"
   ]
  },
  {
   "cell_type": "markdown",
   "id": "63dcc416-2ba7-4403-8a56-4109edcabf6a",
   "metadata": {},
   "source": [
    "---\n",
    "Ana  \n",
    "* Si estamos hablando de **formato** las tres soluciones valen\n",
    "* Aspectos a corregir:\n",
    "  + *typo* Jupiter\n",
    "  + la tercera línea en caso 1 y 3 contiene más que la palabra \"Python\" "
   ]
  },
  {
   "cell_type": "markdown",
   "id": "61fd2979",
   "metadata": {
    "id": "61fd2979"
   },
   "source": [
    "### Ejercicio 3: Resaltados y HTML\n",
    "Crea una línea que contenga:\n",
    "\n",
    "1. La palabra \"resaltado\" con un fondo amarillo usando Markdown.\n",
    "2. La palabra \"color\" en azul usando HTML.\n",
    "\n",
    "Para este ejercicio tendrás que buscar un poco más en internet, venga que tú puedes."
   ]
  },
  {
   "cell_type": "markdown",
   "id": "27ke332TiP_8",
   "metadata": {
    "id": "27ke332TiP_8"
   },
   "source": [
    "`resaltado`  \n",
    "<mark>resaltado</mark>  \n",
    "<font color=\"blue\"> color </font>"
   ]
  },
  {
   "cell_type": "markdown",
   "id": "qYUeWCWUBwdQ",
   "metadata": {
    "id": "qYUeWCWUBwdQ"
   },
   "source": [
    "==resaltado==  \n",
    "<mark>resaltado</mark>    \n",
    "<font color=\"blue\"> color </font>"
   ]
  },
  {
   "cell_type": "markdown",
   "id": "QZ9D_R3BBst_",
   "metadata": {
    "id": "QZ9D_R3BBst_"
   },
   "source": [
    "<mark>resaltado</mark>  \n",
    "<font color=\"blue\"> color </font>"
   ]
  },
  {
   "cell_type": "markdown",
   "id": "1b8cbe44-8cb8-480c-9c5d-bea0fe00674e",
   "metadata": {},
   "source": [
    "---\n",
    "Ana  \n",
    "* Entiendo que en las dos primeras soluciones nos sobraría la primera línea dado que se repite y mal (resaltado gris, ====)\n",
    "* La última cumpliría como formsato pero entiendo que se pide **una línea** que contenga las dos palabras"
   ]
  },
  {
   "cell_type": "markdown",
   "id": "21de4f5a-09ab-464f-a5fb-1c374371e44a",
   "metadata": {},
   "source": [
    "<mark>resaltado</mark> \n",
    "<font color=\"blue\"> color </font>"
   ]
  },
  {
   "cell_type": "markdown",
   "id": "a91386ca",
   "metadata": {
    "id": "a91386ca"
   },
   "source": [
    "### Ejercicio 4: Citas\n",
    "Incluye la siguiente cita:\n",
    "\n",
    "> La Ciencia de Datos es el petróleo del siglo XXI.\n",
    "\n",
    "En uno y dos niveles de cita"
   ]
  },
  {
   "cell_type": "markdown",
   "id": "FOvZIAc-jFY5",
   "metadata": {
    "id": "FOvZIAc-jFY5"
   },
   "source": [
    ">La Ciencia de datos es el petróleo del siglo XXI\n",
    ">>La Ciencia de Datos es el petróleo del siglo XXI"
   ]
  },
  {
   "cell_type": "markdown",
   "id": "9bQxt2RASgaM",
   "metadata": {
    "id": "9bQxt2RASgaM"
   },
   "source": [
    ">La Ciencia de Datos es el petróleo del siglo XXI.  \n",
    ">>La Ciencia de Datos es el petróleo del siglo XXI."
   ]
  },
  {
   "cell_type": "markdown",
   "id": "rBXm6YJzjixS",
   "metadata": {
    "id": "rBXm6YJzjixS"
   },
   "source": [
    ">La Ciencia de Datos es el petróleo del siglo XXI.\n",
    ">>La Ciencia de Datos es el petróleo del siglo XXI."
   ]
  },
  {
   "cell_type": "markdown",
   "id": "81af9d48-4ea8-400e-8df7-1cc7a6bb6b20",
   "metadata": {},
   "source": [
    "***\n",
    "Ana  \n",
    "* En la 1a propuesta tenemos un _typo_ datos vs. Datos, y faltan puntos de final\n",
    "* 2a vs 3a: visualmente se obtiene el mismo resultado; la única diferencia que detecto son los dos espacios tras la 1a cita, aunque vemos que no son indispensables."
   ]
  },
  {
   "cell_type": "markdown",
   "id": "35f0595a",
   "metadata": {
    "id": "35f0595a"
   },
   "source": [
    "### Ejercicio 5: Combinando todo\n",
    "Crea un texto que combine lo siguiente:\n",
    "\n",
    "1. Una cabecera de nivel 2 con el texto \"Curso de Markdown\".\n",
    "2. Una frase que contenga la palabra \"importante\" en negritas.\n",
    "3. Una cita que diga: \"Aprender es crecer\".\n",
    "4. La palabra \"ejemplo\" en cursivas y con un fondo verde usando HTML.\n",
    "\n",
    "Nota: Si no has sido capaz de encontrar como dar color de fondo usando HTML quizás <span style=\"background-color:green\">*tienes que buscar más cerca de ti*</span>\n"
   ]
  },
  {
   "cell_type": "markdown",
   "id": "wkiS1XOvjWzY",
   "metadata": {
    "id": "wkiS1XOvjWzY"
   },
   "source": [
    "## Curso de Markdown  \n",
    "Es muy **importante**  \n",
    ">Aprender es crecer    \n",
    "\n",
    "<font color=\"green\"> *ejemplo* </font>\n"
   ]
  },
  {
   "cell_type": "markdown",
   "id": "FCwBZdCxkLmA",
   "metadata": {
    "id": "FCwBZdCxkLmA"
   },
   "source": [
    "## Curso de Markdown\n",
    "**Importante**\n",
    ">Aprender es crecer     \n",
    "\n",
    "<font color=\"green\"> *ejemplo* </font>"
   ]
  },
  {
   "cell_type": "markdown",
   "id": "UHDyn53LS2qM",
   "metadata": {
    "id": "UHDyn53LS2qM"
   },
   "source": [
    "## Curso de Markdown  \n",
    "Es un lenguaje de marcado ligero muy **importante** para conseguir la máxima legibilidad y facilidad de publicación.  \n",
    ">Aprender es crecer  \n",
    "\n",
    "Este BootCamp de DataScience es un <mark>_ejemplo_</mark>"
   ]
  },
  {
   "cell_type": "markdown",
   "id": "db17a2ba-c0a4-48c5-b1cf-e7c9490c6b47",
   "metadata": {},
   "source": [
    "Ana  \n",
    "* Las primeras dos propuestas no cumplen: <font color=\"green\"> *ejemplo* </font>\n",
    "* El tercero cerca pero el color de fondo es amarillo:  <mark>_ejemplo_</mark>\n",
    "***"
   ]
  },
  {
   "cell_type": "markdown",
   "id": "c28918a6-2aa3-4fdd-8c32-b704c2cf19a6",
   "metadata": {},
   "source": [
    "* solución con *`mark`*\n",
    "## Curso de Markdown\n",
    "Es muy **importante** este curso para redactar informes.\n",
    "> Aprender es crecer.\n",
    "\n",
    "<mark style=\"background-color: #008000; color: white;\">_ejemplo_</mark>\n"
   ]
  },
  {
   "cell_type": "markdown",
   "id": "dadce998-e097-4bfd-81ba-239e899abc33",
   "metadata": {},
   "source": [
    "* solución con *`span`*\n",
    "## Curso de Markdown\n",
    "Es muy **importante** este curso para redactar informes.\n",
    "> Aprender es crecer.\n",
    "\n",
    "<span style=\"background-color:green\">*ejemplo*</span>"
   ]
  }
 ],
 "metadata": {
  "colab": {
   "provenance": []
  },
  "kernelspec": {
   "display_name": "Python 3 (ipykernel)",
   "language": "python",
   "name": "python3"
  },
  "language_info": {
   "codemirror_mode": {
    "name": "ipython",
    "version": 3
   },
   "file_extension": ".py",
   "mimetype": "text/x-python",
   "name": "python",
   "nbconvert_exporter": "python",
   "pygments_lexer": "ipython3",
   "version": "3.13.2"
  }
 },
 "nbformat": 4,
 "nbformat_minor": 5
}
