{
 "cells": [
  {
   "cell_type": "markdown",
   "id": "dd13986e-d238-4565-ab50-eefd5d03eddf",
   "metadata": {},
   "source": [
    "# Markdown (II)"
   ]
  },
  {
   "cell_type": "markdown",
   "id": "d03d2ec0-8238-49e9-9415-6925b4f41bd9",
   "metadata": {},
   "source": [
    "## 6. Saltos de línea"
   ]
  },
  {
   "cell_type": "markdown",
   "id": "367cb217-7bee-4226-82a4-fe014c9130a9",
   "metadata": {},
   "source": [
    "\"En lugar de la Mancha\"  \n",
    "\"Veinte años después\""
   ]
  },
  {
   "cell_type": "code",
   "execution_count": 2,
   "id": "5834238d-71ab-4c42-bea3-7317bd04e8ef",
   "metadata": {},
   "outputs": [],
   "source": [
    "# dos espacios al final de línea para hacer salto de línea"
   ]
  },
  {
   "cell_type": "markdown",
   "id": "d9f0e2f3-dce5-49b8-8307-99e15337c2ff",
   "metadata": {},
   "source": [
    "## 7. Listas"
   ]
  },
  {
   "cell_type": "markdown",
   "id": "c8d1dfce-75d0-4612-aa00-3a66b6785e9c",
   "metadata": {},
   "source": [
    "Ordenadas o sin"
   ]
  },
  {
   "cell_type": "markdown",
   "id": "2c8a41ea-d43a-4e47-8e3b-a3adc2e37e74",
   "metadata": {},
   "source": [
    "1. Primer elemento\n",
    "2. Segundo elemnto"
   ]
  },
  {
   "cell_type": "markdown",
   "id": "ef239518-1861-4a40-ba55-9977bad35960",
   "metadata": {},
   "source": [
    "* Elemento 1\n",
    "* Elemento 2\n",
    "- Elemento 3\n",
    "+ Elemento 4"
   ]
  },
  {
   "cell_type": "code",
   "execution_count": 3,
   "id": "a30fce47-e474-4d66-a95e-244343aca9aa",
   "metadata": {},
   "outputs": [],
   "source": [
    "# ojo se pueden meter -/+ para marcar menos o mas espacio en la lista "
   ]
  },
  {
   "cell_type": "markdown",
   "id": "92dc9550-b0cf-436d-adff-d892088626a6",
   "metadata": {},
   "source": [
    "## 8. src Python"
   ]
  },
  {
   "cell_type": "markdown",
   "id": "aee7e60b-ccf4-4f18-9209-c1009966e39c",
   "metadata": {},
   "source": [
    "```Python\n",
    "variable = \"esto es una variable\"\n",
    "```"
   ]
  },
  {
   "cell_type": "markdown",
   "id": "0729e493-dc25-4775-8d85-301488b980c9",
   "metadata": {},
   "source": [
    "## 9. Líneas de separacion"
   ]
  },
  {
   "cell_type": "code",
   "execution_count": null,
   "id": "3d29bd7a-9fb2-4596-9be0-6d738e15c42d",
   "metadata": {},
   "outputs": [],
   "source": [
    "# *** / ---"
   ]
  },
  {
   "cell_type": "markdown",
   "id": "cf2f4844-eb67-4f19-8478-1fe8e7e3a117",
   "metadata": {},
   "source": [
    "***"
   ]
  },
  {
   "cell_type": "markdown",
   "id": "4f58cfc1-4ffe-44aa-a6e5-9ddc33edd0ef",
   "metadata": {},
   "source": [
    "---"
   ]
  },
  {
   "cell_type": "markdown",
   "id": "1b3756c4-b4d2-4e74-8d34-075f598c966d",
   "metadata": {},
   "source": [
    "## 10. Links y enlaces"
   ]
  },
  {
   "cell_type": "markdown",
   "id": "646d42ed-cc59-4882-b4be-e04eedc8f502",
   "metadata": {},
   "source": [
    "Para crear enlaces se usa la sintaxis `[texto_enlace](link)`\n",
    "\n",
    "[enlace a Google](www.google.com)"
   ]
  },
  {
   "cell_type": "markdown",
   "id": "79a0061d-9420-447d-b005-6f8b882b7a7e",
   "metadata": {},
   "source": [
    "para uso frecuente se puede definir un enlace que lo abrevie como se ve\n",
    "\n",
    "[un_enlace][mi_web]\n",
    "\n",
    "[mi_web]:www.google.es\n",
    "\n",
    "Links a secciones: [enlace a sección](#6.-Saltos-de-línea)\n",
    "\n",
    "[enlace a principio](#-Markdown-(II))"
   ]
  },
  {
   "cell_type": "markdown",
   "id": "4c83e2f9-9d12-46c9-b654-148ec8160540",
   "metadata": {},
   "source": [
    "## 11. Imágenes"
   ]
  },
  {
   "cell_type": "markdown",
   "id": "50a3d688-cc2d-47b8-beeb-62c107e19661",
   "metadata": {},
   "source": [
    "usamos la sintaxis:`![nombre cualquiera](ruta de la img)`"
   ]
  },
  {
   "cell_type": "markdown",
   "id": "b441ff13-0464-40cd-9d65-f0469143eb53",
   "metadata": {},
   "source": [
    "![baby fiona](./img/IMG_0169.JPG)"
   ]
  },
  {
   "cell_type": "markdown",
   "id": "45a6cd44-f493-430c-8a4d-8164d446e556",
   "metadata": {},
   "source": [
    "![peonias](./IMG_0608.JPG)"
   ]
  },
  {
   "cell_type": "markdown",
   "id": "2f1ef078-1474-4025-9315-d76d96ef9ff4",
   "metadata": {},
   "source": [
    "controlar tamaño con etiqueta HTML\n",
    "\n",
    "<img src=\"./img/IMG_0169.JPG\" width=\"58\" height=\"56\"/>"
   ]
  },
  {
   "cell_type": "markdown",
   "id": "9c52ff7e-7444-4fef-83d2-f65d021d449c",
   "metadata": {},
   "source": [
    "## 12. Documentación"
   ]
  },
  {
   "cell_type": "markdown",
   "id": "a1b338e0-7e2c-423d-9aa9-6ea41800e1ea",
   "metadata": {},
   "source": [
    "https://colab.research.google.com/drive/1RWy1VAOmtAUj5-XmmDBoO7_ASyPb7grI"
   ]
  }
 ],
 "metadata": {
  "kernelspec": {
   "display_name": "Python 3 (ipykernel)",
   "language": "python",
   "name": "python3"
  },
  "language_info": {
   "codemirror_mode": {
    "name": "ipython",
    "version": 3
   },
   "file_extension": ".py",
   "mimetype": "text/x-python",
   "name": "python",
   "nbconvert_exporter": "python",
   "pygments_lexer": "ipython3",
   "version": "3.13.2"
  }
 },
 "nbformat": 4,
 "nbformat_minor": 5
}
