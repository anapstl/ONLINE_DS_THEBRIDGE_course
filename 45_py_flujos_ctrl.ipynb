{
 "cells": [
  {
   "cell_type": "markdown",
   "id": "2e48f4c9-e434-453c-8faf-204a3949a5af",
   "metadata": {},
   "source": [
    "# Flujos de Ctrl\n",
    "\n",
    "URL: https://colab.research.google.com/drive/1XnAHoFXTUNljiEa3-sHMXRF7Hgu8HY95"
   ]
  },
  {
   "cell_type": "markdown",
   "id": "01472960-68e0-4d65-89fe-63890c43ff57",
   "metadata": {},
   "source": [
    "1. Sintaxis de línea\n",
    "2. if/elif/else\n",
    "3. for\n",
    "4. while\n",
    "5. break/continue\n",
    "6. try/except\n",
    "7. Resumen"
   ]
  },
  {
   "cell_type": "markdown",
   "id": "91460520-7b9e-4454-b1ec-279a48f5b6d9",
   "metadata": {},
   "source": [
    "## Sintaxis de línea\n",
    "\n",
    "`:`, `indentación`"
   ]
  },
  {
   "cell_type": "code",
   "execution_count": 1,
   "id": "ba155302-876e-4246-abf6-789b3e4a73cf",
   "metadata": {},
   "outputs": [
    {
     "name": "stdout",
     "output_type": "stream",
     "text": [
      "Suspenso\n",
      "finaliza ejecución\n"
     ]
    }
   ],
   "source": [
    "nota = 3\n",
    "\n",
    "if nota >= 5:\n",
    "    print(\"Aprobado\")\n",
    "else:\n",
    "    print(\"Suspenso\")\n",
    "print(\"finaliza ejecución\")"
   ]
  },
  {
   "cell_type": "markdown",
   "id": "a4a5ba16-2c9b-4c7e-a919-d6a61ac2500b",
   "metadata": {},
   "source": [
    "## Errores\n",
    "\n",
    "- Indentation error"
   ]
  },
  {
   "cell_type": "code",
   "execution_count": 3,
   "id": "565c6ae5-9e54-48ce-abcb-01bbca042f36",
   "metadata": {},
   "outputs": [
    {
     "name": "stdout",
     "output_type": "stream",
     "text": [
      "Iteración for\n",
      "El numero  4 es un entero\n",
      "Iteración for\n",
      "Iteración for\n",
      "El numero  9 es un entero\n",
      "Iteración for\n",
      "finaliza ejecución\n"
     ]
    }
   ],
   "source": [
    "nr = [4, 6.0, 9, 3.0]\n",
    "for n in nr:\n",
    "    print(\"Iteración for\")\n",
    "    if type(n) == int:\n",
    "        print(\"El numero \", n, \"es un entero\")\n",
    "print(\"finaliza ejecución\")"
   ]
  },
  {
   "cell_type": "markdown",
   "id": "cf0f7a7e-ab54-437e-bbc5-dbdb7c764af9",
   "metadata": {},
   "source": [
    "## if/elif/else\n",
    "\n",
    "todos los ifs se ejecutan secuencialmente"
   ]
  },
  {
   "cell_type": "code",
   "execution_count": 14,
   "id": "dd978a04-63cf-4642-b915-32948941fde5",
   "metadata": {},
   "outputs": [
    {
     "name": "stdout",
     "output_type": "stream",
     "text": [
      "True\n",
      "end\n"
     ]
    }
   ],
   "source": [
    "if 3 != 1:\n",
    "    print(3 != 1)\n",
    "else:\n",
    "    print(3 != 1)\n",
    "print(\"end\")\n",
    "    "
   ]
  },
  {
   "cell_type": "code",
   "execution_count": 15,
   "id": "a3762436-0a86-4cbf-b393-e816015511dc",
   "metadata": {},
   "outputs": [
    {
     "name": "stdout",
     "output_type": "stream",
     "text": [
      "Aprobado\n"
     ]
    }
   ],
   "source": [
    "mi_nota = 6\n",
    "\n",
    "if mi_nota < 5:\n",
    "    print(\"a septiembre\")\n",
    "elif mi_nota > 10:\n",
    "    print(\"Error. es hasta 10\")\n",
    "elif mi_nota == 3:                    # condición que nunca se va dar ya que en la 1a cond si descarta < 5 => print()\n",
    "    print(\"tu nota es un 3\")\n",
    "else:\n",
    "    print(\"Aprobado\")"
   ]
  },
  {
   "cell_type": "code",
   "execution_count": 16,
   "id": "504d648f-b43e-48ee-817c-fc15c639a050",
   "metadata": {},
   "outputs": [
    {
     "name": "stdout",
     "output_type": "stream",
     "text": [
      "Perro\n"
     ]
    }
   ],
   "source": [
    "pico = False\n",
    "alas = False\n",
    "sonido = \"Ladrar\"\n",
    "patas = 4\n",
    "\n",
    "if pico or alas:\n",
    "    # True or false = True\n",
    "    print(\"Ave\")\n",
    "elif patas == 4 and sonido == 'Ladrar':\n",
    "    print(\"Perro\")\n",
    "else:\n",
    "    print(\"otro animal\")\n",
    "    "
   ]
  },
  {
   "cell_type": "markdown",
   "id": "b6bd5242-c7b0-4e9f-91fe-fdba2f843f98",
   "metadata": {},
   "source": [
    "## match case\n",
    "\n",
    "a partir de Python 3.10"
   ]
  },
  {
   "cell_type": "code",
   "execution_count": null,
   "id": "052a2c00-1a31-472e-8bfd-7a3bede88896",
   "metadata": {},
   "outputs": [
    {
     "name": "stdout",
     "output_type": "stream",
     "text": [
      "Ingrese un día de la semana: viernes\n"
     ]
    },
    {
     "name": "stdout",
     "output_type": "stream",
     "text": [
      "La tarea para {} es: {} viernes ver peli\n"
     ]
    }
   ],
   "source": [
    "day = input(\"Ingrese un día de la semana:\")\n",
    "\n",
    "# usando match case\n",
    "match day.lower():\n",
    "    case 'lunes':\n",
    "        task = 'hacer la compra'\n",
    "    case 'martes':\n",
    "        task = 'ir al gym'\n",
    "    case 'miercoles':\n",
    "        task = 'estudiar'\n",
    "    case 'jueves':\n",
    "        task = 'llamar a fifi'\n",
    "    case 'viernes':\n",
    "        task = 'ver peli'\n",
    "    case 'sábado':\n",
    "        task = 'socializar'\n",
    "    case 'domingo':\n",
    "        task = 'relax'\n",
    "    case _:\n",
    "        task = day + ', día no válido'\n",
    "# Using .format() verbose but works in all python 3 versions\n",
    "print(\"La tarea para {} es: {}\".format(day, task))\n",
    "\n",
    "# Using f-string concise but requieres python 3.6+\n",
    "# print(f\"La tarea para {day} es: {task}\")"
   ]
  },
  {
   "cell_type": "markdown",
   "id": "54016802-5a35-48f4-b08a-2284e526f6bf",
   "metadata": {},
   "source": [
    "## FOR\n"
   ]
  },
  {
   "cell_type": "code",
   "execution_count": 26,
   "id": "3011363c-5068-4544-9847-cecb13e4fd73",
   "metadata": {},
   "outputs": [
    {
     "name": "stdout",
     "output_type": "stream",
     "text": [
      "3\n",
      "6\n",
      "9\n",
      "10\n"
     ]
    }
   ],
   "source": [
    "notas = [3, 6, 9, 10]\n",
    "\n",
    "for nota in notas:\n",
    "    print(nota)"
   ]
  },
  {
   "cell_type": "code",
   "execution_count": 27,
   "id": "d844087a-668a-412c-be3e-b23080180b77",
   "metadata": {},
   "outputs": [
    {
     "name": "stdout",
     "output_type": "stream",
     "text": [
      "3\n",
      "6\n",
      "9\n",
      "10\n"
     ]
    }
   ],
   "source": [
    "for i in range(len(notas)):\n",
    "    print(notas[i])"
   ]
  },
  {
   "cell_type": "code",
   "execution_count": 34,
   "id": "bcfb4790-4410-4145-9533-9fb69e277160",
   "metadata": {},
   "outputs": [
    {
     "name": "stdout",
     "output_type": "stream",
     "text": [
      "Suspenso con 3\n",
      "Aprobado con 6\n",
      "Aprobado con 9\n",
      "Aprobado con 10\n"
     ]
    }
   ],
   "source": [
    "for nota in notas:\n",
    "    print(\"Aprobado con \" + str(nota) if nota >= 5 else \"Suspenso con \" + str(nota))"
   ]
  },
  {
   "cell_type": "code",
   "execution_count": 35,
   "id": "d9308db9-7391-445e-8991-a6c16b68957d",
   "metadata": {},
   "outputs": [
    {
     "name": "stdout",
     "output_type": "stream",
     "text": [
      "P\n",
      "y\n",
      "t\n",
      "h\n",
      "o\n",
      "n\n"
     ]
    }
   ],
   "source": [
    "for letra in \"Python\":\n",
    "    print(letra)"
   ]
  },
  {
   "cell_type": "code",
   "execution_count": 46,
   "id": "53138a01-5b7e-4e7c-91ef-fb242dcdeac2",
   "metadata": {},
   "outputs": [
    {
     "name": "stdout",
     "output_type": "stream",
     "text": [
      "lunes\n",
      "l\n",
      "u\n",
      "n\n",
      "e\n",
      "s\n",
      "----------------------------------------------------------------------\n",
      "martes\n",
      "m\n",
      "a\n",
      "r\n",
      "t\n",
      "e\n",
      "s\n",
      "----------------------------------------------------------------------\n",
      "miércoles\n",
      "m\n",
      "i\n",
      "é\n",
      "r\n",
      "c\n",
      "o\n",
      "l\n",
      "e\n",
      "s\n",
      "----------------------------------------------------------------------\n",
      "jueves\n",
      "j\n",
      "u\n",
      "e\n",
      "v\n",
      "e\n",
      "s\n",
      "----------------------------------------------------------------------\n",
      "viernes\n",
      "v\n",
      "i\n",
      "e\n",
      "r\n",
      "n\n",
      "e\n",
      "s\n",
      "----------------------------------------------------------------------\n",
      "sábado\n",
      "s\n",
      "á\n",
      "b\n",
      "a\n",
      "d\n",
      "o\n",
      "----------------------------------------------------------------------\n",
      "domingo\n",
      "d\n",
      "o\n",
      "m\n",
      "i\n",
      "n\n",
      "g\n",
      "o\n",
      "----------------------------------------------------------------------\n"
     ]
    }
   ],
   "source": [
    "# Lista con los días de la semana\n",
    "dias_semana = ['lunes', 'martes', 'miércoles', 'jueves', 'viernes', \\\n",
    "               'sábado', 'domingo']\n",
    "\n",
    "# Imprimir la lista\n",
    "for dia in dias_semana:\n",
    "    print(dia)\n",
    "    for letra in dia:\n",
    "        print(letra)\n",
    "    print(\"-\"*70)"
   ]
  },
  {
   "cell_type": "code",
   "execution_count": 48,
   "id": "7844135c-0965-40f8-9024-644fde44de8a",
   "metadata": {},
   "outputs": [
    {
     "data": {
      "text/plain": [
       "0"
      ]
     },
     "execution_count": 48,
     "metadata": {},
     "output_type": "execute_result"
    }
   ],
   "source": [
    "import time\n",
    "\n",
    "notas_clase = [4, 5, 7]\n",
    "entregas = [False, True, True]\n",
    "\n",
    "nota = 4\n",
    "notas_clase.index(nota)"
   ]
  },
  {
   "cell_type": "code",
   "execution_count": 50,
   "id": "38108f4d-94ee-4671-8680-fe26ae96760d",
   "metadata": {},
   "outputs": [
    {
     "data": {
      "text/plain": [
       "False"
      ]
     },
     "execution_count": 50,
     "metadata": {},
     "output_type": "execute_result"
    }
   ],
   "source": [
    "entregas[notas_clase.index(nota)]"
   ]
  },
  {
   "cell_type": "code",
   "execution_count": 51,
   "id": "aaf06700-bd83-4506-90fd-5ed99f77de57",
   "metadata": {},
   "outputs": [
    {
     "name": "stdout",
     "output_type": "stream",
     "text": [
      "Iterando con la nota:  4\n",
      "cargando la siguiente nota\n",
      "Iterando con la nota:  5\n",
      "cargando la siguiente nota\n",
      "Iterando con la nota:  7\n",
      "cargando la siguiente nota\n",
      "[3, 6, 8]\n"
     ]
    }
   ],
   "source": [
    "notas_clase = [4, 5, 7]\n",
    "notas_clase_actualizada = []\n",
    "entregas = [False, True, True]\n",
    "\n",
    "for nota in notas_clase:\n",
    "    print('Iterando con la nota: ', nota)\n",
    "    if entregas[notas_clase.index(nota)]:\n",
    "        notas_clase_actualizada.append(nota + 1)\n",
    "    else:\n",
    "        notas_clase_actualizada.append(nota - 1)\n",
    "    print('cargando la siguiente nota')\n",
    "\n",
    "print(notas_clase_actualizada)"
   ]
  },
  {
   "cell_type": "code",
   "execution_count": 52,
   "id": "cb78258b-203e-423e-9333-2b9bbfe11cd7",
   "metadata": {},
   "outputs": [
    {
     "data": {
      "text/plain": [
       "[1, 2, 3]"
      ]
     },
     "execution_count": 52,
     "metadata": {},
     "output_type": "execute_result"
    }
   ],
   "source": [
    "list(range(1,4))"
   ]
  },
  {
   "cell_type": "code",
   "execution_count": 53,
   "id": "a190b93f-a684-46f7-84b1-ad384cef1d52",
   "metadata": {},
   "outputs": [
    {
     "name": "stdout",
     "output_type": "stream",
     "text": [
      "Coordenada: 1, 1\n",
      "Coordenada: 1, 2\n",
      "Coordenada: 1, 3\n",
      "Coordenada: 2, 1\n",
      "Coordenada: 2, 2\n",
      "casilla central\n",
      "Coordenada: 2, 3\n",
      "Coordenada: 3, 1\n",
      "Coordenada: 3, 2\n",
      "Coordenada: 3, 3\n"
     ]
    }
   ],
   "source": [
    "# Tablero 3 en raya\n",
    "for i in range(1, 4):\n",
    "    for j in range(1,4):\n",
    "        print(f\"Coordenada: {i}, {j}\")\n",
    "        # time.sleep(2)\n",
    "        if i == 2 and j == 2:\n",
    "            print('casilla central')"
   ]
  },
  {
   "cell_type": "markdown",
   "id": "3660fad1-93fb-455d-a16a-ac9039fe60dc",
   "metadata": {},
   "source": [
    "## Range"
   ]
  },
  {
   "cell_type": "code",
   "execution_count": 54,
   "id": "79a3d073-04dc-4093-8e19-2a1fc90ae055",
   "metadata": {},
   "outputs": [
    {
     "data": {
      "text/plain": [
       "[1, 2, 3, 4, 5]"
      ]
     },
     "execution_count": 54,
     "metadata": {},
     "output_type": "execute_result"
    }
   ],
   "source": [
    "list(range(1,6))"
   ]
  },
  {
   "cell_type": "code",
   "execution_count": 55,
   "id": "4cc882a4-af5c-4608-9c20-97e9d57450e5",
   "metadata": {},
   "outputs": [
    {
     "data": {
      "text/plain": [
       "[0, 1, 2, 3, 4, 5]"
      ]
     },
     "execution_count": 55,
     "metadata": {},
     "output_type": "execute_result"
    }
   ],
   "source": [
    "list(range(6))"
   ]
  },
  {
   "cell_type": "code",
   "execution_count": 56,
   "id": "d703bd7a-e514-4dcb-8870-4e9ebdf3d4ef",
   "metadata": {},
   "outputs": [
    {
     "data": {
      "text/plain": [
       "[0, 1, 2, 3, 4, 5]"
      ]
     },
     "execution_count": 56,
     "metadata": {},
     "output_type": "execute_result"
    }
   ],
   "source": [
    "list(range(0, 6, 1))"
   ]
  },
  {
   "cell_type": "code",
   "execution_count": 57,
   "id": "a1ee0de1-9917-4d9b-9873-afa74c460408",
   "metadata": {},
   "outputs": [
    {
     "data": {
      "text/plain": [
       "[0, 2, 4]"
      ]
     },
     "execution_count": 57,
     "metadata": {},
     "output_type": "execute_result"
    }
   ],
   "source": [
    "list(range(0, 6, 2))"
   ]
  },
  {
   "cell_type": "code",
   "execution_count": 58,
   "id": "bce6fcf0-35ba-4f3a-9af6-ef98a3733970",
   "metadata": {},
   "outputs": [
    {
     "data": {
      "text/plain": [
       "[2, 3, 4, 5]"
      ]
     },
     "execution_count": 58,
     "metadata": {},
     "output_type": "execute_result"
    }
   ],
   "source": [
    "list(range(2, 6, 1))"
   ]
  },
  {
   "cell_type": "code",
   "execution_count": 59,
   "id": "b4453ed4-2d2b-41e8-8c70-4930a1233973",
   "metadata": {},
   "outputs": [
    {
     "data": {
      "text/plain": [
       "[10, 8, 6, 4, 2, 0]"
      ]
     },
     "execution_count": 59,
     "metadata": {},
     "output_type": "execute_result"
    }
   ],
   "source": [
    "list(range(10, -1, -2))"
   ]
  },
  {
   "cell_type": "code",
   "execution_count": 60,
   "id": "13a1d264-7705-4f02-808e-523c00a0f3f4",
   "metadata": {},
   "outputs": [
    {
     "data": {
      "text/plain": [
       "[0, 1, 2]"
      ]
     },
     "execution_count": 60,
     "metadata": {},
     "output_type": "execute_result"
    }
   ],
   "source": [
    "list(range(3))"
   ]
  },
  {
   "cell_type": "code",
   "execution_count": 61,
   "id": "a51558f6-f864-4d4a-82e0-f1ab3ebb05d9",
   "metadata": {},
   "outputs": [
    {
     "data": {
      "text/plain": [
       "[0, 1, 2]"
      ]
     },
     "execution_count": 61,
     "metadata": {},
     "output_type": "execute_result"
    }
   ],
   "source": [
    "colores = ['azul', 'blanco', 'rosa']\n",
    "list(range(len(colores)))"
   ]
  },
  {
   "cell_type": "code",
   "execution_count": 62,
   "id": "3fc2a2f1-45bf-4f3e-8be6-424b619eae73",
   "metadata": {},
   "outputs": [
    {
     "name": "stdout",
     "output_type": "stream",
     "text": [
      "azul\n",
      "blanco\n",
      "rosa\n"
     ]
    }
   ],
   "source": [
    "for color in colores:\n",
    "    print(color)"
   ]
  },
  {
   "cell_type": "code",
   "execution_count": 65,
   "id": "3611a7f7-f199-4867-97d0-2aa34c4e2e37",
   "metadata": {},
   "outputs": [
    {
     "name": "stdout",
     "output_type": "stream",
     "text": [
      "0 azul\n",
      "1 blanco\n",
      "2 rosa\n"
     ]
    }
   ],
   "source": [
    "for i in list(range(len(colores))):\n",
    "    print(i, colores[i])"
   ]
  },
  {
   "cell_type": "code",
   "execution_count": 64,
   "id": "c2206b31-15c1-484b-9865-c3eed6675fb1",
   "metadata": {},
   "outputs": [
    {
     "data": {
      "text/plain": [
       "'rosa'"
      ]
     },
     "execution_count": 64,
     "metadata": {},
     "output_type": "execute_result"
    }
   ],
   "source": [
    "colores[2]"
   ]
  },
  {
   "cell_type": "markdown",
   "id": "f51fdb33-cb7a-4358-850f-fefc3ab0ba3e",
   "metadata": {},
   "source": [
    "## Enumerate\n",
    "\n",
    "devuelve tanto el elemeto como su indice"
   ]
  },
  {
   "cell_type": "code",
   "execution_count": 66,
   "id": "6b12e2f7-b47d-4589-96d0-b1aad1e4dbff",
   "metadata": {},
   "outputs": [
    {
     "data": {
      "text/plain": [
       "[(0, 'pedro'), (1, 'rosa'), (2, 'pablo'), (3, 'imanol')]"
      ]
     },
     "execution_count": 66,
     "metadata": {},
     "output_type": "execute_result"
    }
   ],
   "source": [
    "names = ['pedro','rosa','pablo','imanol']\n",
    "list(enumerate(names))"
   ]
  },
  {
   "cell_type": "code",
   "execution_count": 67,
   "id": "ea449bbe-3039-4f99-a7b6-84d81b9cdd6c",
   "metadata": {},
   "outputs": [
    {
     "name": "stdout",
     "output_type": "stream",
     "text": [
      "nombre 0: pedro\n",
      "nombre 1: rosa\n",
      "nombre 2: pablo\n",
      "nombre 3: imanol\n"
     ]
    }
   ],
   "source": [
    "for i, name in enumerate(names):\n",
    "    print(f'nombre {i}: {name}')"
   ]
  },
  {
   "cell_type": "markdown",
   "id": "0059bd43-3e06-480a-9bfa-96ba2ea3ea47",
   "metadata": {},
   "source": [
    "## Errores en los rangos"
   ]
  },
  {
   "cell_type": "code",
   "execution_count": 68,
   "id": "3e108d3b-d786-4397-be47-d246aa8abd01",
   "metadata": {},
   "outputs": [
    {
     "ename": "IndexError",
     "evalue": "list index out of range",
     "output_type": "error",
     "traceback": [
      "\u001b[31m---------------------------------------------------------------------------\u001b[39m",
      "\u001b[31mIndexError\u001b[39m                                Traceback (most recent call last)",
      "\u001b[36mCell\u001b[39m\u001b[36m \u001b[39m\u001b[32mIn[68]\u001b[39m\u001b[32m, line 2\u001b[39m\n\u001b[32m      1\u001b[39m \u001b[38;5;66;03m# index error\u001b[39;00m\n\u001b[32m----> \u001b[39m\u001b[32m2\u001b[39m \u001b[43mnames\u001b[49m\u001b[43m[\u001b[49m\u001b[32;43m4\u001b[39;49m\u001b[43m]\u001b[49m\n",
      "\u001b[31mIndexError\u001b[39m: list index out of range"
     ]
    }
   ],
   "source": [
    "# index error\n",
    "names[4]"
   ]
  },
  {
   "cell_type": "code",
   "execution_count": 70,
   "id": "4a0f39d7-a04d-4e0d-be9b-bf8949f95a9b",
   "metadata": {},
   "outputs": [
    {
     "name": "stdout",
     "output_type": "stream",
     "text": [
      "0 pedro\n",
      "1 rosa\n",
      "2 pablo\n",
      "3 imanol\n"
     ]
    },
    {
     "ename": "IndexError",
     "evalue": "list index out of range",
     "output_type": "error",
     "traceback": [
      "\u001b[31m---------------------------------------------------------------------------\u001b[39m",
      "\u001b[31mIndexError\u001b[39m                                Traceback (most recent call last)",
      "\u001b[36mCell\u001b[39m\u001b[36m \u001b[39m\u001b[32mIn[70]\u001b[39m\u001b[32m, line 2\u001b[39m\n\u001b[32m      1\u001b[39m \u001b[38;5;28;01mfor\u001b[39;00m i \u001b[38;5;129;01min\u001b[39;00m \u001b[38;5;28mrange\u001b[39m(\u001b[32m5\u001b[39m):\n\u001b[32m----> \u001b[39m\u001b[32m2\u001b[39m     \u001b[38;5;28mprint\u001b[39m(i, \u001b[43mnames\u001b[49m\u001b[43m[\u001b[49m\u001b[43mi\u001b[49m\u001b[43m]\u001b[49m)\n",
      "\u001b[31mIndexError\u001b[39m: list index out of range"
     ]
    }
   ],
   "source": [
    "for i in range(5):\n",
    "    print(i, names[i])"
   ]
  },
  {
   "cell_type": "markdown",
   "id": "534081a4-c929-4aa2-a134-e027fa99e9bf",
   "metadata": {},
   "source": [
    "## While\n",
    "\n",
    "while condicion:  \n",
    "        - exec code"
   ]
  },
  {
   "cell_type": "code",
   "execution_count": 71,
   "id": "a6e48f3b-5363-4794-87aa-84cfc6134eba",
   "metadata": {},
   "outputs": [
    {
     "name": "stdout",
     "output_type": "stream",
     "text": [
      "0\n",
      "1\n",
      "2\n",
      "3\n",
      "4\n",
      "5\n",
      "fin de programa\n"
     ]
    }
   ],
   "source": [
    "i = 0\n",
    "\n",
    "while i < 5:\n",
    "    print(i)\n",
    "    i += 1\n",
    "    time.sleep(1)\n",
    "\n",
    "print(i)\n",
    "print('fin de programa')"
   ]
  },
  {
   "cell_type": "code",
   "execution_count": 72,
   "id": "054c0d23-90f1-43b6-b540-0baf0f3d7c88",
   "metadata": {},
   "outputs": [
    {
     "name": "stdout",
     "output_type": "stream",
     "text": [
      "0\n",
      "0\n",
      "0\n",
      "0\n",
      "0\n",
      "0\n",
      "0\n",
      "0\n",
      "0\n",
      "0\n",
      "0\n",
      "0\n",
      "0\n",
      "0\n",
      "0\n"
     ]
    },
    {
     "ename": "KeyboardInterrupt",
     "evalue": "",
     "output_type": "error",
     "traceback": [
      "\u001b[31m---------------------------------------------------------------------------\u001b[39m",
      "\u001b[31mKeyboardInterrupt\u001b[39m                         Traceback (most recent call last)",
      "\u001b[36mCell\u001b[39m\u001b[36m \u001b[39m\u001b[32mIn[72]\u001b[39m\u001b[32m, line 6\u001b[39m\n\u001b[32m      4\u001b[39m     \u001b[38;5;28mprint\u001b[39m(i)\n\u001b[32m      5\u001b[39m     \u001b[38;5;66;03m# i += 1\u001b[39;00m\n\u001b[32m----> \u001b[39m\u001b[32m6\u001b[39m     \u001b[43mtime\u001b[49m\u001b[43m.\u001b[49m\u001b[43msleep\u001b[49m\u001b[43m(\u001b[49m\u001b[32;43m1\u001b[39;49m\u001b[43m)\u001b[49m\n\u001b[32m      8\u001b[39m \u001b[38;5;28mprint\u001b[39m(i)\n\u001b[32m      9\u001b[39m \u001b[38;5;28mprint\u001b[39m(\u001b[33m'\u001b[39m\u001b[33mfin de programa\u001b[39m\u001b[33m'\u001b[39m)\n",
      "\u001b[31mKeyboardInterrupt\u001b[39m: "
     ]
    }
   ],
   "source": [
    "i = 0\n",
    "\n",
    "while i < 5:\n",
    "    print(i)\n",
    "    # i += 1\n",
    "    time.sleep(1)\n",
    "\n",
    "print(i)\n",
    "print('fin de programa')"
   ]
  },
  {
   "cell_type": "code",
   "execution_count": null,
   "id": "a5130e6c-29ed-41e1-8e67-bd34d6397e32",
   "metadata": {},
   "outputs": [],
   "source": [
    "# mediante while calculating cuantas veces deberiamos doblar un folio de papel\n",
    "# para alcanzar un grosor de 5m dado que el folio mide 1mm"
   ]
  },
  {
   "cell_type": "code",
   "execution_count": 74,
   "id": "984322cd-0314-4114-b6eb-ff79fb160502",
   "metadata": {},
   "outputs": [
    {
     "name": "stdout",
     "output_type": "stream",
     "text": [
      "grosor 2\n",
      "dobles 1\n",
      "grosor 4\n",
      "dobles 2\n",
      "grosor 8\n",
      "dobles 3\n",
      "grosor 16\n",
      "dobles 4\n",
      "grosor 32\n",
      "dobles 5\n",
      "grosor 64\n",
      "dobles 6\n",
      "grosor 128\n",
      "dobles 7\n",
      "grosor 256\n",
      "dobles 8\n",
      "grosor 512\n",
      "dobles 9\n",
      "grosor 1024\n",
      "dobles 10\n",
      "grosor 2048\n",
      "dobles 11\n",
      "grosor 4096\n",
      "dobles 12\n",
      "grosor 8192\n",
      "dobles 13\n",
      "Terminado, el n veces que hemos doblado el folio ha sido 13 y el grosor total es de 8192\n"
     ]
    }
   ],
   "source": [
    "grosor = 1\n",
    "dobles = 0\n",
    "\n",
    "while grosor < 5000:\n",
    "    grosor *= 2\n",
    "    dobles += 1\n",
    "    print('grosor', grosor)\n",
    "    print('dobles', dobles)\n",
    "    time.sleep(1)\n",
    "print(f'Terminado, el n veces que hemos doblado el folio ha sido {dobles} y el grosor total es de {grosor}')"
   ]
  },
  {
   "cell_type": "markdown",
   "id": "4e2cb259-0cb5-4314-ae0a-299d3d24ac08",
   "metadata": {},
   "source": [
    "## Break/ continue"
   ]
  },
  {
   "cell_type": "code",
   "execution_count": 76,
   "id": "8a1be835-23b1-42d9-884a-c1a6c8afa7cb",
   "metadata": {},
   "outputs": [
    {
     "name": "stdout",
     "output_type": "stream",
     "text": [
      "1\n",
      "2\n",
      "3\n"
     ]
    }
   ],
   "source": [
    "for i in [1, 2, 3, 4,]:\n",
    "    print(i)\n",
    "    if i > 2:\n",
    "        break"
   ]
  },
  {
   "cell_type": "code",
   "execution_count": 77,
   "id": "e4ec06a3-ae1f-4ec2-9f3d-0ec1717bb27e",
   "metadata": {},
   "outputs": [
    {
     "name": "stdout",
     "output_type": "stream",
     "text": [
      "s\n",
      "t\n",
      "r\n"
     ]
    }
   ],
   "source": [
    "for val in 'string':\n",
    "    if val == 'i':\n",
    "        break\n",
    "    print(val)"
   ]
  },
  {
   "cell_type": "code",
   "execution_count": 79,
   "id": "f33c58b1-7266-4d82-bd05-7e5b04b129d1",
   "metadata": {},
   "outputs": [
    {
     "name": "stdout",
     "output_type": "stream",
     "text": [
      "s\n",
      "t\n",
      "r\n",
      "n\n",
      "g\n"
     ]
    }
   ],
   "source": [
    "for val in 'string':\n",
    "    if val == 'i':\n",
    "        continue\n",
    "        print('hola')\n",
    "\n",
    "    print(val)"
   ]
  },
  {
   "cell_type": "markdown",
   "id": "a2e47152-d051-499a-9a46-bb4b9d296551",
   "metadata": {},
   "source": [
    "## Try/except"
   ]
  },
  {
   "cell_type": "code",
   "execution_count": 83,
   "id": "987c845b-e16f-47a2-9067-3e7f49fcbe5a",
   "metadata": {},
   "outputs": [
    {
     "name": "stdout",
     "output_type": "stream",
     "text": [
      "el código tiene error\n",
      "sigue el flujo del código\n"
     ]
    }
   ],
   "source": [
    "try:\n",
    "    print(variable)\n",
    "except:\n",
    "    print('el código tiene error')\n",
    "\n",
    "print('sigue el flujo del código')"
   ]
  },
  {
   "cell_type": "code",
   "execution_count": 87,
   "id": "02a4fd09-a559-49e1-a7d0-0782c85c46cf",
   "metadata": {},
   "outputs": [
    {
     "name": "stdout",
     "output_type": "stream",
     "text": [
      "error: list index out of range\n",
      "suma y sigue\n",
      "hola mundo\n"
     ]
    }
   ],
   "source": [
    "lista = [1, 2, 3, 4]\n",
    "\n",
    "try:\n",
    "    print(lista[4])\n",
    "except Exception as e:\n",
    "    print('error:', e)\n",
    "    print('suma y sigue')\n",
    "print('hola mundo')"
   ]
  },
  {
   "cell_type": "markdown",
   "id": "1896b119-ee49-411c-82dd-090f20356a79",
   "metadata": {},
   "source": [
    "## Resumen"
   ]
  },
  {
   "cell_type": "code",
   "execution_count": 88,
   "id": "69be4366-88ec-430d-91c9-85d1288adc53",
   "metadata": {},
   "outputs": [
    {
     "name": "stdout",
     "output_type": "stream",
     "text": [
      "Notable\n",
      "Lunes\n",
      "Martes\n",
      "Miércoles\n",
      "Jueves\n",
      "Viernes\n",
      "Sábado\n",
      "Domingo\n",
      "0\n",
      "1\n",
      "2\n",
      "3\n",
      "4\n",
      "s\n",
      "t\n",
      "r\n",
      "Fin\n",
      "El codigo tiene errores porque la variable 'variable_' no existe\n",
      "Continuo con el programa\n"
     ]
    }
   ],
   "source": [
    "# If/elif/else\n",
    "mi_nota_de_examen = 7\n",
    "\n",
    "if mi_nota_de_examen < 5 :\n",
    "    print(\"A septiembre :(\")\n",
    "\n",
    "elif mi_nota_de_examen < 6 :\n",
    "    print(\"Suficiente\")\n",
    "\n",
    "elif mi_nota_de_examen < 7 :\n",
    "    print(\"Bien\")\n",
    "\n",
    "elif mi_nota_de_examen < 9 :\n",
    "    print(\"Notable\")\n",
    "\n",
    "else:\n",
    "    print(\"Sobresaliente\")\n",
    "\n",
    "\n",
    "# Bucle for\n",
    "dias_semana = [\"Lunes\", \"Martes\", \"Miércoles\", \"Jueves\", \"Viernes\", \"Sábado\", \"Domingo\"]\n",
    "\n",
    "for dia in dias_semana:\n",
    "    print(dia)\n",
    "\n",
    "\n",
    "# Bucle while\n",
    "i = 0\n",
    "\n",
    "while(i < 5):\n",
    "    print(i)\n",
    "    i = i + 1\n",
    "\n",
    "\n",
    "# Break y continue\n",
    "for val in \"string\":\n",
    "    if val == \"i\":\n",
    "        break\n",
    "    print(val)\n",
    "\n",
    "print(\"Fin\")\n",
    "\n",
    "\n",
    "# Try/except\n",
    "try:\n",
    "  print(variable_)\n",
    "except:\n",
    "  print(\"El codigo tiene errores porque la variable 'variable_' no existe\")\n",
    "\n",
    "print(\"Continuo con el programa\")"
   ]
  },
  {
   "cell_type": "code",
   "execution_count": null,
   "id": "cdfa54c3-8bad-410b-a154-6275f3e0b1c9",
   "metadata": {},
   "outputs": [],
   "source": []
  }
 ],
 "metadata": {
  "kernelspec": {
   "display_name": "Python 3 (ipykernel)",
   "language": "python",
   "name": "python3"
  },
  "language_info": {
   "codemirror_mode": {
    "name": "ipython",
    "version": 3
   },
   "file_extension": ".py",
   "mimetype": "text/x-python",
   "name": "python",
   "nbconvert_exporter": "python",
   "pygments_lexer": "ipython3",
   "version": "3.13.2"
  }
 },
 "nbformat": 4,
 "nbformat_minor": 5
}
