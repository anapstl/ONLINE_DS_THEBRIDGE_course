{
 "cells": [
  {
   "attachments": {},
   "cell_type": "markdown",
   "metadata": {},
   "source": [
    "### Importa los datos\n",
    "Dataset con diferentes fármacos, sus efectos y ratings de los clientes.\n",
    "\n",
    "Importa el dataset *drugLibTrain_raw.tsv*"
   ]
  },
  {
   "cell_type": "code",
   "execution_count": 3,
   "metadata": {},
   "outputs": [
    {
     "data": {
      "text/html": [
       "<div>\n",
       "<style scoped>\n",
       "    .dataframe tbody tr th:only-of-type {\n",
       "        vertical-align: middle;\n",
       "    }\n",
       "\n",
       "    .dataframe tbody tr th {\n",
       "        vertical-align: top;\n",
       "    }\n",
       "\n",
       "    .dataframe thead th {\n",
       "        text-align: right;\n",
       "    }\n",
       "</style>\n",
       "<table border=\"1\" class=\"dataframe\">\n",
       "  <thead>\n",
       "    <tr style=\"text-align: right;\">\n",
       "      <th></th>\n",
       "      <th>urlDrugName</th>\n",
       "      <th>rating</th>\n",
       "      <th>effectiveness</th>\n",
       "      <th>sideEffects</th>\n",
       "      <th>condition</th>\n",
       "      <th>benefitsReview</th>\n",
       "      <th>sideEffectsReview</th>\n",
       "      <th>commentsReview</th>\n",
       "    </tr>\n",
       "  </thead>\n",
       "  <tbody>\n",
       "    <tr>\n",
       "      <th>1366</th>\n",
       "      <td>biaxin</td>\n",
       "      <td>9</td>\n",
       "      <td>Considerably Effective</td>\n",
       "      <td>Mild Side Effects</td>\n",
       "      <td>sinus infection</td>\n",
       "      <td>The antibiotic may have destroyed bacteria cau...</td>\n",
       "      <td>Some back pain, some nauseau.</td>\n",
       "      <td>Took the antibiotics for 14 days. Sinus infect...</td>\n",
       "    </tr>\n",
       "    <tr>\n",
       "      <th>3724</th>\n",
       "      <td>lamictal</td>\n",
       "      <td>9</td>\n",
       "      <td>Highly Effective</td>\n",
       "      <td>Mild Side Effects</td>\n",
       "      <td>bipolar disorder</td>\n",
       "      <td>Lamictal stabilized my serious mood swings. On...</td>\n",
       "      <td>Drowsiness, a bit of mental numbness. If you t...</td>\n",
       "      <td>Severe mood swings between hypomania and depre...</td>\n",
       "    </tr>\n",
       "    <tr>\n",
       "      <th>3824</th>\n",
       "      <td>depakene</td>\n",
       "      <td>4</td>\n",
       "      <td>Moderately Effective</td>\n",
       "      <td>Severe Side Effects</td>\n",
       "      <td>bipolar disorder</td>\n",
       "      <td>Initial benefits were comparable to the brand ...</td>\n",
       "      <td>Depakene has a very thin coating, which caused...</td>\n",
       "      <td>Depakote was prescribed to me by a Kaiser psyc...</td>\n",
       "    </tr>\n",
       "    <tr>\n",
       "      <th>969</th>\n",
       "      <td>sarafem</td>\n",
       "      <td>10</td>\n",
       "      <td>Highly Effective</td>\n",
       "      <td>No Side Effects</td>\n",
       "      <td>bi-polar / anxiety</td>\n",
       "      <td>It controlls my mood swings. It helps me think...</td>\n",
       "      <td>I didnt really notice any side effects.</td>\n",
       "      <td>This drug may not be for everyone but its wond...</td>\n",
       "    </tr>\n",
       "    <tr>\n",
       "      <th>696</th>\n",
       "      <td>accutane</td>\n",
       "      <td>10</td>\n",
       "      <td>Highly Effective</td>\n",
       "      <td>Mild Side Effects</td>\n",
       "      <td>nodular acne</td>\n",
       "      <td>Within one week of treatment superficial acne ...</td>\n",
       "      <td>Side effects included moderate to severe dry s...</td>\n",
       "      <td>Drug was taken in gelatin tablet at 0.5 mg per...</td>\n",
       "    </tr>\n",
       "  </tbody>\n",
       "</table>\n",
       "</div>"
      ],
      "text/plain": [
       "     urlDrugName  rating           effectiveness          sideEffects  \\\n",
       "1366      biaxin       9  Considerably Effective    Mild Side Effects   \n",
       "3724    lamictal       9        Highly Effective    Mild Side Effects   \n",
       "3824    depakene       4    Moderately Effective  Severe Side Effects   \n",
       "969      sarafem      10        Highly Effective      No Side Effects   \n",
       "696     accutane      10        Highly Effective    Mild Side Effects   \n",
       "\n",
       "               condition                                     benefitsReview  \\\n",
       "1366     sinus infection  The antibiotic may have destroyed bacteria cau...   \n",
       "3724    bipolar disorder  Lamictal stabilized my serious mood swings. On...   \n",
       "3824    bipolar disorder  Initial benefits were comparable to the brand ...   \n",
       "969   bi-polar / anxiety  It controlls my mood swings. It helps me think...   \n",
       "696         nodular acne  Within one week of treatment superficial acne ...   \n",
       "\n",
       "                                      sideEffectsReview  \\\n",
       "1366                      Some back pain, some nauseau.   \n",
       "3724  Drowsiness, a bit of mental numbness. If you t...   \n",
       "3824  Depakene has a very thin coating, which caused...   \n",
       "969             I didnt really notice any side effects.   \n",
       "696   Side effects included moderate to severe dry s...   \n",
       "\n",
       "                                         commentsReview  \n",
       "1366  Took the antibiotics for 14 days. Sinus infect...  \n",
       "3724  Severe mood swings between hypomania and depre...  \n",
       "3824  Depakote was prescribed to me by a Kaiser psyc...  \n",
       "969   This drug may not be for everyone but its wond...  \n",
       "696   Drug was taken in gelatin tablet at 0.5 mg per...  "
      ]
     },
     "execution_count": 3,
     "metadata": {},
     "output_type": "execute_result"
    }
   ],
   "source": [
    "import pandas as pd\n",
    "import numpy as np\n",
    "\n",
    "df = pd.read_csv('drugLibTest_raw.tsv', sep='\\t', header=0, index_col=0);\n",
    "df.head()\n"
   ]
  },
  {
   "cell_type": "code",
   "execution_count": 6,
   "metadata": {},
   "outputs": [
    {
     "data": {
      "text/html": [
       "<div>\n",
       "<style scoped>\n",
       "    .dataframe tbody tr th:only-of-type {\n",
       "        vertical-align: middle;\n",
       "    }\n",
       "\n",
       "    .dataframe tbody tr th {\n",
       "        vertical-align: top;\n",
       "    }\n",
       "\n",
       "    .dataframe thead th {\n",
       "        text-align: right;\n",
       "    }\n",
       "</style>\n",
       "<table border=\"1\" class=\"dataframe\">\n",
       "  <thead>\n",
       "    <tr style=\"text-align: right;\">\n",
       "      <th></th>\n",
       "      <th>urlDrugName</th>\n",
       "      <th>rating</th>\n",
       "      <th>effectiveness</th>\n",
       "      <th>sideEffects</th>\n",
       "      <th>condition</th>\n",
       "      <th>benefitsReview</th>\n",
       "      <th>sideEffectsReview</th>\n",
       "      <th>commentsReview</th>\n",
       "    </tr>\n",
       "  </thead>\n",
       "  <tbody>\n",
       "    <tr>\n",
       "      <th>690</th>\n",
       "      <td>accutane</td>\n",
       "      <td>7</td>\n",
       "      <td>Considerably Effective</td>\n",
       "      <td>Severe Side Effects</td>\n",
       "      <td>acne vulgaris</td>\n",
       "      <td>Detoxing effect by pushing out the system thro...</td>\n",
       "      <td>Hairloss, extreme dry skin, itchiness, raises ...</td>\n",
       "      <td>Treatment period is 3 months/12 weeks. Dosage ...</td>\n",
       "    </tr>\n",
       "    <tr>\n",
       "      <th>1071</th>\n",
       "      <td>proair-hfa</td>\n",
       "      <td>10</td>\n",
       "      <td>Highly Effective</td>\n",
       "      <td>No Side Effects</td>\n",
       "      <td>asthma</td>\n",
       "      <td>The albuterol relieved the constriction, irrit...</td>\n",
       "      <td>I have experienced no side effects.</td>\n",
       "      <td>I use the albuterol as needed because of aller...</td>\n",
       "    </tr>\n",
       "    <tr>\n",
       "      <th>681</th>\n",
       "      <td>accutane</td>\n",
       "      <td>8</td>\n",
       "      <td>Considerably Effective</td>\n",
       "      <td>Moderate Side Effects</td>\n",
       "      <td>serve acne</td>\n",
       "      <td>Serve Acne has turned to middle</td>\n",
       "      <td>Painfull muscles, problems with seeing at night</td>\n",
       "      <td>This drug is highly teratogenic ,females must ...</td>\n",
       "    </tr>\n",
       "    <tr>\n",
       "      <th>2709</th>\n",
       "      <td>divigel</td>\n",
       "      <td>10</td>\n",
       "      <td>Highly Effective</td>\n",
       "      <td>No Side Effects</td>\n",
       "      <td>menopause</td>\n",
       "      <td>My overall mood, sense of well being, energy l...</td>\n",
       "      <td>No side effects of any kind were noted or appa...</td>\n",
       "      <td>Divigel is a topically applied Bio-Identical H...</td>\n",
       "    </tr>\n",
       "    <tr>\n",
       "      <th>729</th>\n",
       "      <td>claripel-cream</td>\n",
       "      <td>8</td>\n",
       "      <td>Considerably Effective</td>\n",
       "      <td>Mild Side Effects</td>\n",
       "      <td>acne scarring &amp; hyperpigmentation</td>\n",
       "      <td>Up until 2 years ago, it worked really well on...</td>\n",
       "      <td>Have stopped using it and have also learned th...</td>\n",
       "      <td>Stopped using it for the time being.</td>\n",
       "    </tr>\n",
       "  </tbody>\n",
       "</table>\n",
       "</div>"
      ],
      "text/plain": [
       "         urlDrugName  rating           effectiveness            sideEffects  \\\n",
       "690         accutane       7  Considerably Effective    Severe Side Effects   \n",
       "1071      proair-hfa      10        Highly Effective        No Side Effects   \n",
       "681         accutane       8  Considerably Effective  Moderate Side Effects   \n",
       "2709         divigel      10        Highly Effective        No Side Effects   \n",
       "729   claripel-cream       8  Considerably Effective      Mild Side Effects   \n",
       "\n",
       "                              condition  \\\n",
       "690                       acne vulgaris   \n",
       "1071                             asthma   \n",
       "681                          serve acne   \n",
       "2709                          menopause   \n",
       "729   acne scarring & hyperpigmentation   \n",
       "\n",
       "                                         benefitsReview  \\\n",
       "690   Detoxing effect by pushing out the system thro...   \n",
       "1071  The albuterol relieved the constriction, irrit...   \n",
       "681                     Serve Acne has turned to middle   \n",
       "2709  My overall mood, sense of well being, energy l...   \n",
       "729   Up until 2 years ago, it worked really well on...   \n",
       "\n",
       "                                      sideEffectsReview  \\\n",
       "690   Hairloss, extreme dry skin, itchiness, raises ...   \n",
       "1071                I have experienced no side effects.   \n",
       "681     Painfull muscles, problems with seeing at night   \n",
       "2709  No side effects of any kind were noted or appa...   \n",
       "729   Have stopped using it and have also learned th...   \n",
       "\n",
       "                                         commentsReview  \n",
       "690   Treatment period is 3 months/12 weeks. Dosage ...  \n",
       "1071  I use the albuterol as needed because of aller...  \n",
       "681   This drug is highly teratogenic ,females must ...  \n",
       "2709  Divigel is a topically applied Bio-Identical H...  \n",
       "729                Stopped using it for the time being.  "
      ]
     },
     "execution_count": 6,
     "metadata": {},
     "output_type": "execute_result"
    }
   ],
   "source": [
    "df.tail()"
   ]
  },
  {
   "attachments": {},
   "cell_type": "markdown",
   "metadata": {
    "colab_type": "text",
    "id": "OhaWDPt-8ZlT"
   },
   "source": [
    "### Descriptive Analysis"
   ]
  },
  {
   "attachments": {},
   "cell_type": "markdown",
   "metadata": {},
   "source": [
    "Quedate únicamente con las columnas que podamos manejar: Columnas numéricas y columnas categóricas con pocas categorías (menos de 10)"
   ]
  },
  {
   "cell_type": "code",
   "execution_count": null,
   "metadata": {},
   "outputs": [
    {
     "name": "stdout",
     "output_type": "stream",
     "text": [
      "<class 'pandas.core.frame.DataFrame'>\n",
      "Index: 1036 entries, 1366 to 729\n",
      "Data columns (total 8 columns):\n",
      " #   Column             Non-Null Count  Dtype \n",
      "---  ------             --------------  ----- \n",
      " 0   urlDrugName        1036 non-null   object\n",
      " 1   rating             1036 non-null   int64 \n",
      " 2   effectiveness      1036 non-null   object\n",
      " 3   sideEffects        1036 non-null   object\n",
      " 4   condition          1036 non-null   object\n",
      " 5   benefitsReview     1031 non-null   object\n",
      " 6   sideEffectsReview  1013 non-null   object\n",
      " 7   commentsReview     1035 non-null   object\n",
      "dtypes: int64(1), object(7)\n",
      "memory usage: 72.8+ KB\n"
     ]
    }
   ],
   "source": [
    "df.info()"
   ]
  },
  {
   "cell_type": "code",
   "execution_count": 5,
   "metadata": {},
   "outputs": [
    {
     "data": {
      "text/plain": [
       "urlDrugName           314\n",
       "rating                 10\n",
       "effectiveness           5\n",
       "sideEffects             5\n",
       "condition             566\n",
       "benefitsReview       1022\n",
       "sideEffectsReview     967\n",
       "commentsReview       1029\n",
       "dtype: int64"
      ]
     },
     "execution_count": 5,
     "metadata": {},
     "output_type": "execute_result"
    }
   ],
   "source": [
    "df.nunique()"
   ]
  },
  {
   "cell_type": "code",
   "execution_count": 11,
   "metadata": {},
   "outputs": [
    {
     "data": {
      "image/png": "[encoded data removed]",
      "text/plain": [
       "<Figure size 640x480 with 1 Axes>"
      ]
     },
     "metadata": {},
     "output_type": "display_data"
    }
   ],
   "source": [
    "import seaborn as sns\n",
    "import matplotlib.pyplot as plt\n",
    "\n",
    "sns.histplot(df[\"rating\"], kde= True);"
   ]
  },
  {
   "cell_type": "code",
   "execution_count": 13,
   "metadata": {},
   "outputs": [
    {
     "data": {
      "image/png": "[encoded data removed]",
      "text/plain": [
       "<Figure size 640x480 with 1 Axes>"
      ]
     },
     "metadata": {},
     "output_type": "display_data"
    }
   ],
   "source": [
    "plt.xticks(rotation=30);\n",
    "sns.histplot(df[\"effectiveness\"]);"
   ]
  },
  {
   "cell_type": "code",
   "execution_count": 17,
   "metadata": {},
   "outputs": [
    {
     "data": {
      "text/html": [
       "<div>\n",
       "<style scoped>\n",
       "    .dataframe tbody tr th:only-of-type {\n",
       "        vertical-align: middle;\n",
       "    }\n",
       "\n",
       "    .dataframe tbody tr th {\n",
       "        vertical-align: top;\n",
       "    }\n",
       "\n",
       "    .dataframe thead th {\n",
       "        text-align: right;\n",
       "    }\n",
       "</style>\n",
       "<table border=\"1\" class=\"dataframe\">\n",
       "  <thead>\n",
       "    <tr style=\"text-align: right;\">\n",
       "      <th></th>\n",
       "      <th>rating</th>\n",
       "    </tr>\n",
       "    <tr>\n",
       "      <th>effectiveness</th>\n",
       "      <th></th>\n",
       "    </tr>\n",
       "  </thead>\n",
       "  <tbody>\n",
       "    <tr>\n",
       "      <th>Highly Effective</th>\n",
       "      <td>8.698297</td>\n",
       "    </tr>\n",
       "    <tr>\n",
       "      <th>Considerably Effective</th>\n",
       "      <td>7.222581</td>\n",
       "    </tr>\n",
       "    <tr>\n",
       "      <th>Moderately Effective</th>\n",
       "      <td>5.273885</td>\n",
       "    </tr>\n",
       "    <tr>\n",
       "      <th>Marginally Effective</th>\n",
       "      <td>3.026316</td>\n",
       "    </tr>\n",
       "    <tr>\n",
       "      <th>Ineffective</th>\n",
       "      <td>1.695122</td>\n",
       "    </tr>\n",
       "  </tbody>\n",
       "</table>\n",
       "</div>"
      ],
      "text/plain": [
       "                          rating\n",
       "effectiveness                   \n",
       "Highly Effective        8.698297\n",
       "Considerably Effective  7.222581\n",
       "Moderately Effective    5.273885\n",
       "Marginally Effective    3.026316\n",
       "Ineffective             1.695122"
      ]
     },
     "execution_count": 17,
     "metadata": {},
     "output_type": "execute_result"
    }
   ],
   "source": [
    "df.groupby('effectiveness').mean('rating').sort_values(by='rating', ascending=False)"
   ]
  },
  {
   "cell_type": "code",
   "execution_count": 18,
   "metadata": {},
   "outputs": [
    {
     "data": {
      "image/png": "[encoded data removed]",
      "text/plain": [
       "<Figure size 640x480 with 1 Axes>"
      ]
     },
     "metadata": {},
     "output_type": "display_data"
    }
   ],
   "source": [
    "plt.xticks(rotation=30);\n",
    "sns.histplot(df[\"sideEffects\"]);"
   ]
  },
  {
   "cell_type": "code",
   "execution_count": 19,
   "metadata": {},
   "outputs": [
    {
     "data": {
      "text/html": [
       "<div>\n",
       "<style scoped>\n",
       "    .dataframe tbody tr th:only-of-type {\n",
       "        vertical-align: middle;\n",
       "    }\n",
       "\n",
       "    .dataframe tbody tr th {\n",
       "        vertical-align: top;\n",
       "    }\n",
       "\n",
       "    .dataframe thead th {\n",
       "        text-align: right;\n",
       "    }\n",
       "</style>\n",
       "<table border=\"1\" class=\"dataframe\">\n",
       "  <thead>\n",
       "    <tr style=\"text-align: right;\">\n",
       "      <th></th>\n",
       "      <th>rating</th>\n",
       "    </tr>\n",
       "    <tr>\n",
       "      <th>sideEffects</th>\n",
       "      <th></th>\n",
       "    </tr>\n",
       "  </thead>\n",
       "  <tbody>\n",
       "    <tr>\n",
       "      <th>No Side Effects</th>\n",
       "      <td>8.746269</td>\n",
       "    </tr>\n",
       "    <tr>\n",
       "      <th>Mild Side Effects</th>\n",
       "      <td>8.054545</td>\n",
       "    </tr>\n",
       "    <tr>\n",
       "      <th>Moderate Side Effects</th>\n",
       "      <td>6.063559</td>\n",
       "    </tr>\n",
       "    <tr>\n",
       "      <th>Severe Side Effects</th>\n",
       "      <td>3.590164</td>\n",
       "    </tr>\n",
       "    <tr>\n",
       "      <th>Extremely Severe Side Effects</th>\n",
       "      <td>1.750000</td>\n",
       "    </tr>\n",
       "  </tbody>\n",
       "</table>\n",
       "</div>"
      ],
      "text/plain": [
       "                                 rating\n",
       "sideEffects                            \n",
       "No Side Effects                8.746269\n",
       "Mild Side Effects              8.054545\n",
       "Moderate Side Effects          6.063559\n",
       "Severe Side Effects            3.590164\n",
       "Extremely Severe Side Effects  1.750000"
      ]
     },
     "execution_count": 19,
     "metadata": {},
     "output_type": "execute_result"
    }
   ],
   "source": [
    "df.groupby('sideEffects').mean('rating').sort_values(by='rating', ascending=False)"
   ]
  },
  {
   "attachments": {},
   "cell_type": "markdown",
   "metadata": {},
   "source": [
    "#### Transforma las columnas categóricas\n",
    "\n",
    "Transforma las columnas categoricas a numericas mediante dummies"
   ]
  },
  {
   "cell_type": "code",
   "execution_count": 23,
   "metadata": {},
   "outputs": [],
   "source": [
    "effectiveness_dummies = pd.get_dummies(df['effectiveness'])\n",
    "df = pd.concat([df.drop('effectiveness', axis=1), effectiveness_dummies], axis=1)"
   ]
  },
  {
   "cell_type": "code",
   "execution_count": 24,
   "metadata": {},
   "outputs": [],
   "source": [
    "sideEffects_dummies = pd.get_dummies(df['sideEffects'])\n",
    "df = pd.concat([df.drop('sideEffects', axis=1), sideEffects_dummies], axis=1)"
   ]
  },
  {
   "cell_type": "code",
   "execution_count": 25,
   "metadata": {},
   "outputs": [
    {
     "data": {
      "text/html": [
       "<div>\n",
       "<style scoped>\n",
       "    .dataframe tbody tr th:only-of-type {\n",
       "        vertical-align: middle;\n",
       "    }\n",
       "\n",
       "    .dataframe tbody tr th {\n",
       "        vertical-align: top;\n",
       "    }\n",
       "\n",
       "    .dataframe thead th {\n",
       "        text-align: right;\n",
       "    }\n",
       "</style>\n",
       "<table border=\"1\" class=\"dataframe\">\n",
       "  <thead>\n",
       "    <tr style=\"text-align: right;\">\n",
       "      <th></th>\n",
       "      <th>urlDrugName</th>\n",
       "      <th>rating</th>\n",
       "      <th>condition</th>\n",
       "      <th>benefitsReview</th>\n",
       "      <th>sideEffectsReview</th>\n",
       "      <th>commentsReview</th>\n",
       "      <th>Considerably Effective</th>\n",
       "      <th>Highly Effective</th>\n",
       "      <th>Ineffective</th>\n",
       "      <th>Marginally Effective</th>\n",
       "      <th>Moderately Effective</th>\n",
       "      <th>Extremely Severe Side Effects</th>\n",
       "      <th>Mild Side Effects</th>\n",
       "      <th>Moderate Side Effects</th>\n",
       "      <th>No Side Effects</th>\n",
       "      <th>Severe Side Effects</th>\n",
       "    </tr>\n",
       "  </thead>\n",
       "  <tbody>\n",
       "    <tr>\n",
       "      <th>1366</th>\n",
       "      <td>biaxin</td>\n",
       "      <td>9</td>\n",
       "      <td>sinus infection</td>\n",
       "      <td>The antibiotic may have destroyed bacteria cau...</td>\n",
       "      <td>Some back pain, some nauseau.</td>\n",
       "      <td>Took the antibiotics for 14 days. Sinus infect...</td>\n",
       "      <td>True</td>\n",
       "      <td>False</td>\n",
       "      <td>False</td>\n",
       "      <td>False</td>\n",
       "      <td>False</td>\n",
       "      <td>False</td>\n",
       "      <td>True</td>\n",
       "      <td>False</td>\n",
       "      <td>False</td>\n",
       "      <td>False</td>\n",
       "    </tr>\n",
       "    <tr>\n",
       "      <th>3724</th>\n",
       "      <td>lamictal</td>\n",
       "      <td>9</td>\n",
       "      <td>bipolar disorder</td>\n",
       "      <td>Lamictal stabilized my serious mood swings. On...</td>\n",
       "      <td>Drowsiness, a bit of mental numbness. If you t...</td>\n",
       "      <td>Severe mood swings between hypomania and depre...</td>\n",
       "      <td>False</td>\n",
       "      <td>True</td>\n",
       "      <td>False</td>\n",
       "      <td>False</td>\n",
       "      <td>False</td>\n",
       "      <td>False</td>\n",
       "      <td>True</td>\n",
       "      <td>False</td>\n",
       "      <td>False</td>\n",
       "      <td>False</td>\n",
       "    </tr>\n",
       "    <tr>\n",
       "      <th>3824</th>\n",
       "      <td>depakene</td>\n",
       "      <td>4</td>\n",
       "      <td>bipolar disorder</td>\n",
       "      <td>Initial benefits were comparable to the brand ...</td>\n",
       "      <td>Depakene has a very thin coating, which caused...</td>\n",
       "      <td>Depakote was prescribed to me by a Kaiser psyc...</td>\n",
       "      <td>False</td>\n",
       "      <td>False</td>\n",
       "      <td>False</td>\n",
       "      <td>False</td>\n",
       "      <td>True</td>\n",
       "      <td>False</td>\n",
       "      <td>False</td>\n",
       "      <td>False</td>\n",
       "      <td>False</td>\n",
       "      <td>True</td>\n",
       "    </tr>\n",
       "    <tr>\n",
       "      <th>969</th>\n",
       "      <td>sarafem</td>\n",
       "      <td>10</td>\n",
       "      <td>bi-polar / anxiety</td>\n",
       "      <td>It controlls my mood swings. It helps me think...</td>\n",
       "      <td>I didnt really notice any side effects.</td>\n",
       "      <td>This drug may not be for everyone but its wond...</td>\n",
       "      <td>False</td>\n",
       "      <td>True</td>\n",
       "      <td>False</td>\n",
       "      <td>False</td>\n",
       "      <td>False</td>\n",
       "      <td>False</td>\n",
       "      <td>False</td>\n",
       "      <td>False</td>\n",
       "      <td>True</td>\n",
       "      <td>False</td>\n",
       "    </tr>\n",
       "    <tr>\n",
       "      <th>696</th>\n",
       "      <td>accutane</td>\n",
       "      <td>10</td>\n",
       "      <td>nodular acne</td>\n",
       "      <td>Within one week of treatment superficial acne ...</td>\n",
       "      <td>Side effects included moderate to severe dry s...</td>\n",
       "      <td>Drug was taken in gelatin tablet at 0.5 mg per...</td>\n",
       "      <td>False</td>\n",
       "      <td>True</td>\n",
       "      <td>False</td>\n",
       "      <td>False</td>\n",
       "      <td>False</td>\n",
       "      <td>False</td>\n",
       "      <td>True</td>\n",
       "      <td>False</td>\n",
       "      <td>False</td>\n",
       "      <td>False</td>\n",
       "    </tr>\n",
       "  </tbody>\n",
       "</table>\n",
       "</div>"
      ],
      "text/plain": [
       "     urlDrugName  rating           condition  \\\n",
       "1366      biaxin       9     sinus infection   \n",
       "3724    lamictal       9    bipolar disorder   \n",
       "3824    depakene       4    bipolar disorder   \n",
       "969      sarafem      10  bi-polar / anxiety   \n",
       "696     accutane      10        nodular acne   \n",
       "\n",
       "                                         benefitsReview  \\\n",
       "1366  The antibiotic may have destroyed bacteria cau...   \n",
       "3724  Lamictal stabilized my serious mood swings. On...   \n",
       "3824  Initial benefits were comparable to the brand ...   \n",
       "969   It controlls my mood swings. It helps me think...   \n",
       "696   Within one week of treatment superficial acne ...   \n",
       "\n",
       "                                      sideEffectsReview  \\\n",
       "1366                      Some back pain, some nauseau.   \n",
       "3724  Drowsiness, a bit of mental numbness. If you t...   \n",
       "3824  Depakene has a very thin coating, which caused...   \n",
       "969             I didnt really notice any side effects.   \n",
       "696   Side effects included moderate to severe dry s...   \n",
       "\n",
       "                                         commentsReview  \\\n",
       "1366  Took the antibiotics for 14 days. Sinus infect...   \n",
       "3724  Severe mood swings between hypomania and depre...   \n",
       "3824  Depakote was prescribed to me by a Kaiser psyc...   \n",
       "969   This drug may not be for everyone but its wond...   \n",
       "696   Drug was taken in gelatin tablet at 0.5 mg per...   \n",
       "\n",
       "      Considerably Effective  Highly Effective  Ineffective  \\\n",
       "1366                    True             False        False   \n",
       "3724                   False              True        False   \n",
       "3824                   False             False        False   \n",
       "969                    False              True        False   \n",
       "696                    False              True        False   \n",
       "\n",
       "      Marginally Effective  Moderately Effective  \\\n",
       "1366                 False                 False   \n",
       "3724                 False                 False   \n",
       "3824                 False                  True   \n",
       "969                  False                 False   \n",
       "696                  False                 False   \n",
       "\n",
       "      Extremely Severe Side Effects  Mild Side Effects  Moderate Side Effects  \\\n",
       "1366                          False               True                  False   \n",
       "3724                          False               True                  False   \n",
       "3824                          False              False                  False   \n",
       "969                           False              False                  False   \n",
       "696                           False               True                  False   \n",
       "\n",
       "      No Side Effects  Severe Side Effects  \n",
       "1366            False                False  \n",
       "3724            False                False  \n",
       "3824            False                 True  \n",
       "969              True                False  \n",
       "696             False                False  "
      ]
     },
     "execution_count": 25,
     "metadata": {},
     "output_type": "execute_result"
    }
   ],
   "source": [
    "df.head()"
   ]
  },
  {
   "cell_type": "code",
   "execution_count": 26,
   "metadata": {},
   "outputs": [
    {
     "data": {
      "text/plain": [
       "array(['urlDrugName', 'rating', 'condition', 'benefitsReview',\n",
       "       'sideEffectsReview', 'commentsReview', 'Considerably Effective',\n",
       "       'Highly Effective', 'Ineffective', 'Marginally Effective',\n",
       "       'Moderately Effective', 'Extremely Severe Side Effects',\n",
       "       'Mild Side Effects', 'Moderate Side Effects', 'No Side Effects',\n",
       "       'Severe Side Effects'], dtype=object)"
      ]
     },
     "execution_count": 26,
     "metadata": {},
     "output_type": "execute_result"
    }
   ],
   "source": [
    "df.columns.values"
   ]
  },
  {
   "cell_type": "code",
   "execution_count": 27,
   "metadata": {},
   "outputs": [
    {
     "data": {
      "text/plain": [
       "urlDrugName                       314\n",
       "rating                             10\n",
       "condition                         566\n",
       "benefitsReview                   1022\n",
       "sideEffectsReview                 967\n",
       "commentsReview                   1029\n",
       "Considerably Effective              2\n",
       "Highly Effective                    2\n",
       "Ineffective                         2\n",
       "Marginally Effective                2\n",
       "Moderately Effective                2\n",
       "Extremely Severe Side Effects       2\n",
       "Mild Side Effects                   2\n",
       "Moderate Side Effects               2\n",
       "No Side Effects                     2\n",
       "Severe Side Effects                 2\n",
       "dtype: int64"
      ]
     },
     "execution_count": 27,
     "metadata": {},
     "output_type": "execute_result"
    }
   ],
   "source": [
    "df.nunique()"
   ]
  },
  {
   "cell_type": "code",
   "execution_count": 29,
   "metadata": {},
   "outputs": [],
   "source": [
    "X = df[['rating', 'Considerably Effective',\n",
    "       'Highly Effective', 'Ineffective', 'Marginally Effective',\n",
    "       'Moderately Effective', 'Extremely Severe Side Effects',\n",
    "       'Mild Side Effects', 'Moderate Side Effects', 'No Side Effects',\n",
    "       'Severe Side Effects']]"
   ]
  },
  {
   "cell_type": "code",
   "execution_count": 30,
   "metadata": {},
   "outputs": [
    {
     "data": {
      "text/plain": [
       "(1036, 11)"
      ]
     },
     "execution_count": 30,
     "metadata": {},
     "output_type": "execute_result"
    }
   ],
   "source": [
    "X.shape"
   ]
  },
  {
   "cell_type": "code",
   "execution_count": 45,
   "metadata": {},
   "outputs": [
    {
     "data": {
      "text/plain": [
       "1036"
      ]
     },
     "execution_count": 45,
     "metadata": {},
     "output_type": "execute_result"
    }
   ],
   "source": [
    "len(df['urlDrugName'])"
   ]
  },
  {
   "cell_type": "code",
   "execution_count": 46,
   "metadata": {},
   "outputs": [
    {
     "data": {
      "text/html": [
       "<div>\n",
       "<style scoped>\n",
       "    .dataframe tbody tr th:only-of-type {\n",
       "        vertical-align: middle;\n",
       "    }\n",
       "\n",
       "    .dataframe tbody tr th {\n",
       "        vertical-align: top;\n",
       "    }\n",
       "\n",
       "    .dataframe thead th {\n",
       "        text-align: right;\n",
       "    }\n",
       "</style>\n",
       "<table border=\"1\" class=\"dataframe\">\n",
       "  <thead>\n",
       "    <tr style=\"text-align: right;\">\n",
       "      <th></th>\n",
       "      <th>urlDrugName</th>\n",
       "      <th>rating</th>\n",
       "      <th>condition</th>\n",
       "      <th>benefitsReview</th>\n",
       "      <th>sideEffectsReview</th>\n",
       "      <th>commentsReview</th>\n",
       "      <th>Considerably Effective</th>\n",
       "      <th>Highly Effective</th>\n",
       "      <th>Ineffective</th>\n",
       "      <th>Marginally Effective</th>\n",
       "      <th>Moderately Effective</th>\n",
       "      <th>Extremely Severe Side Effects</th>\n",
       "      <th>Mild Side Effects</th>\n",
       "      <th>Moderate Side Effects</th>\n",
       "      <th>No Side Effects</th>\n",
       "      <th>Severe Side Effects</th>\n",
       "    </tr>\n",
       "  </thead>\n",
       "  <tbody>\n",
       "    <tr>\n",
       "      <th>1366</th>\n",
       "      <td>biaxin</td>\n",
       "      <td>9</td>\n",
       "      <td>sinus infection</td>\n",
       "      <td>The antibiotic may have destroyed bacteria cau...</td>\n",
       "      <td>Some back pain, some nauseau.</td>\n",
       "      <td>Took the antibiotics for 14 days. Sinus infect...</td>\n",
       "      <td>True</td>\n",
       "      <td>False</td>\n",
       "      <td>False</td>\n",
       "      <td>False</td>\n",
       "      <td>False</td>\n",
       "      <td>False</td>\n",
       "      <td>True</td>\n",
       "      <td>False</td>\n",
       "      <td>False</td>\n",
       "      <td>False</td>\n",
       "    </tr>\n",
       "    <tr>\n",
       "      <th>3724</th>\n",
       "      <td>lamictal</td>\n",
       "      <td>9</td>\n",
       "      <td>bipolar disorder</td>\n",
       "      <td>Lamictal stabilized my serious mood swings. On...</td>\n",
       "      <td>Drowsiness, a bit of mental numbness. If you t...</td>\n",
       "      <td>Severe mood swings between hypomania and depre...</td>\n",
       "      <td>False</td>\n",
       "      <td>True</td>\n",
       "      <td>False</td>\n",
       "      <td>False</td>\n",
       "      <td>False</td>\n",
       "      <td>False</td>\n",
       "      <td>True</td>\n",
       "      <td>False</td>\n",
       "      <td>False</td>\n",
       "      <td>False</td>\n",
       "    </tr>\n",
       "    <tr>\n",
       "      <th>3824</th>\n",
       "      <td>depakene</td>\n",
       "      <td>4</td>\n",
       "      <td>bipolar disorder</td>\n",
       "      <td>Initial benefits were comparable to the brand ...</td>\n",
       "      <td>Depakene has a very thin coating, which caused...</td>\n",
       "      <td>Depakote was prescribed to me by a Kaiser psyc...</td>\n",
       "      <td>False</td>\n",
       "      <td>False</td>\n",
       "      <td>False</td>\n",
       "      <td>False</td>\n",
       "      <td>True</td>\n",
       "      <td>False</td>\n",
       "      <td>False</td>\n",
       "      <td>False</td>\n",
       "      <td>False</td>\n",
       "      <td>True</td>\n",
       "    </tr>\n",
       "    <tr>\n",
       "      <th>969</th>\n",
       "      <td>sarafem</td>\n",
       "      <td>10</td>\n",
       "      <td>bi-polar / anxiety</td>\n",
       "      <td>It controlls my mood swings. It helps me think...</td>\n",
       "      <td>I didnt really notice any side effects.</td>\n",
       "      <td>This drug may not be for everyone but its wond...</td>\n",
       "      <td>False</td>\n",
       "      <td>True</td>\n",
       "      <td>False</td>\n",
       "      <td>False</td>\n",
       "      <td>False</td>\n",
       "      <td>False</td>\n",
       "      <td>False</td>\n",
       "      <td>False</td>\n",
       "      <td>True</td>\n",
       "      <td>False</td>\n",
       "    </tr>\n",
       "    <tr>\n",
       "      <th>696</th>\n",
       "      <td>accutane</td>\n",
       "      <td>10</td>\n",
       "      <td>nodular acne</td>\n",
       "      <td>Within one week of treatment superficial acne ...</td>\n",
       "      <td>Side effects included moderate to severe dry s...</td>\n",
       "      <td>Drug was taken in gelatin tablet at 0.5 mg per...</td>\n",
       "      <td>False</td>\n",
       "      <td>True</td>\n",
       "      <td>False</td>\n",
       "      <td>False</td>\n",
       "      <td>False</td>\n",
       "      <td>False</td>\n",
       "      <td>True</td>\n",
       "      <td>False</td>\n",
       "      <td>False</td>\n",
       "      <td>False</td>\n",
       "    </tr>\n",
       "  </tbody>\n",
       "</table>\n",
       "</div>"
      ],
      "text/plain": [
       "     urlDrugName  rating           condition  \\\n",
       "1366      biaxin       9     sinus infection   \n",
       "3724    lamictal       9    bipolar disorder   \n",
       "3824    depakene       4    bipolar disorder   \n",
       "969      sarafem      10  bi-polar / anxiety   \n",
       "696     accutane      10        nodular acne   \n",
       "\n",
       "                                         benefitsReview  \\\n",
       "1366  The antibiotic may have destroyed bacteria cau...   \n",
       "3724  Lamictal stabilized my serious mood swings. On...   \n",
       "3824  Initial benefits were comparable to the brand ...   \n",
       "969   It controlls my mood swings. It helps me think...   \n",
       "696   Within one week of treatment superficial acne ...   \n",
       "\n",
       "                                      sideEffectsReview  \\\n",
       "1366                      Some back pain, some nauseau.   \n",
       "3724  Drowsiness, a bit of mental numbness. If you t...   \n",
       "3824  Depakene has a very thin coating, which caused...   \n",
       "969             I didnt really notice any side effects.   \n",
       "696   Side effects included moderate to severe dry s...   \n",
       "\n",
       "                                         commentsReview  \\\n",
       "1366  Took the antibiotics for 14 days. Sinus infect...   \n",
       "3724  Severe mood swings between hypomania and depre...   \n",
       "3824  Depakote was prescribed to me by a Kaiser psyc...   \n",
       "969   This drug may not be for everyone but its wond...   \n",
       "696   Drug was taken in gelatin tablet at 0.5 mg per...   \n",
       "\n",
       "      Considerably Effective  Highly Effective  Ineffective  \\\n",
       "1366                    True             False        False   \n",
       "3724                   False              True        False   \n",
       "3824                   False             False        False   \n",
       "969                    False              True        False   \n",
       "696                    False              True        False   \n",
       "\n",
       "      Marginally Effective  Moderately Effective  \\\n",
       "1366                 False                 False   \n",
       "3724                 False                 False   \n",
       "3824                 False                  True   \n",
       "969                  False                 False   \n",
       "696                  False                 False   \n",
       "\n",
       "      Extremely Severe Side Effects  Mild Side Effects  Moderate Side Effects  \\\n",
       "1366                          False               True                  False   \n",
       "3724                          False               True                  False   \n",
       "3824                          False              False                  False   \n",
       "969                           False              False                  False   \n",
       "696                           False               True                  False   \n",
       "\n",
       "      No Side Effects  Severe Side Effects  \n",
       "1366            False                False  \n",
       "3724            False                False  \n",
       "3824            False                 True  \n",
       "969              True                False  \n",
       "696             False                False  "
      ]
     },
     "execution_count": 46,
     "metadata": {},
     "output_type": "execute_result"
    }
   ],
   "source": [
    "df.head()"
   ]
  },
  {
   "cell_type": "code",
   "execution_count": 48,
   "metadata": {},
   "outputs": [
    {
     "data": {
      "text/plain": [
       "np.int64(1036)"
      ]
     },
     "execution_count": 48,
     "metadata": {},
     "output_type": "execute_result"
    }
   ],
   "source": [
    "df.condition.value_counts().sum()"
   ]
  },
  {
   "cell_type": "markdown",
   "metadata": {},
   "source": [
    "#### Evalua cual es la mejor K\n",
    "\n",
    "Utiliza silhouette_score para evaluar cual es la mejor K."
   ]
  },
  {
   "cell_type": "code",
   "execution_count": null,
   "metadata": {},
   "outputs": [],
   "source": [
    "from sklearn.cluster import KMeans\n",
    "\n",
    "kmeans_per_k = [KMeans(n_clusters=k, n_init=150, random_state=10).fit(X)\n",
    "                for k in range(1, 10)]\n",
    "inertias = [model.inertia_ for model in kmeans_per_k]"
   ]
  },
  {
   "cell_type": "code",
   "execution_count": null,
   "metadata": {},
   "outputs": [
    {
     "data": {
      "text/html": [
       "<div>\n",
       "<style scoped>\n",
       "    .dataframe tbody tr th:only-of-type {\n",
       "        vertical-align: middle;\n",
       "    }\n",
       "\n",
       "    .dataframe tbody tr th {\n",
       "        vertical-align: top;\n",
       "    }\n",
       "\n",
       "    .dataframe thead th {\n",
       "        text-align: right;\n",
       "    }\n",
       "</style>\n",
       "<table border=\"1\" class=\"dataframe\">\n",
       "  <thead>\n",
       "    <tr style=\"text-align: right;\">\n",
       "      <th></th>\n",
       "      <th>inertia</th>\n",
       "      <th>inertia_1</th>\n",
       "      <th>diff%</th>\n",
       "    </tr>\n",
       "  </thead>\n",
       "  <tbody>\n",
       "    <tr>\n",
       "      <th>0</th>\n",
       "      <td>10702.518340</td>\n",
       "      <td>NaN</td>\n",
       "      <td>NaN</td>\n",
       "    </tr>\n",
       "    <tr>\n",
       "      <th>1</th>\n",
       "      <td>3400.592657</td>\n",
       "      <td>10702.518340</td>\n",
       "      <td>0.317738</td>\n",
       "    </tr>\n",
       "    <tr>\n",
       "      <th>2</th>\n",
       "      <td>2209.363130</td>\n",
       "      <td>3400.592657</td>\n",
       "      <td>0.649699</td>\n",
       "    </tr>\n",
       "    <tr>\n",
       "      <th>3</th>\n",
       "      <td>1639.460433</td>\n",
       "      <td>2209.363130</td>\n",
       "      <td>0.742051</td>\n",
       "    </tr>\n",
       "    <tr>\n",
       "      <th>4</th>\n",
       "      <td>1418.790033</td>\n",
       "      <td>1639.460433</td>\n",
       "      <td>0.865401</td>\n",
       "    </tr>\n",
       "    <tr>\n",
       "      <th>5</th>\n",
       "      <td>1281.874980</td>\n",
       "      <td>1418.790033</td>\n",
       "      <td>0.903499</td>\n",
       "    </tr>\n",
       "    <tr>\n",
       "      <th>6</th>\n",
       "      <td>1164.855429</td>\n",
       "      <td>1281.874980</td>\n",
       "      <td>0.908712</td>\n",
       "    </tr>\n",
       "    <tr>\n",
       "      <th>7</th>\n",
       "      <td>1080.162910</td>\n",
       "      <td>1164.855429</td>\n",
       "      <td>0.927294</td>\n",
       "    </tr>\n",
       "    <tr>\n",
       "      <th>8</th>\n",
       "      <td>1014.805852</td>\n",
       "      <td>1080.162910</td>\n",
       "      <td>0.939493</td>\n",
       "    </tr>\n",
       "  </tbody>\n",
       "</table>\n",
       "</div>"
      ],
      "text/plain": [
       "        inertia     inertia_1     diff%\n",
       "0  10702.518340           NaN       NaN\n",
       "1   3400.592657  10702.518340  0.317738\n",
       "2   2209.363130   3400.592657  0.649699\n",
       "3   1639.460433   2209.363130  0.742051\n",
       "4   1418.790033   1639.460433  0.865401\n",
       "5   1281.874980   1418.790033  0.903499\n",
       "6   1164.855429   1281.874980  0.908712\n",
       "7   1080.162910   1164.855429  0.927294\n",
       "8   1014.805852   1080.162910  0.939493"
      ]
     },
     "metadata": {},
     "output_type": "display_data"
    }
   ],
   "source": [
    "df_kmeans = pd.DataFrame(inertias, columns=['inertia'])\n",
    "df_kmeans['inertia_1'] = df_kmeans['inertia'].shift(1)\n",
    "df_kmeans['diff%'] = df_kmeans['inertia']/df_kmeans['inertia_1']\n",
    "df_kmeans"
   ]
  },
  {
   "cell_type": "code",
   "execution_count": null,
   "metadata": {},
   "outputs": [
    {
     "data": {
      "image/png": "[encoded data removed]",
      "text/plain": [
       "<Figure size 800x350 with 1 Axes>"
      ]
     },
     "metadata": {},
     "output_type": "display_data"
    }
   ],
   "source": [
    "plt.figure(figsize=(8, 3.5))\n",
    "plt.plot(range(1, 10), inertias, \"bo-\")\n",
    "plt.xlabel(\"$k$\", fontsize=14)\n",
    "plt.ylabel(\"Inertia\", fontsize=14)\n",
    "# plt.annotate('Elbow',\n",
    "#              xy=(4, inertias[3]),\n",
    "#              xytext=(0.55, 0.55),\n",
    "#              textcoords='figure fraction',\n",
    "#              fontsize=16,\n",
    "#              arrowprops=dict(facecolor='black', shrink=0.1)\n",
    "#             )\n",
    "# plt.axis([1, 8.5, 0, 1300])\n",
    "plt.show();"
   ]
  },
  {
   "cell_type": "code",
   "execution_count": null,
   "metadata": {},
   "outputs": [],
   "source": [
    "from sklearn.metrics import silhouette_score\n",
    "\n",
    "silhouette_scores = [silhouette_score(X, model.labels_)\n",
    "                     for model in kmeans_per_k[1:]]"
   ]
  },
  {
   "cell_type": "code",
   "execution_count": 94,
   "metadata": {},
   "outputs": [
    {
     "data": {
      "image/png": "[encoded data removed]",
      "text/plain": [
       "<Figure size 800x300 with 1 Axes>"
      ]
     },
     "metadata": {},
     "output_type": "display_data"
    }
   ],
   "source": [
    "plt.figure(figsize=(8, 3))\n",
    "plt.plot(range(2, 10), silhouette_scores, \"bo-\")\n",
    "plt.xlabel(\"$k$\", fontsize=14)\n",
    "plt.ylabel(\"Silhouette score\", fontsize=14)\n",
    "# plt.axis([1.8, 8.5, 0.55, 0.7])\n",
    "plt.show()"
   ]
  },
  {
   "cell_type": "markdown",
   "metadata": {},
   "source": [
    "#### Genera el K Means "
   ]
  },
  {
   "cell_type": "code",
   "execution_count": null,
   "metadata": {},
   "outputs": [],
   "source": [
    "kmeans2 = KMeans(n_clusters=2, n_init=150, random_state=10)"
   ]
  },
  {
   "attachments": {},
   "cell_type": "markdown",
   "metadata": {},
   "source": [
    "Comprueba los resultados y muestra en un pie plot la distribución de los distintos clusters."
   ]
  },
  {
   "cell_type": "code",
   "execution_count": 84,
   "metadata": {},
   "outputs": [
    {
     "data": {
      "text/plain": [
       "array([0, 0, 1, ..., 0, 0, 0], shape=(1036,), dtype=int32)"
      ]
     },
     "execution_count": 84,
     "metadata": {},
     "output_type": "execute_result"
    }
   ],
   "source": [
    "kmeans2.labels_"
   ]
  },
  {
   "cell_type": "code",
   "execution_count": 87,
   "metadata": {},
   "outputs": [],
   "source": [
    "unique, frequency = np.unique(kmeans2.labels_, \n",
    "                              return_counts = True)"
   ]
  },
  {
   "cell_type": "code",
   "execution_count": 89,
   "metadata": {},
   "outputs": [
    {
     "data": {
      "image/png": "[encoded data removed]",
      "text/plain": [
       "<Figure size 640x480 with 1 Axes>"
      ]
     },
     "metadata": {},
     "output_type": "display_data"
    }
   ],
   "source": [
    "plt.pie(frequency, labels=unique, autopct='%1.1f%%')\n",
    "plt.show()"
   ]
  },
  {
   "cell_type": "code",
   "execution_count": null,
   "metadata": {},
   "outputs": [],
   "source": []
  }
 ],
 "metadata": {
  "colab": {
   "collapsed_sections": [],
   "name": "kmeans-user-clustering.ipynb",
   "provenance": []
  },
  "kernelspec": {
   "display_name": "Python 3",
   "language": "python",
   "name": "python3"
  },
  "language_info": {
   "codemirror_mode": {
    "name": "ipython",
    "version": 3
   },
   "file_extension": ".py",
   "mimetype": "text/x-python",
   "name": "python",
   "nbconvert_exporter": "python",
   "pygments_lexer": "ipython3",
   "version": "3.11.4"
  },
  "nbTranslate": {
   "displayLangs": [
    "*"
   ],
   "hotkey": "alt-t",
   "langInMainMenu": true,
   "sourceLang": "en",
   "targetLang": "fr",
   "useGoogleTranslate": true
  },
  "varInspector": {
   "cols": {
    "lenName": 16,
    "lenType": 16,
    "lenVar": 40
   },
   "kernels_config": {
    "python": {
     "delete_cmd_postfix": "",
     "delete_cmd_prefix": "del ",
     "library": "var_list.py",
     "varRefreshCmd": "print(var_dic_list())"
    },
    "r": {
     "delete_cmd_postfix": ") ",
     "delete_cmd_prefix": "rm(",
     "library": "var_list.r",
     "varRefreshCmd": "cat(var_dic_list()) "
    }
   },
   "types_to_exclude": [
    "module",
    "function",
    "builtin_function_or_method",
    "instance",
    "_Feature"
   ],
   "window_display": false
  }
 },
 "nbformat": 4,
 "nbformat_minor": 4
}
